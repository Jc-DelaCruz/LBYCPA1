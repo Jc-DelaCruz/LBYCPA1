{
 "cells": [
  {
   "cell_type": "markdown",
   "id": "19f01307",
   "metadata": {},
   "source": [
    "# Programming Logic and Design Laboratory (LBYCPA1)"
   ]
  },
  {
   "cell_type": "markdown",
   "id": "71856c44",
   "metadata": {},
   "source": [
    "Before you turn this problem in, make sure everything runs as expected. First, **restart the kernel** (in the menubar, select Kernel$\\rightarrow$Restart) and then **run all cells** (in the menubar, select Cell$\\rightarrow$Run All).\n",
    "\n",
    "Make sure you fill in any place that says `YOUR CODE HERE` or `YOUR ANSWER HERE`, as well as your name and other information below inside the double quotes. Remove the line `raise NotImplementedError()` once you have answered the problem.\n",
    "\n",
    "REMINDERS: Section 4.15 of the Student Handbook (SH) 2018-2021 provides that:\n",
    "\n",
    "As a Catholic University that prepares its students to become professionals and be the resource for Church and nation, De La Salle University puts a premium on academic honesty. A student's academic requirements, such as assignments, term papers, computer programs/projects, and thesis papers, should be his/her own work. He/She must distinguish between his/her own ideas and those of other authors.\n",
    "\n",
    "The student must cite references, direct quotes, and other sources (including data obtained from tables, illustrations, figures, pictures, images, and video) following the prescribed format of the discipline. Should a student intend to submit a similar previous work for credit, in different courses, a written permission must first be obtained from the faculty members concerned. In addition, for works where he/she is only one of the authors, the following must be observed.\n",
    "\n",
    "4.15.1 Provide a disclaimer stating that the work is not entirely his/hers;\n",
    "\n",
    "4.15.2 The work cannot be published without written consent of the group of authors.\n",
    "\n",
    "4.15.3 If the work is separable (i.e. parts are clearly attributed to the individual authors), the student may use and must cite his/her own part only; otherwise, the student must seek the written consent of the group of authors.\n",
    "\n",
    "4.15.4 Computer codes obtained from open source reference may be copied freely, but the source should be cited, provided further that the faculty member allows the use of open source reference in the course."
   ]
  },
  {
   "cell_type": "markdown",
   "id": "c803bc1a",
   "metadata": {},
   "source": [
    "## Rubric for the Final Laboratory Report\n",
    "\n",
    "|Criteria|EXEMPLARY (90-100)|SATISFACTORY (80-89)|DEVELOPING (70-79)|BEGINNING (Below 70)|WEIGHT|\n",
    "|:-|:-|:-|:-|:-|:-:|\n",
    "|**Experimental Plan (Flowchart/ Algorithm)**|Experimental plan has supporting details and diagram/algorithm that is stated and well explained|Experimental plan has supporting details and diagram/algorithm that is stated but not explained|Experimental plan is vague or brief. It has supporting details and doesn’t have diagram/algorithm|No experimental plan presented|30%|\n",
    "|**Conducting Experiment/ Activity**|Objective and Materials used (modern engineering tools, software, and instruments/equipment) are identified. Steps are easy to follow for conducting and experiment/activity|Objective is not stated. Materials used (modern engineering tools, software, and instruments/equipment) are identified. Steps are easy to follow for conducting and experiment/activity|Does not provide enough information to conduct an experiment/activity|No Objective, Materials used (modern engineering tools, software, and instruments/equipment), and steps for conducting experiment/activity provided|20%|\n",
    "|**Codes/Data/ Program**|Data is well utilized in the program. Program codes are easy to read. Program output has no error. Questions are answered completely and correctly|Data is somewhat utilized in the program. Program code are easy to read. Program output has an output but logically incorrect. Some questions are answered completely and correctly|Data is not utilized in the program. It has a missing significant code/syntax in the program|No program presented|30%|\n",
    "|**Grammar, logical presentation, and format**|The report was grammatically correct, logically presented and used the required format|The report had minimal grammatical errors and somewhat presented logically. The required format was used|The report had a lot of grammatical errors and not logically presented; the required format was barely used|The report had a lot of grammatical errors, was not logically presented and the required format was not used|20%|"
   ]
  },
  {
   "cell_type": "code",
   "execution_count": null,
   "id": "99213efa",
   "metadata": {},
   "outputs": [],
   "source": [
    "# Fill-up the following information (put inside double quotes)\n",
    "\n",
    "NAME = \"DELA CRUZ, JOHN CARLO THEO S.\"  \n",
    "STUDENT_NUMBER = \"12195758\"       \n",
    "SECTION = \"EQ1\"               \n",
    "DATE_TIME_COMPLETED = \"04 / 27 / 2022, 7:25  \"    # e.g. 03/21/2022,11:00"
   ]
  },
  {
   "cell_type": "markdown",
   "id": "812389db",
   "metadata": {},
   "source": [
    "<hr style=\"border:1px solid black\"> </hr>"
   ]
  },
  {
   "cell_type": "markdown",
   "id": "e18d94cf",
   "metadata": {
    "deletable": false,
    "editable": false,
    "nbgrader": {
     "cell_type": "markdown",
     "checksum": "f29c042136d3f6d6ba884fd2d1255bad",
     "grade": false,
     "grade_id": "cell-d67e30b5d7100133",
     "locked": true,
     "schema_version": 3,
     "solution": false,
     "task": false
    }
   },
   "source": [
    "# Problem Set 5\n",
    "<hr style=\"border:1px solid gray\"> </hr>"
   ]
  },
  {
   "cell_type": "markdown",
   "id": "856a9bde",
   "metadata": {
    "deletable": false,
    "editable": false,
    "nbgrader": {
     "cell_type": "markdown",
     "checksum": "2d1e05d6074132f389030604bfbb4917",
     "grade": false,
     "grade_id": "cell-656c35d40044ad5b",
     "locked": true,
     "schema_version": 3,
     "solution": false,
     "task": false
    }
   },
   "source": [
    "1. A function is defined such that $f(0) = 2$ and $f(1) = 4$. The recursive definition of the function is given as $f\\left(x\\right) = 0.4 f\\left(x-1\\right) + 0.8 f\\left(x-2\\right)$. Create a Python function that satisfies the recurrence relation and returns the correct value. Integer input values only are allowed. Any input value less than 0 must return 0."
   ]
  },
  {
   "cell_type": "code",
   "execution_count": 35,
   "id": "c9704ce9",
   "metadata": {
    "deletable": false,
    "nbgrader": {
     "cell_type": "code",
     "checksum": "d5de3ec7fc64ff27a6c649089d6df913",
     "grade": false,
     "grade_id": "cell-32216f35a45b784e",
     "locked": false,
     "schema_version": 3,
     "solution": true,
     "task": false
    }
   },
   "outputs": [],
   "source": [
    "def recursive(number):\n",
    "    # This function satisfies the recurrence relation f(x) = 0.4*f(x-1) + 0.8*f(x-2)\n",
    "    if type(number) is not int:\n",
    "        raise ValueError(\"Input value must be an integer\")    \n",
    "    if (number < 0):\n",
    "        number = 0\n",
    "    elif (number == 0 ):\n",
    "        number = 2\n",
    "    elif (number == 1):\n",
    "        number = 4\n",
    "    else:\n",
    "        number = (0.4 * (recursive(number-1)) + 0.8 * (recursive(number-2)))\n",
    "\n",
    "    return number"
   ]
  },
  {
   "cell_type": "code",
   "execution_count": 36,
   "id": "97ebd86c",
   "metadata": {
    "deletable": false,
    "editable": false,
    "nbgrader": {
     "cell_type": "code",
     "checksum": "e984dabc73ce15e1c2453d67b45e3673",
     "grade": true,
     "grade_id": "cell-a863d6410ce95310",
     "locked": true,
     "points": 1,
     "schema_version": 3,
     "solution": false,
     "task": false
    }
   },
   "outputs": [],
   "source": [
    "# DO NOT MODIFY, THIS IS UNIT TESTING! [1 pt]\n",
    "from nose.tools import assert_almost_equal\n",
    "\n",
    "assert_almost_equal(recursive(0), 2)\n",
    "assert_almost_equal(recursive(1), 4)\n",
    "assert_almost_equal(recursive(-1), 0)\n",
    "assert_almost_equal(recursive(2), 3.2)\n",
    "assert_almost_equal(recursive(3), 4.48)"
   ]
  },
  {
   "cell_type": "code",
   "execution_count": 37,
   "id": "43f2bd92",
   "metadata": {
    "deletable": false,
    "editable": false,
    "nbgrader": {
     "cell_type": "code",
     "checksum": "409d3f33b49caa2f51a43adf732cfbd6",
     "grade": true,
     "grade_id": "cell-be8bc63ea77696f0",
     "locked": true,
     "points": 1,
     "schema_version": 3,
     "solution": false,
     "task": false
    }
   },
   "outputs": [],
   "source": [
    "# HIDDEN TEST [1 pt]"
   ]
  },
  {
   "cell_type": "code",
   "execution_count": 39,
   "id": "62b09e14",
   "metadata": {
    "deletable": false,
    "editable": false,
    "nbgrader": {
     "cell_type": "code",
     "checksum": "4d8beab68582e1805112b75ca282abab",
     "grade": false,
     "grade_id": "cell-6681d7651b3d3345",
     "locked": true,
     "schema_version": 3,
     "solution": false,
     "task": false
    }
   },
   "outputs": [
    {
     "name": "stdout",
     "output_type": "stream",
     "text": [
      "Input a number greater than or equal to 0: 0\n",
      "2\n"
     ]
    }
   ],
   "source": [
    "## SAMPLE TEST, DO NOT MODIFY! JUST EXECUTE ONLY FOR OUTPUT\n",
    "# You can add a cell below if you need to test a different input\n",
    "\n",
    "num = int(input(\"Input a number greater than or equal to 0: \"))\n",
    "print(recursive(num))"
   ]
  },
  {
   "cell_type": "markdown",
   "id": "f6e5f9a7",
   "metadata": {
    "deletable": false,
    "editable": false,
    "nbgrader": {
     "cell_type": "markdown",
     "checksum": "9ab97d1fcb5ff59e03616dd141bdac12",
     "grade": false,
     "grade_id": "cell-2e74313128197e3e",
     "locked": true,
     "schema_version": 3,
     "solution": false,
     "task": false
    }
   },
   "source": [
    "2. Create the \"bitwisemodule.py\" file in the same directory as this notebook file. Write the function definitions of bitwise logical operations of **NOT**, **OR**, and **AND**, just as written on the previous problem set/exercise and save the file. Use the `import` directive to import the module with the alias `bwm`. Implement the following: (1) the bitwise **NOR** operation below by composing the **OR** and **NOT** operations; that is, take the NOT of the resulting OR of two string inputs, (2) the bitwise **NAND** operation below by composing the **AND** and **NOT** operations; that is, take the NOT of the resulting AND of two string inputs, and (3) the bitwise **XOR** (exlusive-OR) operation which satisfies the relation:\n",
    "```\n",
    "XOR(a, b) = OR(AND(a, NOT(b)), AND(NOT(a), b)) # a XOR b = (a AND (NOT b)) OR ((NOT a) AND b)\n",
    "```\n",
    "For reference, the truth table for the XOR operation is as follows:\n",
    "| A | B | XOR(A, B) |\n",
    "|:-:|:-:|:-:|\n",
    "| 0 | 0 | 0 |\n",
    "| 0 | 1 | 1 |\n",
    "| 1 | 0 | 1 |\n",
    "| 1 | 1 | 0 |"
   ]
  },
  {
   "cell_type": "code",
   "execution_count": 1,
   "id": "2c64c1f3",
   "metadata": {
    "deletable": false,
    "nbgrader": {
     "cell_type": "code",
     "checksum": "370fa4590fb791eb7d36504ba49e6211",
     "grade": false,
     "grade_id": "cell-2a67d9bb9ce95749",
     "locked": false,
     "schema_version": 3,
     "solution": true,
     "task": false
    }
   },
   "outputs": [],
   "source": [
    "import bitwisemodule as bwm\n",
    "\n",
    "def bitwise_NOR(string1, string2):\n",
    "    \n",
    "#     result = bwm.bitwise_OR(bwm.bitwise_NOT(string1),bwm.bitwise_NOT(string2))\n",
    "    \n",
    "    result = bwm.bitwise_NOT(bwm.bitwise_OR(string1,string2))\n",
    "    return result\n",
    "    \n",
    "    # Do not forget the return statement for this function\n",
    "\n",
    "def bitwise_NAND(string1, string2):\n",
    "    # This function performs the logical bitwise NOR on two 8-character strings\n",
    "    \n",
    "    result = bwm.bitwise_NOT(bwm.bitwise_AND(string1,string2))\n",
    "    return result\n",
    "# Do not forget the return statement for this function\n",
    "\n",
    "def bitwise_XOR(string1, string2):\n",
    "    # This function performs the logical bitwise XOR on two 8-character strings\n",
    "    \n",
    "    result = bwm.bitwise_OR(bwm.bitwise_AND(string1,bwm.bitwise_NOT(string2)),bwm.bitwise_AND(bwm.bitwise_NOT(string1),string2))\n",
    "    return result\n",
    "    \n",
    "    # Do not forget the return statement for this function"
   ]
  },
  {
   "cell_type": "code",
   "execution_count": 2,
   "id": "a7dafd54",
   "metadata": {
    "deletable": false,
    "editable": false,
    "nbgrader": {
     "cell_type": "code",
     "checksum": "3536e78e2cbf613a702f8c4be48f3201",
     "grade": true,
     "grade_id": "cell-0ecdfae26dbb43fd",
     "locked": true,
     "points": 1,
     "schema_version": 3,
     "solution": false,
     "task": false
    }
   },
   "outputs": [],
   "source": [
    "# DO NOT MODIFY, THIS IS UNIT TESTING! [1 pt]\n",
    "from nose.tools import assert_equal, assert_is_not_none\n",
    "\n",
    "assert_is_not_none(bwm) # Raises an error if the bwm module is not imported\n",
    "assert_equal(bwm.bitwise_NOT(\"00100110\"), \"11011001\")\n",
    "assert_equal(bwm.bitwise_OR(\"00100110\", \"10100000\"),\"10100110\")\n",
    "assert_equal(bwm.bitwise_AND(\"00100110\", \"10100000\"),\"00100000\")"
   ]
  },
  {
   "cell_type": "code",
   "execution_count": 3,
   "id": "25a07b02",
   "metadata": {
    "deletable": false,
    "editable": false,
    "nbgrader": {
     "cell_type": "code",
     "checksum": "42a4c07a87b557d12079bc1a3052b68e",
     "grade": true,
     "grade_id": "cell-ea9d0f294e1c29c2",
     "locked": true,
     "points": 1,
     "schema_version": 3,
     "solution": false,
     "task": false
    }
   },
   "outputs": [],
   "source": [
    "# DO NOT MODIFY, THIS IS UNIT TESTING! [1 pt]\n",
    "from nose.tools import assert_equal\n",
    "\n",
    "assert_equal(bitwise_NOR(\"00100110\", \"10100000\"), \"01011001\")\n",
    "assert_equal(bitwise_NOR(\"11100000\", \"00011111\"), \"00000000\")\n",
    "assert_equal(bitwise_NOR(\"10101010\", \"11110000\"), \"00000101\")"
   ]
  },
  {
   "cell_type": "code",
   "execution_count": 4,
   "id": "dd837f1f",
   "metadata": {
    "deletable": false,
    "editable": false,
    "nbgrader": {
     "cell_type": "code",
     "checksum": "d4dc3ec71e81851a46d374c65213b523",
     "grade": true,
     "grade_id": "cell-f5b27fc15609c21b",
     "locked": true,
     "points": 1,
     "schema_version": 3,
     "solution": false,
     "task": false
    }
   },
   "outputs": [],
   "source": [
    "# DO NOT MODIFY, THIS IS UNIT TESTING! [1 pt]\n",
    "from nose.tools import assert_equal\n",
    "\n",
    "assert_equal(bitwise_NAND(\"00100110\", \"10100000\"), \"11011111\")\n",
    "assert_equal(bitwise_NAND(\"11100000\", \"00011111\"), \"11111111\")\n",
    "assert_equal(bitwise_NAND(\"10101010\", \"11110000\"), \"01011111\")"
   ]
  },
  {
   "cell_type": "code",
   "execution_count": 5,
   "id": "dced4e62",
   "metadata": {
    "deletable": false,
    "editable": false,
    "nbgrader": {
     "cell_type": "code",
     "checksum": "625fbe363efc629cd49afba61804b1f9",
     "grade": true,
     "grade_id": "cell-51fca42cf3b91dda",
     "locked": true,
     "points": 1,
     "schema_version": 3,
     "solution": false,
     "task": false
    }
   },
   "outputs": [],
   "source": [
    "# DO NOT MODIFY, THIS IS UNIT TESTING! [1 pt]\n",
    "from nose.tools import assert_equal\n",
    "\n",
    "assert_equal(bitwise_XOR(\"00100110\", \"10100000\"), \"10000110\")\n",
    "assert_equal(bitwise_XOR(\"11100000\", \"00011111\"), \"11111111\")\n",
    "assert_equal(bitwise_XOR(\"10101010\", \"11110000\"), \"01011010\")"
   ]
  },
  {
   "cell_type": "code",
   "execution_count": 6,
   "id": "722794eb",
   "metadata": {
    "deletable": false,
    "editable": false,
    "nbgrader": {
     "cell_type": "code",
     "checksum": "ee756b21d66bbc83b14b18cceb744e9b",
     "grade": false,
     "grade_id": "cell-0784c2f91b471fde",
     "locked": true,
     "schema_version": 3,
     "solution": false,
     "task": false
    }
   },
   "outputs": [
    {
     "name": "stdout",
     "output_type": "stream",
     "text": [
      "NOT: 11011001\n",
      "OR: 10100110\n",
      "AND: 00100000\n",
      "NOR: 01011001\n",
      "NAND: 11011111\n",
      "XOR: 11011111\n"
     ]
    }
   ],
   "source": [
    "# SAMPLE TEST, DO NOT MODIFY! JUST EXECUTE ONLY FOR OUTPUT\n",
    "# You can add a cell below if you need to test a different input\n",
    "\n",
    "print(\"NOT:\", bwm.bitwise_NOT(\"00100110\"))\n",
    "print(\"OR:\", bwm.bitwise_OR(\"00100110\", \"10100000\"))\n",
    "print(\"AND:\", bwm.bitwise_AND(\"00100110\", \"10100000\"))\n",
    "print(\"NOR:\", bitwise_NOR(\"00100110\", \"10100000\"))\n",
    "print(\"NAND:\", bitwise_NAND(\"00100110\", \"10100000\"))\n",
    "print(\"XOR:\", bitwise_NAND(\"00100110\", \"10100000\"))"
   ]
  },
  {
   "cell_type": "markdown",
   "id": "3a438f25",
   "metadata": {
    "deletable": false,
    "editable": false,
    "nbgrader": {
     "cell_type": "markdown",
     "checksum": "ca0292113f036124eaa6db864b8fdd4e",
     "grade": false,
     "grade_id": "cell-3b70360c4abdc847",
     "locked": true,
     "schema_version": 3,
     "solution": false,
     "task": false
    }
   },
   "source": [
    "3. Write a script that will command Karel determine the center of the world and would draw either a vertical or diagonal cross on the world using beepers. If the size of the world is odd, it would draw vertical cross, otherwise a diagonal cross. A single program must work for all worlds of size $n \\times n$ in general, with $n > 1$. The expected beeper formations for world sizes of $3 \\times 3$, $10 \\times 10$, $15 \\times 15$, and $18 \\times 18$ are shown below:\n",
    "\n",
    "    $3 \\times 3$ world:\n",
    "```\n",
    "· ◊ ·\n",
    "◊ ◊ ◊\n",
    "· ◊ ·\n",
    "```\n",
    "    $10 \\times 10$ world:\n",
    "```\n",
    "◊ · · · · · · · · ◊\n",
    "· ◊ · · · · · · ◊ ·\n",
    "· · ◊ · · · · ◊ · ·\n",
    "· · · ◊ · · ◊ · · ·\n",
    "· · · · ◊ ◊ · · · ·\n",
    "· · · · ◊ ◊ · · · ·\n",
    "· · · ◊ · · ◊ · · ·\n",
    "· · ◊ · · · · ◊ · ·\n",
    "· ◊ · · · · · · ◊ ·\n",
    "◊ · · · · · · · · ◊\n",
    "```\n",
    "    $15 \\times 15$ world:\n",
    "```\n",
    "· · · · · · · ◊ · · · · · · ·\n",
    "· · · · · · · ◊ · · · · · · ·\n",
    "· · · · · · · ◊ · · · · · · ·\n",
    "· · · · · · · ◊ · · · · · · ·\n",
    "· · · · · · · ◊ · · · · · · ·\n",
    "· · · · · · · ◊ · · · · · · ·\n",
    "· · · · · · · ◊ · · · · · · ·\n",
    "◊ ◊ ◊ ◊ ◊ ◊ ◊ ◊ ◊ ◊ ◊ ◊ ◊ ◊ ◊\n",
    "· · · · · · · ◊ · · · · · · ·\n",
    "· · · · · · · ◊ · · · · · · ·\n",
    "· · · · · · · ◊ · · · · · · ·\n",
    "· · · · · · · ◊ · · · · · · ·\n",
    "· · · · · · · ◊ · · · · · · ·\n",
    "· · · · · · · ◊ · · · · · · ·\n",
    "· · · · · · · ◊ · · · · · · ·\n",
    "```\n",
    "    $18 \\times 18$ world:\n",
    "```\n",
    "◊ · · · · · · · · · · · · · · · · ◊\n",
    "· ◊ · · · · · · · · · · · · · · ◊ ·\n",
    "· · ◊ · · · · · · · · · · · · ◊ · ·\n",
    "· · · ◊ · · · · · · · · · · ◊ · · ·\n",
    "· · · · ◊ · · · · · · · · ◊ · · · ·\n",
    "· · · · · ◊ · · · · · · ◊ · · · · ·\n",
    "· · · · · · ◊ · · · · ◊ · · · · · ·\n",
    "· · · · · · · ◊ · · ◊ · · · · · · ·\n",
    "· · · · · · · · ◊ ◊ · · · · · · · ·\n",
    "· · · · · · · · ◊ ◊ · · · · · · · ·\n",
    "· · · · · · · ◊ · · ◊ · · · · · · ·\n",
    "· · · · · · ◊ · · · · ◊ · · · · · ·\n",
    "· · · · · ◊ · · · · · · ◊ · · · · ·\n",
    "· · · · ◊ · · · · · · · · ◊ · · · ·\n",
    "· · · ◊ · · · · · · · · · · ◊ · · ·\n",
    "· · ◊ · · · · · · · · · · · · ◊ · ·\n",
    "· ◊ · · · · · · · · · · · · · · ◊ ·\n",
    "◊ · · · · · · · · · · · · · · · · ◊\n",
    "```\n",
    "    After putting all the beepers, it should output the center coordinates of the world and the number of beepers used to the Console. For example, if the world is $3 \\times 3$ it should print `Center: (2,2); Beepers used: 5` and if the world is $10 \\times 10$ it should print `Center: (5.5,5.5); Beepers used: 20`. Additionally, the script should use functions aside from `main()` to draw horizontal, vertical, and diagonal beeper lines. Examine these functions in the cell below then execute the code cell to generate a template file named \"karel_cross.py\". Modify the script file and submit it together with this notebook.\n",
    "    \n",
    "    Four answer cells are provided below: (1) For the first cell, show a screenshot of the Karel application output for the  $7 \\times 7$ world, (2) for the second cell, show a screenshot of the printed center coordinates in the Console for the $7 \\times 7$ world, (3) for the third cell, show a screenshot of the Karel application output for the  $40 \\times 40$ world, and (4) for the fourth cell, show a screenshot of the printed center coordinates in the Console for the $40 \\times 40$ world. Each cell is worth 1 point."
   ]
  },
  {
   "cell_type": "code",
   "execution_count": 5,
   "id": "deb7e3f6",
   "metadata": {},
   "outputs": [
    {
     "name": "stdout",
     "output_type": "stream",
     "text": [
      "Writing karel_cross.py\n"
     ]
    }
   ],
   "source": [
    "\n",
    "%%writefile karel_cross.py\n",
    "\n",
    "from stanfordkarel import *\n",
    "\n",
    "def forward():\n",
    "    if front_is_clear():\n",
    "        move()\n",
    "def straight():\n",
    "    while front_is_clear():\n",
    "        forward()\n",
    "def beeper():\n",
    "    if no_beepers_present():\n",
    "        put_beeper()\n",
    "def west():\n",
    "    while not_facing_west():\n",
    "        turn_left()\n",
    "def north():\n",
    "    while not_facing_north():\n",
    "        turn_left()\n",
    "def south():\n",
    "    while not_facing_south():\n",
    "        turn_left()\n",
    "def east():\n",
    "    while not_facing_east():\n",
    "        turn_left()\n",
    "\n",
    "def get_world_size():\n",
    "    # This function will let Karel survey the world to determine its size. It will return with the size of the world.\n",
    "    wsize = int(1)\n",
    "    east()\n",
    "    while front_is_clear():\n",
    "        forward()\n",
    "        wsize += 1\n",
    "    return wsize\n",
    "\n",
    "def draw_diagonal_rightdown(nbeepers):\n",
    "    # This function will generate a downward diagonal line of beepers. Karel will move right then down as beepers are placed.\n",
    "    # It will not put a beeper if a corner has already a beeper in it. Karel will stop if blocked ahead.\n",
    "\n",
    "    used_beepers = 0\n",
    "    while not_facing_east():\n",
    "        turn_left()\n",
    "    for i in range(nbeepers):\n",
    "        if no_beepers_present():\n",
    "            put_beeper()\n",
    "            used_beepers += 1\n",
    "        if i < nbeepers - 1:\n",
    "            move()\n",
    "            while not_facing_south():\n",
    "                turn_left()\n",
    "            if front_is_blocked():\n",
    "                break\n",
    "            move()\n",
    "        while not_facing_east():\n",
    "            turn_left()\n",
    "        if front_is_blocked():\n",
    "            break\n",
    "    if nbeepers > 0 and no_beepers_present():\n",
    "        put_beeper()\n",
    "        used_beepers += 1\n",
    "    return used_beepers\n",
    "\n",
    "def draw_diagonal_rightup(nbeepers):\n",
    "    # This function will generate a upward diagonal line of beepers. Karel will move right then up as beepers are placed.\n",
    "    # It will not put a beeper if a corner has already a beeper in it. Karel will stop if blocked ahead.\n",
    "\n",
    "    used_beepers = 0\n",
    "    while not_facing_east():\n",
    "        turn_left()\n",
    "    for i in range(nbeepers):\n",
    "        if no_beepers_present():\n",
    "            put_beeper()\n",
    "            used_beepers += 1\n",
    "        if i < nbeepers - 1:\n",
    "            move()\n",
    "            while not_facing_north():\n",
    "                turn_left()\n",
    "            if front_is_blocked():\n",
    "                break\n",
    "            move()\n",
    "        while not_facing_east():\n",
    "            turn_left()\n",
    "        if front_is_blocked():\n",
    "            break\n",
    "    if nbeepers > 0 and no_beepers_present():\n",
    "        put_beeper()\n",
    "        used_beepers += 1\n",
    "    return used_beepers\n",
    "\n",
    "def draw_horizontal_right(nbeepers):\n",
    "    # This function will generate a horizontal line of beepers. Karel will move right as beepers are placed.\n",
    "    # It will not put a beeper if a corner has already a beeper in it. Karel will stop if blocked ahead.\n",
    "\n",
    "    used_beepers = 0\n",
    "    while not_facing_east():\n",
    "        turn_left()\n",
    "    for i in range(nbeepers):\n",
    "        if no_beepers_present():\n",
    "            put_beeper()\n",
    "            used_beepers += 1\n",
    "        if i < nbeepers - 1:\n",
    "            move()\n",
    "        if front_is_blocked():\n",
    "            break\n",
    "    if nbeepers > 0 and no_beepers_present():\n",
    "        put_beeper()\n",
    "        used_beepers += 1\n",
    "    return used_beepers\n",
    "\n",
    "def draw_vertical_down(nbeepers):\n",
    "    # This function will generate a vertical line of beepers. Karel will move down as beepers are placed.\n",
    "    # It will not put a beeper if a corner has already a beeper in it. Karel will stop if blocked ahead.\n",
    "\n",
    "    used_beepers = 0\n",
    "    while not_facing_south():\n",
    "        turn_left()\n",
    "    for i in range(nbeepers):\n",
    "        if no_beepers_present():\n",
    "            put_beeper()\n",
    "            used_beepers += 1\n",
    "        if i < nbeepers - 1:\n",
    "            move()\n",
    "        if front_is_blocked():\n",
    "            break\n",
    "    if nbeepers > 0 and no_beepers_present():\n",
    "        put_beeper()\n",
    "        used_beepers += 1\n",
    "    return used_beepers\n",
    "\n",
    "def main():\n",
    "    # Step 0: Initialize variables\n",
    "    center_coord_x, center_coord_y = int(), int()\n",
    "    beepers_used = int()\n",
    "\n",
    "    # # Step 1: Determine world size\n",
    "    world_size = get_world_size() # you have to implement the function above\n",
    "\n",
    "    # # Step 2: Check if the world size is odd or even\n",
    "    isOdd = bool()\n",
    "    if (world_size % 2) == 0:\n",
    "        isOdd = False\n",
    "    else:\n",
    "        isOdd = True\n",
    "\n",
    "    # # Step 3: Compute for the center coordinates of the world\n",
    "    center_coord_x = world_size // 2\n",
    "    center_coord_y = world_size // 2\n",
    "\n",
    "    #\n",
    "    # # Step 4: Position Karel and generate the beeper lines\n",
    "    beepers_used = 0\n",
    "    if isOdd:\n",
    "        north()\n",
    "        straight()\n",
    "        west()\n",
    "        for i in range (0, center_coord_x):\n",
    "            forward()\n",
    "        beepers_used += draw_vertical_down(world_size)\n",
    "        west()\n",
    "        straight()\n",
    "        north()\n",
    "        for i in range (0, center_coord_y):\n",
    "            forward()\n",
    "        beepers_used += draw_horizontal_right(world_size)\n",
    "    else:\n",
    "        west()\n",
    "        straight()\n",
    "        beepers_used += draw_diagonal_rightup(world_size)\n",
    "        west()\n",
    "        straight()\n",
    "        beepers_used += draw_diagonal_rightdown(world_size)\n",
    "\n",
    "    #\n",
    "    # # Step 5: Print the center coordinates and the number of beepers used\n",
    "    get_world_size()\n",
    "    if isOdd:\n",
    "        print(\"\\nCenter Coordinates is \", center_coord_x + 1,\",\", center_coord_y + 1)\n",
    "    else:\n",
    "        print(\"\\nCenter Coordinates is \", center_coord_x + 0.5 ,\",\", center_coord_y + 0.5)\n",
    "    print(\"Beepers Used is \", beepers_used)\n",
    "    print(\"\\nThe World Size is \", world_size, \"x\", world_size)\n",
    "\n",
    "\n",
    "\n",
    "if __name__ == \"__main__\":\n",
    "    run_karel_program()"
   ]
  },
  {
   "attachments": {
    "image.png": {
     "image/png": "[encoded data removed]"
    }
   },
   "cell_type": "markdown",
   "id": "ab24884b",
   "metadata": {
    "deletable": false,
    "nbgrader": {
     "cell_type": "markdown",
     "checksum": "d3ab6b9c8f5c8f8fa7c9ed6662f8840c",
     "grade": true,
     "grade_id": "cell-67877fb08827f061",
     "locked": false,
     "points": 1,
     "schema_version": 3,
     "solution": true,
     "task": false
    }
   },
   "source": [
    "7 x 7 -- Output\n",
    "![image.png](attachment:image.png)"
   ]
  },
  {
   "attachments": {
    "image.png": {
     "image/png": "[encoded data removed]"
    }
   },
   "cell_type": "markdown",
   "id": "b649f5c1",
   "metadata": {
    "deletable": false,
    "nbgrader": {
     "cell_type": "markdown",
     "checksum": "836e1585629306cc3b26ba208b39fed1",
     "grade": true,
     "grade_id": "cell-eace7b26a9b64623",
     "locked": false,
     "points": 1,
     "schema_version": 3,
     "solution": true,
     "task": false
    }
   },
   "source": [
    "7 x 7 -- Print \n",
    "![image.png](attachment:image.png)"
   ]
  },
  {
   "attachments": {
    "image.png": {
     "image/png": "[encoded data removed]"
    }
   },
   "cell_type": "markdown",
   "id": "fcc8ac1f",
   "metadata": {
    "deletable": false,
    "nbgrader": {
     "cell_type": "markdown",
     "checksum": "6010741cbe4abc22bc8e56356565aabf",
     "grade": true,
     "grade_id": "cell-ee4c99cfe5dc9acf",
     "locked": false,
     "points": 1,
     "schema_version": 3,
     "solution": true,
     "task": false
    }
   },
   "source": [
    "40 x 40 -- Output \n",
    "![image.png](attachment:image.png)"
   ]
  },
  {
   "attachments": {
    "image.png": {
     "image/png": "[encoded data removed]"
    }
   },
   "cell_type": "markdown",
   "id": "4044d8d9",
   "metadata": {
    "deletable": false,
    "nbgrader": {
     "cell_type": "markdown",
     "checksum": "ff287da3a904ad51396b1abaafe66107",
     "grade": true,
     "grade_id": "cell-6db028336bf8252d",
     "locked": false,
     "points": 1,
     "schema_version": 3,
     "solution": true,
     "task": false
    }
   },
   "source": [
    "40 x 40 -- Print \n",
    "![image.png](attachment:image.png)"
   ]
  },
  {
   "cell_type": "markdown",
   "id": "5b4e4ba6",
   "metadata": {
    "deletable": false,
    "editable": false,
    "nbgrader": {
     "cell_type": "markdown",
     "checksum": "b00d4ec5c61ad174090d262df11260b0",
     "grade": false,
     "grade_id": "cell-88df604697cf31e5",
     "locked": true,
     "schema_version": 3,
     "solution": false,
     "task": false
    }
   },
   "source": [
    "***"
   ]
  },
  {
   "cell_type": "code",
   "execution_count": null,
   "id": "f9b5b083",
   "metadata": {
    "deletable": false,
    "editable": false,
    "nbgrader": {
     "cell_type": "code",
     "checksum": "4a0f8ef72d5e1931ffe7a8efff4467c2",
     "grade": true,
     "grade_id": "cell-28d04194178db5c1",
     "locked": true,
     "points": 0,
     "schema_version": 3,
     "solution": false,
     "task": false
    }
   },
   "outputs": [],
   "source": []
  }
 ],
 "metadata": {
  "kernelspec": {
   "display_name": "Python 3 (ipykernel)",
   "language": "python",
   "name": "python3"
  },
  "language_info": {
   "codemirror_mode": {
    "name": "ipython",
    "version": 3
   },
   "file_extension": ".py",
   "mimetype": "text/x-python",
   "name": "python",
   "nbconvert_exporter": "python",
   "pygments_lexer": "ipython3",
   "version": "3.9.7"
  }
 },
 "nbformat": 4,
 "nbformat_minor": 5
}
