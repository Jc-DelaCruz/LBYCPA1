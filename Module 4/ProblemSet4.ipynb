{
 "cells": [
  {
   "cell_type": "markdown",
   "id": "1fba3798",
   "metadata": {},
   "source": [
    "# Programming Logic and Design Laboratory (LBYCPA1)"
   ]
  },
  {
   "cell_type": "markdown",
   "id": "21319a2e",
   "metadata": {},
   "source": [
    "Before you turn this problem in, make sure everything runs as expected. First, **restart the kernel** (in the menubar, select Kernel$\\rightarrow$Restart) and then **run all cells** (in the menubar, select Cell$\\rightarrow$Run All).\n",
    "\n",
    "Make sure you fill in any place that says `YOUR CODE HERE` or `YOUR ANSWER HERE`, as well as your name and other information below inside the double quotes. Remove the line `raise NotImplementedError()` once you have answered the problem.\n",
    "\n",
    "REMINDERS: Section 4.15 of the Student Handbook (SH) 2018-2021 provides that:\n",
    "\n",
    "As a Catholic University that prepares its students to become professionals and be the resource for Church and nation, De La Salle University puts a premium on academic honesty. A student's academic requirements, such as assignments, term papers, computer programs/projects, and thesis papers, should be his/her own work. He/She must distinguish between his/her own ideas and those of other authors.\n",
    "\n",
    "The student must cite references, direct quotes, and other sources (including data obtained from tables, illustrations, figures, pictures, images, and video) following the prescribed format of the discipline. Should a student intend to submit a similar previous work for credit, in different courses, a written permission must first be obtained from the faculty members concerned. In addition, for works where he/she is only one of the authors, the following must be observed.\n",
    "\n",
    "4.15.1 Provide a disclaimer stating that the work is not entirely his/hers;\n",
    "\n",
    "4.15.2 The work cannot be published without written consent of the group of authors.\n",
    "\n",
    "4.15.3 If the work is separable (i.e. parts are clearly attributed to the individual authors), the student may use and must cite his/her own part only; otherwise, the student must seek the written consent of the group of authors.\n",
    "\n",
    "4.15.4 Computer codes obtained from open source reference may be copied freely, but the source should be cited, provided further that the faculty member allows the use of open source reference in the course."
   ]
  },
  {
   "cell_type": "markdown",
   "id": "1356c0b8",
   "metadata": {},
   "source": [
    "## Rubric for the Final Laboratory Report\n",
    "\n",
    "|Criteria|EXEMPLARY (90-100)|SATISFACTORY (80-89)|DEVELOPING (70-79)|BEGINNING (Below 70)|WEIGHT|\n",
    "|:-|:-|:-|:-|:-|:-:|\n",
    "|**Experimental Plan (Flowchart/ Algorithm)**|Experimental plan has supporting details and diagram/algorithm that is stated and well explained|Experimental plan has supporting details and diagram/algorithm that is stated but not explained|Experimental plan is vague or brief. It has supporting details and doesn’t have diagram/algorithm|No experimental plan presented|30%|\n",
    "|**Conducting Experiment/ Activity**|Objective and Materials used (modern engineering tools, software, and instruments/equipment) are identified. Steps are easy to follow for conducting and experiment/activity|Objective is not stated. Materials used (modern engineering tools, software, and instruments/equipment) are identified. Steps are easy to follow for conducting and experiment/activity|Does not provide enough information to conduct an experiment/activity|No Objective, Materials used (modern engineering tools, software, and instruments/equipment), and steps for conducting experiment/activity provided|20%|\n",
    "|**Codes/Data/ Program**|Data is well utilized in the program. Program codes are easy to read. Program output has no error. Questions are answered completely and correctly|Data is somewhat utilized in the program. Program code are easy to read. Program output has an output but logically incorrect. Some questions are answered completely and correctly|Data is not utilized in the program. It has a missing significant code/syntax in the program|No program presented|30%|\n",
    "|**Grammar, logical presentation, and format**|The report was grammatically correct, logically presented and used the required format|The report had minimal grammatical errors and somewhat presented logically. The required format was used|The report had a lot of grammatical errors and not logically presented; the required format was barely used|The report had a lot of grammatical errors, was not logically presented and the required format was not used|20%|"
   ]
  },
  {
   "cell_type": "code",
   "execution_count": null,
   "id": "46b7fc2c",
   "metadata": {},
   "outputs": [],
   "source": [
    "# Fill-up the following information (put inside double quotes)\n",
    "\n",
    "NAME = \"Dela Cruz, John Carlo Theo S.\"                   # e.g. LIGUTAN, DINO DOMINIC F.\n",
    "STUDENT_NUMBER = \"12195758\"         # e.g. 20192118\n",
    "SECTION = \"EQ1\"                # e.g. EQ1\n",
    "DATE_TIME_COMPLETED = \"04/21/2022, 12:57pm\"    # e.g. 03/21/2022,11:00"
   ]
  },
  {
   "cell_type": "markdown",
   "id": "af4cd2fd",
   "metadata": {},
   "source": [
    "<hr style=\"border:1px solid black\"> </hr>"
   ]
  },
  {
   "cell_type": "markdown",
   "id": "e18d94cf",
   "metadata": {
    "deletable": false,
    "editable": false,
    "nbgrader": {
     "cell_type": "markdown",
     "checksum": "a044766cf09b9176f6c3e871b5fb72e0",
     "grade": false,
     "grade_id": "cell-d67e30b5d7100133",
     "locked": true,
     "schema_version": 3,
     "solution": false,
     "task": false
    }
   },
   "source": [
    "# Problem Set 4\n",
    "<hr style=\"border:1px solid gray\"> </hr>"
   ]
  },
  {
   "cell_type": "markdown",
   "id": "856a9bde",
   "metadata": {
    "deletable": false,
    "editable": false,
    "nbgrader": {
     "cell_type": "markdown",
     "checksum": "7536be7e07aa9689b62c875d702531e5",
     "grade": false,
     "grade_id": "cell-656c35d40044ad5b",
     "locked": true,
     "schema_version": 3,
     "solution": false,
     "task": false
    }
   },
   "source": [
    "1. Create a program that would re-create the pyramid bricks in the Mario game using the special character `#`. It will accept the pyramid height as an input and would return a string which when printed would resemble the corresponding pyramid height. For example, when the pyramid height is 5, the string when displayed using `print` would become:\n",
    "```\n",
    "       #\n",
    "      ##\n",
    "     ###\n",
    "    ####\n",
    "#####\n",
    "```\n",
    "Note that the program should return a string and that the string `\"\\n\"` should be used in place of newlines. Use the string concatenation operator (`+`) to join several strings into one string. For the example above, the returned string should be:\n",
    "```\n",
    "\"    #\\n   ##\\n  ###\\n ####\\n#####\"\n",
    "```"
   ]
  },
  {
   "cell_type": "code",
   "execution_count": 37,
   "id": "c9704ce9",
   "metadata": {
    "deletable": false,
    "nbgrader": {
     "cell_type": "code",
     "checksum": "bb95c1860c7729a25425051cdeb230a3",
     "grade": false,
     "grade_id": "cell-32216f35a45b784e",
     "locked": false,
     "schema_version": 3,
     "solution": true,
     "task": false
    }
   },
   "outputs": [],
   "source": [
    "def rightPyramid(height):\n",
    "    if not type(height) is int:\n",
    "        raise TypeError(\"Input not a valid integer\")\n",
    "    \n",
    "    pyramid = str() # declare an empty string\n",
    "  \n",
    "    for i in range(height):\n",
    "        for j in range(i, height-1):\n",
    "            pyramid += ' ' #concatenation, putting the char to the string\n",
    "        for j in range(i+1):\n",
    "            pyramid += '#'\n",
    "        pyramid += '\\n'\n",
    "    pyramid = pyramid.rstrip() #Remove Newline From String in Python \n",
    "    #Reference:\n",
    "    #https://www.delftstack.com/howto/python/python-remove-newline-from-string/\n",
    "    print(pyramid)\n",
    "    \n",
    "    return pyramid # Make sure to assign the result to the pyramid variable"
   ]
  },
  {
   "cell_type": "code",
   "execution_count": 38,
   "id": "97ebd86c",
   "metadata": {
    "deletable": false,
    "editable": false,
    "nbgrader": {
     "cell_type": "code",
     "checksum": "2c5fb34ce5db4c3ebe154d1fa7bceab5",
     "grade": true,
     "grade_id": "cell-a863d6410ce95310",
     "locked": true,
     "points": 1,
     "schema_version": 3,
     "solution": false,
     "task": false
    }
   },
   "outputs": [
    {
     "name": "stdout",
     "output_type": "stream",
     "text": [
      "  #\n",
      " ##\n",
      "###\n",
      "      #\n",
      "     ##\n",
      "    ###\n",
      "   ####\n",
      "  #####\n",
      " ######\n",
      "#######\n",
      "         #\n",
      "        ##\n",
      "       ###\n",
      "      ####\n",
      "     #####\n",
      "    ######\n",
      "   #######\n",
      "  ########\n",
      " #########\n",
      "##########\n"
     ]
    }
   ],
   "source": [
    "# DO NOT MODIFY, THIS IS UNIT TESTING! [1 pt]\n",
    "from nose.tools import assert_equal\n",
    "\n",
    "assert_equal(rightPyramid(3), \"  #\\n ##\\n###\")\n",
    "assert_equal(rightPyramid(7),\"      #\\n     ##\\n    ###\\n   ####\\n  #####\\n ######\\n#######\")\n",
    "assert_equal(rightPyramid(10), \"         #\\n        ##\\n       ###\\n      ####\\n     #####\\n    ######\\n   #######\\n  ########\\n #########\\n##########\")"
   ]
  },
  {
   "cell_type": "code",
   "execution_count": 39,
   "id": "43f2bd92",
   "metadata": {
    "deletable": false,
    "editable": false,
    "nbgrader": {
     "cell_type": "code",
     "checksum": "409d3f33b49caa2f51a43adf732cfbd6",
     "grade": true,
     "grade_id": "cell-be8bc63ea77696f0",
     "locked": true,
     "points": 1,
     "schema_version": 3,
     "solution": false,
     "task": false
    }
   },
   "outputs": [],
   "source": [
    "# HIDDEN TEST [1 pt]"
   ]
  },
  {
   "cell_type": "code",
   "execution_count": 40,
   "id": "8645d150",
   "metadata": {
    "deletable": false,
    "editable": false,
    "nbgrader": {
     "cell_type": "code",
     "checksum": "afd05b9ad12538ba560d91250c977df4",
     "grade": false,
     "grade_id": "cell-6681d7651b3d3345",
     "locked": true,
     "schema_version": 3,
     "solution": false,
     "task": false
    }
   },
   "outputs": [
    {
     "name": "stdout",
     "output_type": "stream",
     "text": [
      "What height? 5\n",
      "    #\n",
      "   ##\n",
      "  ###\n",
      " ####\n",
      "#####\n",
      "    #\n",
      "   ##\n",
      "  ###\n",
      " ####\n",
      "#####\n"
     ]
    }
   ],
   "source": [
    "# SAMPLE TEST, DO NOT MODIFY! JUST EXECUTE ONLY FOR OUTPUT\n",
    "# You can add a cell below if you need to test a different input\n",
    "\n",
    "height = int(input(\"What height? \"))\n",
    "print(rightPyramid(height))"
   ]
  },
  {
   "cell_type": "markdown",
   "id": "f6e5f9a7",
   "metadata": {
    "deletable": false,
    "editable": false,
    "nbgrader": {
     "cell_type": "markdown",
     "checksum": "46fd60b00b28133bcb70fc0b5d742a73",
     "grade": false,
     "grade_id": "cell-2e74313128197e3e",
     "locked": true,
     "schema_version": 3,
     "solution": false,
     "task": false
    }
   },
   "source": [
    "2. Develop a program that will accept a string and count the number of vowels.\n"
   ]
  },
  {
   "cell_type": "code",
   "execution_count": 9,
   "id": "2c64c1f3",
   "metadata": {
    "deletable": false,
    "nbgrader": {
     "cell_type": "code",
     "checksum": "e715743978879859e216ee4615637e14",
     "grade": false,
     "grade_id": "cell-2a67d9bb9ce95749",
     "locked": false,
     "schema_version": 3,
     "solution": true,
     "task": false
    }
   },
   "outputs": [],
   "source": [
    "def count_vowel(sentence):\n",
    "    if not type(sentence) is str:\n",
    "        raise TypeError(\"Input not a string\")\n",
    "        \n",
    "    sentence = sentence.lower() # Set all alphabet characters to lowercase\n",
    "    vowel = [\"a\",\"e\",\"i\",\"o\",\"u\"]\n",
    "    count = 0 #initial value\n",
    "        \n",
    "    for ch in sentence:\n",
    "        if ch in vowel:\n",
    "            count +=1\n",
    "    print(\"Vowel Counter: \", count)    \n",
    "\n",
    "    return count # Make sure to assign the result to the count variable\\\n"
   ]
  },
  {
   "cell_type": "code",
   "execution_count": 10,
   "id": "a7dafd54",
   "metadata": {
    "deletable": false,
    "editable": false,
    "nbgrader": {
     "cell_type": "code",
     "checksum": "7e6c5887857b932c0c2aa4d433a85c35",
     "grade": true,
     "grade_id": "cell-0ecdfae26dbb43fd",
     "locked": true,
     "points": 1,
     "schema_version": 3,
     "solution": false,
     "task": false
    }
   },
   "outputs": [
    {
     "name": "stdout",
     "output_type": "stream",
     "text": [
      "Vowel Counter:  255\n",
      "Vowel Counter:  15\n",
      "Vowel Counter:  9\n"
     ]
    }
   ],
   "source": [
    "# DO NOT MODIFY, THIS IS UNIT TESTING! [1 pt]\n",
    "from nose.tools import assert_equal\n",
    "\n",
    "zen_of_python = \"\"\"\n",
    "Beautiful is better than ugly.\n",
    "Explicit is better than implicit.\n",
    "Simple is better than complex.\n",
    "Complex is better than complicated.\n",
    "Flat is better than nested.\n",
    "Sparse is better than dense.\n",
    "Readability counts.\n",
    "Special cases aren't special enough to break the rules.\n",
    "Although practicality beats purity.\n",
    "Errors should never pass silently.\n",
    "Unless explicitly silenced.\n",
    "In the face of ambiguity, refuse the temptation to guess.\n",
    "There should be one-- and preferably only one --obvious way to do it.\n",
    "Although that way may not be obvious at first unless you're Dutch.\n",
    "Now is better than never.\n",
    "Although never is often better than *right* now.\n",
    "If the implementation is hard to explain, it's a bad idea.\n",
    "If the implementation is easy to explain, it may be a good idea.\n",
    "Namespaces are one honking great idea -- let's do more of those!\n",
    "\"\"\"\n",
    "assert_equal(count_vowel(zen_of_python), 255)\n",
    "assert_equal(count_vowel(\"I'm going to make him an offer he can't refuse\"), 15)\n",
    "assert_equal(count_vowel(\"Adobong Manok na May Pinya\"), 9)"
   ]
  },
  {
   "cell_type": "code",
   "execution_count": 11,
   "id": "10c87967",
   "metadata": {
    "deletable": false,
    "editable": false,
    "nbgrader": {
     "cell_type": "code",
     "checksum": "4b017f243fa0afd5b552d2e43081b74f",
     "grade": true,
     "grade_id": "cell-d829d36c16000276",
     "locked": true,
     "points": 1,
     "schema_version": 3,
     "solution": false,
     "task": false
    }
   },
   "outputs": [],
   "source": [
    "# HIDDEN TEST [1 pt]"
   ]
  },
  {
   "cell_type": "code",
   "execution_count": 12,
   "id": "722794eb",
   "metadata": {
    "deletable": false,
    "editable": false,
    "nbgrader": {
     "cell_type": "code",
     "checksum": "d1954276a8ef42d96dff9caa3a728dcc",
     "grade": false,
     "grade_id": "cell-0784c2f91b471fde",
     "locked": true,
     "schema_version": 3,
     "solution": false,
     "task": false
    }
   },
   "outputs": [
    {
     "name": "stdout",
     "output_type": "stream",
     "text": [
      "Input a sentence: minang deng laka kinang siuang\n",
      "Vowel Counter:  10\n",
      "The sentence \"minang deng laka kinang siuang\" has 10 vowels.\n"
     ]
    }
   ],
   "source": [
    "# SAMPLE TEST, DO NOT MODIFY! JUST EXECUTE ONLY FOR OUTPUT\n",
    "# You can add a cell below if you need to test a different input\n",
    "\n",
    "sentence = input(\"Input a sentence: \")\n",
    "print('The sentence \"', sentence, '\" has ', count_vowel(sentence), \" vowels.\", sep=\"\")"
   ]
  },
  {
   "cell_type": "markdown",
   "id": "3a438f25",
   "metadata": {
    "deletable": false,
    "editable": false,
    "nbgrader": {
     "cell_type": "markdown",
     "checksum": "ddd98be66b63f08caaae46fe558fbe4d",
     "grade": false,
     "grade_id": "cell-3b70360c4abdc847",
     "locked": true,
     "schema_version": 3,
     "solution": false,
     "task": false
    }
   },
   "source": [
    "3. Suppose that logical bitwise operations of an 8-bit computer are being simulated on a string composed of characters of \"0\"s and \"1\"s in any order. Three bitwise operations on these strings are currently supported: **NOT**, **OR** and **AND**. All operations returns a single string as a result of the operation. Each operation works as follows:\n",
    "<ul>\n",
    "<li>The bitwise <b>NOT</b> operation takes a single string and converts each \"0\" to \"1\" and vice versa. Example:<br/><br/>\n",
    "    <font face = \"Courier New\"><center>NOT \"10010101\"<br/>--------------<br/>&nbsp;&nbsp;&nbsp;&nbsp;\"01101010\"</center></font></li>\n",
    "<li>The <b>OR</b> operation takes two strings and compares each character in their respective positions as follows: if at least one of the characters have a \"1\", the corresponding character in the resulting string is a \"1\"; otherwise it is a \"0\". Example:<br/><br/>\n",
    "    <font face = \"Courier New\"><center>&nbsp;&nbsp;&nbsp;\"10010001\"<br/>OR \"10010010\"<br/>-------------<br/>&nbsp;&nbsp;&nbsp;\"10010011\"</center></font></li>\n",
    "<li>The <b>AND</b> operation takes two strings and compares each character in their respective positions as follows: if both of the characters is a \"1\", the corresponding character in the resulting string is a \"1\"; otherwise it is a \"0\". Example:<br/><br/>\n",
    "    <font face = \"Courier New\"><center>&nbsp;&nbsp;&nbsp;&nbsp;\"10010001\"<br/>AND \"10010010\"<br/>--------------<br/>&nbsp;&nbsp;&nbsp;&nbsp;\"10010000\"</center></font></li>\n",
    "</ul>\n",
    "\n",
    "    Implement a Python function for each logical bitwise operation. Each function must accept strings with \"0\"s and \"1\"s and exactly 8 characters only."
   ]
  },
  {
   "cell_type": "code",
   "execution_count": 2,
   "id": "3671aabc",
   "metadata": {
    "deletable": false,
    "nbgrader": {
     "cell_type": "code",
     "checksum": "1608bf52a75612f34b05922195d89340",
     "grade": false,
     "grade_id": "cell-5bf885b89699825d",
     "locked": false,
     "schema_version": 3,
     "solution": true,
     "task": false
    }
   },
   "outputs": [
    {
     "name": "stdout",
     "output_type": "stream",
     "text": [
      "Writing bitwisemodule.py\n"
     ]
    }
   ],
   "source": [
    "%%writefile bitwisemodule.py\n",
    "def checkInput(string):\n",
    "    if not(type(string) is str and len(string) == 8):\n",
    "        raise TypeError(\"Input not a valid string\")\n",
    "    for char in string:\n",
    "        if not (char == \"0\" or char == \"1\"):\n",
    "            raise ValueError(\"Strings must contain a '0' or '1' characters only\")\n",
    "\n",
    "# This function performs the logical bitwise NOT on an 8-character string\n",
    "def bitwise_NOT(string):\n",
    "    checkInput(string)\n",
    "    \n",
    "    result = str()\n",
    "    for char in string:\n",
    "        if char == '1':\n",
    "            result += '0'\n",
    "        else:\n",
    "            result += '1'\n",
    "    \n",
    "    return result\n",
    "\n",
    "# This function performs the logical bitwise OR on two 8-character strings\n",
    "def bitwise_OR(string1, string2):\n",
    "    checkInput(string1)\n",
    "    checkInput(string2)\n",
    "    \n",
    "    result = str()\n",
    "    for ch1, ch2 in zip(string1, string2):\n",
    "            if ch1 == '1' or ch2 == '1':\n",
    "                result += '1'\n",
    "            else: \n",
    "                result += '0'\n",
    "    return result\n",
    "        \n",
    "# This function performs the logical bitwise AND on two 8-character strings\n",
    "def bitwise_AND(string1, string2):\n",
    "    checkInput(string1)\n",
    "    checkInput(string2)\n",
    "    \n",
    "    result = str()\n",
    "    for ch1, ch2 in zip(string1, string2):\n",
    "            if ch1 == '1' and ch2 == '1':\n",
    "                result += '1'\n",
    "            else: \n",
    "                result += '0'\n",
    "    \n",
    "    return result\n"
   ]
  },
  {
   "cell_type": "code",
   "execution_count": 2,
   "id": "7c16a3d0",
   "metadata": {
    "deletable": false,
    "editable": false,
    "nbgrader": {
     "cell_type": "code",
     "checksum": "01be43e4bccdae406f2c989d97ec5a7d",
     "grade": true,
     "grade_id": "cell-67877fb08827f061",
     "locked": true,
     "points": 1,
     "schema_version": 3,
     "solution": false,
     "task": false
    }
   },
   "outputs": [],
   "source": [
    "# DO NOT MODIFY, THIS IS UNIT TESTING! [1 pt]\n",
    "from nose.tools import assert_equal\n",
    "\n",
    "assert_equal(bitwise_NOT(\"00100110\"), \"11011001\")\n",
    "assert_equal(bitwise_NOT(\"11100000\"), \"00011111\")\n",
    "assert_equal(bitwise_NOT(\"10101010\"), \"01010101\")\n",
    "\n",
    "# HIDDEN TEST"
   ]
  },
  {
   "cell_type": "code",
   "execution_count": 3,
   "id": "8a16b30b",
   "metadata": {
    "deletable": false,
    "editable": false,
    "nbgrader": {
     "cell_type": "code",
     "checksum": "18337b37a2ae852d0dba9740b52a1019",
     "grade": true,
     "grade_id": "cell-d1331a7a6eb3a2a2",
     "locked": true,
     "points": 1,
     "schema_version": 3,
     "solution": false,
     "task": false
    }
   },
   "outputs": [],
   "source": [
    "# DO NOT MODIFY, THIS IS UNIT TESTING! [1 pt]\n",
    "from nose.tools import assert_equal\n",
    "\n",
    "assert_equal(bitwise_OR(\"00100110\", \"10100000\"), \"10100110\")\n",
    "assert_equal(bitwise_OR(\"11100000\", \"00011111\"), \"11111111\")\n",
    "assert_equal(bitwise_OR(\"10101010\", \"11110000\"), \"11111010\")\n",
    "\n",
    "# HIDDEN TEST"
   ]
  },
  {
   "cell_type": "code",
   "execution_count": 4,
   "id": "8801be6b",
   "metadata": {
    "deletable": false,
    "editable": false,
    "nbgrader": {
     "cell_type": "code",
     "checksum": "7228af389230bab0c7fe48f8d3f7e0a8",
     "grade": true,
     "grade_id": "cell-ee4c99cfe5dc9acf",
     "locked": true,
     "points": 1,
     "schema_version": 3,
     "solution": false,
     "task": false
    }
   },
   "outputs": [],
   "source": [
    "# DO NOT MODIFY, THIS IS UNIT TESTING! [1 pt]\n",
    "from nose.tools import assert_equal\n",
    "\n",
    "assert_equal(bitwise_AND(\"00100110\", \"10100000\"), \"00100000\")\n",
    "assert_equal(bitwise_AND(\"11100000\", \"00011111\"), \"00000000\")\n",
    "assert_equal(bitwise_AND(\"10101010\", \"11110000\"), \"10100000\")\n",
    "\n",
    "# HIDDEN TEST"
   ]
  },
  {
   "cell_type": "code",
   "execution_count": 5,
   "id": "3c853b7b",
   "metadata": {
    "deletable": false,
    "editable": false,
    "nbgrader": {
     "cell_type": "code",
     "checksum": "d00e1f86c7967491930313d106abe95e",
     "grade": false,
     "grade_id": "cell-fd3ab46b748a1278",
     "locked": true,
     "schema_version": 3,
     "solution": false,
     "task": false
    }
   },
   "outputs": [
    {
     "name": "stdout",
     "output_type": "stream",
     "text": [
      "11011001\n",
      "10100110\n",
      "00100000\n"
     ]
    }
   ],
   "source": [
    "# SAMPLE TEST, DO NOT MODIFY! JUST EXECUTE ONLY FOR OUTPUT\n",
    "\n",
    "print(bitwise_NOT(\"00100110\"))\n",
    "print(bitwise_OR(\"00100110\", \"10100000\"))\n",
    "print(bitwise_AND(\"00100110\", \"10100000\"))"
   ]
  },
  {
   "cell_type": "markdown",
   "id": "7e714857",
   "metadata": {
    "deletable": false,
    "editable": false,
    "nbgrader": {
     "cell_type": "markdown",
     "checksum": "556f8e44b4b6cc1e3a0fc488d0c76e4c",
     "grade": false,
     "grade_id": "cell-89b3efbf31a2a6a0",
     "locked": true,
     "schema_version": 3,
     "solution": false,
     "task": false
    }
   },
   "source": [
    "4. Write a program that will command Karel to create an hourglass figure using beepers. A single program must work for all worlds of size $n \\times n$ in general, with $n > 1$. The expected beeper formations for world sizes of $3 \\times 3$, $10 \\times 10$, and $15 \\times 15$ are shown below:\n",
    "\n",
    "    $3 \\times 3$ world:\n",
    "```\n",
    "◊ ◊ ◊\n",
    "· ◊ ·\n",
    "◊ ◊ ◊\n",
    "```\n",
    "    $10 \\times 10$ world:\n",
    "```\n",
    "◊ ◊ ◊ ◊ ◊ ◊ ◊ ◊ ◊ ◊\n",
    "· ◊ ◊ ◊ ◊ ◊ ◊ ◊ ◊ ·\n",
    "· · ◊ ◊ ◊ ◊ ◊ ◊ · ·\n",
    "· · · ◊ ◊ ◊ ◊ · · ·\n",
    "· · · · ◊ ◊ · · · ·\n",
    "· · · · ◊ ◊ · · · ·\n",
    "· · · ◊ ◊ ◊ ◊ · · ·\n",
    "· · ◊ ◊ ◊ ◊ ◊ ◊ · ·\n",
    "· ◊ ◊ ◊ ◊ ◊ ◊ ◊ ◊ ·\n",
    "◊ ◊ ◊ ◊ ◊ ◊ ◊ ◊ ◊ ◊\n",
    "```\n",
    "    $15 \\times 15$ world:\n",
    "```\n",
    "◊ ◊ ◊ ◊ ◊ ◊ ◊ ◊ ◊ ◊ ◊ ◊ ◊ ◊ ◊\n",
    "· ◊ ◊ ◊ ◊ ◊ ◊ ◊ ◊ ◊ ◊ ◊ ◊ ◊ ·\n",
    "· · ◊ ◊ ◊ ◊ ◊ ◊ ◊ ◊ ◊ ◊ ◊ · ·\n",
    "· · · ◊ ◊ ◊ ◊ ◊ ◊ ◊ ◊ ◊ · · ·\n",
    "· · · · ◊ ◊ ◊ ◊ ◊ ◊ ◊ · · · ·\n",
    "· · · · · ◊ ◊ ◊ ◊ ◊ · · · · ·\n",
    "· · · · · · ◊ ◊ ◊ · · · · · ·\n",
    "· · · · · · · ◊ · · · · · · ·\n",
    "· · · · · · ◊ ◊ ◊ · · · · · ·\n",
    "· · · · · ◊ ◊ ◊ ◊ ◊ · · · · ·\n",
    "· · · · ◊ ◊ ◊ ◊ ◊ ◊ ◊ · · · ·\n",
    "· · · ◊ ◊ ◊ ◊ ◊ ◊ ◊ ◊ ◊ · · ·\n",
    "· · ◊ ◊ ◊ ◊ ◊ ◊ ◊ ◊ ◊ ◊ ◊ · ·\n",
    "· ◊ ◊ ◊ ◊ ◊ ◊ ◊ ◊ ◊ ◊ ◊ ◊ ◊ ·\n",
    "◊ ◊ ◊ ◊ ◊ ◊ ◊ ◊ ◊ ◊ ◊ ◊ ◊ ◊ ◊\n",
    "```\n",
    "    For each of the cells below (1 pt each), provide a screenshot of the Karel application: the first cell should show the output in a $5 \\times 5$ world, the second cell in an $8 \\times 8$ world, and the third cell in a $40 \\times 40$ world."
   ]
  },
  {
   "attachments": {
    "image-2.png": {
     "image/png": "[encoded data removed]"
    }
   },
   "cell_type": "markdown",
   "id": "83d9d4da",
   "metadata": {
    "deletable": false,
    "nbgrader": {
     "cell_type": "markdown",
     "checksum": "70c3f73831b4f19ddbd5ae459d736ab3",
     "grade": true,
     "grade_id": "cell-f17ba2ccc79da39d",
     "locked": false,
     "points": 1,
     "schema_version": 3,
     "solution": true,
     "task": false
    }
   },
   "source": [
    "YOUR ANSWER HERE 3x3\n",
    "![image-2.png](attachment:image-2.png)"
   ]
  },
  {
   "attachments": {
    "image.png": {
     "image/png": "[encoded data removed]"
    }
   },
   "cell_type": "markdown",
   "id": "fa872633",
   "metadata": {
    "deletable": false,
    "nbgrader": {
     "cell_type": "markdown",
     "checksum": "0fd747ea522810544f3e79b9ce802bae",
     "grade": true,
     "grade_id": "cell-05b7b51c76a875b0",
     "locked": false,
     "points": 1,
     "schema_version": 3,
     "solution": true,
     "task": false
    }
   },
   "source": [
    "YOUR ANSWER HERE 8x8 \n",
    "![image.png](attachment:image.png)"
   ]
  },
  {
   "attachments": {
    "image.png": {
     "image/png": "[encoded data removed]"
    }
   },
   "cell_type": "markdown",
   "id": "d8a0661e",
   "metadata": {
    "deletable": false,
    "nbgrader": {
     "cell_type": "markdown",
     "checksum": "b778f4f2fa2310947a6345d8676b4c59",
     "grade": true,
     "grade_id": "cell-65901efb35e57f0a",
     "locked": false,
     "points": 1,
     "schema_version": 3,
     "solution": true,
     "task": false
    }
   },
   "source": [
    "YOUR ANSWER HERE 40x40\n",
    "![image.png](attachment:image.png)"
   ]
  }
 ],
 "metadata": {
  "kernelspec": {
   "display_name": "Python 3 (ipykernel)",
   "language": "python",
   "name": "python3"
  },
  "language_info": {
   "codemirror_mode": {
    "name": "ipython",
    "version": 3
   },
   "file_extension": ".py",
   "mimetype": "text/x-python",
   "name": "python",
   "nbconvert_exporter": "python",
   "pygments_lexer": "ipython3",
   "version": "3.9.7"
  }
 },
 "nbformat": 4,
 "nbformat_minor": 5
}
