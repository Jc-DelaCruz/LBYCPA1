{
 "cells": [
  {
   "cell_type": "markdown",
   "metadata": {},
   "source": [
    "# LBYCPA1 Module 4 \n",
    "## Control Structure - Loops"
   ]
  },
  {
   "cell_type": "markdown",
   "metadata": {},
   "source": [
    "### Objectives:\n",
    "1. To familiarize with the use of `for` and `while` looping statements\n",
    "1. To generate arithmetic progression using the `range()` function\n",
    "1. To solve computational problems using looping statements\n",
    "1. (Add an objective...)\n",
    "\n",
    "### Materials and Tools:\n",
    "1. Instructor's lecture notes\n",
    "1. Jupyter Notebook\n",
    "1. Flowchart Software (Diagrams.net, Lucidchart, SmartDraw, etc.)\n",
    "1. (Add a material or tool...)"
   ]
  },
  {
   "cell_type": "markdown",
   "metadata": {},
   "source": [
    "### Looping Statements\n",
    "Looping statements is one of the flow control statements and are incredibly important when it comes to programming. As the name suggests, a loop will execute the same code over and over again a specific number of times or while a certain condition is true. In Python, there are two types of looping statements: `while` statements and `for` statements.\n",
    "#### `while` Loop Statements\n",
    "The code in a `while` clause will be executed as long as the `while` statement's condition is `True`. In code, a `while` statement always consists of the following:\n",
    "- The `while` keyword\n",
    "- A condition (that is, an expression that evaluates to `True` or `False`)\n",
    "- A colon\n",
    "- Starting on the next line, an indented block of code (called the `while` clause)\n",
    "\n",
    "#### `for` Loop Statements\n",
    "The `while` loop keeps looping while its condition is `True` (which is the reason for its name), but what if you want to execute a block of code only a certain number of times? You can do this with a `for` loop statement and the `range()` function. In code, a `for` statement looks something like `for i in range(n):` and includes the following:\n",
    "- The `for` keyword\n",
    "- A variable name\n",
    "- The `in` keyword\n",
    "- A call to the `range()` method with up to three integers passed to it\n",
    "- A colon\n",
    "- Starting on the next line, an indented block of code (called the `for` clause)\n",
    "\n",
    "### Other Flow Control Statements\n",
    "The following flow control statements, such as `break` and `continue` statements, can change the execution flow of looping statements.\n",
    "#### `break` Statements\n",
    "There is a shortcut to getting the program execution to break out of a `while` loop's clause early. If the execution reaches a `break` statement, it immediately exits the `while` loop's clause. In code, a `break` statement simply contains the `break` keyword.\n",
    "\n",
    "#### `continue` Statements\n",
    "Like `break` statements, `continue` statements are used inside loops. When the program execution reaches a `continue` statement, the program execution immediately jumps back to the start of the loop and reevaluates the loop's condition. (This is also what happens when the execution reaches the end\n",
    "of the loop.)\n",
    "\n",
    "#### `else` Clauses on Loops\n",
    "Loop statements may have an `else` clause; it is executed when the loop terminates through exhaustion of the iterable (with `for`) or when the condition becomes false (with `while`), but not when the loop is terminated by a `break` statement.\n",
    "\n",
    "#### `pass` Statements\n",
    "The `pass` statement does nothing. It can be used when a statement is required syntactically but the program requires no action. For example:\n",
    "```\n",
    "while True:\n",
    "    pass # Busy-wait for keyboard interrupt (Ctrl+C)\n",
    "```"
   ]
  },
  {
   "cell_type": "markdown",
   "metadata": {},
   "source": [
    "### Built-in Functions used in `for` loop statements\n",
    "\n",
    "#### The `range()` function\n",
    "If you do need to iterate over a sequence of numbers, the built-in function `range()` comes in handy. It generates arithmetic progressions as the following example shows:"
   ]
  },
  {
   "cell_type": "code",
   "execution_count": 17,
   "metadata": {},
   "outputs": [
    {
     "name": "stdout",
     "output_type": "stream",
     "text": [
      "How many terms of the progression you want to generate? 4\n",
      "0\n",
      "1\n",
      "2\n",
      "3\n"
     ]
    }
   ],
   "source": [
    "# Generate an arithmetic progression starting from 0 up to but including the user's input number\n",
    "n = int(input(\"How many terms of the progression you want to generate? \")) # Ask for the number of terms of the progression\n",
    "for i in range(n):\n",
    "    print(i) # Display the each number in a new line, starting at 0 up to n-1"
   ]
  },
  {
   "cell_type": "markdown",
   "metadata": {},
   "source": [
    "It is possible to let the range start at another number,"
   ]
  },
  {
   "cell_type": "code",
   "execution_count": 16,
   "metadata": {
    "scrolled": true
   },
   "outputs": [
    {
     "name": "stdout",
     "output_type": "stream",
     "text": [
      "Starting number? 4\n",
      "Ending number? 1\n"
     ]
    }
   ],
   "source": [
    "start = int(input(\"Starting number? \")) # Ask for starting number\n",
    "end = int(input(\"Ending number? \")) # and the last number\n",
    "for i in range(start, end + 1): # Notice that there is a plus one (+ 1) in the second argument?\n",
    "    print(i) # Display the each number in a new line, starting at 'start' up to 'end'"
   ]
  },
  {
   "cell_type": "markdown",
   "metadata": {},
   "source": [
    "or to specify a different increment (even negative; sometimes this is called the 'step')"
   ]
  },
  {
   "cell_type": "code",
   "execution_count": 15,
   "metadata": {},
   "outputs": [
    {
     "name": "stdout",
     "output_type": "stream",
     "text": [
      "0, 3, 6, 9, \n",
      "-10, -40, -70, "
     ]
    }
   ],
   "source": [
    "# Display an arithmetic progression with increments of 3\n",
    "for i in range(0, 10, 3):\n",
    "    print(i, end=\", \")\n",
    "print()\n",
    "\n",
    "# Display a decreasing arithmetic progression with whose common difference is -30\n",
    "for i in range(-10, -100, -30):\n",
    "    print(i, end=\", \")"
   ]
  },
  {
   "cell_type": "markdown",
   "metadata": {},
   "source": [
    "#### The `enumerate()` function\n",
    "The built-in function `enumerate()` can be used to generate a count over a certain sequence. For example, if we want to partner each alphabet to an integer, we can do the following:"
   ]
  },
  {
   "cell_type": "code",
   "execution_count": 14,
   "metadata": {
    "scrolled": true
   },
   "outputs": [
    {
     "name": "stdout",
     "output_type": "stream",
     "text": [
      "0 => A\n",
      "1 => B\n",
      "2 => C\n",
      "3 => D\n",
      "4 => E\n",
      "5 => F\n",
      "6 => G\n",
      "7 => H\n",
      "8 => I\n",
      "9 => J\n",
      "10 => K\n",
      "11 => L\n",
      "12 => M\n",
      "13 => N\n",
      "14 => O\n",
      "15 => P\n",
      "16 => Q\n",
      "17 => R\n",
      "18 => S\n",
      "19 => T\n",
      "20 => U\n",
      "21 => V\n",
      "22 => W\n",
      "23 => X\n",
      "24 => Y\n",
      "25 => Z\n"
     ]
    }
   ],
   "source": [
    "alphabets = \"ABCDEFGHIJKLMNOPQRSTUVWXYZ\"\n",
    "for count, letter in enumerate(alphabets):\n",
    "    print(count, \"=>\", letter)"
   ]
  },
  {
   "cell_type": "markdown",
   "metadata": {},
   "source": [
    "We can also start with 1 instead of 0 by specifying a value to the `start` key,"
   ]
  },
  {
   "cell_type": "code",
   "execution_count": 13,
   "metadata": {},
   "outputs": [
    {
     "name": "stdout",
     "output_type": "stream",
     "text": [
      "1 => A\n",
      "2 => B\n",
      "3 => C\n",
      "4 => D\n",
      "5 => E\n",
      "6 => F\n",
      "7 => G\n",
      "8 => H\n",
      "9 => I\n",
      "10 => J\n",
      "11 => K\n",
      "12 => L\n",
      "13 => M\n",
      "14 => N\n",
      "15 => O\n",
      "16 => P\n",
      "17 => Q\n",
      "18 => R\n",
      "19 => S\n",
      "20 => T\n",
      "21 => U\n",
      "22 => V\n",
      "23 => W\n",
      "24 => X\n",
      "25 => Y\n",
      "26 => Z\n"
     ]
    }
   ],
   "source": [
    "alphabets = \"ABCDEFGHIJKLMNOPQRSTUVWXYZ\"\n",
    "for count, letter in enumerate(alphabets, start=1):\n",
    "    print(count, \"=>\", letter)"
   ]
  },
  {
   "cell_type": "markdown",
   "metadata": {},
   "source": [
    "#### The `zip()` function\n",
    "The built-in function `zip()` can be used to combine two sequences together so that each element in one sequence is partnered to an element of another sequence. The sequences must have the same length, otherwise the iteration will stop when the shortest sequence is exhausted. For example:"
   ]
  },
  {
   "cell_type": "code",
   "execution_count": 11,
   "metadata": {
    "scrolled": true
   },
   "outputs": [
    {
     "name": "stdout",
     "output_type": "stream",
     "text": [
      "-100 °C = 173 K\n",
      "-90 °C = 183 K\n",
      "-80 °C = 193 K\n",
      "-70 °C = 203 K\n",
      "-60 °C = 213 K\n",
      "-50 °C = 223 K\n",
      "-40 °C = 233 K\n",
      "-30 °C = 243 K\n",
      "-20 °C = 253 K\n",
      "-10 °C = 263 K\n",
      "0 °C = 273 K\n",
      "10 °C = 283 K\n",
      "20 °C = 293 K\n",
      "30 °C = 303 K\n",
      "40 °C = 313 K\n",
      "50 °C = 323 K\n",
      "60 °C = 333 K\n",
      "70 °C = 343 K\n",
      "80 °C = 353 K\n",
      "90 °C = 363 K\n"
     ]
    }
   ],
   "source": [
    "for celsius, kelvin in zip(range(-100, 100, 10), range(173, 373, 10)):\n",
    "    print(celsius, \"°C =\", kelvin, \"K\")"
   ]
  },
  {
   "cell_type": "markdown",
   "metadata": {},
   "source": [
    "In Python 3.10, the `zip()` function accepts a `strict` key argument. The `strict` key can be set to `True` so that an exception is raised when one of the sequences is exhausted:"
   ]
  },
  {
   "cell_type": "code",
   "execution_count": 12,
   "metadata": {},
   "outputs": [
    {
     "ename": "TypeError",
     "evalue": "zip() takes no keyword arguments",
     "output_type": "error",
     "traceback": [
      "\u001b[1;31m---------------------------------------------------------------------------\u001b[0m",
      "\u001b[1;31mTypeError\u001b[0m                                 Traceback (most recent call last)",
      "\u001b[1;32mC:\\Users\\JCDELA~1\\AppData\\Local\\Temp/ipykernel_6580/1838149250.py\u001b[0m in \u001b[0;36m<module>\u001b[1;34m\u001b[0m\n\u001b[1;32m----> 1\u001b[1;33m \u001b[1;32mfor\u001b[0m \u001b[0mletter\u001b[0m\u001b[1;33m,\u001b[0m \u001b[0mnumber\u001b[0m \u001b[1;32min\u001b[0m \u001b[0mzip\u001b[0m\u001b[1;33m(\u001b[0m\u001b[1;34m\"ABCDEFGHIJKLMNOPQRSTUVWXYZ\"\u001b[0m\u001b[1;33m,\u001b[0m \u001b[1;34m\"0123456789\"\u001b[0m\u001b[1;33m,\u001b[0m \u001b[0mstrict\u001b[0m\u001b[1;33m=\u001b[0m\u001b[1;32mTrue\u001b[0m\u001b[1;33m)\u001b[0m\u001b[1;33m:\u001b[0m \u001b[1;31m# The strict key works in Python 3.10+ only\u001b[0m\u001b[1;33m\u001b[0m\u001b[1;33m\u001b[0m\u001b[0m\n\u001b[0m\u001b[0;32m      2\u001b[0m     \u001b[0mprint\u001b[0m\u001b[1;33m(\u001b[0m\u001b[0mletter\u001b[0m\u001b[1;33m,\u001b[0m \u001b[1;34m\"=>\"\u001b[0m\u001b[1;33m,\u001b[0m \u001b[0mnumber\u001b[0m\u001b[1;33m)\u001b[0m\u001b[1;33m\u001b[0m\u001b[1;33m\u001b[0m\u001b[0m\n",
      "\u001b[1;31mTypeError\u001b[0m: zip() takes no keyword arguments"
     ]
    }
   ],
   "source": [
    "for letter, number in zip(\"ABCDEFGHIJKLMNOPQRSTUVWXYZ\", \"0123456789\", strict=True): # The strict key works in Python 3.10+ only\n",
    "    print(letter, \"=>\", number)"
   ]
  },
  {
   "cell_type": "markdown",
   "metadata": {},
   "source": [
    "### Code Examples\n",
    "**Example 1: Conversion table from degrees Celsius to degrees Fahrenheit**"
   ]
  },
  {
   "cell_type": "code",
   "execution_count": 9,
   "metadata": {},
   "outputs": [
    {
     "name": "stdout",
     "output_type": "stream",
     "text": [
      " Tc      Tf\n",
      " -50    -58.0\n",
      " -40    -40.0\n",
      " -30    -22.0\n",
      " -20    -4.0\n",
      " -10     14.0\n",
      "   0     32.0\n",
      "  10     50.0\n",
      "  20     68.0\n",
      "  30     86.0\n",
      "  40     104.0\n",
      "  50     122.0\n",
      "  60     140.0\n",
      "  70     158.0\n",
      "  80     176.0\n",
      "  90     194.0\n",
      " 100     212.0\n"
     ]
    }
   ],
   "source": [
    "# Recall that the formula for converting Celsius to Fahrenheit is F = 9/5*C + 32\n",
    "print(\" Tc      Tf\") # Display table header\n",
    "for Tc in range(-50, 110, 10):\n",
    "    print(\"{:4}    {: }\".format(Tc, 9/5*Tc + 32))"
   ]
  },
  {
   "cell_type": "markdown",
   "metadata": {},
   "source": [
    "**Example 2: Sum of an arithmetic sequence**"
   ]
  },
  {
   "cell_type": "code",
   "execution_count": 8,
   "metadata": {},
   "outputs": [
    {
     "name": "stdout",
     "output_type": "stream",
     "text": [
      "The value of i is 1, while the value of the accumulator is now 1\n",
      "The value of i is 2, while the value of the accumulator is now 3\n",
      "The value of i is 3, while the value of the accumulator is now 6\n",
      "The value of i is 4, while the value of the accumulator is now 10\n",
      "The value of i is 5, while the value of the accumulator is now 15\n",
      "The value of i is 6, while the value of the accumulator is now 21\n",
      "The value of i is 7, while the value of the accumulator is now 28\n",
      "The value of i is 8, while the value of the accumulator is now 36\n",
      "The value of i is 9, while the value of the accumulator is now 45\n",
      "The final value of the accumulator is: 45\n"
     ]
    }
   ],
   "source": [
    "# Calculate the sum of the arithmetic sequence: 1, 2, 3, 4, 5, 6, 7, 8, 9\n",
    "# SOLUTION 1: Using a for loop\n",
    "acc = 0 # Initial value of accumulator is 0\n",
    "for i in range(1, 10):\n",
    "    acc += i # same as acc = acc + i\n",
    "    print(\"The value of i is \" + str(i) + \", while the value of the accumulator is now \" + str(acc))\n",
    "\n",
    "print(\"The final value of the accumulator is:\", acc)"
   ]
  },
  {
   "cell_type": "code",
   "execution_count": 7,
   "metadata": {},
   "outputs": [
    {
     "name": "stdout",
     "output_type": "stream",
     "text": [
      "The value of i is 1, while the value of the accumulator is now 1\n",
      "The value of i is 2, while the value of the accumulator is now 3\n",
      "The value of i is 3, while the value of the accumulator is now 6\n",
      "The value of i is 4, while the value of the accumulator is now 10\n",
      "The value of i is 5, while the value of the accumulator is now 15\n",
      "The value of i is 6, while the value of the accumulator is now 21\n",
      "The value of i is 7, while the value of the accumulator is now 28\n",
      "The value of i is 8, while the value of the accumulator is now 36\n",
      "The value of i is 9, while the value of the accumulator is now 45\n",
      "The final value of the accumulator is: 45\n"
     ]
    }
   ],
   "source": [
    "# Calculate the sum of the arithmetic sequence: 1, 2, 3, 4, 5, 6, 7, 8, 9\n",
    "# SOLUTION 2: Using a while loop\n",
    "i, acc = 1, 0 # Initial value of i is 1 and accumulator is 0\n",
    "while i < 10:\n",
    "    acc += i\n",
    "    print(\"The value of i is \" + str(i) + \", while the value of the accumulator is now \" + str(acc))\n",
    "    i += 1 # same as i = i + 1\n",
    "    \n",
    "print(\"The final value of the accumulator is:\", acc)"
   ]
  },
  {
   "cell_type": "markdown",
   "metadata": {},
   "source": [
    "**Example 3: Count the occurrence of a character in a string**"
   ]
  },
  {
   "cell_type": "code",
   "execution_count": 6,
   "metadata": {},
   "outputs": [
    {
     "name": "stdout",
     "output_type": "stream",
     "text": [
      "Input a character to count: S\n",
      "There are 2 occurrences of the character 'S'\n"
     ]
    }
   ],
   "source": [
    "# We can use the for loop to access each character from the string one at a time\n",
    "# Robert Frost – Fire & Ice \n",
    "fire_and_ice = \"\"\"\n",
    "Some say the world will end in fire,\n",
    "Some say in ice.\n",
    "From what I’ve tasted of desire\n",
    "I hold with those who favour fire.\n",
    "But if it had to perish twice,\n",
    "I think I know enough of hate\n",
    "To say that for destruction ice\n",
    "Is also great\n",
    "And would suffice.\n",
    "\"\"\"\n",
    "while True: # This will keep asking for a single character input\n",
    "    character_to_count = input(\"Input a character to count: \")\n",
    "    if len(character_to_count) == 1:\n",
    "        break\n",
    "    print(\"Input should be a single character only!\")\n",
    "\n",
    "count = 0 # Initialize counter to 0\n",
    "for ch in fire_and_ice: # Iterate through each character in the given string\n",
    "    if ch == character_to_count:\n",
    "        count += 1\n",
    "\n",
    "print(\"There are \" + str(count) + \" occurrences of the character '\" + character_to_count + \"'\")"
   ]
  },
  {
   "cell_type": "markdown",
   "metadata": {},
   "source": [
    "**Example 4: Guessing game using loops**"
   ]
  },
  {
   "cell_type": "code",
   "execution_count": 5,
   "metadata": {},
   "outputs": [
    {
     "name": "stdout",
     "output_type": "stream",
     "text": [
      "I am thinking of a number between 1 and 20.\n",
      "Take a guess: \n",
      "2\n",
      "Your guess is too low.\n",
      "Take a guess: \n",
      "5\n",
      "Good job! You guessed my number in 2 guesses!\n"
     ]
    }
   ],
   "source": [
    "# This is a guess the number game\n",
    "from random import randint\n",
    "\n",
    "secretNumber = randint(1, 20)\n",
    "print(\"I am thinking of a number between 1 and 20.\")\n",
    "\n",
    "# Ask the player to guess 5 times\n",
    "for guessesTaken in range(1, 6):\n",
    "    print(\"Take a guess: \")\n",
    "    guess = int(input())\n",
    "    \n",
    "    if guess < secretNumber:\n",
    "        print(\"Your guess is too low.\")\n",
    "    elif guess > secretNumber:\n",
    "        print(\"Your guess is too high.\")\n",
    "    else:\n",
    "        break # This condition is the correct guess!\n",
    "\n",
    "if guess == secretNumber:\n",
    "    print(\"Good job! You guessed my number in \" + str(guessesTaken) + \" guesses!\")\n",
    "else:\n",
    "    print(\"Nope. The number I was thinking of was \" + str(secretNumber))"
   ]
  },
  {
   "cell_type": "markdown",
   "metadata": {},
   "source": [
    "**Example 5: List all numbers that are coprime to a given number**"
   ]
  },
  {
   "cell_type": "code",
   "execution_count": 1,
   "metadata": {},
   "outputs": [
    {
     "name": "stdout",
     "output_type": "stream",
     "text": [
      "Input an integer greater than 1: 3\n",
      "2 is coprime with 3\n"
     ]
    }
   ],
   "source": [
    "# This number will list all coprime numbers to a given number\n",
    "while True: # Ask for an integer greater than 1\n",
    "    num = int(input(\"Input an integer greater than 1: \"))\n",
    "    if num > 1:\n",
    "        break\n",
    "    else: print(\"Number should be greater than 1!\")\n",
    "\n",
    "for div in range(2, num):\n",
    "    p, q = num, div\n",
    "    while q > 0: # Euclidean algorithm to find the GCD of two numbers\n",
    "        p, q = q, p % q\n",
    "    if p > 1: # GCD is greater than 1\n",
    "        continue\n",
    "    print(f\"{div} is coprime with {num}\")\n",
    "    "
   ]
  },
  {
   "cell_type": "markdown",
   "metadata": {},
   "source": [
    "**Example 6: List all prime numbers less than a given number**"
   ]
  },
  {
   "cell_type": "code",
   "execution_count": 4,
   "metadata": {},
   "outputs": [
    {
     "name": "stdout",
     "output_type": "stream",
     "text": [
      "Input an integer greater than 1: 5\n",
      "2 is a prime number\n",
      "3 is a prime number\n",
      "4 equals 2 * 2\n"
     ]
    }
   ],
   "source": [
    "# This number will list all primes less than a given number\n",
    "# as well as the factors of composite numbers\n",
    "while True: # Ask for an integer greater than 1\n",
    "    num = int(input(\"Input an integer greater than 1: \"))\n",
    "    if num > 1:\n",
    "        break\n",
    "    else: print(\"Number should be greater than 1!\")\n",
    "    \n",
    "for n in range(2, num):\n",
    "    for x in range(2, n):\n",
    "        if n % x == 0:\n",
    "            print(n, 'equals', x, '*', n//x)\n",
    "            break\n",
    "    else: # loop fell through without finding a factor\n",
    "        print(n, 'is a prime number')"
   ]
  },
  {
   "cell_type": "markdown",
   "metadata": {},
   "source": [
    "## References\n",
    "- Kidd, C. (2015). *Python Programming for Beginners: A Step-by-Step Guide to Learning the Basics of Computer Programming and Python Computer Language*\n",
    "- Python Software Foundation (2022). *Built-in Functions*. Retrieved from https://docs.python.org/3/library/functions.html\n",
    "- Python Software Foundation (2022). *More Control Flow Tools*. Retrieved from https://docs.python.org/3/tutorial/controlflow.html\n",
    "- Sweigart, A. (2019). *Automate The Boring Stuff With Python, 2nd Edition*. No Starch Press, US."
   ]
  }
 ],
 "metadata": {
  "kernelspec": {
   "display_name": "Python 3 (ipykernel)",
   "language": "python",
   "name": "python3"
  },
  "language_info": {
   "codemirror_mode": {
    "name": "ipython",
    "version": 3
   },
   "file_extension": ".py",
   "mimetype": "text/x-python",
   "name": "python",
   "nbconvert_exporter": "python",
   "pygments_lexer": "ipython3",
   "version": "3.9.7"
  }
 },
 "nbformat": 4,
 "nbformat_minor": 2
}
