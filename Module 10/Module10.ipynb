{
 "cells": [
  {
   "cell_type": "markdown",
   "metadata": {},
   "source": [
    "# LBYCPA1 Module 10\n",
    "## Argument Passing and Lambda"
   ]
  },
  {
   "cell_type": "markdown",
   "metadata": {},
   "source": [
    "### Objectives:\n",
    "1. To understand how a function can handle an arbitrary number of arguments\n",
    "1. To familiarize with the use of unpacking operators\n",
    "1. To know the use of lambda functions and its advantages\n",
    "1. To utilize the concepts of function argument passing and lambda functions in solving computational problems\n",
    "1. (Add an objective...)\n",
    "\n",
    "### Materials and Tools:\n",
    "1. Instructor's lecture notes\n",
    "1. Jupyter Notebook\n",
    "1. Flowchart Software (Diagrams.net, Lucidchart, SmartDraw, etc.)\n",
    "1. (Add a material or tool...)"
   ]
  },
  {
   "cell_type": "markdown",
   "metadata": {},
   "source": [
    "### Argument Passing\n",
    "We learned that a function can be made to accept an input or not as well as return a value or not at all. So far, the functions that we have written accepts only a specific number of inputs (or arguments); that is, the number of arguments that you specify on the definition of the function itself is what the function expects once called. For example, if we define a function named `average3` that accepts three input `a`, `b` and `c`:\n",
    "\n",
    "    def average3(a, b, c):\n",
    "        return (a + b + c)/3\n",
    "\n",
    "This function, if invoked, will expect three inputs (e.g. `average3(3, 2, 1)`); otherwise, it will raise an exception:"
   ]
  },
  {
   "cell_type": "code",
   "execution_count": 4,
   "metadata": {},
   "outputs": [
    {
     "name": "stdout",
     "output_type": "stream",
     "text": [
      "2.0\n"
     ]
    },
    {
     "ename": "TypeError",
     "evalue": "average3() takes 3 positional arguments but 4 were given",
     "output_type": "error",
     "traceback": [
      "\u001b[1;31m---------------------------------------------------------------------------\u001b[0m",
      "\u001b[1;31mTypeError\u001b[0m                                 Traceback (most recent call last)",
      "\u001b[1;32mC:\\Users\\JCDELA~1\\AppData\\Local\\Temp/ipykernel_5364/3260553726.py\u001b[0m in \u001b[0;36m<module>\u001b[1;34m\u001b[0m\n\u001b[0;32m      6\u001b[0m \u001b[1;33m\u001b[0m\u001b[0m\n\u001b[0;32m      7\u001b[0m \u001b[1;31m# Let us try to invoke this function with four (4) arguments to see what happens\u001b[0m\u001b[1;33m\u001b[0m\u001b[1;33m\u001b[0m\u001b[0m\n\u001b[1;32m----> 8\u001b[1;33m \u001b[0maverage3\u001b[0m\u001b[1;33m(\u001b[0m\u001b[1;36m1\u001b[0m\u001b[1;33m,\u001b[0m \u001b[1;36m2\u001b[0m\u001b[1;33m,\u001b[0m \u001b[1;36m3\u001b[0m\u001b[1;33m,\u001b[0m \u001b[1;36m4\u001b[0m\u001b[1;33m)\u001b[0m\u001b[1;33m\u001b[0m\u001b[1;33m\u001b[0m\u001b[0m\n\u001b[0m",
      "\u001b[1;31mTypeError\u001b[0m: average3() takes 3 positional arguments but 4 were given"
     ]
    }
   ],
   "source": [
    "def average3(a, b, c):\n",
    "    return (a + b + c)/3\n",
    "\n",
    "# Let us call this function with exactly three arguments (1, 2, 3)\n",
    "print(average3(1, 2, 3)) # Pass to print() to see the output\n",
    "\n",
    "# Let us try to invoke this function with four (4) arguments to see what happens\n",
    "average3(1, 2, 3, 4)"
   ]
  },
  {
   "cell_type": "markdown",
   "metadata": {},
   "source": [
    "What if we require a function to accept an arbitrary number of arguments? Fortunately, Python provides us a way to do it. We use the `*` operator to allow this on our function definition. We can now create a function that will calculate the average of an arbitrary set of numbers:"
   ]
  },
  {
   "cell_type": "code",
   "execution_count": 5,
   "metadata": {},
   "outputs": [
    {
     "name": "stdout",
     "output_type": "stream",
     "text": [
      "77.75\n",
      "No numbers were given!\n"
     ]
    }
   ],
   "source": [
    "def average(*nums):\n",
    "    if len(nums) > 0:\n",
    "        average = 0\n",
    "        for num in nums:\n",
    "            average += num\n",
    "        average /= len(nums)\n",
    "        return average\n",
    "    else:\n",
    "        return \"No numbers were given!\"\n",
    "\n",
    "# Calculate the average of 4 numbers\n",
    "print(average(88, 78, 67, 78))\n",
    "\n",
    "# No arguments given\n",
    "print(average())"
   ]
  },
  {
   "cell_type": "markdown",
   "metadata": {},
   "source": [
    "or create a function that will calculate the sum of squares of an arbitrary set of numbers:"
   ]
  },
  {
   "cell_type": "code",
   "execution_count": 6,
   "metadata": {},
   "outputs": [
    {
     "name": "stdout",
     "output_type": "stream",
     "text": [
      "14\n",
      "55\n",
      "5\n"
     ]
    }
   ],
   "source": [
    "def mySumOfSquares(*args):\n",
    "    sum_of_squares = 0 # Initialize to 0\n",
    "    for num in args: # Iterate through the list of arguments\n",
    "        sum_of_squares += num**2 # and accumulate the squares of the inputs\n",
    "    return sum_of_squares\n",
    "\n",
    "# Calculate the sum of squares of given set of numbers (3 inputs)\n",
    "print(mySumOfSquares(1, 2, 3))\n",
    "\n",
    "# Calculate the sum of squares of given set of numbers (5 inputs)\n",
    "print(mySumOfSquares(1, 2, 3, 4, 5))\n",
    "\n",
    "# Calculate the sum of squares of given set of numbers (2 inputs)\n",
    "print(mySumOfSquares(1, 2))"
   ]
  },
  {
   "cell_type": "markdown",
   "metadata": {},
   "source": [
    "The `args` variable acts as a tuple whose elements are the rest of the arguments passed to the function. If we have a function that we know must accept at least one argument and the rest may be arbitrary, we could define a function such that:"
   ]
  },
  {
   "cell_type": "code",
   "execution_count": 7,
   "metadata": {},
   "outputs": [
    {
     "name": "stdout",
     "output_type": "stream",
     "text": [
      "How are you Jacques?\n",
      "\n",
      "How are you Jacques Baker Hamilton?\n",
      "\n"
     ]
    },
    {
     "ename": "TypeError",
     "evalue": "greet() missing 1 required positional argument: 'name'",
     "output_type": "error",
     "traceback": [
      "\u001b[1;31m---------------------------------------------------------------------------\u001b[0m",
      "\u001b[1;31mTypeError\u001b[0m                                 Traceback (most recent call last)",
      "\u001b[1;32mC:\\Users\\JCDELA~1\\AppData\\Local\\Temp/ipykernel_5364/1886968180.py\u001b[0m in \u001b[0;36m<module>\u001b[1;34m\u001b[0m\n\u001b[0;32m     12\u001b[0m \u001b[1;33m\u001b[0m\u001b[0m\n\u001b[0;32m     13\u001b[0m \u001b[1;31m# Let us call the function with no arguments (this will raise an exception because it expects at least one argument)\u001b[0m\u001b[1;33m\u001b[0m\u001b[1;33m\u001b[0m\u001b[0m\n\u001b[1;32m---> 14\u001b[1;33m \u001b[0mgreet\u001b[0m\u001b[1;33m(\u001b[0m\u001b[1;33m)\u001b[0m\u001b[1;33m\u001b[0m\u001b[1;33m\u001b[0m\u001b[0m\n\u001b[0m",
      "\u001b[1;31mTypeError\u001b[0m: greet() missing 1 required positional argument: 'name'"
     ]
    }
   ],
   "source": [
    "def greet(name, *args):\n",
    "    print(\"How are you\", name, end='')\n",
    "    for arg in args:\n",
    "        print(f\" {arg}\", end='')\n",
    "    print(\"?\\n\")\n",
    "\n",
    "# Let us call the function with one arguments\n",
    "greet(\"Jacques\")\n",
    "\n",
    "# Let us call the function with three arguments\n",
    "greet(\"Jacques\", \"Baker\", \"Hamilton\")\n",
    "\n",
    "# Let us call the function with no arguments (this will raise an exception because it expects at least one argument)\n",
    "greet()"
   ]
  },
  {
   "cell_type": "markdown",
   "metadata": {},
   "source": [
    "We could also pass arguments by keywords. By default, Python will pass the inputs as positional arguments. On the other hand, keywords allows you to specify which inputs goes to which argument even though they are not in ordered position. Assigning a value to a keyword argument at function definition means assigning a default value to it."
   ]
  },
  {
   "cell_type": "code",
   "execution_count": 8,
   "metadata": {},
   "outputs": [
    {
     "name": "stdout",
     "output_type": "stream",
     "text": [
      "Your name is Carol graduate of a/an HRM course. Your current job is Guess Attendant.\n",
      "Your previous job was Restaurant Supervisor.\n",
      "\n",
      "\n",
      "Your name is Bob graduate of a/an IE course. Your current job is Quality Assurance Supervisor.\n",
      "\n",
      "\n",
      "Your name is Ann graduate of a/an Business Management course. Your current job is Marketing Manager.\n",
      "Your previous job was Sales Associate.\n",
      "\n",
      "\n"
     ]
    }
   ],
   "source": [
    "def profile(name, course, job, previousJob=None): # The previousJob argument default value is None if not specified\n",
    "    print(f\"Your name is {name} graduate of a/an {course} course. Your current job is {job}.\")\n",
    "    if previousJob:\n",
    "        print(f\"Your previous job was {previousJob}.\")\n",
    "    print(end='\\n\\n') # Notice the use of keyword argument (end) for the print() function\n",
    "\n",
    "# Let us call the function with positional argument inputs\n",
    "profile(\"Carol\", \"HRM\", \"Guess Attendant\", \"Restaurant Supervisor\")\n",
    "\n",
    "# We can also omit the last argument (which means you do not have a previous job); the default value is None\n",
    "profile(\"Bob\", \"IE\", \"Quality Assurance Supervisor\")\n",
    "\n",
    "# You may also supply the inputs to the function using keywords \n",
    "# (order does not matter as long as all required arguments has assignment)\n",
    "profile(course=\"Business Management\", job=\"Marketing Manager\", name=\"Ann\", previousJob=\"Sales Associate\", )"
   ]
  },
  {
   "cell_type": "markdown",
   "metadata": {},
   "source": [
    "As you may have notice on the function defined above, the `print()` function itself uses a keyword argument `end`. The `end` keyword argument tells the `print()` function the character to append at the end of each printed line. By default, the `print()` function appends a newline after each printed line. "
   ]
  },
  {
   "cell_type": "code",
   "execution_count": 9,
   "metadata": {},
   "outputs": [
    {
     "name": "stdout",
     "output_type": "stream",
     "text": [
      "Hi :)\n",
      "Hello!!!>>> Howdy?"
     ]
    }
   ],
   "source": [
    "print(\"Hi :)\") # Will print a newline (\\n) after \"Hi :)\" by default\n",
    "print(\"Hello\", end='!!!>>> ')\n",
    "print(\"Howdy\", end='?')"
   ]
  },
  {
   "cell_type": "markdown",
   "metadata": {},
   "source": [
    "Here is another simple example to demonstrate use of keyword arguments:"
   ]
  },
  {
   "cell_type": "code",
   "execution_count": 10,
   "metadata": {},
   "outputs": [
    {
     "name": "stdout",
     "output_type": "stream",
     "text": [
      "(1, 2, 0, 0)\n",
      "(1, 3, 0, 1)\n",
      "(1, 0, 0, 0)\n",
      "(3, 2, 1, 0)\n",
      "(1, 2, 3, 4)\n"
     ]
    }
   ],
   "source": [
    "def myFunc(spam, eggs, toast=0, ham=0): # First 2 required\n",
    "    print((spam, eggs, toast, ham))\n",
    "\n",
    "myFunc(1, 2) # Output: (1, 2, 0, 0)\n",
    "myFunc(1, ham=1, eggs=3) # Output: (1, 3, 0, 1)\n",
    "myFunc(spam=1, eggs=0) # Output: (1, 0, 0, 0)\n",
    "myFunc(toast=1, eggs=2, spam=3) # Output: (3, 2, 1, 0)\n",
    "myFunc(1, 2, 3, 4) # Output: (1, 2, 3, 4)"
   ]
  },
  {
   "cell_type": "markdown",
   "metadata": {},
   "source": [
    "Just like we could specify an arbitrary number of positional arguments, Python also allows us to supply an arbitrary number of keyword arguments. Just as we use the `*` operator for an arbitrary number of positional arguments, we use the `**` operator to allow an arbitrary number of keyword arguments on our function definition. Both can appear in either the function definition or a function call, and they have related purposes in the two locations.\n",
    "\n",
    "The use of `*` operator allows the function to collect additional positional arguments into a tuple. Similarly, the `**` operator allows the function to collect keyword arguments into a dictionary."
   ]
  },
  {
   "cell_type": "code",
   "execution_count": 11,
   "metadata": {},
   "outputs": [
    {
     "name": "stdout",
     "output_type": "stream",
     "text": [
      "{}\n",
      "{'x': 1, 'y': 2, 'z': 3}\n"
     ]
    }
   ],
   "source": [
    "def funcWithKeywords(**kwargs):\n",
    "    print(kwargs)\n",
    "\n",
    "# Call the function with no keyword arguments (returns an empty dictionary)\n",
    "funcWithKeywords()\n",
    "\n",
    "# Call the function with three keyword arguments\n",
    "funcWithKeywords(x = 1, y = 2, z = 3)"
   ]
  },
  {
   "cell_type": "markdown",
   "metadata": {},
   "source": [
    "Finally, function headers can combine normal arguments, the `*`, and the `**` to implement wildly flexible call signatures. This means that the function will be able to handle an arbitrary number of positional arguments as well as keyword arguments."
   ]
  },
  {
   "cell_type": "code",
   "execution_count": 12,
   "metadata": {},
   "outputs": [
    {
     "name": "stdout",
     "output_type": "stream",
     "text": [
      "1 (2, 3) {'x': 1, 'y': 2}\n"
     ]
    }
   ],
   "source": [
    "def multiSignatureFunction(a, *args, **kwargs):\n",
    "    print(a, args, kwargs)\n",
    "\n",
    "# Notice that the first argument is printed as is\n",
    "# The second and third argument encloses in a tuple\n",
    "# The fourth and fifth keyword arguments inside a dictionary\n",
    "multiSignatureFunction(1, 2, 3, x=1, y=2)"
   ]
  },
  {
   "cell_type": "markdown",
   "metadata": {},
   "source": [
    "The operators `*` and `**` behaves differently when used in a function call. You use the `*` operator to unpack a tuple or a list into positional arguments. The `**` operator unpacks the values of a dictionary (not the keys). The expected arguments of the function and the number of elements must match, otherwise it will raise an exception."
   ]
  },
  {
   "cell_type": "code",
   "execution_count": 13,
   "metadata": {
    "scrolled": true
   },
   "outputs": [
    {
     "name": "stdout",
     "output_type": "stream",
     "text": [
      "1 2 6 24\n",
      "1 2 6 24\n",
      "1 2 6 24\n"
     ]
    }
   ],
   "source": [
    "def unpacker(a, b, c, d): \n",
    "    print(a, b, c, d)\n",
    "\n",
    "myInputTuple = (1, 2, 6, 24)\n",
    "myInputList = [1, 2, 6, 24]\n",
    "myInputDict = {'a':1, 'b':2, 'c':6, 'd':24}\n",
    "\n",
    "# Unpack a tuple and pass into the function\n",
    "unpacker(*myInputTuple)\n",
    "\n",
    "# Unpack a list and pass into the function\n",
    "unpacker(*myInputList)\n",
    "\n",
    "# Unpack a dictionary and pass into the function\n",
    "unpacker(**myInputDict) # a=1, b=2, c=6, d=24"
   ]
  },
  {
   "cell_type": "markdown",
   "metadata": {},
   "source": [
    "Don't confuse the `*/**` syntax in the function header and the function call. In the function definition, it collects any number of arguments, while in the function call it unpacks any number of arguments."
   ]
  },
  {
   "cell_type": "markdown",
   "metadata": {},
   "source": [
    "### Lambda (Anonymous) Functions\n",
    "Besides the `def` statement, Python also provides an expression form that generates function objects. Because of its similarity to a tool in the Lisp language, it’s called `lambda`. Like `def`, this expression creates a function to be called later, but it returns the function instead of assigning it to a name. This is why lambdas are sometimes known as anonymous (i.e., unnamed) functions. In practice, they are often used as a way to inline a function definition, or to defer execution of a piece of code.\n",
    "\n",
    "The lambda’s general form is the keyword `lambda`, followed by one or more arguments (exactly like the arguments list you enclose in parentheses in a `def` header), followed by an expression after a colon:\n",
    "\n",
    "    lambda argument1, argument2,... argumentN : expression using arguments\n",
    "\n",
    "Let us create a `lambda` function that adds 1 to an argument, as follows:"
   ]
  },
  {
   "cell_type": "code",
   "execution_count": 14,
   "metadata": {},
   "outputs": [
    {
     "data": {
      "text/plain": [
       "<function __main__.<lambda>(x)>"
      ]
     },
     "execution_count": 14,
     "metadata": {},
     "output_type": "execute_result"
    }
   ],
   "source": [
    "lambda x : x + 1"
   ]
  },
  {
   "cell_type": "markdown",
   "metadata": {},
   "source": [
    "You can apply the function above to an argument by surrounding the function and its argument with parentheses:"
   ]
  },
  {
   "cell_type": "code",
   "execution_count": 15,
   "metadata": {},
   "outputs": [
    {
     "data": {
      "text/plain": [
       "3"
      ]
     },
     "execution_count": 15,
     "metadata": {},
     "output_type": "execute_result"
    }
   ],
   "source": [
    "(lambda x: x + 1)(2)"
   ]
  },
  {
   "cell_type": "markdown",
   "metadata": {},
   "source": [
    "Because a `lambda` function is an expression, it can be named. Therefore you could write the previous code as follows:"
   ]
  },
  {
   "cell_type": "code",
   "execution_count": 16,
   "metadata": {},
   "outputs": [
    {
     "data": {
      "text/plain": [
       "3"
      ]
     },
     "execution_count": 16,
     "metadata": {},
     "output_type": "execute_result"
    }
   ],
   "source": [
    "add_one = lambda x: x + 1\n",
    "\n",
    "add_one(2)"
   ]
  },
  {
   "cell_type": "markdown",
   "metadata": {},
   "source": [
    "The above lambda function is equivalent to writing this:"
   ]
  },
  {
   "cell_type": "code",
   "execution_count": 17,
   "metadata": {},
   "outputs": [
    {
     "data": {
      "text/plain": [
       "3"
      ]
     },
     "execution_count": 17,
     "metadata": {},
     "output_type": "execute_result"
    }
   ],
   "source": [
    "def add_one(x):\n",
    "    return x + 1\n",
    "\n",
    "add_one(2)"
   ]
  },
  {
   "cell_type": "markdown",
   "metadata": {},
   "source": [
    "Function objects returned by running `lambda` expressions work exactly the same as those created and assigned by `def`s, but there are a few differences that make `lambda`s useful in specialized roles:\n",
    "\n",
    "* `lambda` is an expression, not a statement. Because of this, a `lambda` can appear in places a `def` is not allowed by Python’s syntax — inside a list literal or a function call’s arguments, for example. As an expression, lambda returns a value (a new function) that can optionally be assigned a name. In contrast, the `def` statement always assigns the new function to the name in the header, instead of returning it as a result.\n",
    "* `lambda`'s body is a single expression, not a block of statements. The `lambda`'s body is similar to what you'd put in a `def` body's return statement; you simply type the result as a naked expression, instead of explicitly returning it. Because it is limited to an expression, a `lambda` is less general than a `def` — you can only squeeze so much logic into a `lambda` body without using statements such as `if`. This is by design, to limit program nesting: `lambda` is designed for coding simple functions, and `def` handles larger tasks.\n",
    "\n",
    "Apart from those distinctions, `def`s and `lambda`s do the same sort of work. For instance, we’ve seen how to make a function with a `def` statement:"
   ]
  },
  {
   "cell_type": "code",
   "execution_count": 18,
   "metadata": {},
   "outputs": [
    {
     "data": {
      "text/plain": [
       "9"
      ]
     },
     "execution_count": 18,
     "metadata": {},
     "output_type": "execute_result"
    }
   ],
   "source": [
    "def func(x, y, z):\n",
    "    return x + y + z\n",
    "\n",
    "func(2, 3, 4)"
   ]
  },
  {
   "cell_type": "markdown",
   "metadata": {},
   "source": [
    "But you can achieve the same effect with a `lambda` expression by explicitly assigning its result to a name through which you can later call the function:"
   ]
  },
  {
   "cell_type": "code",
   "execution_count": 19,
   "metadata": {},
   "outputs": [
    {
     "data": {
      "text/plain": [
       "9"
      ]
     },
     "execution_count": 19,
     "metadata": {},
     "output_type": "execute_result"
    }
   ],
   "source": [
    "f = lambda x, y, z: x + y + z\n",
    "\n",
    "f(2, 3, 4)"
   ]
  },
  {
   "cell_type": "markdown",
   "metadata": {},
   "source": [
    "#### Why use lambda?\n",
    "Generally speaking, `lambda`s come in handy as a sort of function shorthand that allows you to embed a function’s definition within the code that uses it. They are entirely optional (you can always use `def`s instead), but they tend to be simpler coding constructs in scenarios where you just need to embed small bits of executable code.\n",
    "\n",
    "For instance, callback handlers are frequently coded as inline lambda expressions embedded directly in a registration call's arguments list, instead of being defined with a `def` elsewhere in a file and referenced by name.\n",
    "\n",
    "`lambda`s are also commonly used to code jump tables, which are lists or dictionaries of actions to be performed on demand. For example:"
   ]
  },
  {
   "cell_type": "code",
   "execution_count": 20,
   "metadata": {},
   "outputs": [
    {
     "name": "stdout",
     "output_type": "stream",
     "text": [
      "4\n",
      "8\n",
      "16\n",
      "9\n"
     ]
    }
   ],
   "source": [
    "L = [lambda x: x ** 2, # Inline function definition\n",
    "     lambda x: x ** 3,\n",
    "     lambda x: x ** 4] # A list of 3 callable functions\n",
    "\n",
    "for f in L:\n",
    "    print(f(2)) # Prints 4, 8, 16\n",
    "\n",
    "print(L[0](3)) # Prints 9"
   ]
  },
  {
   "cell_type": "markdown",
   "metadata": {},
   "source": [
    "The `lambda` expression is most useful as a shorthand for `def`, when you need to stuff small pieces of executable code into places where statements are illegal syntactically. `lambdas` also come in handy in function-call argument lists as a way to inline temporary function definitions not used anywhere else in your program."
   ]
  },
  {
   "cell_type": "code",
   "execution_count": 21,
   "metadata": {},
   "outputs": [
    {
     "data": {
      "text/plain": [
       "8"
      ]
     },
     "execution_count": 21,
     "metadata": {},
     "output_type": "execute_result"
    }
   ],
   "source": [
    "key = 'got'\n",
    "{'already': (lambda: 2 + 2),\n",
    " 'got': (lambda: 2 * 4),\n",
    " 'one': (lambda: 2 ** 6)}[key]()"
   ]
  },
  {
   "cell_type": "markdown",
   "metadata": {},
   "source": [
    "#### Mapping Functions over Sequences: `map`\n",
    "One of the more common things programs do with lists and other sequences is apply an operation to each item and collect the results. Python actually provides a built-in that does most of the work for you. The `map` function applies a passed-in function to each item in an iterable object and returns a list containing all the function call results. For example:"
   ]
  },
  {
   "cell_type": "code",
   "execution_count": 22,
   "metadata": {},
   "outputs": [
    {
     "name": "stdout",
     "output_type": "stream",
     "text": [
      "[1, 4, 9, 16, 25]\n"
     ]
    }
   ],
   "source": [
    "counters = [1, 2, 3, 4, 5]\n",
    "updated = list(map(lambda x: x**2, counters))\n",
    "print(updated)"
   ]
  },
  {
   "cell_type": "markdown",
   "metadata": {},
   "source": [
    "With multiple sequences, `map` expects an N-argument function for N sequences. In the example below, the `pow` function takes two arguments on each call - one from each sequence passed to `map`."
   ]
  },
  {
   "cell_type": "code",
   "execution_count": 23,
   "metadata": {},
   "outputs": [
    {
     "data": {
      "text/plain": [
       "[1, 8, 81]"
      ]
     },
     "execution_count": 23,
     "metadata": {},
     "output_type": "execute_result"
    }
   ],
   "source": [
    "list(map(pow, [1, 2, 3], [2, 3, 4]))"
   ]
  },
  {
   "cell_type": "markdown",
   "metadata": {},
   "source": [
    "#### Functional Programming Tools: `filter` and `reduce`\n",
    "The `map` function is the simplest representative of a class of Python built-ins used for *functional programming* - tools that apply functions to sequences and other iterables. Its relatives filter out items based on a test function (`filter`) and apply functions to pairs of items and running results (`reduce`). Because they return iterables, `range` and `filter` both require `list` calls to display all their results. For example, the following `filter` call picks out items in a sequence that are greater than zero:"
   ]
  },
  {
   "cell_type": "code",
   "execution_count": 24,
   "metadata": {},
   "outputs": [
    {
     "data": {
      "text/plain": [
       "[1, 2, 3, 4]"
      ]
     },
     "execution_count": 24,
     "metadata": {},
     "output_type": "execute_result"
    }
   ],
   "source": [
    "list(filter(lambda x: x > 0, range(-5, 5))) # Filter out numbers that are not greater than 0"
   ]
  },
  {
   "cell_type": "markdown",
   "metadata": {},
   "source": [
    "The `reduce` function is a simple built-in function that accepts an iterator to process and returns a single result. Here are two `reduce` calls that compute the sum and product of the items in a list. At each step, `reduce` passes the current sum or product, along with the next item from the list, to the passed-in `lambda` function. By default, the first item in the sequence initializes the starting value."
   ]
  },
  {
   "cell_type": "code",
   "execution_count": 25,
   "metadata": {},
   "outputs": [
    {
     "name": "stdout",
     "output_type": "stream",
     "text": [
      "10\n",
      "24\n"
     ]
    }
   ],
   "source": [
    "from functools import reduce\n",
    "\n",
    "print(reduce(lambda x, y: x + y, [1, 2, 3, 4])) # Add the numbers together\n",
    "print(reduce(lambda x, y: x * y, [1, 2, 3, 4])) # Multiple the numbers together"
   ]
  },
  {
   "cell_type": "markdown",
   "metadata": {},
   "source": [
    "Together with `map`, `filter` and `reduce` support powerful functional programming techniques."
   ]
  },
  {
   "cell_type": "markdown",
   "metadata": {},
   "source": [
    "## References\n",
    "- Barry, P. (2017). *Head first Python*. Beijing: OReilly.\n",
    "- Burgaud, A. (2019, December 13). *How to Use Python Lambda Functions*. Retrieved from https://realpython.com/python-lambda/\n",
    "- Lutz, M. (2009). *Learning Python: Powerful Object-Oriented Programming*. Beijing: OReilly.\n",
    "- Python Software Foundation (2022). *4. More Control Flow Tools - Python 3.10.4 documentation*. Retrieved from https://docs.python.org/3/tutorial/controlflow.html#more-on-defining-functions\n",
    "- Python Software Foundation (2022). *6. Expressions &#8212; Python 3.10.4 documentation*. Retrieved from https://docs.python.org/3/reference/expressions.html#lambda"
   ]
  }
 ],
 "metadata": {
  "kernelspec": {
   "display_name": "Python 3 (ipykernel)",
   "language": "python",
   "name": "python3"
  },
  "language_info": {
   "codemirror_mode": {
    "name": "ipython",
    "version": 3
   },
   "file_extension": ".py",
   "mimetype": "text/x-python",
   "name": "python",
   "nbconvert_exporter": "python",
   "pygments_lexer": "ipython3",
   "version": "3.9.7"
  }
 },
 "nbformat": 4,
 "nbformat_minor": 2
}
