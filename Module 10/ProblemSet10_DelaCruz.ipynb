{
 "cells": [
  {
   "cell_type": "markdown",
   "id": "874e6d6c",
   "metadata": {},
   "source": [
    "# Programming Logic and Design Laboratory (LBYCPA1)"
   ]
  },
  {
   "cell_type": "markdown",
   "id": "268bcf3f",
   "metadata": {},
   "source": [
    "Before you turn this problem in, make sure everything runs as expected. First, **restart the kernel** (in the menubar, select Kernel$\\rightarrow$Restart) and then **run all cells** (in the menubar, select Cell$\\rightarrow$Run All).\n",
    "\n",
    "Make sure you fill in any place that says `YOUR CODE HERE` or `YOUR ANSWER HERE`, as well as your name and other information below inside the double quotes. Remove the line `raise NotImplementedError()` once you have answered the problem.\n",
    "\n",
    "REMINDERS: Section 4.15 of the Student Handbook (SH) 2018-2021 provides that:\n",
    "\n",
    "As a Catholic University that prepares its students to become professionals and be the resource for Church and nation, De La Salle University puts a premium on academic honesty. A student's academic requirements, such as assignments, term papers, computer programs/projects, and thesis papers, should be his/her own work. He/She must distinguish between his/her own ideas and those of other authors.\n",
    "\n",
    "The student must cite references, direct quotes, and other sources (including data obtained from tables, illustrations, figures, pictures, images, and video) following the prescribed format of the discipline. Should a student intend to submit a similar previous work for credit, in different courses, a written permission must first be obtained from the faculty members concerned. In addition, for works where he/she is only one of the authors, the following must be observed.\n",
    "\n",
    "4.15.1 Provide a disclaimer stating that the work is not entirely his/hers;\n",
    "\n",
    "4.15.2 The work cannot be published without written consent of the group of authors.\n",
    "\n",
    "4.15.3 If the work is separable (i.e. parts are clearly attributed to the individual authors), the student may use and must cite his/her own part only; otherwise, the student must seek the written consent of the group of authors.\n",
    "\n",
    "4.15.4 Computer codes obtained from open source reference may be copied freely, but the source should be cited, provided further that the faculty member allows the use of open source reference in the course."
   ]
  },
  {
   "cell_type": "markdown",
   "id": "b11ed874",
   "metadata": {},
   "source": [
    "## Rubric for the Final Laboratory Report\n",
    "\n",
    "|Criteria|EXEMPLARY (90-100)|SATISFACTORY (80-89)|DEVELOPING (70-79)|BEGINNING (Below 70)|WEIGHT|\n",
    "|:-|:-|:-|:-|:-|:-:|\n",
    "|**Experimental Plan (Flowchart/ Algorithm)**|Experimental plan has supporting details and diagram/algorithm that is stated and well explained|Experimental plan has supporting details and diagram/algorithm that is stated but not explained|Experimental plan is vague or brief. It has supporting details and doesn’t have diagram/algorithm|No experimental plan presented|30%|\n",
    "|**Conducting Experiment/ Activity**|Objective and Materials used (modern engineering tools, software, and instruments/equipment) are identified. Steps are easy to follow for conducting and experiment/activity|Objective is not stated. Materials used (modern engineering tools, software, and instruments/equipment) are identified. Steps are easy to follow for conducting and experiment/activity|Does not provide enough information to conduct an experiment/activity|No Objective, Materials used (modern engineering tools, software, and instruments/equipment), and steps for conducting experiment/activity provided|20%|\n",
    "|**Codes/Data/ Program**|Data is well utilized in the program. Program codes are easy to read. Program output has no error. Questions are answered completely and correctly|Data is somewhat utilized in the program. Program code are easy to read. Program output has an output but logically incorrect. Some questions are answered completely and correctly|Data is not utilized in the program. It has a missing significant code/syntax in the program|No program presented|30%|\n",
    "|**Grammar, logical presentation, and format**|The report was grammatically correct, logically presented and used the required format|The report had minimal grammatical errors and somewhat presented logically. The required format was used|The report had a lot of grammatical errors and not logically presented; the required format was barely used|The report had a lot of grammatical errors, was not logically presented and the required format was not used|20%|"
   ]
  },
  {
   "cell_type": "code",
   "execution_count": 71,
   "id": "62512400",
   "metadata": {},
   "outputs": [],
   "source": [
    "# Fill-up the following information (put inside double quotes)\n",
    "\n",
    "NAME = \"DELA CRUZ, JOHN CARLO THEO S.\"                   # e.g. LIGUTAN, DINO DOMINIC F.\n",
    "STUDENT_NUMBER = \"12195758\"         # e.g. 20192118\n",
    "SECTION = \"EQ1\"                # e.g. EQ1\n",
    "DATE_TIME_COMPLETED = \"06/22/22, 8:23pm\"    # e.g. 03/21/2022,11:00"
   ]
  },
  {
   "cell_type": "markdown",
   "id": "c1e941e3",
   "metadata": {},
   "source": [
    "<hr style=\"border:1px solid black\"> </hr>"
   ]
  },
  {
   "cell_type": "markdown",
   "id": "e18d94cf",
   "metadata": {
    "deletable": false,
    "editable": false,
    "nbgrader": {
     "cell_type": "markdown",
     "checksum": "a3f1e881704ed96fa219954f36a71d79",
     "grade": false,
     "grade_id": "cell-d67e30b5d7100133",
     "locked": true,
     "schema_version": 3,
     "solution": false,
     "task": false
    }
   },
   "source": [
    "# Problem Set 10\n",
    "<hr style=\"border:1px solid gray\"> </hr>"
   ]
  },
  {
   "cell_type": "markdown",
   "id": "856a9bde",
   "metadata": {
    "deletable": false,
    "editable": false,
    "nbgrader": {
     "cell_type": "markdown",
     "checksum": "058596a19747a6c46918f94574981eaa",
     "grade": false,
     "grade_id": "cell-656c35d40044ad5b",
     "locked": true,
     "schema_version": 3,
     "solution": false,
     "task": false
    }
   },
   "source": [
    "1. Implement a function that will accept one or more numbers (a vector) and returns the norm of the vector (format as a string, with two decimal places). The norm of vector ($\\left|\\mathbf{v}\\right|$) is defined as\n",
    "<center>$$\\left|\\mathbf{v}\\right|=\\sqrt{\\sum\\limits_{i=1}^n x_i}=\\sqrt{x_1^2+x_2^2+...+x_n^2}$$</center>\n",
    "    Provide exception handling for any non-numerical input by returning the string \"An input is not a valid number\""
   ]
  },
  {
   "cell_type": "code",
   "execution_count": 72,
   "id": "c9704ce9",
   "metadata": {
    "deletable": false,
    "nbgrader": {
     "cell_type": "code",
     "checksum": "6b59f2d5e3f0735c8ca3140e0cbf5681",
     "grade": false,
     "grade_id": "cell-32216f35a45b784e",
     "locked": false,
     "schema_version": 3,
     "solution": true,
     "task": false
    }
   },
   "outputs": [],
   "source": [
    "from math import sqrt\n",
    "def norm(num1, *nums): \n",
    "    \n",
    "    numbers = 0\n",
    "    if type(num1) is str:\n",
    "        return \"An input is not a valid number\"\n",
    "    for i in nums:\n",
    "        if type(i) is str:\n",
    "            return \"An input is not a valid number\"    \n",
    "    if nums:\n",
    "        for i in nums:\n",
    "            square = i**2\n",
    "            numbers += square\n",
    "    vector = sqrt((num1**2) + numbers)\n",
    "    \n",
    "    return \"{:.2f}\".format(vector)"
   ]
  },
  {
   "cell_type": "code",
   "execution_count": 73,
   "id": "97ebd86c",
   "metadata": {
    "deletable": false,
    "editable": false,
    "nbgrader": {
     "cell_type": "code",
     "checksum": "95878f7fefc0268973dff041b4611ea4",
     "grade": true,
     "grade_id": "cell-a863d6410ce95310",
     "locked": true,
     "points": 1,
     "schema_version": 3,
     "solution": false,
     "task": false
    }
   },
   "outputs": [],
   "source": [
    "# DO NOT MODIFY, THIS IS UNIT TESTING! [1 pt]\n",
    "from nose.tools import assert_equal\n",
    "\n",
    "assert_equal(norm(0), '0.00')\n",
    "assert_equal(norm(4, 6, 7), '10.05')\n",
    "assert_equal(norm(0.5, 0.8, 0.4, 0.5, 0.7, 0.6), '1.47')\n",
    "assert_equal(norm(2, '6', 8, 7, 9), 'An input is not a valid number')\n",
    "num_list = (5.3, 8.1, 2.4, 5.6, 7.7)\n",
    "assert_equal(norm(*num_list), '13.79')"
   ]
  },
  {
   "cell_type": "code",
   "execution_count": 74,
   "id": "a473e288",
   "metadata": {
    "deletable": false,
    "editable": false,
    "nbgrader": {
     "cell_type": "code",
     "checksum": "64de182bd740016915b1580fbfc3776a",
     "grade": true,
     "grade_id": "cell-b25b3cbf30198389",
     "locked": true,
     "points": 1,
     "schema_version": 3,
     "solution": false,
     "task": false
    }
   },
   "outputs": [],
   "source": [
    "# HIDDEN TEST [1 pt]"
   ]
  },
  {
   "cell_type": "markdown",
   "id": "f6e5f9a7",
   "metadata": {
    "deletable": false,
    "editable": false,
    "nbgrader": {
     "cell_type": "markdown",
     "checksum": "06cf80e7c04c2756d38ff81a3eb50283",
     "grade": false,
     "grade_id": "cell-2e74313128197e3e",
     "locked": true,
     "schema_version": 3,
     "solution": false,
     "task": false
    }
   },
   "source": [
    "2. Develop a function named `cycle_permute` that will perform a cyclic permutation on an arbitrary number of arguments. Input arguments could either be a numeric or string type. It should have keyword argument named `steps` (an integer), the number of elements to shift the cyclic permutation. A positive integer would shift the elements to the right and a negative integer would shift the elements to the left. The default value `steps=0` will return the same sequence. The function must return a tuple of permuted arguments. See unit testing cell below for examples."
   ]
  },
  {
   "cell_type": "code",
   "execution_count": 75,
   "id": "2c64c1f3",
   "metadata": {
    "deletable": false,
    "nbgrader": {
     "cell_type": "code",
     "checksum": "c8a31134ce8601ad9f9c08dedb9ee6a8",
     "grade": false,
     "grade_id": "cell-2a67d9bb9ce95749",
     "locked": false,
     "schema_version": 3,
     "solution": true,
     "task": false
    }
   },
   "outputs": [],
   "source": [
    "def cycle_permute(*nums, steps=0):\n",
    "    temp = list(nums)\n",
    "    if steps < 0:\n",
    "        for i in range(0, steps, -1):\n",
    "            removeElement = temp.pop(0)\n",
    "            temp.append(removeElement)\n",
    "    else:\n",
    "        for i in range(steps):\n",
    "            removeElement = temp.pop(-1)\n",
    "            temp.insert(0,removeElement)\n",
    "\n",
    "    return tuple(temp)"
   ]
  },
  {
   "cell_type": "code",
   "execution_count": 76,
   "id": "a7dafd54",
   "metadata": {
    "deletable": false,
    "editable": false,
    "nbgrader": {
     "cell_type": "code",
     "checksum": "d632835b0dda1b3b44870ab239d7fc06",
     "grade": true,
     "grade_id": "cell-0ecdfae26dbb43fd",
     "locked": true,
     "points": 1,
     "schema_version": 3,
     "solution": false,
     "task": false
    }
   },
   "outputs": [],
   "source": [
    "# DO NOT MODIFY, THIS IS UNIT TESTING! [1 pt]\n",
    "from nose.tools import assert_equal\n",
    "\n",
    "assert_equal(cycle_permute(1, 2, 3.0, 4, '5', '6.0', 7, steps=-1), (2, 3.0, 4, '5', '6.0', 7, 1))\n",
    "assert_equal(cycle_permute('go', 'glow', 'grow'), ('go', 'glow', 'grow'))\n",
    "assert_equal(cycle_permute(0.4, 'i', '<3', 8, 'u', steps=8), ('<3', 8, 'u', 0.4, 'i'))\n",
    "arg_list = ['I', '<3', 'programming', 3000]\n",
    "assert_equal(cycle_permute(*arg_list, steps=5), (3000, 'I', '<3', 'programming'))\n",
    "arg_dict = {'we': 2, 'are': 3, 'beginners': 9, 1:0}\n",
    "assert_equal(cycle_permute(*arg_dict, steps=3), ('are', 'beginners', 1, 'we'))"
   ]
  },
  {
   "cell_type": "code",
   "execution_count": 77,
   "id": "010023b3",
   "metadata": {
    "deletable": false,
    "editable": false,
    "nbgrader": {
     "cell_type": "code",
     "checksum": "8283154f74983a5085d8f78e9816dd8c",
     "grade": true,
     "grade_id": "cell-3336c707423a9f21",
     "locked": true,
     "points": 1,
     "schema_version": 3,
     "solution": false,
     "task": false
    }
   },
   "outputs": [],
   "source": [
    "# HIDDEN TEST [1 pt]"
   ]
  },
  {
   "cell_type": "markdown",
   "id": "72d4bdba",
   "metadata": {
    "deletable": false,
    "editable": false,
    "nbgrader": {
     "cell_type": "markdown",
     "checksum": "2f41edf2adecf58e35fbfdea7f2661d3",
     "grade": false,
     "grade_id": "cell-d1705b8f9e9b7d28",
     "locked": true,
     "schema_version": 3,
     "solution": false,
     "task": false
    }
   },
   "source": [
    "3. Write a function named `updateInventory` that will accept a filename followed by an arbitrary number of keyword arguments. The file is in comma-separated values (csv) format that contains a list of inventory items and quantity. The function should update the contents of the specified csv file based from the supplied keyword arguments. The first argument (`filename`) is a string containing the path of the file and the rest of the keyword arguments specifies the inventory item name and the corresponding quantity as the value.\n",
    "\n",
    "    Each line in the csv file corresponds to an inventory item and its quantity. The first column contains the inventory item name and the second column contains the quantity. Supplying a keyword argument to the function that matches an existing inventory item replaces its quantity by the assigned value. If a supplied keyword argument is new, it will be added as a new inventory item in a new line to the csv file. If no keyword arguments were supplied, nothing will be updated to the file. Inventory item names must not contain spaces. See unit testing cell below for examples.\n",
    "    \n",
    "    The function must return a dictionary of updated inventory item names (`str`) and quantity (`int`). You can use the `map` function to generate the output dictionary. Provide exception handling if the file cannot be accessed by returning the string \"The specified file cannot be accessed\""
   ]
  },
  {
   "cell_type": "code",
   "execution_count": 78,
   "id": "de4902f3",
   "metadata": {
    "deletable": false,
    "nbgrader": {
     "cell_type": "code",
     "checksum": "602e8b59574ff9e4cdc81c85c4639429",
     "grade": false,
     "grade_id": "cell-ea42ec0c524af7ef",
     "locked": false,
     "schema_version": 3,
     "solution": true,
     "task": false
    },
    "scrolled": true
   },
   "outputs": [],
   "source": [
    "import csv\n",
    "def updateInventory(filename, **parts):\n",
    "    dk = {}  \n",
    "    with open(filename, \"r\") as inventory_file: \n",
    "        f = inventory_file.read()\n",
    "        f = f.strip()\n",
    "        f = f.replace('\\n',',')\n",
    "        f = f.split(',')\n",
    "    \n",
    "        for i in range(0, len(f), 2):\n",
    "            dk[f[i]] = int(f[i+1])\n",
    "        dk.update(parts)\n",
    "        \n",
    "    with open(filename, \"w\")  as inventory_file:\n",
    "        for i in dk:\n",
    "            inventory_file.write(\"{},{}\\n\".format(i, dk[i]))\n",
    "        \n",
    "    return dk        "
   ]
  },
  {
   "cell_type": "code",
   "execution_count": 79,
   "id": "d97047d6",
   "metadata": {},
   "outputs": [
    {
     "data": {
      "text/plain": [
       "{'CPU_AMD_Ryzen': 6,\n",
       " 'NVIDIA_RTX3060': 2,\n",
       " 'RAM_4GB': 10,\n",
       " 'HDD_2TB': 15,\n",
       " 'CPU_Intel_i9': 3,\n",
       " 'SSD_1TB': 7}"
      ]
     },
     "execution_count": 79,
     "metadata": {},
     "output_type": "execute_result"
    }
   ],
   "source": [
    "updateInventory(\"inventory.csv\", SSD_1TB=7, HDD_2TB=15)"
   ]
  },
  {
   "cell_type": "code",
   "execution_count": 80,
   "id": "2b3637bd",
   "metadata": {
    "deletable": false,
    "editable": false,
    "nbgrader": {
     "cell_type": "code",
     "checksum": "ce69b094f76d799ff5018b5c9a6aa3d8",
     "grade": true,
     "grade_id": "cell-d4a5f354ec603bc4",
     "locked": true,
     "points": 1,
     "schema_version": 3,
     "solution": false,
     "task": false
    }
   },
   "outputs": [],
   "source": [
    "# DO NOT MODIFY, THIS IS UNIT TESTING! [1 pt]\n",
    "from nose.tools import assert_equal\n",
    "\n",
    "with open(\"inventory.csv\", \"w\") as inventory_file: # create a test file\n",
    "    inventory_file.write(\"CPU_Intel_i9,5\\nHDD_2TB,15\")\n",
    "\n",
    "assert_equal(updateInventory(\"inventory.csv\", RAM_4GB=7), \n",
    "             {'CPU_Intel_i9': 5, 'HDD_2TB': 15, 'RAM_4GB': 7})\n",
    "assert_equal(updateInventory(\"inventory.csv\", SSD_1TB=7, HDD_2TB=15),\n",
    "             {'CPU_Intel_i9': 5, 'HDD_2TB': 15, 'RAM_4GB': 7, 'SSD_1TB': 7})\n",
    "assert_equal(updateInventory(\"inventory.csv\", RAM_2GB=12, CPU_Intel_i9=3, SSD_1TB=5),\n",
    "             {'CPU_Intel_i9': 3, 'HDD_2TB': 15, 'RAM_4GB': 7, 'SSD_1TB': 5, 'RAM_2GB': 12})"
   ]
  },
  {
   "cell_type": "code",
   "execution_count": 81,
   "id": "16ae4182",
   "metadata": {
    "deletable": false,
    "editable": false,
    "nbgrader": {
     "cell_type": "code",
     "checksum": "7f66ed494fe30cb4e50a2d74f68c45cc",
     "grade": true,
     "grade_id": "cell-a7cb5b583a8cc0e9",
     "locked": true,
     "points": 1,
     "schema_version": 3,
     "solution": false,
     "task": false
    }
   },
   "outputs": [],
   "source": [
    "# DO NOT MODIFY, THIS IS UNIT TESTING! [1 pt]\n",
    "from nose.tools import assert_equal\n",
    "\n",
    "with open(\"inventory.csv\", \"w\") as inventory_file: # create a test file\n",
    "    inventory_file.write(\"CPU_AMD_Ryzen,6\\nNVIDIA_RTX3060,3\\nRAM_4GB,10\")\n",
    "updateInventory(\"inventory.csv\", HDD_2TB=6, CPU_Intel_i9=3, NVIDIA_RTX3060=2)\n",
    "\n",
    "with open(\"inventory.csv\") as inventory_file: # read the test file\n",
    "    items = inventory_file.read().split(\"\\n\")\n",
    "assert_equal(int(next(item for item in items if 'CPU_AMD_Ryzen' in item).split(',')[1]), 6)\n",
    "assert_equal(int(next(item for item in items if 'NVIDIA_RTX3060' in item).split(',')[1]), 2)\n",
    "assert_equal(int(next(item for item in items if 'RAM_4GB' in item).split(',')[1]), 10)\n",
    "assert_equal(int(next(item for item in items if 'HDD_2TB' in item).split(',')[1]), 6)\n",
    "assert_equal(int(next(item for item in items if 'CPU_Intel_i9' in item).split(',')[1]), 3)"
   ]
  },
  {
   "cell_type": "code",
   "execution_count": 82,
   "id": "1371f0bc",
   "metadata": {
    "deletable": false,
    "editable": false,
    "nbgrader": {
     "cell_type": "code",
     "checksum": "d6be3ab82123a3bafe1137a64bd8671e",
     "grade": true,
     "grade_id": "cell-d8aebd5ab92f3e12",
     "locked": true,
     "points": 1,
     "schema_version": 3,
     "solution": false,
     "task": false
    }
   },
   "outputs": [],
   "source": [
    "# HIDDEN TEST [1 pt]"
   ]
  },
  {
   "cell_type": "markdown",
   "id": "7e714857",
   "metadata": {
    "deletable": false,
    "editable": false,
    "nbgrader": {
     "cell_type": "markdown",
     "checksum": "168d9ff90a05c5aaa42fe9f0953faa04",
     "grade": false,
     "grade_id": "cell-89b3efbf31a2a6a0",
     "locked": true,
     "schema_version": 3,
     "solution": false,
     "task": false
    }
   },
   "source": [
    "4. Given an arbitrary sentence, implement a function named `wordsWithRepeatingLetters` that will return a set of words such that each word contains at least a letter that repeats at least twice. Consider the uppercase and lowercase of a letter to be the same symbols. Separate by whitespace only and remove all periods (`.`) prior to processing. You can use the `filter` and `any` functions to facilitate the output of such words as a set. Use of conditional (e.g., `if`, etc.) and looping (e.g., `for`, etc.) statements are not allowed for this problem."
   ]
  },
  {
   "cell_type": "code",
   "execution_count": 83,
   "id": "8e4be266",
   "metadata": {
    "deletable": false,
    "nbgrader": {
     "cell_type": "code",
     "checksum": "08691790428bcf2d9352e3bb0b8c75a1",
     "grade": false,
     "grade_id": "cell-f17ba2ccc79da39d",
     "locked": false,
     "schema_version": 3,
     "solution": true,
     "task": false
    }
   },
   "outputs": [],
   "source": [
    "def wordsWithRepeatingLetters(sentence):\n",
    "    words = list(map(lambda x: x.strip('.'), sentence.split()))\n",
    "    reference = set(map(lambda x: x, sentence.lower())) #Alphabet\n",
    "    filtered = set(filter(lambda word:(any(map(lambda y : word.lower().count(y) >= 2, reference ))),words))\n",
    "    return filtered"
   ]
  },
  {
   "cell_type": "code",
   "execution_count": 84,
   "id": "3d98d244",
   "metadata": {},
   "outputs": [],
   "source": [
    "# def wordsWithRepeatingLetters(sentence):\n",
    "#     return set(filter(lambda word:(any(map(lambda y : word.lower().count(y) >= 2, set(map(lambda x: x, sentence.lower())) ))), list(map(lambda x: x.strip('.'), sentence.split()))))"
   ]
  },
  {
   "cell_type": "code",
   "execution_count": 85,
   "id": "596c131d",
   "metadata": {
    "deletable": false,
    "editable": false,
    "nbgrader": {
     "cell_type": "code",
     "checksum": "e65b6f97920a4f0ca65cc2af8d4c7600",
     "grade": true,
     "grade_id": "cell-861772d45b70f49d",
     "locked": true,
     "points": 1,
     "schema_version": 3,
     "solution": false,
     "task": false
    }
   },
   "outputs": [],
   "source": [
    "# DO NOT MODIFY, THIS IS UNIT TESTING! [1 pt]\n",
    "from nose.tools import ok_, assert_is_instance\n",
    "\n",
    "sentence = \"He heard the loud impact before he ever saw the result. \"\\\n",
    "\"It had been so loud that it had actually made him jump back in his seat. \"\\\n",
    "\"As soon as he recovered from the surprise, he saw the crack in the windshield. \"\\\n",
    "\"It seemed to be an analogy of the current condition of his life.\"\n",
    "\n",
    "words_with_repeating_letters_1 = wordsWithRepeatingLetters(sentence)\n",
    "ok_(\"condition\" in words_with_repeating_letters_1) # since there are two i's\n",
    "ok_('actually' in words_with_repeating_letters_1) # since there are two a's or l's\n",
    "ok_('been' in words_with_repeating_letters_1) # since there are two e's\n",
    "ok_('that' in words_with_repeating_letters_1) # since there are two t's\n",
    "ok_('current' in words_with_repeating_letters_1) # since there are two r's\n",
    "assert_is_instance(words_with_repeating_letters_1, set)"
   ]
  },
  {
   "cell_type": "code",
   "execution_count": 86,
   "id": "c5b5f991",
   "metadata": {
    "deletable": false,
    "editable": false,
    "nbgrader": {
     "cell_type": "code",
     "checksum": "6bf7c6b3b1b83c54f2e42292c31374a1",
     "grade": true,
     "grade_id": "cell-2ed873f693a2c988",
     "locked": true,
     "points": 1,
     "schema_version": 3,
     "solution": false,
     "task": false
    }
   },
   "outputs": [],
   "source": [
    "# DO NOT MODIFY, THIS IS UNIT TESTING! [1 pt]\n",
    "from nose.tools import ok_, assert_is_instance\n",
    "\n",
    "sentence = \"They rushed out the door, grabbing anything and everything they could think of they might need. \"\\\n",
    "\"There was no time to double-check to make sure they weren't leaving something important behind. \"\\\n",
    "\"Everything was thrown into the car and they sped off. \"\\\n",
    "\"Thirty minutes later they were safe and that was when it dawned on them that they had forgotten the most important thing of all.\"\n",
    "\n",
    "words_with_repeating_letters_2 = wordsWithRepeatingLetters(sentence)\n",
    "ok_(\"Thirty\" in words_with_repeating_letters_2) # since there are two t's\n",
    "ok_(\"all\" in words_with_repeating_letters_2) # since there are two l's\n",
    "ok_(\"dawned\" in words_with_repeating_letters_2) # since there are two d's\n",
    "ok_(\"grabbing\" in words_with_repeating_letters_2) # since there are two g's or b's\n",
    "ok_(\"need\" in words_with_repeating_letters_2) # since there are two e's\n",
    "assert_is_instance(words_with_repeating_letters_2, set)"
   ]
  },
  {
   "cell_type": "code",
   "execution_count": 87,
   "id": "c4649920",
   "metadata": {
    "deletable": false,
    "editable": false,
    "nbgrader": {
     "cell_type": "code",
     "checksum": "2f1cf648a51f399630b7d50df445b4bf",
     "grade": true,
     "grade_id": "cell-a79777fa5fed871f",
     "locked": true,
     "points": 1,
     "schema_version": 3,
     "solution": false,
     "task": false
    }
   },
   "outputs": [],
   "source": [
    "# HIDDEN TEST [1 pt]"
   ]
  },
  {
   "cell_type": "markdown",
   "id": "f13cb08d",
   "metadata": {
    "deletable": false,
    "editable": false,
    "nbgrader": {
     "cell_type": "markdown",
     "checksum": "918019b8f5cb1ed0fb6ff6da2ec0142d",
     "grade": false,
     "grade_id": "cell-5ad1f443c7577c9c",
     "locked": true,
     "schema_version": 3,
     "solution": false,
     "task": false
    }
   },
   "source": [
    "***"
   ]
  },
  {
   "cell_type": "code",
   "execution_count": null,
   "id": "4ec652db",
   "metadata": {
    "deletable": false,
    "editable": false,
    "nbgrader": {
     "cell_type": "code",
     "checksum": "53b4ec65323e7059eb7f07596bdf8deb",
     "grade": true,
     "grade_id": "cell-4420f5b4060accd6",
     "locked": true,
     "points": 0,
     "schema_version": 3,
     "solution": false,
     "task": false
    }
   },
   "outputs": [],
   "source": []
  }
 ],
 "metadata": {
  "kernelspec": {
   "display_name": "Python 3 (ipykernel)",
   "language": "python",
   "name": "python3"
  },
  "language_info": {
   "codemirror_mode": {
    "name": "ipython",
    "version": 3
   },
   "file_extension": ".py",
   "mimetype": "text/x-python",
   "name": "python",
   "nbconvert_exporter": "python",
   "pygments_lexer": "ipython3",
   "version": "3.9.7"
  }
 },
 "nbformat": 4,
 "nbformat_minor": 5
}
