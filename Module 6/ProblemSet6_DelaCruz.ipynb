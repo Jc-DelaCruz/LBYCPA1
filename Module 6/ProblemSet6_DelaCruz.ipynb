{
 "cells": [
  {
   "cell_type": "markdown",
   "id": "01e695e8",
   "metadata": {},
   "source": [
    "# Programming Logic and Design Laboratory (LBYCPA1)"
   ]
  },
  {
   "cell_type": "markdown",
   "id": "18d5d1f8",
   "metadata": {},
   "source": [
    "Before you turn this problem in, make sure everything runs as expected. First, **restart the kernel** (in the menubar, select Kernel$\\rightarrow$Restart) and then **run all cells** (in the menubar, select Cell$\\rightarrow$Run All).\n",
    "\n",
    "Make sure you fill in any place that says `YOUR CODE HERE` or `YOUR ANSWER HERE`, as well as your name and other information below inside the double quotes. Remove the line `raise NotImplementedError()` once you have answered the problem.\n",
    "\n",
    "REMINDERS: Section 4.15 of the Student Handbook (SH) 2018-2021 provides that:\n",
    "\n",
    "As a Catholic University that prepares its students to become professionals and be the resource for Church and nation, De La Salle University puts a premium on academic honesty. A student's academic requirements, such as assignments, term papers, computer programs/projects, and thesis papers, should be his/her own work. He/She must distinguish between his/her own ideas and those of other authors.\n",
    "\n",
    "The student must cite references, direct quotes, and other sources (including data obtained from tables, illustrations, figures, pictures, images, and video) following the prescribed format of the discipline. Should a student intend to submit a similar previous work for credit, in different courses, a written permission must first be obtained from the faculty members concerned. In addition, for works where he/she is only one of the authors, the following must be observed.\n",
    "\n",
    "4.15.1 Provide a disclaimer stating that the work is not entirely his/hers;\n",
    "\n",
    "4.15.2 The work cannot be published without written consent of the group of authors.\n",
    "\n",
    "4.15.3 If the work is separable (i.e. parts are clearly attributed to the individual authors), the student may use and must cite his/her own part only; otherwise, the student must seek the written consent of the group of authors.\n",
    "\n",
    "4.15.4 Computer codes obtained from open source reference may be copied freely, but the source should be cited, provided further that the faculty member allows the use of open source reference in the course."
   ]
  },
  {
   "cell_type": "markdown",
   "id": "59e233d1",
   "metadata": {},
   "source": [
    "## Rubric for the Final Laboratory Report\n",
    "\n",
    "|Criteria|EXEMPLARY (90-100)|SATISFACTORY (80-89)|DEVELOPING (70-79)|BEGINNING (Below 70)|WEIGHT|\n",
    "|:-|:-|:-|:-|:-|:-:|\n",
    "|**Experimental Plan (Flowchart/ Algorithm)**|Experimental plan has supporting details and diagram/algorithm that is stated and well explained|Experimental plan has supporting details and diagram/algorithm that is stated but not explained|Experimental plan is vague or brief. It has supporting details and doesn’t have diagram/algorithm|No experimental plan presented|30%|\n",
    "|**Conducting Experiment/ Activity**|Objective and Materials used (modern engineering tools, software, and instruments/equipment) are identified. Steps are easy to follow for conducting and experiment/activity|Objective is not stated. Materials used (modern engineering tools, software, and instruments/equipment) are identified. Steps are easy to follow for conducting and experiment/activity|Does not provide enough information to conduct an experiment/activity|No Objective, Materials used (modern engineering tools, software, and instruments/equipment), and steps for conducting experiment/activity provided|20%|\n",
    "|**Codes/Data/ Program**|Data is well utilized in the program. Program codes are easy to read. Program output has no error. Questions are answered completely and correctly|Data is somewhat utilized in the program. Program code are easy to read. Program output has an output but logically incorrect. Some questions are answered completely and correctly|Data is not utilized in the program. It has a missing significant code/syntax in the program|No program presented|30%|\n",
    "|**Grammar, logical presentation, and format**|The report was grammatically correct, logically presented and used the required format|The report had minimal grammatical errors and somewhat presented logically. The required format was used|The report had a lot of grammatical errors and not logically presented; the required format was barely used|The report had a lot of grammatical errors, was not logically presented and the required format was not used|20%|"
   ]
  },
  {
   "cell_type": "code",
   "execution_count": null,
   "id": "5eb3de93",
   "metadata": {},
   "outputs": [],
   "source": [
    "# Fill-up the following information (put inside double quotes)\n",
    "\n",
    "NAME = \"DELA CRUZ, JOHN CARLO THEO S.\"                   # e.g. LIGUTAN, DINO DOMINIC F.\n",
    "STUDENT_NUMBER = \"12195758\"         # e.g. 20192118\n",
    "SECTION = \"EQ1\"                # e.g. EQ1\n",
    "DATE_TIME_COMPLETED = \"05/06/2022, 12:05AM\"    # e.g. 03/21/2022,11:00"
   ]
  },
  {
   "cell_type": "markdown",
   "id": "00ac9051",
   "metadata": {},
   "source": [
    "<hr style=\"border:1px solid black\"> </hr>"
   ]
  },
  {
   "cell_type": "markdown",
   "id": "e18d94cf",
   "metadata": {
    "deletable": false,
    "editable": false,
    "nbgrader": {
     "cell_type": "markdown",
     "checksum": "c531257e44d65b3f647141c94e3dc52c",
     "grade": false,
     "grade_id": "cell-d67e30b5d7100133",
     "locked": true,
     "schema_version": 3,
     "solution": false,
     "task": false
    }
   },
   "source": [
    "# Problem Set 6\n",
    "<hr style=\"border:1px solid gray\"> </hr>"
   ]
  },
  {
   "cell_type": "markdown",
   "id": "856a9bde",
   "metadata": {
    "deletable": false,
    "editable": false,
    "nbgrader": {
     "cell_type": "markdown",
     "checksum": "b7eb5584474ef5bdd564d530271bb9a5",
     "grade": false,
     "grade_id": "cell-656c35d40044ad5b",
     "locked": true,
     "schema_version": 3,
     "solution": false,
     "task": false
    }
   },
   "source": [
    "1. An message encryption method which appears similar to a Ceasar cipher substitution is to be implemented in the following way: each of the characters of the alphabet is re-mapped such that the ordering of the alphabet is reversed. This means that \"A\" becomes a \"Z\", \"B\" becomes a \"Y\", \"W\" becomes a \"C\" and so on. The same re-mapping is done for the numbers such that a \"0\" becomes a \"9\", an \"8\" becomes a \"2\" and so on. Implement a function that takes a sentence as a string and returns the encrypted message as a string."
   ]
  },
  {
   "cell_type": "code",
   "execution_count": 1,
   "id": "c9704ce9",
   "metadata": {
    "deletable": false,
    "nbgrader": {
     "cell_type": "code",
     "checksum": "869b394fd2780e968b292dc25ac82493",
     "grade": false,
     "grade_id": "cell-32216f35a45b784e",
     "locked": false,
     "schema_version": 3,
     "solution": true,
     "task": false
    }
   },
   "outputs": [],
   "source": [
    "def encryptMessage(message):\n",
    "    # This function encrypts a message such that each character is substituted with its equivalent reversed alphabet ordering.\n",
    "\n",
    "    if type(message) is not str:\n",
    "        raise TypeError(\"Input a string only\")\n",
    "    \n",
    "    encrypt = str()\n",
    "    for i in message:\n",
    "        if i.isalpha():\n",
    "            num = ord(i)\n",
    "            if i.isupper():\n",
    "                num = (ord('Z')-num) + ord('A')\n",
    "                encrypt += chr(num)\n",
    "            elif i.islower:\n",
    "                num = (ord('z')-num) + ord('a')\n",
    "                encrypt += chr(num)\n",
    "        elif i.isdecimal():\n",
    "            num = ord(i)\n",
    "            num = (ord('9')-num) + ord ('0')\n",
    "            encrypt += chr(num)\n",
    "        else:\n",
    "            num = ord(i)\n",
    "            encrypt += chr(num)\n",
    "    return encrypt\n",
    "        "
   ]
  },
  {
   "cell_type": "code",
   "execution_count": 2,
   "id": "97ebd86c",
   "metadata": {
    "deletable": false,
    "editable": false,
    "nbgrader": {
     "cell_type": "code",
     "checksum": "25756b376e45cf21bce304d861ccdcd6",
     "grade": true,
     "grade_id": "cell-a863d6410ce95310",
     "locked": true,
     "points": 1,
     "schema_version": 3,
     "solution": false,
     "task": false
    }
   },
   "outputs": [],
   "source": [
    "# DO NOT MODIFY, THIS IS UNIT TESTING! [1 pt]\n",
    "from nose.tools import assert_equal\n",
    "\n",
    "assert_equal(encryptMessage('ABCDEFGHIJKLMNOPQRSTUVWXYZ'), 'ZYXWVUTSRQPONMLKJIHGFEDCBA')\n",
    "assert_equal(encryptMessage('abcdefghijklmnopqrstuvwxyz'), 'zyxwvutsrqponmlkjihgfedcba')\n",
    "assert_equal(encryptMessage('0123456789'),'9876543210')\n",
    "assert_equal(encryptMessage('Hello, World!'), 'Svool, Dliow!')\n",
    "assert_equal(encryptMessage('Let us see if you can still read this!'), 'Ovg fh hvv ru blf xzm hgroo ivzw gsrh!')"
   ]
  },
  {
   "cell_type": "code",
   "execution_count": 49,
   "id": "d382adda",
   "metadata": {
    "deletable": false,
    "editable": false,
    "nbgrader": {
     "cell_type": "code",
     "checksum": "64de182bd740016915b1580fbfc3776a",
     "grade": true,
     "grade_id": "cell-b25b3cbf30198389",
     "locked": true,
     "points": 1,
     "schema_version": 3,
     "solution": false,
     "task": false
    }
   },
   "outputs": [],
   "source": [
    "# HIDDEN TEST [1 pt]"
   ]
  },
  {
   "cell_type": "code",
   "execution_count": 50,
   "id": "8645d150",
   "metadata": {
    "deletable": false,
    "editable": false,
    "nbgrader": {
     "cell_type": "code",
     "checksum": "c5563cb3fad7cd1bb90b55be385533e7",
     "grade": false,
     "grade_id": "cell-6681d7651b3d3345",
     "locked": true,
     "schema_version": 3,
     "solution": false,
     "task": false
    }
   },
   "outputs": [
    {
     "name": "stdout",
     "output_type": "stream",
     "text": [
      "Type your message: Hotdog\n",
      "Your encrypted message: \"Slgwlt\"\n"
     ]
    }
   ],
   "source": [
    "# SAMPLE TEST, DO NOT MODIFY! JUST EXECUTE ONLY FOR OUTPUT\n",
    "# You can add a cell below if you need to test a different input\n",
    "\n",
    "msg = input(\"Type your message: \")\n",
    "print(f'Your encrypted message: \"{encryptMessage(msg)}\"')"
   ]
  },
  {
   "cell_type": "markdown",
   "id": "f6e5f9a7",
   "metadata": {
    "deletable": false,
    "editable": false,
    "nbgrader": {
     "cell_type": "markdown",
     "checksum": "fd4138dd7e4d6ddb4e5dfc5e83d8438d",
     "grade": false,
     "grade_id": "cell-2e74313128197e3e",
     "locked": true,
     "schema_version": 3,
     "solution": false,
     "task": false
    }
   },
   "source": [
    "2. The bitwise logical operation **XNOR** (exclusive-NOR) takes two strings and compares each character in their respective positions as follows: if exactly one of the characters have a \"1\", the corresponding character in the resulting string is a \"0\"; otherwise it is a \"1\". Example: \"10010001\" XNOR \"10010010\" becomes \"11111100\". Implement a Python function that accepts arbitrary string length composed of \"0\"s and \"1\"s only. Both string inputs must have the same length. For reference, the truth table for the XNOR operation is as follows:\n",
    "| A | B | XNOR(A, B) |\n",
    "|:-:|:-:|:-:|\n",
    "| 0 | 0 | 1 |\n",
    "| 0 | 1 | 0 |\n",
    "| 1 | 0 | 0 |\n",
    "| 1 | 1 | 1 |"
   ]
  },
  {
   "cell_type": "code",
   "execution_count": 3,
   "id": "2c64c1f3",
   "metadata": {
    "deletable": false,
    "nbgrader": {
     "cell_type": "code",
     "checksum": "991f362e24f88af1bc36ff961904813c",
     "grade": false,
     "grade_id": "cell-2a67d9bb9ce95749",
     "locked": false,
     "schema_version": 3,
     "solution": true,
     "task": false
    }
   },
   "outputs": [],
   "source": [
    "def bitwise_XNOR(string1, string2):\n",
    "    # This function performs the logical bitwise XNOR on two n-character strings\n",
    "    \n",
    "    checkInput(string1)\n",
    "    checkInput(string2)\n",
    "\n",
    "    if len(string1) != len(string2):\n",
    "        raise ValueError(\"String inputs must have same lengths\")\n",
    "    result = str()\n",
    "    for char1, char2 in zip(string1, string2):\n",
    "        if char1 == '0' and char2 == '0': \n",
    "            result += '1'\n",
    "        elif char1 == '1' and char2 =='1':\n",
    "            result +='1'\n",
    "        else:\n",
    "            result +='0'\n",
    "            \n",
    "    return result\n",
    "def checkInput(string):\n",
    "    if type(string) is not str:\n",
    "        raise TypeError(\"Input not a valid string\")\n",
    "    for char in string:\n",
    "        if not (char == \"0\" or char == \"1\"):\n",
    "            raise ValueError(\"Strings must contain a '0' or '1' characters only\")"
   ]
  },
  {
   "cell_type": "code",
   "execution_count": 4,
   "id": "a7dafd54",
   "metadata": {
    "deletable": false,
    "editable": false,
    "nbgrader": {
     "cell_type": "code",
     "checksum": "bd1c5916774156815c60c99e98b765b6",
     "grade": true,
     "grade_id": "cell-0ecdfae26dbb43fd",
     "locked": true,
     "points": 1,
     "schema_version": 3,
     "solution": false,
     "task": false
    }
   },
   "outputs": [],
   "source": [
    "# DO NOT MODIFY, THIS IS UNIT TESTING! [1 pt]\n",
    "from nose.tools import assert_equal\n",
    "\n",
    "assert_equal(bitwise_XNOR(\"0010011011\", \"1010000011\"), \"0111100111\")\n",
    "assert_equal(bitwise_XNOR(\"11100000\", \"00011111\"), \"00000000\")\n",
    "assert_equal(bitwise_XNOR(\"1010101\", \"1111000\"), \"1010010\")\n",
    "assert_equal(bitwise_XNOR(\"1\", \"0\"), \"0\")"
   ]
  },
  {
   "cell_type": "code",
   "execution_count": 5,
   "id": "ad42ed1c",
   "metadata": {
    "deletable": false,
    "editable": false,
    "nbgrader": {
     "cell_type": "code",
     "checksum": "8283154f74983a5085d8f78e9816dd8c",
     "grade": true,
     "grade_id": "cell-3336c707423a9f21",
     "locked": true,
     "points": 1,
     "schema_version": 3,
     "solution": false,
     "task": false
    }
   },
   "outputs": [],
   "source": [
    "# HIDDEN TEST [1 pt]"
   ]
  },
  {
   "cell_type": "code",
   "execution_count": 6,
   "id": "722794eb",
   "metadata": {
    "deletable": false,
    "editable": false,
    "nbgrader": {
     "cell_type": "code",
     "checksum": "84f89540c9f2065dd9bd5a3c99d58b98",
     "grade": false,
     "grade_id": "cell-0784c2f91b471fde",
     "locked": true,
     "schema_version": 3,
     "solution": false,
     "task": false
    }
   },
   "outputs": [
    {
     "data": {
      "text/plain": [
       "'0110111101011010'"
      ]
     },
     "execution_count": 6,
     "metadata": {},
     "output_type": "execute_result"
    }
   ],
   "source": [
    "# SAMPLE TEST, DO NOT MODIFY! JUST EXECUTE ONLY FOR OUTPUT\n",
    "# You can add a cell below if you need to test a different input\n",
    "\n",
    "bitwise_XNOR(\"0110110010010010\", \"1111110000110111\")"
   ]
  },
  {
   "cell_type": "markdown",
   "id": "3a438f25",
   "metadata": {
    "deletable": false,
    "editable": false,
    "nbgrader": {
     "cell_type": "markdown",
     "checksum": "897e17ac3afc7e18eb4979957de450a0",
     "grade": false,
     "grade_id": "cell-3b70360c4abdc847",
     "locked": true,
     "schema_version": 3,
     "solution": false,
     "task": false
    }
   },
   "source": [
    "3. A border made up of a specified character is to be printed with specified side length. Implement a function that accepts two arguments: number of characters per side and the character to be used as a border. The function must return a **string**. Each line must end with the newline (`\\n`) character."
   ]
  },
  {
   "cell_type": "code",
   "execution_count": 6,
   "id": "3671aabc",
   "metadata": {
    "deletable": false,
    "nbgrader": {
     "cell_type": "code",
     "checksum": "dfec0bbfa2259557928e122cb3b99ff5",
     "grade": false,
     "grade_id": "cell-5bf885b89699825d",
     "locked": false,
     "schema_version": 3,
     "solution": true,
     "task": false
    }
   },
   "outputs": [],
   "source": [
    "def printBorder(width, char='*'):\n",
    "    # Prints a border of specified width using a single character\n",
    "    \n",
    "    if type(char) is not str:\n",
    "        raise TypeError(\"Input character must be a string\")\n",
    "    if type(width) is not int:\n",
    "        raise TypeError(\"Input width must be an integer\")\n",
    "    if len(char) < 1 or len(char) > 1:\n",
    "        raise ValueError(\"Specify single character input\")\n",
    "    if width < 0:\n",
    "        raise ValueError(\"Specify a non-negative integer input\")\n",
    "        \n",
    "    border = str()\n",
    "    for char1 in char:\n",
    "        for i in range(width):\n",
    "            for j in range(width):\n",
    "                if i == 0 or i == width - 1:\n",
    "                    border += char1\n",
    "                else:\n",
    "                    if j == 0 or j == width - 1:\n",
    "                        border += char1\n",
    "                    else: \n",
    "                        border +=' '\n",
    "            border +='\\n'\n",
    "                        \n",
    "    return border"
   ]
  },
  {
   "cell_type": "code",
   "execution_count": 7,
   "id": "7c16a3d0",
   "metadata": {
    "deletable": false,
    "editable": false,
    "nbgrader": {
     "cell_type": "code",
     "checksum": "29c1ef81ebd4fe5e065b3f9812a25d5e",
     "grade": true,
     "grade_id": "cell-67877fb08827f061",
     "locked": true,
     "points": 1,
     "schema_version": 3,
     "solution": false,
     "task": false
    }
   },
   "outputs": [],
   "source": [
    "# DO NOT MODIFY, THIS IS UNIT TESTING! [1 pt]\n",
    "from nose.tools import assert_equal\n",
    "\n",
    "assert_equal(printBorder(3), \\\n",
    "'***\\n'\\\n",
    "'* *\\n'\\\n",
    "'***\\n')\n",
    "\n",
    "assert_equal(printBorder(5, char='#'), \\\n",
    "'#####\\n'\\\n",
    "'#   #\\n'\\\n",
    "'#   #\\n'\\\n",
    "'#   #\\n'\\\n",
    "'#####\\n')\n",
    "\n",
    "assert_equal(printBorder(7, char='&'), \\\n",
    "'&&&&&&&\\n'\\\n",
    "'&     &\\n'\\\n",
    "'&     &\\n'\\\n",
    "'&     &\\n'\\\n",
    "'&     &\\n'\\\n",
    "'&     &\\n'\\\n",
    "'&&&&&&&\\n')"
   ]
  },
  {
   "cell_type": "code",
   "execution_count": 40,
   "id": "9c4d307d",
   "metadata": {
    "deletable": false,
    "editable": false,
    "nbgrader": {
     "cell_type": "code",
     "checksum": "fe85fa1c464b569705eb6c5b833b482c",
     "grade": true,
     "grade_id": "cell-54489cd2fa804445",
     "locked": true,
     "points": 1,
     "schema_version": 3,
     "solution": false,
     "task": false
    }
   },
   "outputs": [],
   "source": [
    "# HIDDEN TEST [1 pt]"
   ]
  },
  {
   "cell_type": "code",
   "execution_count": 41,
   "id": "3c853b7b",
   "metadata": {
    "deletable": false,
    "editable": false,
    "nbgrader": {
     "cell_type": "code",
     "checksum": "1c7d8ca0bff0e2022ef57a4a1d491b98",
     "grade": false,
     "grade_id": "cell-fd3ab46b748a1278",
     "locked": true,
     "schema_version": 3,
     "solution": false,
     "task": false
    }
   },
   "outputs": [
    {
     "name": "stdout",
     "output_type": "stream",
     "text": [
      "What border size? 3\n",
      "***\n",
      "* *\n",
      "***\n",
      "\n"
     ]
    }
   ],
   "source": [
    "# SAMPLE TEST, DO NOT MODIFY! JUST EXECUTE ONLY FOR OUTPUT\n",
    "\n",
    "size = int(input(\"What border size? \"))\n",
    "print(printBorder(size))"
   ]
  },
  {
   "cell_type": "markdown",
   "id": "d6b554cd",
   "metadata": {
    "deletable": false,
    "editable": false,
    "nbgrader": {
     "cell_type": "markdown",
     "checksum": "2374d88eca24984c316a6c513c452de7",
     "grade": false,
     "grade_id": "cell-b1216e435aa5eb73",
     "locked": true,
     "schema_version": 3,
     "solution": false,
     "task": false
    }
   },
   "source": [
    "4. Write a function that will emulate the DLSU email address generating system given that the input is a list of names in a string separated by commas. The output must be a string of comma-separated (`, `) email addresses (with space in between also) similar to your DLSU email address. (Refer to the unit testing cell for the expected output format)"
   ]
  },
  {
   "cell_type": "code",
   "execution_count": 9,
   "id": "d167b4fd",
   "metadata": {
    "deletable": false,
    "nbgrader": {
     "cell_type": "code",
     "checksum": "2451696b0e7b62d056f29bccd1ef7030",
     "grade": false,
     "grade_id": "cell-ddf77fa3ab60f546",
     "locked": false,
     "schema_version": 3,
     "solution": true,
     "task": false
    }
   },
   "outputs": [],
   "source": [
    "def namesToEmails(names):\n",
    "    # Emulates the DLSU email address generation system and returns a list of email addresses as strings\n",
    "    \n",
    "    names = names.lower() \n",
    "    email = \"{}_{}@dlsu.edu.ph\" \n",
    "    nameslist = names.split(',') \n",
    "    namesspace = [x.strip() for x in nameslist] \n",
    "    nameslist2 = [x.split(' ') for x in namesspace] \n",
    "    namestoEmails = [email.format (x[0], x[1]) for x in nameslist2] \n",
    "    #for x in nameslist2: \n",
    "    #    namestoEmails.append(email.format(x[0], x[1]))\n",
    "    \n",
    "    result = ', '.join(namestoEmails) #join list \n",
    "    \n",
    "    return result\n",
    "    \n",
    "#     print(\"nameslist: \", nameslist ,\"\\n\")\n",
    "#     print(\"namesspace: \", namesspace,\"\\n\")\n",
    "#     print(\"nameslist2: \", nameslist2,\"\\n\")\n",
    "#     print(\"namesEmails: \", namestoEmails,\"\\n\")"
   ]
  },
  {
   "cell_type": "code",
   "execution_count": 10,
   "id": "7ebf7659",
   "metadata": {
    "deletable": false,
    "editable": false,
    "nbgrader": {
     "cell_type": "code",
     "checksum": "e3b45266c84c001ea7304d052a47026a",
     "grade": true,
     "grade_id": "cell-9fb1a74bdba298aa",
     "locked": true,
     "points": 1,
     "schema_version": 3,
     "solution": false,
     "task": false
    }
   },
   "outputs": [],
   "source": [
    "# DO NOT MODIFY, THIS IS UNIT TESTING! [1 pt]\n",
    "from nose.tools import assert_equal\n",
    "\n",
    "names = \"Lauren Bassett, Dante Green, Rida Mohamed, William Livingston, Cora Callahan, \"\\\n",
    "\"Deen Manning, Taiba Chapman, Eiliyah Boyle, Brad Mullen, Lyndon Devine\"\n",
    "\n",
    "assert_equal(namesToEmails(names), \"lauren_bassett@dlsu.edu.ph, dante_green@dlsu.edu.ph, \"\\\n",
    "\"rida_mohamed@dlsu.edu.ph, william_livingston@dlsu.edu.ph, \"\\\n",
    "\"cora_callahan@dlsu.edu.ph, deen_manning@dlsu.edu.ph, \"\\\n",
    "\"taiba_chapman@dlsu.edu.ph, eiliyah_boyle@dlsu.edu.ph, \"\\\n",
    "\"brad_mullen@dlsu.edu.ph, lyndon_devine@dlsu.edu.ph\")"
   ]
  },
  {
   "cell_type": "code",
   "execution_count": 11,
   "id": "aa966ae4",
   "metadata": {
    "deletable": false,
    "editable": false,
    "nbgrader": {
     "cell_type": "code",
     "checksum": "045649af6278eb6e0cb1be86810f492e",
     "grade": true,
     "grade_id": "cell-bc79be717a9ac2ab",
     "locked": true,
     "points": 1,
     "schema_version": 3,
     "solution": false,
     "task": false
    }
   },
   "outputs": [],
   "source": [
    "# HIDDEN TEST [1 pt]"
   ]
  },
  {
   "cell_type": "code",
   "execution_count": 12,
   "id": "03f6d3b9",
   "metadata": {
    "deletable": false,
    "editable": false,
    "nbgrader": {
     "cell_type": "code",
     "checksum": "9c256b4fe88ea0da9ecc25785af61c41",
     "grade": false,
     "grade_id": "cell-b97338d9e743b8e4",
     "locked": true,
     "schema_version": 3,
     "solution": false,
     "task": false
    }
   },
   "outputs": [
    {
     "name": "stdout",
     "output_type": "stream",
     "text": [
      "sumaya_paine@dlsu.edu.ph, melinda_colley@dlsu.edu.ph, rafe_vang@dlsu.edu.ph, edan_mcdonald@dlsu.edu.ph, simra_robles@dlsu.edu.ph, abul_johnson@dlsu.edu.ph, hajrah_kaur@dlsu.edu.ph, bryan_davidson@dlsu.edu.ph, clarence_hogg@dlsu.edu.ph, ajwa_sears@dlsu.edu.ph\n"
     ]
    }
   ],
   "source": [
    "# SAMPLE TEST, DO NOT MODIFY, JUST EXECUTE ONLY FOR OUTPUT\n",
    "# You can add a cell below if you need to test a different input\n",
    "\n",
    "print(namesToEmails(\"Sumaya Paine, Melinda Colley, Rafe Vang, Edan Mcdonald, Simra Robles, \"\\\n",
    "      \"Abul Johnson, Hajrah Kaur, Bryan Davidson, Clarence Hogg, Ajwa Sears\"))"
   ]
  },
  {
   "cell_type": "markdown",
   "id": "7e714857",
   "metadata": {
    "deletable": false,
    "editable": false,
    "nbgrader": {
     "cell_type": "markdown",
     "checksum": "fb834c92c72b5d4cfade5d070ff937ff",
     "grade": false,
     "grade_id": "cell-89b3efbf31a2a6a0",
     "locked": true,
     "schema_version": 3,
     "solution": false,
     "task": false
    }
   },
   "source": [
    "5. Given a list of students and their scores for three exams as comma-separated values, develop a function that will calculate the average score of the exams of each student. First, complete the function `compute_average()` that will return the average score rounded to 1 decimal place as a float by accepting a string of comma-separated grades. Then, complete the function `combine_averages()` that will convert a student entry into the following format: `Name: Average score\\n`. Note that each entry should have a newline character (`\\n`) at the end and the functiom must return a single string."
   ]
  },
  {
   "cell_type": "code",
   "execution_count": 14,
   "id": "8e4be266",
   "metadata": {
    "deletable": false,
    "nbgrader": {
     "cell_type": "code",
     "checksum": "2ceeedc00c00a492a8505e9758446122",
     "grade": false,
     "grade_id": "cell-f17ba2ccc79da39d",
     "locked": false,
     "schema_version": 3,
     "solution": true,
     "task": false
    }
   },
   "outputs": [],
   "source": [
    "# DO NOT MODIFY, THIS IS UNIT TESTING! [1 pt]\n",
    "student_scores = \\\n",
    "\"\"\"Anna,60,68,89\n",
    "Darcey,80,78,90\n",
    "Dylan,90,78,95\n",
    "Eva,78,76,67\n",
    "Layla,89,88,95\n",
    "Lewis,78,88,89\n",
    "Lucas,50,65,45\n",
    "Theodore,88,86,87\n",
    "Victoria,55,65,45\n",
    "Zoe,94,67,96\n",
    "\"\"\"\n",
    "# \"60, 68, 69\"\n",
    "# average\n",
    "def compute_average(grade_string):\n",
    "    # This function accepts a string with three comma-separated grades and returns the average as a float\n",
    "    \n",
    "    if type(grade_string) is not str:\n",
    "        raise TypeError(\"Input must be a string\")\n",
    "    grade_string = grade_string.strip(',') # tanggal yung specific chuchu\n",
    "    grade_string = grade_string.split(',') # string to array\n",
    "    integers = [int(x) for x in grade_string]\n",
    "    average = round(((integers[0] + integers [1] + integers[2]) / 3),1)\n",
    "    return average \n",
    "\n",
    "# student_scores = string\n",
    "# name, compute_average\n",
    "def combine_averages(student_table):\n",
    "    # This function combines all student average scores into a string. \n",
    "    # It should call the compute_average() function to calculate the average\n",
    "    \n",
    "    if type(student_table) is not str:\n",
    "        raise TypeError(\"Input must be a string\")\n",
    "        \n",
    "    result = \"{}: {}\"\n",
    "    student_table = student_table.strip('\\n') \n",
    "    student_table = student_table.split('\\n')    \n",
    "    student_table_space = [x.strip(',') for x in student_table]\n",
    "    combine = [x.split(',') for x in student_table_space]\n",
    "    # avgList = [x.split(',') for x in combine]\n",
    "    List1 = [compute_average(','.join([x[1],x[2],x[3]]))for x in combine]\n",
    "    List2 = [x[0] for x in combine]\n",
    "    averageTable = [result.format (List2[x],List1[x]) for x in range (0,len(combine))] \n",
    "    \n",
    "    # for x in range (0,len(combine))\n",
    "    #     result.format(List2[x],List1[x])\n",
    "    \n",
    "    end ='\\n'.join(averageTable)\n",
    "    \n",
    "    return end + '\\n'\n"
   ]
  },
  {
   "cell_type": "code",
   "execution_count": 20,
   "id": "a00a1498",
   "metadata": {
    "scrolled": false
   },
   "outputs": [
    {
     "name": "stdout",
     "output_type": "stream",
     "text": [
      "['Anna,60,68,89', 'Darcey,80,78,90', 'Dylan,90,78,95', 'Eva,78,76,67', 'Layla,89,88,95', 'Lewis,78,88,89', 'Lucas,50,65,45', 'Theodore,88,86,87', 'Victoria,55,65,45', 'Zoe,94,67,96']\n",
      "\n",
      "\n",
      "['Anna,60,68,89', 'Darcey,80,78,90', 'Dylan,90,78,95', 'Eva,78,76,67', 'Layla,89,88,95', 'Lewis,78,88,89', 'Lucas,50,65,45', 'Theodore,88,86,87', 'Victoria,55,65,45', 'Zoe,94,67,96']\n",
      "\n",
      "\n",
      "[['Anna', '60', '68', '89'], ['Darcey', '80', '78', '90'], ['Dylan', '90', '78', '95'], ['Eva', '78', '76', '67'], ['Layla', '89', '88', '95'], ['Lewis', '78', '88', '89'], ['Lucas', '50', '65', '45'], ['Theodore', '88', '86', '87'], ['Victoria', '55', '65', '45'], ['Zoe', '94', '67', '96']]\n",
      "\n",
      "\n",
      "Anna: 72.3\n",
      "Darcey: 82.7\n",
      "Dylan: 87.7\n",
      "Eva: 73.7\n",
      "Layla: 90.7\n",
      "Lewis: 85.0\n",
      "Lucas: 53.3\n",
      "Theodore: 87.0\n",
      "Victoria: 55.0\n",
      "Zoe: 85.7\n"
     ]
    }
   ],
   "source": [
    "#test\n",
    "student_table = \"\"\"Anna,60,68,89\n",
    "Darcey,80,78,90\n",
    "Dylan,90,78,95\n",
    "Eva,78,76,67\n",
    "Layla,89,88,95\n",
    "Lewis,78,88,89\n",
    "Lucas,50,65,45\n",
    "Theodore,88,86,87\n",
    "Victoria,55,65,45\n",
    "Zoe,94,67,96\n",
    "\"\"\"\n",
    "result = \"{}: {}\"\n",
    "student_table = student_table.strip('\\n') \n",
    "student_table = student_table.split('\\n')    \n",
    "student_table_space = [x.strip(',') for x in student_table]\n",
    "combine = [x.split(',') for x in student_table_space]\n",
    "# avgList = [x.split(',') for x in combine]\n",
    "List1 = [compute_average(','.join([x[1],x[2],x[3]]))for x in combine]\n",
    "List2 = [x[0] for x in combine]\n",
    "averageTable = [result.format (List2[x],List1[x]) for x in range (0,len(combine))] \n",
    "# for x in range (0,len(combine))\n",
    "#     result.format(List2[x],List1[x])\n",
    "end ='\\n'.join(averageTable)\n",
    "\n",
    "print(student_table)\n",
    "print(\"\\n\")\n",
    "print(student_table_space)\n",
    "print(\"\\n\")\n",
    "print(combine)\n",
    "print(\"\\n\")\n",
    "print(end)\n",
    "\n"
   ]
  },
  {
   "cell_type": "code",
   "execution_count": 3,
   "id": "8897c94a",
   "metadata": {},
   "outputs": [
    {
     "name": "stdout",
     "output_type": "stream",
     "text": [
      "['art,', 'hotdog,', 'komz,', 'bleasion,', 'opiad']\n",
      "art, hotdog, komz, bleasion, opiad\n"
     ]
    }
   ],
   "source": [
    "name = \"art, hotdog, komz, bleasion, opiad\"\n",
    "\n",
    "print(name.split())\n",
    "print(name.strip())"
   ]
  },
  {
   "cell_type": "code",
   "execution_count": 122,
   "id": "596c131d",
   "metadata": {
    "deletable": false,
    "editable": false,
    "nbgrader": {
     "cell_type": "code",
     "checksum": "8a7bdae0fa0e631d374002351694a8b0",
     "grade": true,
     "grade_id": "cell-861772d45b70f49d",
     "locked": true,
     "points": 1,
     "schema_version": 3,
     "solution": false,
     "task": false
    }
   },
   "outputs": [],
   "source": [
    "# DO NOT MODIFY, THIS IS UNIT TESTING! [1 pt]\n",
    "from nose.tools import assert_equal\n",
    "\n",
    "assert_equal(compute_average(\",60,68,89\"), 72.3)\n",
    "assert_equal(compute_average(\"90,78,95\"), 87.7)\n",
    "assert_equal(compute_average(\",78,76,67,\"), 73.7)\n",
    "\n",
    "# HIDDEN TEST"
   ]
  },
  {
   "cell_type": "code",
   "execution_count": 123,
   "id": "7b312465",
   "metadata": {
    "deletable": false,
    "editable": false,
    "nbgrader": {
     "cell_type": "code",
     "checksum": "9bcdf1e828e394fb0b22fd608ada1c24",
     "grade": true,
     "grade_id": "cell-a79777fa5fed871f",
     "locked": true,
     "points": 1,
     "schema_version": 3,
     "solution": false,
     "task": false
    }
   },
   "outputs": [],
   "source": [
    "# DO NOT MODIFY, THIS IS UNIT TESTING! [1 pt]\n",
    "from nose.tools import assert_equal\n",
    "\n",
    "assert_equal(combine_averages(student_scores), \\\n",
    "\"\"\"Anna: 72.3\n",
    "Darcey: 82.7\n",
    "Dylan: 87.7\n",
    "Eva: 73.7\n",
    "Layla: 90.7\n",
    "Lewis: 85.0\n",
    "Lucas: 53.3\n",
    "Theodore: 87.0\n",
    "Victoria: 55.0\n",
    "Zoe: 85.7\n",
    "\"\"\")\n",
    "\n",
    "# HIDDEN TEST"
   ]
  },
  {
   "cell_type": "code",
   "execution_count": 124,
   "id": "9b2f9d2f",
   "metadata": {
    "deletable": false,
    "editable": false,
    "nbgrader": {
     "cell_type": "code",
     "checksum": "242f664626d7fb2b9f0ed27fa040fb49",
     "grade": false,
     "grade_id": "cell-4fe84cfa67d2fab4",
     "locked": true,
     "schema_version": 3,
     "solution": false,
     "task": false
    }
   },
   "outputs": [
    {
     "name": "stdout",
     "output_type": "stream",
     "text": [
      "Anna: 72.3\n",
      "Darcey: 82.7\n",
      "Dylan: 87.7\n",
      "Eva: 73.7\n",
      "Layla: 90.7\n",
      "Lewis: 85.0\n",
      "Lucas: 53.3\n",
      "Theodore: 87.0\n",
      "Victoria: 55.0\n",
      "Zoe: 85.7\n",
      "\n"
     ]
    }
   ],
   "source": [
    "# SAMPLE TEST, DO NOT MODIFY, JUST EXECUTE ONLY FOR OUTPUT\n",
    "# You can add a cell below if you need to test a different input\n",
    "\n",
    "print(combine_averages(student_scores))"
   ]
  },
  {
   "cell_type": "markdown",
   "id": "a136f40a",
   "metadata": {
    "deletable": false,
    "editable": false,
    "nbgrader": {
     "cell_type": "markdown",
     "checksum": "360d44d071ca08d4d57e70d6f35c2f61",
     "grade": false,
     "grade_id": "cell-6c6f682dc7e962cd",
     "locked": true,
     "schema_version": 3,
     "solution": false,
     "task": false
    }
   },
   "source": [
    "***"
   ]
  },
  {
   "cell_type": "code",
   "execution_count": null,
   "id": "a4721245",
   "metadata": {
    "deletable": false,
    "editable": false,
    "nbgrader": {
     "cell_type": "code",
     "checksum": "53b4ec65323e7059eb7f07596bdf8deb",
     "grade": true,
     "grade_id": "cell-4420f5b4060accd6",
     "locked": true,
     "points": 0,
     "schema_version": 3,
     "solution": false,
     "task": false
    }
   },
   "outputs": [],
   "source": []
  }
 ],
 "metadata": {
  "kernelspec": {
   "display_name": "Python 3 (ipykernel)",
   "language": "python",
   "name": "python3"
  },
  "language_info": {
   "codemirror_mode": {
    "name": "ipython",
    "version": 3
   },
   "file_extension": ".py",
   "mimetype": "text/x-python",
   "name": "python",
   "nbconvert_exporter": "python",
   "pygments_lexer": "ipython3",
   "version": "3.9.7"
  }
 },
 "nbformat": 4,
 "nbformat_minor": 5
}
