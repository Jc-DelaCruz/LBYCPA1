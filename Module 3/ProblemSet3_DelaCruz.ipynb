{
 "cells": [
  {
   "cell_type": "markdown",
   "id": "94aaf7e5",
   "metadata": {},
   "source": [
    "# Programming Logic and Design Laboratory (LBYCPA1)"
   ]
  },
  {
   "cell_type": "markdown",
   "id": "1dccd47e",
   "metadata": {},
   "source": [
    "Before you turn this problem in, make sure everything runs as expected. First, **restart the kernel** (in the menubar, select Kernel$\\rightarrow$Restart) and then **run all cells** (in the menubar, select Cell$\\rightarrow$Run All).\n",
    "\n",
    "Make sure you fill in any place that says `YOUR CODE HERE` or `YOUR ANSWER HERE`, as well as your name and other information below inside the double quotes. Remove the line `raise NotImplementedError()` once you have answered the problem.\n",
    "\n",
    "REMINDERS: Section 4.15 of the Student Handbook (SH) 2018-2021 provides that:\n",
    "\n",
    "As a Catholic University that prepares its students to become professionals and be the resource for Church and nation, De La Salle University puts a premium on academic honesty. A student's academic requirements, such as assignments, term papers, computer programs/projects, and thesis papers, should be his/her own work. He/She must distinguish between his/her own ideas and those of other authors.\n",
    "\n",
    "The student must cite references, direct quotes, and other sources (including data obtained from tables, illustrations, figures, pictures, images, and video) following the prescribed format of the discipline. Should a student intend to submit a similar previous work for credit, in different courses, a written permission must first be obtained from the faculty members concerned. In addition, for works where he/she is only one of the authors, the following must be observed.\n",
    "\n",
    "4.15.1 Provide a disclaimer stating that the work is not entirely his/hers;\n",
    "\n",
    "4.15.2 The work cannot be published without written consent of the group of authors.\n",
    "\n",
    "4.15.3 If the work is separable (i.e. parts are clearly attributed to the individual authors), the student may use and must cite his/her own part only; otherwise, the student must seek the written consent of the group of authors.\n",
    "\n",
    "4.15.4 Computer codes obtained from open source reference may be copied freely, but the source should be cited, provided further that the faculty member allows the use of open source reference in the course."
   ]
  },
  {
   "cell_type": "markdown",
   "id": "1f12ce19",
   "metadata": {},
   "source": [
    "## Rubric for the Final Laboratory Report\n",
    "\n",
    "|Criteria|EXEMPLARY (90-100)|SATISFACTORY (80-89)|DEVELOPING (70-79)|BEGINNING (Below 70)|WEIGHT|\n",
    "|:-|:-|:-|:-|:-|:-:|\n",
    "|**Experimental Plan (Flowchart/ Algorithm)**|Experimental plan has supporting details and diagram/algorithm that is stated and well explained|Experimental plan has supporting details and diagram/algorithm that is stated but not explained|Experimental plan is vague or brief. It has supporting details and doesn’t have diagram/algorithm|No experimental plan presented|30%|\n",
    "|**Conducting Experiment/ Activity**|Objective and Materials used (modern engineering tools, software, and instruments/equipment) are identified. Steps are easy to follow for conducting and experiment/activity|Objective is not stated. Materials used (modern engineering tools, software, and instruments/equipment) are identified. Steps are easy to follow for conducting and experiment/activity|Does not provide enough information to conduct an experiment/activity|No Objective, Materials used (modern engineering tools, software, and instruments/equipment), and steps for conducting experiment/activity provided|20%|\n",
    "|**Codes/Data/ Program**|Data is well utilized in the program. Program codes are easy to read. Program output has no error. Questions are answered completely and correctly|Data is somewhat utilized in the program. Program code are easy to read. Program output has an output but logically incorrect. Some questions are answered completely and correctly|Data is not utilized in the program. It has a missing significant code/syntax in the program|No program presented|30%|\n",
    "|**Grammar, logical presentation, and format**|The report was grammatically correct, logically presented and used the required format|The report had minimal grammatical errors and somewhat presented logically. The required format was used|The report had a lot of grammatical errors and not logically presented; the required format was barely used|The report had a lot of grammatical errors, was not logically presented and the required format was not used|20%|"
   ]
  },
  {
   "cell_type": "code",
   "execution_count": null,
   "id": "f589c381",
   "metadata": {},
   "outputs": [],
   "source": [
    "# Fill-up the following information (put inside double quotes)\n",
    "\n",
    "NAME = \"DELA CRUZ, JOHN CARLO THEO S.\"                 \n",
    "STUDENT_NUMBER = \"12195758\"        \n",
    "SECTION = \"EQ1\"               \n",
    "DATE_TIME_COMPLETED = \"04/11/2022, 10:53PM\"  "
   ]
  },
  {
   "cell_type": "markdown",
   "id": "2f96dbb0",
   "metadata": {},
   "source": [
    "<hr style=\"border:1px solid black\"> </hr>"
   ]
  },
  {
   "cell_type": "markdown",
   "id": "e18d94cf",
   "metadata": {
    "deletable": false,
    "editable": false,
    "nbgrader": {
     "cell_type": "markdown",
     "checksum": "f9b20b83cdb31d1043175e66939bc88f",
     "grade": false,
     "grade_id": "cell-d67e30b5d7100133",
     "locked": true,
     "schema_version": 3,
     "solution": false,
     "task": false
    }
   },
   "source": [
    "# Problem Set 3\n",
    "<hr style=\"border:1px solid gray\"> </hr>"
   ]
  },
  {
   "cell_type": "markdown",
   "id": "856a9bde",
   "metadata": {
    "deletable": false,
    "editable": false,
    "nbgrader": {
     "cell_type": "markdown",
     "checksum": "54697327da334e7051061d1fe43f86cd",
     "grade": false,
     "grade_id": "cell-656c35d40044ad5b",
     "locked": true,
     "schema_version": 3,
     "solution": false,
     "task": false
    }
   },
   "source": [
    "1. Given the grading scheme displayed in the table below (with 70 passing mark), write a function that converts a raw grade $x$,  $0.0 \\le x \\le 100.0$ to its corresponding DLSU grade equivalent, $\\{0.0, 1.0, ..., 3.5, 4.0\\}$.\n",
    "\n",
    "| Raw Score | Grade Equivalent |\n",
    "| --------- | ---------------- |\n",
    "| 100% down to 96% | 4.0 |\n",
    "| Less than 96% down to 92% | 3.5 |\n",
    "| Less than 92% down to 88% | 3.0 |\n",
    "| Less than 88% down to 83% | 2.5 |\n",
    "| Less than 83% down to 77% | 2.0 |\n",
    "| Less than 77% down to 74% | 1.5 |\n",
    "| Less than 74% down to 70% | 1.0 |\n",
    "| Less than 70% | 0.0 |"
   ]
  },
  {
   "cell_type": "code",
   "execution_count": 1,
   "id": "b92cc12c",
   "metadata": {
    "deletable": false,
    "nbgrader": {
     "cell_type": "code",
     "checksum": "76774bac9fb093756d0a7c6f5115585a",
     "grade": false,
     "grade_id": "cell-32216f35a45b784e",
     "locked": false,
     "schema_version": 3,
     "solution": true,
     "task": false
    }
   },
   "outputs": [
    {
     "name": "stdout",
     "output_type": "stream",
     "text": [
      "DLSU GPA Raw Grade Grade Calculator: 90\n",
      "GPA: 3.0\n"
     ]
    }
   ],
   "source": [
    "def raw2grade(score):\n",
    "    # This function converts a raw score to DLSU grade equivalent (70 passing score)\n",
    "    \n",
    "    if not (type(score) is int or type(score) is float): #It verifies a correct input \n",
    "        raise TypeError(\"Input not a valid number\")\n",
    "            \n",
    "    if score > 100 or score < 0:\n",
    "        raise ValueError(\"Raw score must not be greater than 100 nor less than 0\")\n",
    "\n",
    "    if score >= 96 and score <= 100:\n",
    "        gpa = 4.0\n",
    "    elif score >= 92 and score < 96:\n",
    "        gpa = 3.5\n",
    "    elif score >= 88 and score < 92:\n",
    "        gpa = 3.0\n",
    "    elif score >= 83 and score < 88:\n",
    "        gpa = 2.5\n",
    "    elif score >= 77 and score < 83:\n",
    "        gpa = 2.0\n",
    "    elif score >= 74 and score < 77:\n",
    "        gpa = 1.5\n",
    "    elif score >= 70 and score < 74:\n",
    "        gpa = 1.0\n",
    "    else:\n",
    "        gpa = 0.0\n",
    "       \n",
    "    return gpa # Make sure to assign the result to the gpa variable\n",
    "\n",
    "score = float(input(\"DLSU GPA Raw Grade Grade Calculator: \"))\n",
    "gpa = raw2grade(score)\n",
    "print(\"GPA:\", gpa)"
   ]
  },
  {
   "cell_type": "code",
   "execution_count": 2,
   "id": "97ebd86c",
   "metadata": {
    "deletable": false,
    "editable": false,
    "nbgrader": {
     "cell_type": "code",
     "checksum": "c1fa631540202c1894ba2c9b4935f1f2",
     "grade": true,
     "grade_id": "cell-a863d6410ce95310",
     "locked": true,
     "points": 2,
     "schema_version": 3,
     "solution": false,
     "task": false
    }
   },
   "outputs": [],
   "source": [
    "# DO NOT MODIFY, THIS IS UNIT TESTING!\n",
    "\n",
    "assert raw2grade(97) == 4.0\n",
    "assert raw2grade(93) == 3.5\n",
    "assert raw2grade(89) == 3.0\n",
    "assert raw2grade(85) == 2.5\n",
    "assert raw2grade(80) == 2.0\n",
    "assert raw2grade(75) == 1.5\n",
    "assert raw2grade(70) == 1.0\n",
    "assert raw2grade(65) == 0.0\n",
    "\n",
    "# HIDDEN TEST"
   ]
  },
  {
   "cell_type": "code",
   "execution_count": 3,
   "id": "8645d150",
   "metadata": {
    "deletable": false,
    "editable": false,
    "nbgrader": {
     "cell_type": "code",
     "checksum": "b2a0fbfeeada436b4ce26dfb9f4a6edf",
     "grade": false,
     "grade_id": "cell-6681d7651b3d3345",
     "locked": true,
     "schema_version": 3,
     "solution": false,
     "task": false
    }
   },
   "outputs": [
    {
     "name": "stdout",
     "output_type": "stream",
     "text": [
      "4.0\n",
      "2.5\n"
     ]
    }
   ],
   "source": [
    "# SAMPLE TEST, DO NOT MODIFY! JUST EXECUTE ONLY FOR OUTPUT\n",
    "# You can add a cell below if you need to test a different input\n",
    "\n",
    "print(raw2grade(96.5))\n",
    "print(raw2grade(83.1))"
   ]
  },
  {
   "cell_type": "markdown",
   "id": "f6e5f9a7",
   "metadata": {
    "deletable": false,
    "editable": false,
    "nbgrader": {
     "cell_type": "markdown",
     "checksum": "553e3ac543d884d4dc228ebe4bc65e02",
     "grade": false,
     "grade_id": "cell-2e74313128197e3e",
     "locked": true,
     "schema_version": 3,
     "solution": false,
     "task": false
    }
   },
   "source": [
    "2. In Spherical Trigonometry, the cosine of any side of a spherical triangle is equal to the product of  the cosines of the remaining two sides added to the product of the sines of those two sides multiplied by the cosine    of their included angle:\n",
    "$$\n",
    "\\cos a = \\cos b \\cos c +  \\sin b \\sin c \\cos A\n",
    "$$\n",
    "For the angles, the formula becomes:\n",
    "$$\n",
    "\\cos A = -\\cos B \\cos C +  \\sin B \\sin C \\cos a\n",
    "$$\n",
    "Write a function that computes the side or the angle of a spherical triangle depending on a mode variable, e.g., mode can be \"side\" (default) or \"angle\".\n"
   ]
  },
  {
   "cell_type": "code",
   "execution_count": 11,
   "id": "2c64c1f3",
   "metadata": {
    "deletable": false,
    "nbgrader": {
     "cell_type": "code",
     "checksum": "881e1d413aad0c90673f4d9ceba6e494",
     "grade": false,
     "grade_id": "cell-2a67d9bb9ce95749",
     "locked": false,
     "schema_version": 3,
     "solution": true,
     "task": false
    }
   },
   "outputs": [
    {
     "name": "stdout",
     "output_type": "stream",
     "text": [
      "Hello \n",
      "Side or Angle?: side\n",
      "Input Value A: 1\n",
      "Input Value B: 2\n",
      "Input Value C: 3\n",
      "1.0686433167004479\n"
     ]
    }
   ],
   "source": [
    "def trig_compute(bB, cC, Aa, mode=\"side\"):\n",
    "    # This function computes the side or the angle depending on a mode variable, e.g. mode can be \"side\" or \"angle\". \n",
    "    \n",
    "    from math import sin, cos, acos # We will use sin, cos, and inverse cos functions\n",
    "    \n",
    "    # YOUR CODE HERE\n",
    "    if mode == \"side\" or mode == \"SIDE\":\n",
    "        answer = acos(cos(bB)*cos(cC) + sin(bB)*sin(cC)*cos(Aa))\n",
    "    elif mode == \"angle\" or mode == \"ANGLE\":\n",
    "        answer = acos(-cos(bB)*cos(cC)+ sin(bB)*sin(cC)*cos(Aa))\n",
    "    else:\n",
    "        print(\"! Error !\")\n",
    "    return answer # Make sure to assign the result to the answer variable\n",
    "mode = str(input(\"Hello \\nSide or Angle?: \"))\n",
    "Aa = float(input(\"Input Value A: \"))\n",
    "bB = float(input(\"Input Value B: \"))\n",
    "cC = float(input(\"Input Value C: \"))\n",
    "\n",
    "answer = trig_compute(bB, cC, Aa, mode=\"side\")\n",
    "print(answer)"
   ]
  },
  {
   "cell_type": "code",
   "execution_count": 12,
   "id": "a7dafd54",
   "metadata": {
    "deletable": false,
    "editable": false,
    "nbgrader": {
     "cell_type": "code",
     "checksum": "1c36578535270d5f2183278eb6fd2cea",
     "grade": true,
     "grade_id": "cell-0ecdfae26dbb43fd",
     "locked": true,
     "points": 2,
     "schema_version": 3,
     "solution": false,
     "task": false
    }
   },
   "outputs": [],
   "source": [
    "# DO NOT MODIFY, THIS IS UNIT TESTING!\n",
    "from math import pi, acos, sqrt\n",
    "\n",
    "assert abs(trig_compute(pi/3, pi/6, pi/2) - acos(sqrt(3)/4)) < 1e-8\n",
    "assert abs(trig_compute(pi/3, pi/6, pi/2, mode=\"angle\") - acos(-sqrt(3)/4)) < 1e-8\n",
    "\n",
    "# HIDDEN TEST"
   ]
  },
  {
   "cell_type": "code",
   "execution_count": 13,
   "id": "722794eb",
   "metadata": {
    "deletable": false,
    "editable": false,
    "nbgrader": {
     "cell_type": "code",
     "checksum": "853b8eb4e986ce47dad017546f9f2e38",
     "grade": false,
     "grade_id": "cell-0784c2f91b471fde",
     "locked": true,
     "schema_version": 3,
     "solution": false,
     "task": false
    }
   },
   "outputs": [
    {
     "name": "stdout",
     "output_type": "stream",
     "text": [
      "1.122963929865964\n",
      "2.0186287237238294\n"
     ]
    }
   ],
   "source": [
    "# SAMPLE TEST, DO NOT MODIFY! JUST EXECUTE ONLY FOR OUTPUT\n",
    "# You can add a cell below if you need to test a different input\n",
    "\n",
    "print(trig_compute(pi/3, pi/6, pi/2))\n",
    "print(trig_compute(pi/3, pi/6, pi/2, mode=\"angle\"))"
   ]
  },
  {
   "cell_type": "markdown",
   "id": "3a438f25",
   "metadata": {
    "deletable": false,
    "editable": false,
    "nbgrader": {
     "cell_type": "markdown",
     "checksum": "04ac1b90a88e08365e8114b105abe9ff",
     "grade": false,
     "grade_id": "cell-3b70360c4abdc847",
     "locked": true,
     "schema_version": 3,
     "solution": false,
     "task": false
    }
   },
   "source": [
    "3. Let $p$ and $q$ be propositions (a statement that can either be True or False). The conditional statement $p → q$ is the proposition \"if $p$, then $q$.\" The conditional statement $p → q$ is false when $p$ is true and $q$ is false, and true otherwise. Write a function that implements the conditional logical operation."
   ]
  },
  {
   "cell_type": "code",
   "execution_count": 15,
   "id": "3671aabc",
   "metadata": {
    "deletable": false,
    "nbgrader": {
     "cell_type": "code",
     "checksum": "77d7ef6101c0f9e1627ac9e4e9c35ffc",
     "grade": false,
     "grade_id": "cell-5bf885b89699825d",
     "locked": false,
     "schema_version": 3,
     "solution": true,
     "task": false
    }
   },
   "outputs": [
    {
     "name": "stdout",
     "output_type": "stream",
     "text": [
      "1 = True, 0 = False\n",
      "\n",
      "\n",
      "Input P: 1\n",
      "Input Q: 0\n",
      "The statement is :  False\n"
     ]
    }
   ],
   "source": [
    "def conditional(p, q):\n",
    "    # This function implements the conditional logical operation\n",
    "    \n",
    "    if not (type(p) is bool and type(q) is bool):\n",
    "        raise TypeError(\"Inputs are not valid Booleans!\")\n",
    "        \n",
    "    if p is True and q is False:\n",
    "        evaluation = False\n",
    "    else:\n",
    "        evaluation = True\n",
    "    \n",
    "    return evaluation # Make sure to assign the result to the evaluation variable\n",
    "\n",
    "print(\"1 = True, 0 = False\\n\\n\")\n",
    "\n",
    "p = bool(int(input(\"Input P: \")))\n",
    "q = bool(int(input(\"Input Q: \")))\n",
    "evaluation = conditional(p,q)\n",
    "print(\"The statement is : \", evaluation)"
   ]
  },
  {
   "cell_type": "code",
   "execution_count": 16,
   "id": "7c16a3d0",
   "metadata": {
    "deletable": false,
    "editable": false,
    "nbgrader": {
     "cell_type": "code",
     "checksum": "2e981a6fea959f7d76d8d230e434f0e5",
     "grade": true,
     "grade_id": "cell-67877fb08827f061",
     "locked": true,
     "points": 2,
     "schema_version": 3,
     "solution": false,
     "task": false
    }
   },
   "outputs": [],
   "source": [
    "# DO NOT MODIFY, THIS IS UNIT TESTING!\n",
    "\n",
    "assert conditional(True, False) == False\n",
    "assert conditional(True, True) == True\n",
    "\n",
    "# HIDDEN TEST"
   ]
  },
  {
   "cell_type": "code",
   "execution_count": 17,
   "id": "3c853b7b",
   "metadata": {
    "deletable": false,
    "editable": false,
    "nbgrader": {
     "cell_type": "code",
     "checksum": "d4734f664f999440eb74746ecc1c4751",
     "grade": false,
     "grade_id": "cell-fd3ab46b748a1278",
     "locked": true,
     "schema_version": 3,
     "solution": false,
     "task": false
    }
   },
   "outputs": [
    {
     "name": "stdout",
     "output_type": "stream",
     "text": [
      "True\n",
      "True\n",
      "False\n",
      "True\n"
     ]
    }
   ],
   "source": [
    "# SAMPLE TEST, DO NOT MODIFY! JUST EXECUTE ONLY FOR OUTPUT\n",
    "\n",
    "print(conditional(False, False))\n",
    "print(conditional(False, True))\n",
    "print(conditional(True, False))\n",
    "print(conditional(True, True))"
   ]
  },
  {
   "cell_type": "markdown",
   "id": "d6b554cd",
   "metadata": {
    "deletable": false,
    "editable": false,
    "nbgrader": {
     "cell_type": "markdown",
     "checksum": "91c87ec8fb2b6a82c04be1bb363fa5dc",
     "grade": false,
     "grade_id": "cell-b1216e435aa5eb73",
     "locked": true,
     "schema_version": 3,
     "solution": false,
     "task": false
    }
   },
   "source": [
    "4. The 8-digit I.D. numbers in a certain university can be verified by multiplying the 1st digit by 8, the 2nd digit by 7, and so on, until the last digit is multiplied by 1. Then, the sum of the series of products should be divisible by 11 to be a valid I.D. number; otherwise, the I.D. number is invalid.\n",
    "```\n",
    "Ex. 1.  I.D. No.: 11191031 :     \n",
    "1*8 + 1*7 + 1*6 + 9*5 + 1*4 + 0*3 + 3*2 + 1*1 equals 77\n",
    "Since the number 77 is divisible by 11, the I.D. is valid!\n",
    "```\n",
    "```\n",
    "Ex. 2.  I.D. No.: 11191013 :\n",
    "1*8 + 1*7 + 1*6 + 9*5 + 1*4 + 0*3 + 1*2 + 3*1 equals 75 \n",
    "Since the number 75 is NOT divisible by 11, the I.D. is invalid!\n",
    "```\n",
    "Suppose that the resulting sum when divided by 11 is less than 16 for a Student I.D. and greater or equal to 16 for Faculty I.D. for that particular university. Implement a Python program that distinguishes the Student from Faculty I.D. Numbers among the valid I.D. numbers. The program should output the strings \"INVALID\", \"STUDENT\", and \"FACULTY\", respectively."
   ]
  },
  {
   "cell_type": "code",
   "execution_count": 27,
   "id": "d167b4fd",
   "metadata": {
    "deletable": false,
    "nbgrader": {
     "cell_type": "code",
     "checksum": "e489ae587559b1faa70132a68dea732d",
     "grade": false,
     "grade_id": "cell-ddf77fa3ab60f546",
     "locked": false,
     "schema_version": 3,
     "solution": true,
     "task": false
    }
   },
   "outputs": [
    {
     "name": "stdout",
     "output_type": "stream",
     "text": [
      "Enter your ID Number: 12195758\n",
      "STUDENT\n"
     ]
    }
   ],
   "source": [
    "def id_verify(num):\n",
    "    # This function returns the strings \"INVALID\", \"STUDENT\", and \"FACULTY\" for each corresponding ID category\n",
    "    \n",
    "    if type(num) is not int:\n",
    "        raise TypeError(\"Input not a valid integer\")\n",
    "        \n",
    "    dig1 = (num % 100000000 // 10000000)\n",
    "    dig2 = (num % 10000000 // 1000000) \n",
    "    dig3 = (num % 1000000 // 100000)\n",
    "    dig4 = (num % 100000 // 10000) \n",
    "    dig5 = (num % 10000 // 1000)\n",
    "    dig6 = (num % 1000 // 100) \n",
    "    dig7 = (num % 100 // 10) \n",
    "    dig8 = (num % 10) \n",
    "    total = (dig1 * 8) + (dig2 * 7) + (dig3 * 6) + (dig4 * 5) + (dig5 * 4) + (dig6 * 3) + (dig7 * 2) + (dig8 * 1)\n",
    "    \n",
    "    if(total % 11) == 0:  \n",
    "        if(total / 11) < 16:\n",
    "            identity = \"STUDENT\"\n",
    "        else: \n",
    "            identity = \"FACULTY\"       \n",
    "    else:\n",
    "        identity = \"INVALID\"\n",
    "    \n",
    "    return identity # Make sure to assign the result to the identity variable\n",
    "\n",
    "num = int(input(\"Enter your ID Number: \"))\n",
    "identity = id_verify(num) #declaring the formulated function\n",
    "print(identity)"
   ]
  },
  {
   "cell_type": "code",
   "execution_count": 28,
   "id": "7ebf7659",
   "metadata": {
    "deletable": false,
    "editable": false,
    "nbgrader": {
     "cell_type": "code",
     "checksum": "7813588804ceaf0390bd3d59add72d3a",
     "grade": true,
     "grade_id": "cell-9fb1a74bdba298aa",
     "locked": true,
     "points": 2,
     "schema_version": 3,
     "solution": false,
     "task": false
    }
   },
   "outputs": [],
   "source": [
    "# DO NOT MODIFY, THIS IS UNIT TESTING!\n",
    "\n",
    "assert id_verify(12191031) == \"INVALID\"\n",
    "assert id_verify(11843691) == \"STUDENT\"\n",
    "assert id_verify(12191013) == \"INVALID\"\n",
    "assert id_verify(11817054) == \"STUDENT\"\n",
    "assert id_verify(11720721) == \"INVALID\"\n",
    "assert id_verify(11831790) == \"STUDENT\"\n",
    "assert id_verify(11831709) == \"INVALID\"\n",
    "assert id_verify(11810661) == \"STUDENT\"\n",
    "assert id_verify(11810616) == \"INVALID\"\n",
    "assert id_verify(98078305) == \"FACULTY\"\n",
    "\n",
    "# HIDDEN TEST"
   ]
  },
  {
   "cell_type": "code",
   "execution_count": 29,
   "id": "03f6d3b9",
   "metadata": {
    "deletable": false,
    "editable": false,
    "nbgrader": {
     "cell_type": "code",
     "checksum": "f50ba85038adbd2a840747c77daa09aa",
     "grade": false,
     "grade_id": "cell-b97338d9e743b8e4",
     "locked": true,
     "schema_version": 3,
     "solution": false,
     "task": false
    }
   },
   "outputs": [
    {
     "name": "stdout",
     "output_type": "stream",
     "text": [
      "Input your ID number: 12195758\n",
      "STUDENT\n"
     ]
    }
   ],
   "source": [
    "# SAMPLE TEST, DO NOT MODIFY, JUST EXECUTE ONLY FOR OUTPUT\n",
    "# You can add a cell below if you need to test a different input\n",
    "\n",
    "id_num = int(input(\"Input your ID number: \"))\n",
    "print(id_verify(id_num))"
   ]
  },
  {
   "cell_type": "markdown",
   "id": "7e714857",
   "metadata": {
    "deletable": false,
    "editable": false,
    "nbgrader": {
     "cell_type": "markdown",
     "checksum": "2b17822519af33e2b8f77a6c5d6d7836",
     "grade": false,
     "grade_id": "cell-89b3efbf31a2a6a0",
     "locked": true,
     "schema_version": 3,
     "solution": false,
     "task": false
    }
   },
   "source": [
    "5. Create a Python code that will check if two given strings are rotations of each other. Hint: You can use the `in` operator in a conditional statement."
   ]
  },
  {
   "cell_type": "code",
   "execution_count": 14,
   "id": "8e4be266",
   "metadata": {
    "deletable": false,
    "nbgrader": {
     "cell_type": "code",
     "checksum": "034921faa957ec17c9b03a491e390239",
     "grade": false,
     "grade_id": "cell-f17ba2ccc79da39d",
     "locked": false,
     "schema_version": 3,
     "solution": true,
     "task": false
    }
   },
   "outputs": [
    {
     "name": "stdout",
     "output_type": "stream",
     "text": [
      "Input a series of letters and/or numbers: abacd\n",
      "Input 2nd Letter/Number: cdaba\n",
      "Rotation:  True\n"
     ]
    }
   ],
   "source": [
    "def string_rotations(str1, str2):\n",
    "    # This function checks if the given two strings are rotations of each other\n",
    "    # Hint: You can use the 'in' operator and string concatenation\n",
    "    \n",
    "    if not (type(str1) is str and type(str2) is str):\n",
    "        raise TypeError(\"Inputs are not a valid strings!\")\n",
    "        \n",
    "    # YOUR CODE HERE\n",
    "    if str2 in str1 + str1:\n",
    "        evaluation = True\n",
    "    else:\n",
    "        evaluation = False\n",
    "    \n",
    "    return evaluation # Make sure to assign the result to the evaluation variable\n",
    "\n",
    "str1 = (input(\"Input a series of letters and/or numbers: \"))\n",
    "str2 = (input(\"Input 2nd Letter/Number: \"))\n",
    "\n",
    "evaluation = string_rotations(str1, str2)\n",
    "\n",
    "print(\"Rotation: \", evaluation)"
   ]
  },
  {
   "cell_type": "code",
   "execution_count": 6,
   "id": "596c131d",
   "metadata": {
    "deletable": false,
    "editable": false,
    "nbgrader": {
     "cell_type": "code",
     "checksum": "9f297c0bd900a30655505adb30ae725e",
     "grade": true,
     "grade_id": "cell-861772d45b70f49d",
     "locked": true,
     "points": 2,
     "schema_version": 3,
     "solution": false,
     "task": false
    }
   },
   "outputs": [],
   "source": [
    "# DO NOT MODIFY, THIS IS UNIT TESTING!\n",
    "\n",
    "assert string_rotations(\"abacd\", \"cdaba\") == True\n",
    "assert string_rotations(\"stackoverflow\", \"overflowstock\") == False\n",
    "assert string_rotations(\"0010100101101\", \"0010110100101\") == True\n",
    "\n",
    "# HIDDEN TEST"
   ]
  },
  {
   "cell_type": "code",
   "execution_count": 7,
   "id": "459ffcaa",
   "metadata": {
    "deletable": false,
    "editable": false,
    "nbgrader": {
     "cell_type": "code",
     "checksum": "bde0f4078e38f4a4ad4681302912fb47",
     "grade": false,
     "grade_id": "cell-eeb5dfc45bde1f84",
     "locked": true,
     "schema_version": 3,
     "solution": false,
     "task": false
    }
   },
   "outputs": [
    {
     "name": "stdout",
     "output_type": "stream",
     "text": [
      "True\n"
     ]
    }
   ],
   "source": [
    "# SAMPLE TEST, DO NOT MODIFY, JUST EXECUTE ONLY FOR OUTPUT\n",
    "# You can add a cell below if you need to test a different input\n",
    "\n",
    "print(string_rotations(\"abracad\", \"cadabra\"))"
   ]
  }
 ],
 "metadata": {
  "kernelspec": {
   "display_name": "Python 3 (ipykernel)",
   "language": "python",
   "name": "python3"
  },
  "language_info": {
   "codemirror_mode": {
    "name": "ipython",
    "version": 3
   },
   "file_extension": ".py",
   "mimetype": "text/x-python",
   "name": "python",
   "nbconvert_exporter": "python",
   "pygments_lexer": "ipython3",
   "version": "3.9.7"
  }
 },
 "nbformat": 4,
 "nbformat_minor": 5
}
