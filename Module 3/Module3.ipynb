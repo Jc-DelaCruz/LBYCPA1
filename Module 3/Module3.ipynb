{
 "cells": [
  {
   "cell_type": "markdown",
   "metadata": {},
   "source": [
    "# LBYCPA1 Module 3 \n",
    "## Booleans, Control Structure - Conditional Statements"
   ]
  },
  {
   "cell_type": "markdown",
   "metadata": {},
   "source": [
    "### Objectives:\n",
    "1. To familiarize with the Boolean data type\n",
    "1. To understand the importance of flow control\n",
    "1. To use comparison and boolean operators in conditional statements\n",
    "1. To solve computational problems using conditional statements\n",
    "1. (Add an objective...)\n",
    "\n",
    "### Materials and Tools:\n",
    "1. Instructor's lecture notes\n",
    "1. Jupyter Notebook\n",
    "1. Flowchart Software (Diagrams.net, Lucidchart, SmartDraw, etc.)\n",
    "1. (Add a material or tool...)"
   ]
  },
  {
   "cell_type": "markdown",
   "metadata": {},
   "source": [
    "### Booleans and Flow Control\n",
    "So far, we have considered developing Python code that executes one instruction after another, from start to end in sequential manner. But the real strength of programming comes from the ability to decide, skip instructions or repeat a group of instructions based on how an expression evaluates. We can achieve these abilities through the used of flow control statements.\n",
    "\n",
    "The use of flow control statements depends upon how to represent a Yes or No option, and we need to understand how to write those branching points as Python code. Logic on a computer is all about seeing if some combination of characters and some variables is \"True\" or \"False\" at some point in the program. \n",
    "\n",
    "While the integer, floating-point, and string data types have an unlimited number of possible values, the Boolean data type has only two values: `True` and `False`. When entered as Python code, the Boolean values `True` and `False` lack the quotes you place around strings, and they always start with a capital T or F, with the rest of the word in lowercase.\n",
    "\n",
    "Like any other value, Boolean values are used in expressions and can be stored in variables. If you don’t use the proper case or you try to use `True` and `False` for variable names, Python will give you an error message."
   ]
  },
  {
   "cell_type": "markdown",
   "metadata": {},
   "source": [
    "### Comparison Operators\n",
    "Comparison operators, also called relational operators, compare two values and evaluate down to a single Boolean value.\n",
    "\n",
    "| Operator | Meaning |\n",
    "| - | - |\n",
    "| == | Equal to |\n",
    "| != | Not equal to |\n",
    "| < | Less than |\n",
    "| > | Greater than |\n",
    "| <= | Less than or equal to |\n",
    "| >= | Greater than or equal to |\n",
    "\n",
    "Several examples are shown below:"
   ]
  },
  {
   "cell_type": "code",
   "execution_count": null,
   "metadata": {},
   "outputs": [],
   "source": [
    "# Initialize some numeric variables\n",
    "x, y, z = 4, 9, 5 + 4"
   ]
  },
  {
   "cell_type": "code",
   "execution_count": null,
   "metadata": {},
   "outputs": [],
   "source": [
    "y == z # Is y equal to z?"
   ]
  },
  {
   "cell_type": "code",
   "execution_count": null,
   "metadata": {},
   "outputs": [],
   "source": [
    "x != y # Is x not equal to y?"
   ]
  },
  {
   "cell_type": "code",
   "execution_count": null,
   "metadata": {},
   "outputs": [],
   "source": [
    "x < z # Is y less than z?"
   ]
  },
  {
   "cell_type": "code",
   "execution_count": null,
   "metadata": {},
   "outputs": [],
   "source": [
    "z > x # Is z greater than x?"
   ]
  },
  {
   "cell_type": "code",
   "execution_count": null,
   "metadata": {},
   "outputs": [],
   "source": [
    "y >= z # Is y greater than or equal to z?"
   ]
  },
  {
   "cell_type": "code",
   "execution_count": null,
   "metadata": {
    "scrolled": true
   },
   "outputs": [],
   "source": [
    "x <= y # Is x less than or equal to y?"
   ]
  },
  {
   "cell_type": "code",
   "execution_count": null,
   "metadata": {},
   "outputs": [],
   "source": [
    "z == 9.0 # Is z equal to 9.0?"
   ]
  },
  {
   "cell_type": "code",
   "execution_count": null,
   "metadata": {},
   "outputs": [],
   "source": [
    "z == \"9\" # Is z equal to \"9\"?"
   ]
  },
  {
   "cell_type": "code",
   "execution_count": 2,
   "metadata": {},
   "outputs": [],
   "source": [
    "# Initialize some strings\n",
    "string1 = \"LBYCPA1\"\n",
    "string2 = \"CPA\"\n",
    "string3 = \"LBY\" + string2 + str(1)"
   ]
  },
  {
   "cell_type": "code",
   "execution_count": null,
   "metadata": {},
   "outputs": [],
   "source": [
    "string1 == string3 # Is string1 equal to string 3?"
   ]
  },
  {
   "cell_type": "code",
   "execution_count": null,
   "metadata": {},
   "outputs": [],
   "source": [
    "string1 == x # Is string 1 equal to x?"
   ]
  },
  {
   "cell_type": "code",
   "execution_count": null,
   "metadata": {},
   "outputs": [],
   "source": [
    "string1 > string2 # Does this make sense? (lexicographically)"
   ]
  },
  {
   "cell_type": "markdown",
   "metadata": {},
   "source": [
    "### Boolean Operators\n",
    "The three Boolean operators (`and`, `or`, and `not`) are used to compare Boolean values. Like comparison operators, they evaluate these expressions down\n",
    "to a Boolean value.\n",
    "\n",
    "#### `and` operator\n",
    "| Expression | Evaluation |\n",
    "| - | - |\n",
    "| **True** `and` **True** | **True** |\n",
    "| **True** `and` **False** | **False** |\n",
    "| **False** `and` **True** | **False** |\n",
    "| **False** `and` **False** | **False** |\n",
    "\n",
    "#### `or` operator\n",
    "| Expression | Evaluation |\n",
    "| - | - |\n",
    "| **True** `or` **True** | **True** |\n",
    "| **True** `or` **False** | **True** |\n",
    "| **False** `or` **True** | **True** |\n",
    "| **False** `or` **False** | **False** |\n",
    "\n",
    "#### `not` operator\n",
    "| Expression | Evaluation |\n",
    "| - | - |\n",
    "| `not` **True** | **False** |\n",
    "| `not` **False** | **True** |\n",
    "\n",
    "The Boolean operators have an order of operations just like the math operators do. After any math and comparison operators evaluate, Python evaluates the `not` operators first, then the `and` operators, and then the `or` operators.\n",
    "\n",
    "Since the comparison operators evaluate to Boolean values, you can use them in expressions with the Boolean operators. See the examples below:"
   ]
  },
  {
   "cell_type": "code",
   "execution_count": 4,
   "metadata": {},
   "outputs": [
    {
     "data": {
      "text/plain": [
       "True"
      ]
     },
     "execution_count": 4,
     "metadata": {},
     "output_type": "execute_result"
    }
   ],
   "source": [
    "(4 < 5) and (5 < 6)"
   ]
  },
  {
   "cell_type": "code",
   "execution_count": 5,
   "metadata": {},
   "outputs": [
    {
     "data": {
      "text/plain": [
       "False"
      ]
     },
     "execution_count": 5,
     "metadata": {},
     "output_type": "execute_result"
    }
   ],
   "source": [
    "(4 < 5) and (9 < 6)"
   ]
  },
  {
   "cell_type": "code",
   "execution_count": 6,
   "metadata": {},
   "outputs": [
    {
     "data": {
      "text/plain": [
       "True"
      ]
     },
     "execution_count": 6,
     "metadata": {},
     "output_type": "execute_result"
    }
   ],
   "source": [
    "(1 == 2) or (2 == 2)"
   ]
  },
  {
   "cell_type": "code",
   "execution_count": 7,
   "metadata": {},
   "outputs": [
    {
     "data": {
      "text/plain": [
       "True"
      ]
     },
     "execution_count": 7,
     "metadata": {},
     "output_type": "execute_result"
    }
   ],
   "source": [
    "2 + 2 <= 4 and not 2 + 2 == 5 and 2 * 2 == 2 + 2"
   ]
  },
  {
   "cell_type": "markdown",
   "metadata": {},
   "source": [
    "### Elements of Flow Control\n",
    "Flow control statements often start with a part called the **condition** and are always followed by a block of code called the **clause**. The Boolean expressions you’ve seen so far could all be considered *conditions*, which are the same thing as expressions; condition is just a more specific name in the context of flow control statements. On the other hand, lines of Python code can be grouped together in *blocks*. You can tell when a block begins and ends from the indentation of the lines of code. There are three rules for blocks.\n",
    "- Blocks begin when the indentation increases.\n",
    "- Blocks can contain other blocks.\n",
    "- Blocks end when the indentation decreases to zero or to a containing block’s indentation.\n",
    "\n",
    "### Conditional Statements\n",
    "#### `if` Statements\n",
    "In plain English, an `if` statement could be read as, \"If this condition is true, execute the code in the clause.\" In Python, an `if` statement consists of the following:\n",
    "- The `if` keyword\n",
    "- A condition (that is, an expression that evaluates to `True` or `False`)\n",
    "- A colon\n",
    "- Starting on the next line, an indented block of code (called the `if` clause)\n",
    "\n",
    "#### `else` Statements\n",
    "In plain English, an `else` statement could be read as, \"If this condition is true, execute this code. Or else, execute that code.\" An `else` statement doesn’t have a condition, and in code, an `else` statement always consists of the following:\n",
    "- The `else` keyword\n",
    "- A colon\n",
    "- Starting on the next line, an indented block of code (called the `else` clause)\n",
    "\n",
    "#### `elif` Statements\n",
    "The `elif` statement is an \"else if\" statement that always follows an `if` or another `elif` statement. It provides another condition that is checked only if all of the previous conditions were `False`. In code, an `elif` statement always consists of the following:\n",
    "- The `elif` keyword\n",
    "- A condition (that is, an expression that evaluates to `True` or `False`)\n",
    "- A colon\n",
    "- Starting on the next line, an indented block of code (called the `elif` clause)\n",
    "\n",
    "#### `match` and `case` Statements\n",
    "The `match` statement takes an expression and compares its value to successive patterns given as one or more case blocks. This was introduced in Python 3.10 with the following generic syntax:\n",
    "```\n",
    "match subject:\n",
    "    case <pattern_1>:\n",
    "        <action_1>\n",
    "    case <pattern_2>:\n",
    "        <action_2>\n",
    "    case <pattern_3>:\n",
    "        <action_3>\n",
    "    case _:\n",
    "        <action_wildcard>\n",
    "```\n",
    "In code, a pattern matching block always consists of the following:\n",
    "- The `match` keyword\n",
    "- A subject which is an expression to be compared to the successive patterns\n",
    "- A colon\n",
    "- The `case` keyword, indented on the line below the `match` keyword\n",
    "- A pattern which is an expression to be matched with the subject\n",
    "- Starting on the next line of the `case` keyword, an indented block of code (called action)\n",
    "\n",
    "Pattern matching operates by:\n",
    "1. using data with type and shape (the `subject`)\n",
    "2. evaluating the `subject` in the `match` statement\n",
    "3. comparing the subject with each pattern in a `case` statement from top to bottom until a match is confirmed.\n",
    "4. executing the action associated with the pattern of the confirmed match\n",
    "5. If an exact match is not confirmed, the last case, a wildcard `_`, if provided, will be used as the matching case. If an exact match is not confirmed and a wildcard case does not exist, the entire match block is a no-op."
   ]
  },
  {
   "cell_type": "markdown",
   "metadata": {},
   "source": [
    "### Code Examples\n",
    "**Example 1: Check if a number is odd or even**"
   ]
  },
  {
   "cell_type": "code",
   "execution_count": null,
   "metadata": {},
   "outputs": [],
   "source": [
    "# Using IF...ELSE statements\n",
    "# Get the input from the user\n",
    "num = int(input(\"What is your input number? \"))\n",
    "\n",
    "# Check if the number is odd or even using if...else\n",
    "if num % 2 == 0:\n",
    "    print(\"The number is even!\")\n",
    "else:\n",
    "    print(\"The number is odd!\")"
   ]
  },
  {
   "cell_type": "code",
   "execution_count": null,
   "metadata": {},
   "outputs": [],
   "source": [
    "# Using IF...ELSE statement in one line\n",
    "# Get the input from the user\n",
    "num = int(input(\"What is your input number? \"))\n",
    "\n",
    "# Check if the number is odd or even using one-line if...else\n",
    "print(\"The number is even!\") if num % 2 == 0 else print(\"The number is odd!\")"
   ]
  },
  {
   "cell_type": "markdown",
   "metadata": {},
   "source": [
    "**Example 2: Law of trichotomy on two numbers**"
   ]
  },
  {
   "cell_type": "code",
   "execution_count": null,
   "metadata": {},
   "outputs": [],
   "source": [
    "# Using IF...ELSE IF...ELSE statements\n",
    "a = float(input(\"A? \"))\n",
    "b = float(input(\"B? \"))\n",
    "print(\"Result: \", end=\"\")\n",
    "\n",
    "if a > b:\n",
    "    print(\"A > B\")\n",
    "elif a == b:\n",
    "    print(\"A = B\")\n",
    "else:\n",
    "    print(\"A < B\")\n",
    "    \n",
    "print(\"Done\")"
   ]
  },
  {
   "cell_type": "code",
   "execution_count": null,
   "metadata": {},
   "outputs": [],
   "source": [
    "# Using IF...ELSE IF...ELSE statement in one line\n",
    "a = float(input(\"A? \"))\n",
    "b = float(input(\"B? \"))\n",
    "print(\"Result: \", end=\"\")\n",
    "print(\"A > B\") if a > b else print(\"A = B\") if a == b else print(\"A < B\")"
   ]
  },
  {
   "cell_type": "markdown",
   "metadata": {},
   "source": [
    "**Example 3: Personal greetings**"
   ]
  },
  {
   "cell_type": "code",
   "execution_count": null,
   "metadata": {},
   "outputs": [],
   "source": [
    "# Using IF...ELIF...ELSE statements\n",
    "name = input(\"Hi! What is your name?\")\n",
    "if name == \"Fredy\":\n",
    "    print(\"Howdy Fredy?\")\n",
    "elif name == \"Bianca\":\n",
    "    print(\"Long time no see Bianca!\")\n",
    "elif name == \"Joey\":\n",
    "    print(\"How was it going Joey boy?\")\n",
    "elif name == \"Ana\":\n",
    "    print(\"Your are so lovely today Ana :)\")\n",
    "else:\n",
    "    print(\"Hello \" + name + \"! Nice to meet you!\")"
   ]
  },
  {
   "cell_type": "code",
   "execution_count": null,
   "metadata": {},
   "outputs": [],
   "source": [
    "# Using MATCH...CASE statements (works in Python 3.10+ only)\n",
    "name = input(\"Hi! What is your name?\")\n",
    "match name:\n",
    "    case \"Fredy\":\n",
    "        print(\"Howdy Fredy?\")\n",
    "    case \"Bianca\":\n",
    "        print(\"Long time no see Bianca!\")\n",
    "    case \"Joey\":\n",
    "        print(\"How was it going Joey boy?\")\n",
    "    case \"Ana\":\n",
    "        print(\"Your are so lovely today Ana :)\")\n",
    "    case _:\n",
    "        print(\"Hello \" + name + \"! Nice to meet you!\")"
   ]
  },
  {
   "cell_type": "markdown",
   "metadata": {},
   "source": [
    "**Example 4: Basic login credential checking**"
   ]
  },
  {
   "cell_type": "code",
   "execution_count": null,
   "metadata": {},
   "outputs": [],
   "source": [
    "# Using nested conditional statements\n",
    "uname = input(\"Type your username: \")\n",
    "if uname in [\"admin\", \"bitdiddle\", \"flamestar\"]:\n",
    "    upass = input(\"Type your password: \")\n",
    "    if uname == \"admin\" and upass == \"1234\":\n",
    "        print(\"Welcome admin!\")\n",
    "    elif uname == \"bitdiddle\" and upass == \"didbits\":\n",
    "        print(\"Welcome bitdiddle!\")\n",
    "    elif uname == \"flamestar\" and upass == \"fs1234\":\n",
    "        print(\"Welcome flamestar!\")\n",
    "    else:\n",
    "        print(\"Incorrect password. Exiting...\")\n",
    "else:\n",
    "    print(\"Invalid username. Exiting...\")"
   ]
  },
  {
   "cell_type": "markdown",
   "metadata": {},
   "source": [
    "**Example 5: Guessing game**"
   ]
  },
  {
   "cell_type": "code",
   "execution_count": 3,
   "metadata": {},
   "outputs": [
    {
     "name": "stdout",
     "output_type": "stream",
     "text": [
      "I am thinking of a number between 1 and 20.\n",
      "Can you guess? 12\n",
      "Good job! You guessed my number!\n"
     ]
    }
   ],
   "source": [
    "# This is a guess the number game\n",
    "from random import randint\n",
    "\n",
    "def guess(secretNumber): # Ask the player to guess 3 times\n",
    "    # First guess\n",
    "    guess = int(input(\"Can you guess? \"))\n",
    "    if guess < secretNumber:\n",
    "        print(\"Your guess is too low.\")\n",
    "    elif guess > secretNumber:\n",
    "        print(\"Your guess is too high.\")\n",
    "    else:\n",
    "        return guess # return if the number was guessed already\n",
    "    \n",
    "    # Second guess\n",
    "    guess = int(input(\"Can you guess? \"))\n",
    "    if guess < secretNumber:\n",
    "        print(\"Your guess is too low.\")\n",
    "    elif guess > secretNumber:\n",
    "        print(\"Your guess is too high.\")\n",
    "    else:\n",
    "        return guess # return if the number was guessed already\n",
    "    \n",
    "    # Third guess\n",
    "    guess = int(input(\"Can you guess? \"))\n",
    "    if guess < secretNumber:\n",
    "        print(\"Your guess is too low.\")\n",
    "    elif guess > secretNumber:\n",
    "        print(\"Your guess is too high.\")\n",
    "    else:\n",
    "        return guess # return if the number was guessed already\n",
    "\n",
    "secretNumber = randint(1, 20) # Let the computer pick a random number\n",
    "print(\"I am thinking of a number between 1 and 20.\")\n",
    "guessedNumber = guess(secretNumber) # Let the player guess\n",
    "\n",
    "if guessedNumber == secretNumber:\n",
    "    print(\"Good job! You guessed my number!\")\n",
    "else:\n",
    "    print(\"Nope. The number I was thinking of was \" + str(secretNumber))"
   ]
  },
  {
   "cell_type": "markdown",
   "metadata": {},
   "source": [
    "## References\n",
    "- Python Software Foundation (2022). *More Control Flow Tools*. Retrieved from https://docs.python.org/3/tutorial/controlflow.html\n",
    "- Sweigart, A. (2019). *Automate The Boring Stuff With Python, 2nd Edition*. No Starch Press, US."
   ]
  }
 ],
 "metadata": {
  "kernelspec": {
   "display_name": "Python 3 (ipykernel)",
   "language": "python",
   "name": "python3"
  },
  "language_info": {
   "codemirror_mode": {
    "name": "ipython",
    "version": 3
   },
   "file_extension": ".py",
   "mimetype": "text/x-python",
   "name": "python",
   "nbconvert_exporter": "python",
   "pygments_lexer": "ipython3",
   "version": "3.9.7"
  }
 },
 "nbformat": 4,
 "nbformat_minor": 2
}
