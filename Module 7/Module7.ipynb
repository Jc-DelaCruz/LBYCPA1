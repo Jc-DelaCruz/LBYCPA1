{
 "cells": [
  {
   "cell_type": "markdown",
   "metadata": {},
   "source": [
    "# LBYCPA1 Module 7 \n",
    "## Collection Array: Lists and Tuples"
   ]
  },
  {
   "cell_type": "markdown",
   "metadata": {},
   "source": [
    "### Objectives:\n",
    "1. To understand the concept of sequences\n",
    "1. To familiarize with the list and tuple collection arrays\n",
    "1. To use lists and tuples for effective storage of data array\n",
    "1. To utilize lists and tuples in solving computational problems\n",
    "1. (Add an objective...)\n",
    "\n",
    "### Materials and Tools:\n",
    "1. Instructor's lecture notes\n",
    "1. Jupyter Notebook\n",
    "1. Flowchart Software (Diagrams.net, Lucidchart, SmartDraw, etc.)\n",
    "1. (Add a material or tool...)"
   ]
  },
  {
   "cell_type": "markdown",
   "metadata": {},
   "source": [
    "### Sequences\n",
    "A sequence is a positionally ordered collection of other objects. Sequences maintain a left-to-right order among the items they contain: their items are stored and fetched by their relative position. The Python sequence data types include strings, lists, range objects returned by `range()`, and tuples. Some common operations for the sequence type object can work on both mutable and immutable sequences.\n",
    "\n",
    "The operations in the following table are supported by most sequence types, both mutable and immutable.\n",
    "\n",
    "| Operation | Result |\n",
    "|:- |:- |\n",
    "| `x in s` | `True` if an item of `s` is equal to `x`, else `False` |\n",
    "| `x not in s` | `False` if an item of `s` is equal to `x`, else `True` |\n",
    "| `s + t` | the concatenation of `s` and `t` |\n",
    "| `s * n` or `n * s` | equivalent to adding `s` to itself `n` times |\n",
    "| `s[i]` | `i`th item of `s`, origin 0 |\n",
    "| `s[i:j]` | slice of `s` from `i` to `j` |\n",
    "| `s[i:j:k]` | slice of `s` from `i` to `j` with step `k` |\n",
    "| `len(s)` | length of `s` |\n",
    "| `min(s)` | smallest item of `s` |\n",
    "| `max(s)` | largest item of `s` |\n",
    "| `s.index(x[, i[, j]])` | index of the first occurrence of `x` in `s` (at or after index `i` and before index `j`) |\n",
    "| `s.count(x)` | total number of occurrences of `x` in `s` |\n",
    "\n",
    "The operations in the following table are defined on mutable sequence types.\n",
    "\n",
    "| Operation | Result |\n",
    "|:- |:- |\n",
    "| `s[i] = x` | item `i` of `s` is replaced by `x` |\n",
    "| `s[i:j] = t` | slice of `s` from `i` to `j` is replaced by the contents of the iterable `t` |\n",
    "| `del s[i:j]` | same as `s[i:j] = []` |\n",
    "| `s[i:j:k] = t` | the elements of `s[i:j:k]` are replaced by those of `t` |\n",
    "| `del s[i:j:k]` | removes the elements of `s[i:j:k]` from the list |\n",
    "| `s.append(x)` | appends `x` to the end of the sequence (same as `s[len(s):len(s)] = [x]`) |\n",
    "| `s.clear()` | removes all items from `s` (same as `del s[:]`) |\n",
    "| `s.copy()` | creates a shallow copy of `s` (same as `s[:]`) |\n",
    "| `s.extend(t)` or `s += t` | extends `s` with the contents of `t` (for the most part the same as `s[len(s):len(s)] = t`) |\n",
    "| `s *= n` | updates `s` with its contents repeated `n` times |\n",
    "| `s.insert(i, x)` | inserts `x` into `s` at the index given by `i` (same as `s[i:i] = [x]`) |\n",
    "| `s.pop(i)` | retrieves the item at `i` and also removes it from `s` |\n",
    "| `s.remove(x)` | remove the first item from `s` where `s[i]` is equal to `x` |\n",
    "| `s.reverse()` | reverses the items of `s` in place |"
   ]
  },
  {
   "cell_type": "markdown",
   "metadata": {},
   "source": [
    "### Lists\n",
    "A `list` is a sequence of data. An 'array' in most other languages is a similar concept, but Python lists are more general than most arrays as they can hold a mixture of types. A list is constructed using square brackets:\n",
    "\n",
    "Lists may be constructed in several ways:\n",
    "* Using a pair of square brackets to denote the empty list: `[]`\n",
    "* Using square brackets, separating items with commas: `[a]`, `[a, b, c]`\n",
    "* Using a list comprehension: `[x for x in iterable]`\n",
    "* Using the type constructor: `list()` or `list(iterable)`"
   ]
  },
  {
   "cell_type": "code",
   "execution_count": null,
   "metadata": {},
   "outputs": [],
   "source": [
    "lab_group0 = [\"Sarah\", \"John\", \"Joe\", \"Emily\", \"Quang\"]\n",
    "print(\"Lab group members: \" + str(lab_group0))\n",
    "print(\"Size of lab group: \" + str(len(lab_group0)))\n",
    "\n",
    "print(\"Check the Python object type: \" + str(type(lab_group0)))"
   ]
  },
  {
   "cell_type": "markdown",
   "metadata": {},
   "source": [
    "The `len` functionreturns the length (number of items) of the list.\n",
    "\n",
    "An empty list is created by"
   ]
  },
  {
   "cell_type": "code",
   "execution_count": null,
   "metadata": {},
   "outputs": [],
   "source": [
    "my_list = []\n",
    "another_list = list()"
   ]
  },
  {
   "cell_type": "markdown",
   "metadata": {},
   "source": [
    "A list of length 5 with repeated values can be created by"
   ]
  },
  {
   "cell_type": "code",
   "execution_count": null,
   "metadata": {},
   "outputs": [],
   "source": [
    "my_list = [\"Oliver\"] * 5\n",
    "print(my_list)"
   ]
  },
  {
   "cell_type": "markdown",
   "metadata": {},
   "source": [
    "or be concatenated to another list:"
   ]
  },
  {
   "cell_type": "code",
   "execution_count": null,
   "metadata": {},
   "outputs": [],
   "source": [
    "print(lab_group0 + my_list)"
   ]
  },
  {
   "cell_type": "markdown",
   "metadata": {},
   "source": [
    "#### Indexing\n",
    "Lists store data in order, so it is possible to 'index into' a list using an integer (this will be familiar to anyone who has used C), e.g.:"
   ]
  },
  {
   "cell_type": "code",
   "execution_count": null,
   "metadata": {},
   "outputs": [],
   "source": [
    "first_member = lab_group0[0]\n",
    "third_member = lab_group0[2]\n",
    "print(first_member, third_member)"
   ]
  },
  {
   "cell_type": "markdown",
   "metadata": {},
   "source": [
    "or"
   ]
  },
  {
   "cell_type": "code",
   "execution_count": null,
   "metadata": {},
   "outputs": [],
   "source": [
    "for i in range(len(lab_group0)):\n",
    "    print(lab_group0[i])"
   ]
  },
  {
   "cell_type": "markdown",
   "metadata": {},
   "source": [
    "Indices start from zero, and run through to (length - 1).\n",
    "\n",
    "Indexing can be useful for numerical computations. We use it here to compute the dot product of two vectors:"
   ]
  },
  {
   "cell_type": "code",
   "execution_count": null,
   "metadata": {},
   "outputs": [],
   "source": [
    "# Two vectors of length 4\n",
    "x = [1.0, 3.5, 7.2, 8.9]\n",
    "y = [-1.0, 27.1, 1.0, 6]\n",
    "\n",
    "print(\"i : x[i], y[i] : x*y : dot\")\n",
    "# Compute dot-product\n",
    "dot_product = 0.0\n",
    "for i in range(len(x)):\n",
    "    dot_product += round(x[i]*y[i], 2)\n",
    "    print(i, \":\", x[i], \",\", y[i], \":\", round(x[i]*y[i], 2), \":\", dot_product)\n",
    "\n",
    "print(dot_product)"
   ]
  },
  {
   "cell_type": "markdown",
   "metadata": {},
   "source": [
    "When possible, it is better to iterate over a list rather than use indexing, since there are data structures that support iterating but do not support indexing.\n",
    "\n",
    "If we have a list-of-lists,"
   ]
  },
  {
   "cell_type": "code",
   "execution_count": null,
   "metadata": {},
   "outputs": [],
   "source": [
    "lab_group0 = [\"Sarah\", \"John\", \"Joe\", \"Emily\"]\n",
    "lab_group1 = [\"Roger\", \"Rachel\", \"Amer\", \"Caroline\", \"Colin\"]\n",
    "lab_groups = [lab_group0, lab_group1]\n",
    "print(lab_groups)"
   ]
  },
  {
   "cell_type": "code",
   "execution_count": null,
   "metadata": {},
   "outputs": [],
   "source": [
    "for grp, group in enumerate(lab_groups):\n",
    "    for index, member in enumerate(group):\n",
    "        if member == \"Emily\":\n",
    "            print(grp, index)\n",
    "            break"
   ]
  },
  {
   "cell_type": "markdown",
   "metadata": {},
   "source": [
    "we can use the first index to access a list, and a second index to access the entry in that list:"
   ]
  },
  {
   "cell_type": "code",
   "execution_count": null,
   "metadata": {},
   "outputs": [],
   "source": [
    "group = lab_groups[0]\n",
    "print(group, type(group))\n",
    "\n",
    "name = lab_groups[1][4]\n",
    "print(name, type(name))"
   ]
  },
  {
   "cell_type": "markdown",
   "metadata": {},
   "source": [
    "#### Iteration\n",
    "Looping over each item in a list (or more generally a sequence) is called *iteration*. We iterate over the members of the lab group using the syntax:"
   ]
  },
  {
   "cell_type": "code",
   "execution_count": null,
   "metadata": {},
   "outputs": [],
   "source": [
    "for i in range(len(lab_group0)):\n",
    "    print(lab_group0[i], type(i))"
   ]
  },
  {
   "cell_type": "code",
   "execution_count": null,
   "metadata": {},
   "outputs": [],
   "source": [
    "for member in lab_group0:\n",
    "    print(member, type(member))"
   ]
  },
  {
   "cell_type": "markdown",
   "metadata": {},
   "source": [
    "Say we want to iterate over the names of the lab group members, and get the position\n",
    "of each member in the list. We use `enumerate` for this: "
   ]
  },
  {
   "cell_type": "code",
   "execution_count": null,
   "metadata": {},
   "outputs": [],
   "source": [
    "for n, member in enumerate(lab_group0):\n",
    "    print(n, member)"
   ]
  },
  {
   "cell_type": "markdown",
   "metadata": {},
   "source": [
    "In the above, `n` is the position in the list and `member` is the $n$th entry in the list. Sometimes we need to know the position, in which case `enumerate` is helpful. However, when possible it is preferable to use a 'plain' iteration. Note that Python counts from zero - it uses zero-based indexing."
   ]
  },
  {
   "cell_type": "markdown",
   "metadata": {},
   "source": [
    "#### Heterogeneity\n",
    "Python lists are heterogeneous data structures - this means they can store mixed types, e.g."
   ]
  },
  {
   "cell_type": "code",
   "execution_count": null,
   "metadata": {},
   "outputs": [],
   "source": [
    "mixed_list = [\"Adam\", 2 + 4j, 1.0, 4]\n",
    "for entry in mixed_list:\n",
    "    print(entry, type(entry))"
   ]
  },
  {
   "cell_type": "markdown",
   "metadata": {},
   "source": [
    "Arrays in most languages are homogeneous - all types in the array must be the same.\n",
    "\n",
    "#### Manipulating lists \n",
    "There are many functions for manipulating lists. It might be useful to sort the list:"
   ]
  },
  {
   "cell_type": "code",
   "execution_count": null,
   "metadata": {},
   "outputs": [],
   "source": [
    "print(lab_group0)\n",
    "lab_group0.sort()\n",
    "for member in lab_group0:\n",
    "    print(member)"
   ]
  },
  {
   "cell_type": "markdown",
   "metadata": {},
   "source": [
    "In the above, `sort` is known as a method of a `list`. It performs an *in-place* sort, i.e. `lab_group0` is sorted, rather than creating a new list with sorted entries (for the latter we would use `sorted(lab_group0)`, which returns a new list).\n",
    "\n",
    "With lists we can add and remove students:"
   ]
  },
  {
   "cell_type": "code",
   "execution_count": null,
   "metadata": {},
   "outputs": [],
   "source": [
    "# Remove the second student (indexing starts from 0, so 1 is the second element)\n",
    "student2 = lab_group0.pop(1)\n",
    "print(lab_group0)\n",
    "print(student2)\n",
    "\n",
    "# Add new student \"Josephine\" at the end of the list\n",
    "lab_group0.append(\"Josephine\")\n",
    "print(lab_group0)"
   ]
  },
  {
   "cell_type": "markdown",
   "metadata": {},
   "source": [
    "or maybe join two groups to create one larger group:"
   ]
  },
  {
   "cell_type": "code",
   "execution_count": null,
   "metadata": {},
   "outputs": [],
   "source": [
    "lab_group1 = [\"Roger\", \"Rachel\", \"Amer\", \"Caroline\", \"Colin\"]\n",
    "\n",
    "lab_group = lab_group0 + lab_group1\n",
    "print(lab_group)"
   ]
  },
  {
   "cell_type": "markdown",
   "metadata": {},
   "source": [
    "or create a list of group lists:"
   ]
  },
  {
   "cell_type": "code",
   "execution_count": null,
   "metadata": {},
   "outputs": [],
   "source": [
    "lab_groups = [lab_group0, lab_group1]\n",
    "print(lab_groups)\n",
    "\n",
    "print(\"---\")\n",
    "\n",
    "print(\"Print each lab group (name and members):\")\n",
    "for index, lab_group in enumerate(lab_groups):\n",
    "    print(index, lab_group)"
   ]
  },
  {
   "cell_type": "markdown",
   "metadata": {},
   "source": [
    "The official Python Tutorial page [More on Lists](https://docs.python.org/3/tutorial/datastructures.html#more-on-lists) describes the rest of the methods for Python lists."
   ]
  },
  {
   "cell_type": "markdown",
   "metadata": {},
   "source": [
    "### Tuples\n",
    "The tuple data type is almost identical to the list data type, except that their elements are immutable, that is, they cannot have their values modified, appended, or removed. A tuple begins with an opening parentheses and ends with a closing parentheses, `()`.\n",
    "\n",
    "For something that should not change after it has been created, such as a vector of length three with fixed entries, a tuple is more appropriate than a list. It is 'safer' in this case since it cannot be modified accidentally in a program. Being immutable ('read-only') also permits implementations to be optimised for speed.\n",
    "\n",
    "To create a tuple, use round brackets. Say at a college each student is assigned a room, and the rooms are numbered. A student 'Laura' is given room 32:"
   ]
  },
  {
   "cell_type": "code",
   "execution_count": null,
   "metadata": {},
   "outputs": [],
   "source": [
    "room = (\"Laura\", 32)\n",
    "print(\"Room allocation: \" + str(room))\n",
    "print(\"Length of entry: \" + str(len(room)))\n",
    "print(type(room))"
   ]
  },
  {
   "cell_type": "markdown",
   "metadata": {},
   "source": [
    "We can iterate over tuples in the same way as with lists,"
   ]
  },
  {
   "cell_type": "code",
   "execution_count": null,
   "metadata": {},
   "outputs": [],
   "source": [
    "# Iterate over tuple values\n",
    "for d in room:\n",
    "    print(d)"
   ]
  },
  {
   "cell_type": "markdown",
   "metadata": {},
   "source": [
    "and we can index into a tuple:"
   ]
  },
  {
   "cell_type": "code",
   "execution_count": null,
   "metadata": {
    "scrolled": true
   },
   "outputs": [],
   "source": [
    "# Index into tuple values\n",
    "print(room[1])\n",
    "print(room[0])"
   ]
  },
  {
   "cell_type": "markdown",
   "metadata": {},
   "source": [
    "It is also possible to assign the elements of a tuple into several variables in a single assignment statement. This process is called tuple unpacking and it works for any sequence on the right-hand side. Sequence unpacking requires that there are as many variables on the left side of the equals sign as there are elements in the sequence. For example:"
   ]
  },
  {
   "cell_type": "code",
   "execution_count": null,
   "metadata": {},
   "outputs": [],
   "source": [
    "student, room_number = room\n",
    "print(f\"Student: {student}, Room number: {room_number}\")"
   ]
  },
  {
   "cell_type": "markdown",
   "metadata": {},
   "source": [
    "We might have a student who is given permission to live outside of college. To keep track of them we still want an entry for the student, but there is no associated room number. We can create a tuple of length one:"
   ]
  },
  {
   "cell_type": "code",
   "execution_count": null,
   "metadata": {},
   "outputs": [],
   "source": [
    "room = (\"Adrian\",)\n",
    "print(\"Room allocation: \" + str(room))\n",
    "print(\"Length of entry: \" + str(len(room)))\n",
    "print(type(room))"
   ]
  },
  {
   "cell_type": "markdown",
   "metadata": {},
   "source": [
    "As part of a rooms database, we can create a list of tuples:"
   ]
  },
  {
   "cell_type": "code",
   "execution_count": null,
   "metadata": {},
   "outputs": [],
   "source": [
    "room_allocation = [(\"Adrian\",), (\"Laura\", 32), (\"John\", 31), (\"Penelope\", 28), (\"Fraser\", 28), (\"Gaurav\", 19)]\n",
    "print(room_allocation)"
   ]
  },
  {
   "cell_type": "markdown",
   "metadata": {},
   "source": [
    "To make it easier for students to find their rooms on a printed room list, we can sort the list:"
   ]
  },
  {
   "cell_type": "code",
   "execution_count": null,
   "metadata": {},
   "outputs": [],
   "source": [
    "room_allocation.sort()\n",
    "print(room_allocation)"
   ]
  },
  {
   "cell_type": "markdown",
   "metadata": {},
   "source": [
    "We could improve the printed list by not printing those living outside of the college:"
   ]
  },
  {
   "cell_type": "code",
   "execution_count": null,
   "metadata": {},
   "outputs": [],
   "source": [
    "for entry in room_allocation:\n",
    "    if len(entry) > 1:\n",
    "        print(\"Name: \" + str(entry[0]) + \" \\n  Room: \" + str(entry[1]))"
   ]
  },
  {
   "cell_type": "markdown",
   "metadata": {},
   "source": [
    "#### Immutability\n",
    "\n",
    "Though tuples may seem similar to lists, they are often used in different situations and for different purposes. Tuples are immutable, and usually contain a heterogeneous sequence of elements that are accessed via unpacking or indexing. Lists are mutable, and their elements are usually homogeneous and are accessed by iterating over the list. \n",
    "\n",
    "If we try to change the student's name in the `room` tuple, we get an error:"
   ]
  },
  {
   "cell_type": "code",
   "execution_count": null,
   "metadata": {},
   "outputs": [],
   "source": [
    "room[0] = \"Liza\""
   ]
  },
  {
   "cell_type": "markdown",
   "metadata": {},
   "source": [
    "#### Operations and Methods\n",
    "\n",
    "A tuple can also be concatenated to another tuple or can be repeated using the same operators used for strings:"
   ]
  },
  {
   "cell_type": "code",
   "execution_count": null,
   "metadata": {},
   "outputs": [],
   "source": [
    "dice_roll_1 = (1, 4, 3, 5, 1)\n",
    "dice_roll_2 = (2, 4, 5, 7, 4)\n",
    "\n",
    "all_rolls = dice_roll_1 + dice_roll_2 # concatenation\n",
    "print(all_rolls)\n",
    "\n",
    "double_rolls = all_rolls * 2 # repetition\n",
    "print(double_rolls)"
   ]
  },
  {
   "cell_type": "markdown",
   "metadata": {},
   "source": [
    "Tuples also have the `count` method:"
   ]
  },
  {
   "cell_type": "code",
   "execution_count": null,
   "metadata": {},
   "outputs": [],
   "source": [
    "double_rolls.count(1) # Count all the 1s in the tuple"
   ]
  },
  {
   "cell_type": "markdown",
   "metadata": {},
   "source": [
    "If we need to know the index of the first occurrence of an element in a tuple, we can use the `index` method:"
   ]
  },
  {
   "cell_type": "code",
   "execution_count": null,
   "metadata": {},
   "outputs": [],
   "source": [
    "double_rolls.index(7)"
   ]
  },
  {
   "cell_type": "markdown",
   "metadata": {},
   "source": [
    "## References\n",
    "- Lutz, M. (2009). *Learning Python: Powerful Object-Oriented Programming*. Beijing: OReilly.\n",
    "- Python Software Foundation (2022). *An Informal Introduction to Python - Python 3.10.4 documentation*. Retrieved from https://docs.python.org/3/tutorial/introduction.html#lists\n",
    "- Python Software Foundation (2022). *Data Structures - Python 3.10.4 documentation*. Retrieved from https://docs.python.org/3/tutorial/datastructures.html#tuples-and-sequences\n",
    "- Sweigart, A. (2019). *Automate The Boring Stuff With Python, 2nd Edition*. No Starch Press, US."
   ]
  }
 ],
 "metadata": {
  "kernelspec": {
   "display_name": "Python 3 (ipykernel)",
   "language": "python",
   "name": "python3"
  },
  "language_info": {
   "codemirror_mode": {
    "name": "ipython",
    "version": 3
   },
   "file_extension": ".py",
   "mimetype": "text/x-python",
   "name": "python",
   "nbconvert_exporter": "python",
   "pygments_lexer": "ipython3",
   "version": "3.9.7"
  }
 },
 "nbformat": 4,
 "nbformat_minor": 2
}
