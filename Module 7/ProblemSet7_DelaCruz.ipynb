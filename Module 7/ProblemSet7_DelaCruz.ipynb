{
 "cells": [
  {
   "cell_type": "markdown",
   "id": "d9b1e255",
   "metadata": {},
   "source": [
    "# Programming Logic and Design Laboratory (LBYCPA1)"
   ]
  },
  {
   "cell_type": "markdown",
   "id": "b6264da4",
   "metadata": {},
   "source": [
    "Before you turn this problem in, make sure everything runs as expected. First, **restart the kernel** (in the menubar, select Kernel$\\rightarrow$Restart) and then **run all cells** (in the menubar, select Cell$\\rightarrow$Run All).\n",
    "\n",
    "Make sure you fill in any place that says `YOUR CODE HERE` or `YOUR ANSWER HERE`, as well as your name and other information below inside the double quotes. Remove the line `raise NotImplementedError()` once you have answered the problem.\n",
    "\n",
    "REMINDERS: Section 4.15 of the Student Handbook (SH) 2018-2021 provides that:\n",
    "\n",
    "As a Catholic University that prepares its students to become professionals and be the resource for Church and nation, De La Salle University puts a premium on academic honesty. A student's academic requirements, such as assignments, term papers, computer programs/projects, and thesis papers, should be his/her own work. He/She must distinguish between his/her own ideas and those of other authors.\n",
    "\n",
    "The student must cite references, direct quotes, and other sources (including data obtained from tables, illustrations, figures, pictures, images, and video) following the prescribed format of the discipline. Should a student intend to submit a similar previous work for credit, in different courses, a written permission must first be obtained from the faculty members concerned. In addition, for works where he/she is only one of the authors, the following must be observed.\n",
    "\n",
    "4.15.1 Provide a disclaimer stating that the work is not entirely his/hers;\n",
    "\n",
    "4.15.2 The work cannot be published without written consent of the group of authors.\n",
    "\n",
    "4.15.3 If the work is separable (i.e. parts are clearly attributed to the individual authors), the student may use and must cite his/her own part only; otherwise, the student must seek the written consent of the group of authors.\n",
    "\n",
    "4.15.4 Computer codes obtained from open source reference may be copied freely, but the source should be cited, provided further that the faculty member allows the use of open source reference in the course."
   ]
  },
  {
   "cell_type": "markdown",
   "id": "1563dc83",
   "metadata": {},
   "source": [
    "## Rubric for the Final Laboratory Report\n",
    "\n",
    "|Criteria|EXEMPLARY (90-100)|SATISFACTORY (80-89)|DEVELOPING (70-79)|BEGINNING (Below 70)|WEIGHT|\n",
    "|:-|:-|:-|:-|:-|:-:|\n",
    "|**Experimental Plan (Flowchart/ Algorithm)**|Experimental plan has supporting details and diagram/algorithm that is stated and well explained|Experimental plan has supporting details and diagram/algorithm that is stated but not explained|Experimental plan is vague or brief. It has supporting details and doesn’t have diagram/algorithm|No experimental plan presented|30%|\n",
    "|**Conducting Experiment/ Activity**|Objective and Materials used (modern engineering tools, software, and instruments/equipment) are identified. Steps are easy to follow for conducting and experiment/activity|Objective is not stated. Materials used (modern engineering tools, software, and instruments/equipment) are identified. Steps are easy to follow for conducting and experiment/activity|Does not provide enough information to conduct an experiment/activity|No Objective, Materials used (modern engineering tools, software, and instruments/equipment), and steps for conducting experiment/activity provided|20%|\n",
    "|**Codes/Data/ Program**|Data is well utilized in the program. Program codes are easy to read. Program output has no error. Questions are answered completely and correctly|Data is somewhat utilized in the program. Program code are easy to read. Program output has an output but logically incorrect. Some questions are answered completely and correctly|Data is not utilized in the program. It has a missing significant code/syntax in the program|No program presented|30%|\n",
    "|**Grammar, logical presentation, and format**|The report was grammatically correct, logically presented and used the required format|The report had minimal grammatical errors and somewhat presented logically. The required format was used|The report had a lot of grammatical errors and not logically presented; the required format was barely used|The report had a lot of grammatical errors, was not logically presented and the required format was not used|20%|"
   ]
  },
  {
   "cell_type": "code",
   "execution_count": 127,
   "id": "32d23f82",
   "metadata": {},
   "outputs": [],
   "source": [
    "# Fill-up the following information (put inside double quotes)\n",
    "\n",
    "NAME = \"DELA CRUZ, JOHN CARLO THEO S.\"                   # e.g. LIGUTAN, DINO DOMINIC F.\n",
    "STUDENT_NUMBER = \"12195758\"         # e.g. 20192118\n",
    "SECTION = \"EQ1\"                # e.g. EQ1\n",
    "DATE_TIME_COMPLETED = \"05/24/22, 10:43PM\"    # e.g. 03/21/2022,11:00"
   ]
  },
  {
   "cell_type": "markdown",
   "id": "0b4d28c8",
   "metadata": {},
   "source": [
    "<hr style=\"border:1px solid black\"> </hr>"
   ]
  },
  {
   "cell_type": "markdown",
   "id": "e18d94cf",
   "metadata": {
    "deletable": false,
    "editable": false,
    "nbgrader": {
     "cell_type": "markdown",
     "checksum": "1e399beab23075fb6b7996022282105a",
     "grade": false,
     "grade_id": "cell-d67e30b5d7100133",
     "locked": true,
     "schema_version": 3,
     "solution": false,
     "task": false
    }
   },
   "source": [
    "# Problem Set 7\n",
    "<hr style=\"border:1px solid gray\"> </hr>"
   ]
  },
  {
   "cell_type": "markdown",
   "id": "856a9bde",
   "metadata": {
    "deletable": false,
    "editable": false,
    "nbgrader": {
     "cell_type": "markdown",
     "checksum": "2521c8cbabb4291cdc9920b5d61fd0aa",
     "grade": false,
     "grade_id": "cell-656c35d40044ad5b",
     "locked": true,
     "schema_version": 3,
     "solution": false,
     "task": false
    }
   },
   "source": [
    "1. Given a list of integers, write a function that will efficiently find the sum of the elements of a sublist that has the greatest value when all of its elements are summed together."
   ]
  },
  {
   "cell_type": "code",
   "execution_count": 123,
   "id": "c9704ce9",
   "metadata": {
    "deletable": false,
    "nbgrader": {
     "cell_type": "code",
     "checksum": "75471dd0a276d8eb666070af2d103a13",
     "grade": false,
     "grade_id": "cell-32216f35a45b784e",
     "locked": false,
     "schema_version": 3,
     "solution": true,
     "task": false
    }
   },
   "outputs": [],
   "source": [
    "def maxsublistsum(nums):\n",
    "    # This function finds the largest sum of the sublist possible from the given list. It should return an integer\n",
    "    \n",
    "    if type(nums) is not list:\n",
    "        raise TypeError(\"Input must be a list\")\n",
    "        \n",
    "    sum1 = 0\n",
    "    maxSum = 0\n",
    "    \n",
    "    for x in nums:\n",
    "        if sum1<0:\n",
    "            sum1 = 0\n",
    "        sum1 += x\n",
    "        maxSum = max(maxSum,sum1)\n",
    "    \n",
    "    return int(maxSum)"
   ]
  },
  {
   "cell_type": "code",
   "execution_count": 124,
   "id": "97ebd86c",
   "metadata": {
    "deletable": false,
    "editable": false,
    "nbgrader": {
     "cell_type": "code",
     "checksum": "3f4c929debabf9c40932ceac8ef4f99e",
     "grade": true,
     "grade_id": "cell-a863d6410ce95310",
     "locked": true,
     "points": 1,
     "schema_version": 3,
     "solution": false,
     "task": false
    }
   },
   "outputs": [],
   "source": [
    "# DO NOT MODIFY, THIS IS UNIT TESTING! [1 pt]\n",
    "from nose.tools import assert_equal\n",
    "\n",
    "assert_equal(maxsublistsum([1, 2, -5, 4, -3, 2]), 4)\n",
    "assert_equal(maxsublistsum([1, 7, 8, -5, 3, 4, -3, 2, 7, -10, 1, 2, 1]), 24)\n",
    "assert_equal(maxsublistsum([2, 3, -7, 8, 4, 5, -2, 3, 5]), 23)"
   ]
  },
  {
   "cell_type": "code",
   "execution_count": 125,
   "id": "a473e288",
   "metadata": {
    "deletable": false,
    "editable": false,
    "nbgrader": {
     "cell_type": "code",
     "checksum": "64de182bd740016915b1580fbfc3776a",
     "grade": true,
     "grade_id": "cell-b25b3cbf30198389",
     "locked": true,
     "points": 1,
     "schema_version": 3,
     "solution": false,
     "task": false
    }
   },
   "outputs": [],
   "source": [
    "# HIDDEN TEST [1 pt]"
   ]
  },
  {
   "cell_type": "code",
   "execution_count": 126,
   "id": "8645d150",
   "metadata": {
    "deletable": false,
    "editable": false,
    "nbgrader": {
     "cell_type": "code",
     "checksum": "132b0790e59dc2a12fd587ee7b948f0c",
     "grade": false,
     "grade_id": "cell-6681d7651b3d3345",
     "locked": true,
     "schema_version": 3,
     "solution": false,
     "task": false
    }
   },
   "outputs": [
    {
     "name": "stdout",
     "output_type": "stream",
     "text": [
      "Input a list of integers, separated by space: 1 2 -5 4 -3 2\n",
      "Largest sum possible: 4\n"
     ]
    }
   ],
   "source": [
    "# SAMPLE TEST, DO NOT MODIFY! JUST EXECUTE ONLY FOR OUTPUT\n",
    "# You can add a cell below if you need to test a different input\n",
    "\n",
    "msg = input(\"Input a list of integers, separated by space: \")\n",
    "nums = [int(num) for num in msg.split()]\n",
    "print(f\"Largest sum possible: {maxsublistsum(nums)}\")"
   ]
  },
  {
   "cell_type": "markdown",
   "id": "f6e5f9a7",
   "metadata": {
    "deletable": false,
    "editable": false,
    "nbgrader": {
     "cell_type": "markdown",
     "checksum": "31f290f37257ced2cfd91583b53bd980",
     "grade": false,
     "grade_id": "cell-2e74313128197e3e",
     "locked": true,
     "schema_version": 3,
     "solution": false,
     "task": false
    }
   },
   "source": [
    "2. Implement a function that will return a list of words that has number of letters greater than or equal to a certain given threshold and the number of such words as a tuple. It should accept an arbitrary string as its input. Punctuation marks should not be included for counting the length of a word."
   ]
  },
  {
   "cell_type": "code",
   "execution_count": 118,
   "id": "2c64c1f3",
   "metadata": {
    "deletable": false,
    "nbgrader": {
     "cell_type": "code",
     "checksum": "ceb08e9cacba64def263e21bec343677",
     "grade": false,
     "grade_id": "cell-2a67d9bb9ce95749",
     "locked": false,
     "schema_version": 3,
     "solution": true,
     "task": false
    }
   },
   "outputs": [],
   "source": [
    "import string # import string for punctuation characters\n",
    "\n",
    "def lists_words(msg, threshold=1):\n",
    "    # This function returns a list of words whose length is greater than or equal to the threshold\n",
    "    \n",
    "    if type(msg) is not str:\n",
    "        raise TypeError(\"Input not a valid string\")\n",
    "    \n",
    "    msg = msg.translate(str.maketrans('', '', string.punctuation)) # removes all punctuations\n",
    "    \n",
    "    text = [x for x in msg.split() if len(x) >= threshold]\n",
    "    return (text, len(text))\n"
   ]
  },
  {
   "cell_type": "code",
   "execution_count": 117,
   "id": "9ab9b600",
   "metadata": {},
   "outputs": [
    {
     "data": {
      "text/plain": [
       "([], 0)"
      ]
     },
     "execution_count": 117,
     "metadata": {},
     "output_type": "execute_result"
    }
   ],
   "source": [
    "zen_of_python = \"\"\"\n",
    "Beautiful is better than ugly.\n",
    "Explicit is better than implicit.\n",
    "Simple is better than complex.\n",
    "Complex is better than complicated.\n",
    "Flat is better than nested.\n",
    "Sparse is better than dense.\n",
    "Readability counts.\n",
    "Special cases aren't special enough to break the rules.\n",
    "Although practicality beats purity.\n",
    "Errors should never pass silently.\n",
    "Unless explicitly silenced.\n",
    "In the face of ambiguity, refuse the temptation to guess.\n",
    "There should be one-- and preferably only one --obvious way to do it.\n",
    "Although that way may not be obvious at first unless you're Dutch.\n",
    "Now is better than never.\n",
    "Although never is often better than *right* now.\n",
    "If the implementation is hard to explain, it's a bad idea.\n",
    "If the implementation is easy to explain, it may be a good idea.\n",
    "Namespaces are one honking great idea -- let's do more of those!\n",
    "\"\"\"\n",
    "\n",
    "lists_words(zen_of_python, 15)"
   ]
  },
  {
   "cell_type": "code",
   "execution_count": 116,
   "id": "a7dafd54",
   "metadata": {
    "deletable": false,
    "editable": false,
    "nbgrader": {
     "cell_type": "code",
     "checksum": "9078b4d18093d645be26e02c1199c7e7",
     "grade": true,
     "grade_id": "cell-0ecdfae26dbb43fd",
     "locked": true,
     "points": 1,
     "schema_version": 3,
     "solution": false,
     "task": false
    }
   },
   "outputs": [],
   "source": [
    "# DO NOT MODIFY, THIS IS UNIT TESTING! [1 pt]\n",
    "from nose.tools import assert_equal\n",
    "\n",
    "zen_of_python = \"\"\"\n",
    "Beautiful is better than ugly.\n",
    "Explicit is better than implicit.\n",
    "Simple is better than complex.\n",
    "Complex is better than complicated.\n",
    "Flat is better than nested.\n",
    "Sparse is better than dense.\n",
    "Readability counts.\n",
    "Special cases aren't special enough to break the rules.\n",
    "Although practicality beats purity.\n",
    "Errors should never pass silently.\n",
    "Unless explicitly silenced.\n",
    "In the face of ambiguity, refuse the temptation to guess.\n",
    "There should be one-- and preferably only one --obvious way to do it.\n",
    "Although that way may not be obvious at first unless you're Dutch.\n",
    "Now is better than never.\n",
    "Although never is often better than *right* now.\n",
    "If the implementation is hard to explain, it's a bad idea.\n",
    "If the implementation is easy to explain, it may be a good idea.\n",
    "Namespaces are one honking great idea -- let's do more of those!\n",
    "\"\"\"\n",
    "\n",
    "assert_equal(lists_words(zen_of_python, 10), (['complicated','Readability','practicality','explicitly',\n",
    "    'temptation','preferably','implementation', 'implementation','Namespaces'], 9))\n",
    "assert_equal(lists_words(zen_of_python, 12), (['practicality', 'implementation', 'implementation'], 3))\n",
    "assert_equal(lists_words(zen_of_python, 15), ([], 0))"
   ]
  },
  {
   "cell_type": "code",
   "execution_count": 115,
   "id": "010023b3",
   "metadata": {
    "deletable": false,
    "editable": false,
    "nbgrader": {
     "cell_type": "code",
     "checksum": "8283154f74983a5085d8f78e9816dd8c",
     "grade": true,
     "grade_id": "cell-3336c707423a9f21",
     "locked": true,
     "points": 1,
     "schema_version": 3,
     "solution": false,
     "task": false
    }
   },
   "outputs": [],
   "source": [
    "# HIDDEN TEST [1 pt]"
   ]
  },
  {
   "cell_type": "code",
   "execution_count": 114,
   "id": "722794eb",
   "metadata": {
    "deletable": false,
    "editable": false,
    "nbgrader": {
     "cell_type": "code",
     "checksum": "9bc5f6e3df7ca16eedd5c5f22293294c",
     "grade": false,
     "grade_id": "cell-0784c2f91b471fde",
     "locked": true,
     "schema_version": 3,
     "solution": false,
     "task": false
    }
   },
   "outputs": [
    {
     "name": "stdout",
     "output_type": "stream",
     "text": [
      "Specify the minimum word length: 12\n",
      "(['practicality', 'implementation', 'implementation'], 3)\n"
     ]
    }
   ],
   "source": [
    "# SAMPLE TEST, DO NOT MODIFY! JUST EXECUTE ONLY FOR OUTPUT\n",
    "# You can add a cell below if you need to test a different input\n",
    "\n",
    "threshold = int(input(\"Specify the minimum word length: \"))\n",
    "print(lists_words(zen_of_python, threshold))"
   ]
  },
  {
   "cell_type": "markdown",
   "id": "7e714857",
   "metadata": {
    "deletable": false,
    "editable": false,
    "nbgrader": {
     "cell_type": "markdown",
     "checksum": "cc001a440c440073ac37201085eaa1fd",
     "grade": false,
     "grade_id": "cell-89b3efbf31a2a6a0",
     "locked": true,
     "schema_version": 3,
     "solution": false,
     "task": false
    }
   },
   "source": [
    "3. An IP address is a set of four numbers that identifies a device on the internet or a local area network. These four numbers are separated by period (`.`) when written in decimal representation. The four numbers are whole numbers limited from 0 up to 255. An IP address is valid if it consists of four numbers (limited from 0 up to 255) with periods in between (e.g., `192.168.0.1`). Develop a function that will return a tuple of valid IP addresses in a given text."
   ]
  },
  {
   "cell_type": "code",
   "execution_count": 5,
   "id": "8e4be266",
   "metadata": {
    "deletable": false,
    "nbgrader": {
     "cell_type": "code",
     "checksum": "bca7cedbcad5774230f2659fe9d61f19",
     "grade": false,
     "grade_id": "cell-f17ba2ccc79da39d",
     "locked": false,
     "schema_version": 3,
     "solution": true,
     "task": false
    }
   },
   "outputs": [],
   "source": [
    "import string\n",
    "\n",
    "txt1 = \"Hello my ip address is 192.167.1.1 and I always listen to the radio 92.5. I know a lot about\"\\\n",
    "        \"IP addresses and that 19.255.244.212 is a valid ip and 256.300.12.12 is not.\"\n",
    "txt2 = \"Hackers get the IP address of people ... but I am not a hacker so I just ask them about it.\"\\\n",
    "        \"Sometimes they say 2.3.4.1 or 19.23.110.45. Others say 90.4532.22.345 but I know its wrong.\"\n",
    "\n",
    "def list_valid_ip(text):\n",
    "    l1 = [i if i.count('.') == 3 and i[0].isdigit() else i.strip('.') if (i.count('.') == 4 and i[0].isdigit()) else '' for i in text.split()]\n",
    "    l1 = [i for i in l1 if not i == '']\n",
    "    l2 = [i.split('.') for i in l1]\n",
    "    l3 = [l2[i] for i in range(len(l2)) if len(l2[i]) == 4]\n",
    "    l4 = [l1[i] for i in range(len(l3)) if all(0 < int(y) < 256 for y in l3[i])]\n",
    "    tupleList = tuple(l4)\n",
    "    print(l1)\n",
    "    print('\\n')\n",
    "    print(l2)\n",
    "    print('\\n')\n",
    "    print(l3)\n",
    "    print('\\n')\n",
    "    print(l4)\n",
    "    print('\\n')\n",
    "    return tupleList"
   ]
  },
  {
   "cell_type": "code",
   "execution_count": 7,
   "id": "c3ed63cd",
   "metadata": {},
   "outputs": [
    {
     "name": "stdout",
     "output_type": "stream",
     "text": [
      "['Hello', 'world', 'a', 'b', 'c']\n"
     ]
    }
   ],
   "source": [
    "sentence = 'Hello world a b c'\n",
    "split_sentence = sentence.split(' ')\n",
    "print(split_sentence)"
   ]
  },
  {
   "cell_type": "code",
   "execution_count": 6,
   "id": "596c131d",
   "metadata": {
    "deletable": false,
    "editable": false,
    "nbgrader": {
     "cell_type": "code",
     "checksum": "beefb48ed377303ddce13ee11a8a2298",
     "grade": true,
     "grade_id": "cell-861772d45b70f49d",
     "locked": true,
     "points": 1,
     "schema_version": 3,
     "solution": false,
     "task": false
    }
   },
   "outputs": [
    {
     "name": "stdout",
     "output_type": "stream",
     "text": [
      "['192.167.1.1', '19.255.244.212', '256.300.12.12']\n",
      "\n",
      "\n",
      "[['192', '167', '1', '1'], ['19', '255', '244', '212'], ['256', '300', '12', '12']]\n",
      "\n",
      "\n",
      "[['192', '167', '1', '1'], ['19', '255', '244', '212'], ['256', '300', '12', '12']]\n",
      "\n",
      "\n",
      "['192.167.1.1', '19.255.244.212']\n",
      "\n",
      "\n"
     ]
    }
   ],
   "source": [
    "# DO NOT MODIFY, THIS IS UNIT TESTING! [1 pt]\n",
    "from nose.tools import assert_equal\n",
    "\n",
    "assert_equal(list_valid_ip(txt1), ('192.167.1.1', '19.255.244.212'))"
   ]
  },
  {
   "cell_type": "code",
   "execution_count": 3,
   "id": "0197a3c1",
   "metadata": {
    "deletable": false,
    "editable": false,
    "nbgrader": {
     "cell_type": "code",
     "checksum": "01f3561b7e33d5b4054cd6d4e4cb96de",
     "grade": true,
     "grade_id": "cell-1fa0ead94c035a39",
     "locked": true,
     "points": 1,
     "schema_version": 3,
     "solution": false,
     "task": false
    }
   },
   "outputs": [
    {
     "name": "stdout",
     "output_type": "stream",
     "text": [
      "['2.3.4.1', '19.23.110.45', '90.4532.22.345']\n",
      "[['2', '3', '4', '1'], ['19', '23', '110', '45'], ['90', '4532', '22', '345']]\n",
      "[['2', '3', '4', '1'], ['19', '23', '110', '45'], ['90', '4532', '22', '345']]\n",
      "['2.3.4.1', '19.23.110.45']\n"
     ]
    }
   ],
   "source": [
    "# DO NOT MODIFY, THIS IS UNIT TESTING! [1 pt]\n",
    "from nose.tools import assert_equal\n",
    "\n",
    "assert_equal(list_valid_ip(txt2), (\"2.3.4.1\", \"19.23.110.45\"))"
   ]
  },
  {
   "cell_type": "code",
   "execution_count": 87,
   "id": "3cd7f487",
   "metadata": {
    "deletable": false,
    "editable": false,
    "nbgrader": {
     "cell_type": "code",
     "checksum": "2f1cf648a51f399630b7d50df445b4bf",
     "grade": true,
     "grade_id": "cell-a79777fa5fed871f",
     "locked": true,
     "points": 1,
     "schema_version": 3,
     "solution": false,
     "task": false
    }
   },
   "outputs": [],
   "source": [
    "# HIDDEN TEST [1 pt]"
   ]
  },
  {
   "cell_type": "code",
   "execution_count": 4,
   "id": "fab042f2",
   "metadata": {
    "deletable": false,
    "editable": false,
    "nbgrader": {
     "cell_type": "code",
     "checksum": "b6905ef16104ae7d4c782b03d7161c3b",
     "grade": false,
     "grade_id": "cell-4fe84cfa67d2fab4",
     "locked": true,
     "schema_version": 3,
     "solution": false,
     "task": false
    }
   },
   "outputs": [
    {
     "name": "stdout",
     "output_type": "stream",
     "text": [
      "['192.167.1.1', '19.255.244.212', '256.300.12.12']\n",
      "[['192', '167', '1', '1'], ['19', '255', '244', '212'], ['256', '300', '12', '12']]\n",
      "[['192', '167', '1', '1'], ['19', '255', '244', '212'], ['256', '300', '12', '12']]\n",
      "['192.167.1.1', '19.255.244.212']\n",
      "('192.167.1.1', '19.255.244.212')\n",
      "['2.3.4.1', '19.23.110.45', '90.4532.22.345']\n",
      "[['2', '3', '4', '1'], ['19', '23', '110', '45'], ['90', '4532', '22', '345']]\n",
      "[['2', '3', '4', '1'], ['19', '23', '110', '45'], ['90', '4532', '22', '345']]\n",
      "['2.3.4.1', '19.23.110.45']\n",
      "('2.3.4.1', '19.23.110.45')\n"
     ]
    }
   ],
   "source": [
    "# SAMPLE TEST, DO NOT MODIFY, JUST EXECUTE ONLY FOR OUTPUT\n",
    "# You can add a cell below if you need to test a different input\n",
    "\n",
    "print(list_valid_ip(txt1))\n",
    "print(list_valid_ip(txt2))"
   ]
  },
  {
   "cell_type": "markdown",
   "id": "cf50a022",
   "metadata": {
    "deletable": false,
    "editable": false,
    "nbgrader": {
     "cell_type": "markdown",
     "checksum": "00bcccd094038713021b296a96030b96",
     "grade": false,
     "grade_id": "cell-e1bfc8f1f306abbf",
     "locked": true,
     "schema_version": 3,
     "solution": false,
     "task": false
    }
   },
   "source": [
    "4. You need to implement two functions for this problem. For the first function: Given the list of student ID numbers and their section, implement a function that rearranges the list with each entry a tuple of the form `(ID, Section)` and then removes any duplicate entries. A tuple entry is a duplicate of another if both the ID and Section is the same for both tuples. For the second function: Given the list of tuples of the form `(ID, Section)` with no duplicates, implement a function that will output a list of tuples with a given section name. The tuple entries mut be sorted by student ID number."
   ]
  },
  {
   "cell_type": "code",
   "execution_count": 17,
   "id": "c210e118",
   "metadata": {
    "deletable": false,
    "nbgrader": {
     "cell_type": "code",
     "checksum": "5bd3b8240065e310c306e39e0d03ae4f",
     "grade": false,
     "grade_id": "cell-36374e323cb18f1e",
     "locked": false,
     "schema_version": 3,
     "solution": true,
     "task": false
    }
   },
   "outputs": [],
   "source": [
    "def reorganize_student_list(student_list):\n",
    "    # This function reorganizes the list into tuples as well as eliminates any duplicate entries\n",
    "    \n",
    "    if type(student_list) is not list:\n",
    "        raise TypeError(\"Input must be a list\")\n",
    "        \n",
    "    #list to dictionary to tuples\n",
    "    student_dct = {student_list[x]:student_list[x+1] for  x in range (0, len(student_list),2)}\n",
    "    student_tup = [(idn, sec) for idn, sec in student_dct.items()]\n",
    "    return student_tup\n",
    "    \n",
    "\n",
    "def sort_filter_student_list(student_list, section=\"EQ1\"):\n",
    "    # This function selects the tuples with the required section and returns a a list of tuples sorted by ID numbers\n",
    "    \n",
    "    if type(student_list) is not list:\n",
    "        raise TypeError(\"Input must be a list\")\n",
    "    list1 = [x for x in student_list if x[1]==section]\n",
    "    list1 = sorted(list1)\n",
    "    \n",
    "    return list1\n"
   ]
  },
  {
   "cell_type": "code",
   "execution_count": 1,
   "id": "6f79bc08",
   "metadata": {},
   "outputs": [
    {
     "name": "stdout",
     "output_type": "stream",
     "text": [
      "dict_items([(120, 'apex'), (121, 'nice'), (119, 'apex')])\n"
     ]
    }
   ],
   "source": [
    "d1 = {120:\"hi\", 121:\"nice\"}\n",
    "d1[119]=\"apex\"\n",
    "d1[120]=\"apex\"\n",
    "print(d1.items())"
   ]
  },
  {
   "cell_type": "code",
   "execution_count": 27,
   "id": "c38e5d01",
   "metadata": {
    "scrolled": false
   },
   "outputs": [
    {
     "name": "stdout",
     "output_type": "stream",
     "text": [
      "2\n"
     ]
    }
   ],
   "source": [
    "tup = [(\"a\",1),(\"b\",2)]\n",
    "print(tup[1][1])"
   ]
  },
  {
   "cell_type": "code",
   "execution_count": 18,
   "id": "ca3083bd",
   "metadata": {
    "deletable": false,
    "editable": false,
    "nbgrader": {
     "cell_type": "code",
     "checksum": "6c2dab9e3b2943df2424b476375b879d",
     "grade": true,
     "grade_id": "cell-349cf941f53f1f52",
     "locked": true,
     "points": 1,
     "schema_version": 3,
     "solution": false,
     "task": false
    }
   },
   "outputs": [],
   "source": [
    "# DO NOT MODIFY, THIS IS UNIT TESTING! [1 pt]\n",
    "from nose.tools import assert_equal\n",
    "\n",
    "studentList = [ 12143446, \"EQ4\", 12182311, \"EQ1\", 12198579, \"EQ4\", 12125946, \"EQ1\", 12195758, \"EQ1\",\n",
    "    12111503, \"EQ1\", 12176451, \"EQ7\", 12124397, \"EQ4\", 12182311, \"EQ1\", 12174548, \"EQ7\",\n",
    "    12120804, \"EQ4\", 12134775, \"EQ4\", 12117839, \"EQ4\", 12125601, \"EQ1\", 12184640, \"EQ1\",\n",
    "    12184128, \"EQ4\", 12195766, \"EQ1\", 12176842, \"EQ4\", 12184128, \"EQ4\", 12111503, \"EQ1\",\n",
    "    12117033, \"EQ1\", 12184985, \"EQ7\", 12125946, \"EQ1\", 12188867, \"EQ7\", 12143421, \"EQ1\",\n",
    "    12182311, \"EQ1\", 12198323, \"EQ7\", 12112267, \"EQ7\", 12106844, \"EQ1\", 12112267, \"EQ7\",\n",
    "    12143446, \"EQ4\", 12191043, \"EQ1\", 12171891, \"EQ7\", 12173371, \"EQ1\", 12191272, \"EQ1\",\n",
    "    12174548, \"EQ7\", 12193143, \"EQ7\", 12190632, \"EQ4\", 12110760, \"EQ4\", 12198323, \"EQ7\",\n",
    "    12198579, \"EQ4\", 12116602, \"EQ4\", 12183873, \"EQ1\", 12134759, \"EQ7\", 12133426, \"EQ7\",\n",
    "    12110560, \"EQ7\", 12182621, \"EQ1\", 12116663, \"EQ4\", 12120804, \"EQ4\", 12198714, \"EQ7\",\n",
    "    12143466, \"EQ4\", 12183873, \"EQ1\", 12107336, \"EQ1\", 12172146, \"EQ1\", 12111503, \"EQ1\",\n",
    "    12110760, \"EQ4\", 12188867, \"EQ7\", 12107964, \"EQ4\", 12108880, \"EQ4\", 12194417, \"EQ7\",\n",
    "    12143219, \"EQ7\", 12134759, \"EQ7\", 12179310, \"EQ4\", 12184128, \"EQ4\", 12142158, \"EQ7\", \n",
    "    12198579, \"EQ4\", 12194417, \"EQ7\", 12176842, \"EQ4\", 12179620, \"EQ4\", 12109080, \"EQ1\"]\n",
    "\n",
    "assert_equal(reorganize_student_list(studentList), [(12143446, 'EQ4'), (12182311, 'EQ1'), (12198579, 'EQ4'), (12125946, 'EQ1'),\n",
    "    (12195758, 'EQ1'), (12111503, 'EQ1'), (12176451, 'EQ7'), (12124397, 'EQ4'), (12174548, 'EQ7'), (12120804, 'EQ4'),\n",
    "    (12134775, 'EQ4'), (12117839, 'EQ4'), (12125601, 'EQ1'), (12184640, 'EQ1'), (12184128, 'EQ4'), (12195766, 'EQ1'),\n",
    "    (12176842, 'EQ4'), (12117033, 'EQ1'), (12184985, 'EQ7'), (12188867, 'EQ7'), (12143421, 'EQ1'), (12198323, 'EQ7'),\n",
    "    (12112267, 'EQ7'), (12106844, 'EQ1'), (12191043, 'EQ1'), (12171891, 'EQ7'), (12173371, 'EQ1'), (12191272, 'EQ1'),\n",
    "    (12193143, 'EQ7'), (12190632, 'EQ4'), (12110760, 'EQ4'), (12116602, 'EQ4'), (12183873, 'EQ1'), (12134759, 'EQ7'),\n",
    "    (12133426, 'EQ7'), (12110560, 'EQ7'), (12182621, 'EQ1'), (12116663, 'EQ4'), (12198714, 'EQ7'), (12143466, 'EQ4'),\n",
    "    (12107336, 'EQ1'), (12172146, 'EQ1'), (12107964, 'EQ4'), (12108880, 'EQ4'), (12194417, 'EQ7'), (12143219, 'EQ7'),\n",
    "    (12179310, 'EQ4'), (12142158, 'EQ7'), (12179620, 'EQ4'), (12109080, 'EQ1')])\n",
    "assert_equal(len(reorganize_student_list(studentList)), 50)"
   ]
  },
  {
   "cell_type": "code",
   "execution_count": 22,
   "id": "cc47b8b6",
   "metadata": {
    "deletable": false,
    "editable": false,
    "nbgrader": {
     "cell_type": "code",
     "checksum": "063345758d041f4f5e65378d89b8cd7e",
     "grade": true,
     "grade_id": "cell-bb9ae99ac511258f",
     "locked": true,
     "points": 1,
     "schema_version": 3,
     "solution": false,
     "task": false
    }
   },
   "outputs": [],
   "source": [
    "# DO NOT MODIFY, THIS IS UNIT TESTING! [1 pt]\n",
    "from nose.tools import assert_equal\n",
    "\n",
    "organized_student_list = reorganize_student_list(studentList)\n",
    "assert_equal(sort_filter_student_list(organized_student_list, section=\"EQ1\"),\n",
    "    [(12106844, 'EQ1'), (12107336, 'EQ1'), (12109080, 'EQ1'), (12111503, 'EQ1'), (12117033, 'EQ1'), (12125601, 'EQ1'),\n",
    "     (12125946, 'EQ1'), (12143421, 'EQ1'), (12172146, 'EQ1'), (12173371, 'EQ1'), (12182311, 'EQ1'), (12182621, 'EQ1'),\n",
    "     (12183873, 'EQ1'), (12184640, 'EQ1'), (12191043, 'EQ1'), (12191272, 'EQ1'), (12195758, 'EQ1'), (12195766, 'EQ1')])\n",
    "assert_equal(sort_filter_student_list(organized_student_list, section=\"EQ4\"),\n",
    "    [(12107964, 'EQ4'), (12108880, 'EQ4'), (12110760, 'EQ4'), (12116602, 'EQ4'), (12116663, 'EQ4'), (12117839, 'EQ4'),\n",
    "     (12120804, 'EQ4'), (12124397, 'EQ4'), (12134775, 'EQ4'), (12143446, 'EQ4'), (12143466, 'EQ4'), (12176842, 'EQ4'),\n",
    "     (12179310, 'EQ4'), (12179620, 'EQ4'), (12184128, 'EQ4'), (12190632, 'EQ4'), (12198579, 'EQ4')])\n",
    "assert_equal(sort_filter_student_list(organized_student_list, section=\"EQ7\"),\n",
    "    [(12110560, 'EQ7'), (12112267, 'EQ7'), (12133426, 'EQ7'), (12134759, 'EQ7'), (12142158, 'EQ7'), (12143219, 'EQ7'),\n",
    "     (12171891, 'EQ7'), (12174548, 'EQ7'), (12176451, 'EQ7'), (12184985, 'EQ7'), (12188867, 'EQ7'), (12193143, 'EQ7'),\n",
    "     (12194417, 'EQ7'), (12198323, 'EQ7'), (12198714, 'EQ7')])\n",
    "assert_equal(sort_filter_student_list(organized_student_list, section=\"EQ8\"), [])"
   ]
  },
  {
   "cell_type": "code",
   "execution_count": 23,
   "id": "f3140ba7",
   "metadata": {
    "deletable": false,
    "editable": false,
    "nbgrader": {
     "cell_type": "code",
     "checksum": "3db55acc3b7df9a2c21927a0ad96695f",
     "grade": true,
     "grade_id": "cell-b88b738a393eb33d",
     "locked": true,
     "points": 1,
     "schema_version": 3,
     "solution": false,
     "task": false
    }
   },
   "outputs": [],
   "source": [
    "# HIDDEN TEST [1 pt]"
   ]
  },
  {
   "cell_type": "code",
   "execution_count": 24,
   "id": "b1abb54d",
   "metadata": {
    "deletable": false,
    "editable": false,
    "nbgrader": {
     "cell_type": "code",
     "checksum": "73aabac46d6afd117f02635cc7891c0b",
     "grade": false,
     "grade_id": "cell-8c2714df1b642986",
     "locked": true,
     "schema_version": 3,
     "solution": false,
     "task": false
    }
   },
   "outputs": [
    {
     "name": "stdout",
     "output_type": "stream",
     "text": [
      "[(12143446, 'EQ4'), (12182311, 'EQ1'), (12198579, 'EQ4'), (12125946, 'EQ1'), (12195758, 'EQ1'), (12111503, 'EQ1'), (12176451, 'EQ7'), (12124397, 'EQ4'), (12174548, 'EQ7'), (12120804, 'EQ4'), (12134775, 'EQ4'), (12117839, 'EQ4'), (12125601, 'EQ1'), (12184640, 'EQ1'), (12184128, 'EQ4'), (12195766, 'EQ1'), (12176842, 'EQ4'), (12117033, 'EQ1'), (12184985, 'EQ7'), (12188867, 'EQ7'), (12143421, 'EQ1'), (12198323, 'EQ7'), (12112267, 'EQ7'), (12106844, 'EQ1'), (12191043, 'EQ1'), (12171891, 'EQ7'), (12173371, 'EQ1'), (12191272, 'EQ1'), (12193143, 'EQ7'), (12190632, 'EQ4'), (12110760, 'EQ4'), (12116602, 'EQ4'), (12183873, 'EQ1'), (12134759, 'EQ7'), (12133426, 'EQ7'), (12110560, 'EQ7'), (12182621, 'EQ1'), (12116663, 'EQ4'), (12198714, 'EQ7'), (12143466, 'EQ4'), (12107336, 'EQ1'), (12172146, 'EQ1'), (12107964, 'EQ4'), (12108880, 'EQ4'), (12194417, 'EQ7'), (12143219, 'EQ7'), (12179310, 'EQ4'), (12142158, 'EQ7'), (12179620, 'EQ4'), (12109080, 'EQ1')]\n",
      "[(12106844, 'EQ1'), (12107336, 'EQ1'), (12109080, 'EQ1'), (12111503, 'EQ1'), (12117033, 'EQ1'), (12125601, 'EQ1'), (12125946, 'EQ1'), (12143421, 'EQ1'), (12172146, 'EQ1'), (12173371, 'EQ1'), (12182311, 'EQ1'), (12182621, 'EQ1'), (12183873, 'EQ1'), (12184640, 'EQ1'), (12191043, 'EQ1'), (12191272, 'EQ1'), (12195758, 'EQ1'), (12195766, 'EQ1')]\n",
      "[(12107964, 'EQ4'), (12108880, 'EQ4'), (12110760, 'EQ4'), (12116602, 'EQ4'), (12116663, 'EQ4'), (12117839, 'EQ4'), (12120804, 'EQ4'), (12124397, 'EQ4'), (12134775, 'EQ4'), (12143446, 'EQ4'), (12143466, 'EQ4'), (12176842, 'EQ4'), (12179310, 'EQ4'), (12179620, 'EQ4'), (12184128, 'EQ4'), (12190632, 'EQ4'), (12198579, 'EQ4')]\n",
      "[(12110560, 'EQ7'), (12112267, 'EQ7'), (12133426, 'EQ7'), (12134759, 'EQ7'), (12142158, 'EQ7'), (12143219, 'EQ7'), (12171891, 'EQ7'), (12174548, 'EQ7'), (12176451, 'EQ7'), (12184985, 'EQ7'), (12188867, 'EQ7'), (12193143, 'EQ7'), (12194417, 'EQ7'), (12198323, 'EQ7'), (12198714, 'EQ7')]\n"
     ]
    }
   ],
   "source": [
    "# SAMPLE TEST, DO NOT MODIFY, JUST EXECUTE ONLY FOR OUTPUT\n",
    "# You can add a cell below if you need to test a different input\n",
    "\n",
    "print(reorganize_student_list(studentList))\n",
    "print(sort_filter_student_list(reorganize_student_list(studentList), section=\"EQ1\"))\n",
    "print(sort_filter_student_list(reorganize_student_list(studentList), section=\"EQ4\"))\n",
    "print(sort_filter_student_list(reorganize_student_list(studentList), section=\"EQ7\"))"
   ]
  },
  {
   "cell_type": "markdown",
   "id": "f13cb08d",
   "metadata": {
    "deletable": false,
    "editable": false,
    "nbgrader": {
     "cell_type": "markdown",
     "checksum": "918019b8f5cb1ed0fb6ff6da2ec0142d",
     "grade": false,
     "grade_id": "cell-5ad1f443c7577c9c",
     "locked": true,
     "schema_version": 3,
     "solution": false,
     "task": false
    }
   },
   "source": [
    "***"
   ]
  },
  {
   "cell_type": "code",
   "execution_count": null,
   "id": "4ec652db",
   "metadata": {
    "deletable": false,
    "editable": false,
    "nbgrader": {
     "cell_type": "code",
     "checksum": "53b4ec65323e7059eb7f07596bdf8deb",
     "grade": true,
     "grade_id": "cell-4420f5b4060accd6",
     "locked": true,
     "points": 0,
     "schema_version": 3,
     "solution": false,
     "task": false
    }
   },
   "outputs": [],
   "source": []
  }
 ],
 "metadata": {
  "kernelspec": {
   "display_name": "Python 3 (ipykernel)",
   "language": "python",
   "name": "python3"
  },
  "language_info": {
   "codemirror_mode": {
    "name": "ipython",
    "version": 3
   },
   "file_extension": ".py",
   "mimetype": "text/x-python",
   "name": "python",
   "nbconvert_exporter": "python",
   "pygments_lexer": "ipython3",
   "version": "3.9.7"
  }
 },
 "nbformat": 4,
 "nbformat_minor": 5
}
