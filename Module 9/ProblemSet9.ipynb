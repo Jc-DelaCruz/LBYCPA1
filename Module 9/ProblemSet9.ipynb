{
 "cells": [
  {
   "cell_type": "markdown",
   "id": "9548c94e",
   "metadata": {},
   "source": [
    "# Programming Logic and Design Laboratory (LBYCPA1)"
   ]
  },
  {
   "cell_type": "markdown",
   "id": "968fae2f",
   "metadata": {},
   "source": [
    "Before you turn this problem in, make sure everything runs as expected. First, **restart the kernel** (in the menubar, select Kernel$\\rightarrow$Restart) and then **run all cells** (in the menubar, select Cell$\\rightarrow$Run All).\n",
    "\n",
    "Make sure you fill in any place that says `YOUR CODE HERE` or `YOUR ANSWER HERE`, as well as your name and other information below inside the double quotes. Remove the line `raise NotImplementedError()` once you have answered the problem.\n",
    "\n",
    "REMINDERS: Section 4.15 of the Student Handbook (SH) 2018-2021 provides that:\n",
    "\n",
    "As a Catholic University that prepares its students to become professionals and be the resource for Church and nation, De La Salle University puts a premium on academic honesty. A student's academic requirements, such as assignments, term papers, computer programs/projects, and thesis papers, should be his/her own work. He/She must distinguish between his/her own ideas and those of other authors.\n",
    "\n",
    "The student must cite references, direct quotes, and other sources (including data obtained from tables, illustrations, figures, pictures, images, and video) following the prescribed format of the discipline. Should a student intend to submit a similar previous work for credit, in different courses, a written permission must first be obtained from the faculty members concerned. In addition, for works where he/she is only one of the authors, the following must be observed.\n",
    "\n",
    "4.15.1 Provide a disclaimer stating that the work is not entirely his/hers;\n",
    "\n",
    "4.15.2 The work cannot be published without written consent of the group of authors.\n",
    "\n",
    "4.15.3 If the work is separable (i.e. parts are clearly attributed to the individual authors), the student may use and must cite his/her own part only; otherwise, the student must seek the written consent of the group of authors.\n",
    "\n",
    "4.15.4 Computer codes obtained from open source reference may be copied freely, but the source should be cited, provided further that the faculty member allows the use of open source reference in the course."
   ]
  },
  {
   "cell_type": "markdown",
   "id": "8770b911",
   "metadata": {},
   "source": [
    "## Rubric for the Final Laboratory Report\n",
    "\n",
    "|Criteria|EXEMPLARY (90-100)|SATISFACTORY (80-89)|DEVELOPING (70-79)|BEGINNING (Below 70)|WEIGHT|\n",
    "|:-|:-|:-|:-|:-|:-:|\n",
    "|**Experimental Plan (Flowchart/ Algorithm)**|Experimental plan has supporting details and diagram/algorithm that is stated and well explained|Experimental plan has supporting details and diagram/algorithm that is stated but not explained|Experimental plan is vague or brief. It has supporting details and doesn’t have diagram/algorithm|No experimental plan presented|30%|\n",
    "|**Conducting Experiment/ Activity**|Objective and Materials used (modern engineering tools, software, and instruments/equipment) are identified. Steps are easy to follow for conducting and experiment/activity|Objective is not stated. Materials used (modern engineering tools, software, and instruments/equipment) are identified. Steps are easy to follow for conducting and experiment/activity|Does not provide enough information to conduct an experiment/activity|No Objective, Materials used (modern engineering tools, software, and instruments/equipment), and steps for conducting experiment/activity provided|20%|\n",
    "|**Codes/Data/ Program**|Data is well utilized in the program. Program codes are easy to read. Program output has no error. Questions are answered completely and correctly|Data is somewhat utilized in the program. Program code are easy to read. Program output has an output but logically incorrect. Some questions are answered completely and correctly|Data is not utilized in the program. It has a missing significant code/syntax in the program|No program presented|30%|\n",
    "|**Grammar, logical presentation, and format**|The report was grammatically correct, logically presented and used the required format|The report had minimal grammatical errors and somewhat presented logically. The required format was used|The report had a lot of grammatical errors and not logically presented; the required format was barely used|The report had a lot of grammatical errors, was not logically presented and the required format was not used|20%|"
   ]
  },
  {
   "cell_type": "code",
   "execution_count": null,
   "id": "f7cbaa6c",
   "metadata": {},
   "outputs": [],
   "source": [
    "# Fill-up the following information (put inside double quotes)\n",
    "\n",
    "NAME = \"\"                   # e.g. LIGUTAN, DINO DOMINIC F.\n",
    "STUDENT_NUMBER = \"\"         # e.g. 20192118\n",
    "SECTION = \"\"                # e.g. EQ1\n",
    "DATE_TIME_COMPLETED = \"\"    # e.g. 03/21/2022,11:00"
   ]
  },
  {
   "cell_type": "markdown",
   "id": "f49ddc36",
   "metadata": {},
   "source": [
    "<hr style=\"border:1px solid black\"> </hr>"
   ]
  },
  {
   "cell_type": "markdown",
   "id": "e18d94cf",
   "metadata": {
    "deletable": false,
    "editable": false,
    "nbgrader": {
     "cell_type": "markdown",
     "checksum": "dd23ff220418c47c7a48e09750bef250",
     "grade": false,
     "grade_id": "cell-d67e30b5d7100133",
     "locked": true,
     "schema_version": 3,
     "solution": false,
     "task": false
    }
   },
   "source": [
    "# Problem Set 9\n",
    "<hr style=\"border:1px solid gray\"> </hr>"
   ]
  },
  {
   "cell_type": "markdown",
   "id": "856a9bde",
   "metadata": {
    "deletable": false,
    "editable": false,
    "nbgrader": {
     "cell_type": "markdown",
     "checksum": "9fadceb101fe6825eb0bd894450d4845",
     "grade": false,
     "grade_id": "cell-656c35d40044ad5b",
     "locked": true,
     "schema_version": 3,
     "solution": false,
     "task": false
    }
   },
   "source": [
    "1. Write a function that reads any text file with a given filename and returns the count of a unique word contained in the text upon query. The function is case-sensitive (i.e., \"The\" is not the same as \"the\"). Use the `translate` and `maketrans` methods of strings to remove the punctuation marks of the read file. Given a the string `mystr`, the removal of punctuation marks can be done by the line:\n",
    "\n",
    "        mystr = mystr.translate(str.maketrans('', '', string.punctuation))\n",
    "\n",
    "    The function should return 0 if the query word is not found."
   ]
  },
  {
   "cell_type": "code",
   "execution_count": null,
   "id": "c9704ce9",
   "metadata": {
    "deletable": false,
    "nbgrader": {
     "cell_type": "code",
     "checksum": "099370dde40cb67c98757d5307d6699a",
     "grade": false,
     "grade_id": "cell-32216f35a45b784e",
     "locked": false,
     "schema_version": 3,
     "solution": true,
     "task": false
    }
   },
   "outputs": [],
   "source": [
    "import string # import string for punctuation characters\n",
    "\n",
    "def countWord(filename, query):\n",
    "    if type(filename) is not str or type(query) is not str:\n",
    "        raise TypeError(\"Both arguments must be a string\")\n",
    "        \n",
    "    # YOUR CODE HERE\n",
    "    raise NotImplementedError()"
   ]
  },
  {
   "cell_type": "code",
   "execution_count": null,
   "id": "97ebd86c",
   "metadata": {
    "deletable": false,
    "editable": false,
    "nbgrader": {
     "cell_type": "code",
     "checksum": "e2c138e5513e620e6ffb02fc98528bd4",
     "grade": true,
     "grade_id": "cell-a863d6410ce95310",
     "locked": true,
     "points": 1,
     "schema_version": 3,
     "solution": false,
     "task": false
    }
   },
   "outputs": [],
   "source": [
    "# DO NOT MODIFY, THIS IS UNIT TESTING! [1 pt]\n",
    "from nose.tools import assert_equal, assert_is_instance\n",
    "\n",
    "assert_equal(countWord(\"alice29.txt\", \"she\"), 497)\n",
    "assert_equal(countWord(\"alice29.txt\", \"they\"), 108)\n",
    "assert_equal(countWord(\"alice29.txt\", \"Alice\"), 385)\n",
    "assert_is_instance(countWord(\"alice29.txt\", \"\"), int)"
   ]
  },
  {
   "cell_type": "code",
   "execution_count": null,
   "id": "a473e288",
   "metadata": {
    "deletable": false,
    "editable": false,
    "nbgrader": {
     "cell_type": "code",
     "checksum": "64de182bd740016915b1580fbfc3776a",
     "grade": true,
     "grade_id": "cell-b25b3cbf30198389",
     "locked": true,
     "points": 1,
     "schema_version": 3,
     "solution": false,
     "task": false
    }
   },
   "outputs": [],
   "source": [
    "# HIDDEN TEST [1 pt]"
   ]
  },
  {
   "cell_type": "markdown",
   "id": "f6e5f9a7",
   "metadata": {
    "deletable": false,
    "editable": false,
    "nbgrader": {
     "cell_type": "markdown",
     "checksum": "237435b4b4b764538ef52667654963f7",
     "grade": false,
     "grade_id": "cell-2e74313128197e3e",
     "locked": true,
     "schema_version": 3,
     "solution": false,
     "task": false
    }
   },
   "source": [
    "2. Repeat the previous problem but instead of a query word, input a query number (a threshold) and return a Python dictionary that contains the words with its corresponding counts exceeding or equal to the query number."
   ]
  },
  {
   "cell_type": "code",
   "execution_count": null,
   "id": "2c64c1f3",
   "metadata": {
    "deletable": false,
    "nbgrader": {
     "cell_type": "code",
     "checksum": "64652a61d5d9ccd743d5fa9dc721e8ad",
     "grade": false,
     "grade_id": "cell-2a67d9bb9ce95749",
     "locked": false,
     "schema_version": 3,
     "solution": true,
     "task": false
    }
   },
   "outputs": [],
   "source": [
    "import string # import string for punctuation characters\n",
    "\n",
    "def commonWords(filename, threshold):\n",
    "    if type(filename) is not str:\n",
    "        raise TypeError(\"First arguments must be a string\")\n",
    "    if type(threshold) is not int:\n",
    "        raise TypeError(\"Second arguments must be an integer\")\n",
    "    \n",
    "    # YOUR CODE HERE\n",
    "    raise NotImplementedError()"
   ]
  },
  {
   "cell_type": "code",
   "execution_count": null,
   "id": "a7dafd54",
   "metadata": {
    "deletable": false,
    "editable": false,
    "nbgrader": {
     "cell_type": "code",
     "checksum": "93c7fc14e87545c538c5a1d56595846f",
     "grade": true,
     "grade_id": "cell-0ecdfae26dbb43fd",
     "locked": true,
     "points": 1,
     "schema_version": 3,
     "solution": false,
     "task": false
    }
   },
   "outputs": [],
   "source": [
    "# DO NOT MODIFY, THIS IS UNIT TESTING! [1 pt]\n",
    "from nose.tools import assert_equal, assert_is_instance\n",
    "\n",
    "assert_equal(commonWords(\"alice29.txt\", 500), {'the': 1514, 'to': 717, 'and': 774, 'a': 610})\n",
    "assert_equal(commonWords(\"alice29.txt\", 350), \n",
    "             {'I': 401, 'the': 1514, 'Alice': 385, 'was': 352, 'to': 717, 'of': 493, 'and': 774, 'she': 497, 'it': 482, 'in': 353, 'a': 610, 'said': 456})\n",
    "assert_equal(commonWords(\"alice29.txt\", 200), \n",
    "             {'I': 401, 'the': 1514, 'Alice': 385, 'was': 352, 'to': 717, 'of': 493, 'her': 243, 'and': 774, 'she': 497, 'it': 482, 'in': 353, 'a': 610, 'as': 246, 'that': 257, 'said': 456, 'you': 309})\n",
    "assert_is_instance(commonWords(\"alice29.txt\", 1000), dict)"
   ]
  },
  {
   "cell_type": "code",
   "execution_count": null,
   "id": "010023b3",
   "metadata": {
    "deletable": false,
    "editable": false,
    "nbgrader": {
     "cell_type": "code",
     "checksum": "8283154f74983a5085d8f78e9816dd8c",
     "grade": true,
     "grade_id": "cell-3336c707423a9f21",
     "locked": true,
     "points": 1,
     "schema_version": 3,
     "solution": false,
     "task": false
    }
   },
   "outputs": [],
   "source": [
    "# HIDDEN TEST [1 pt]"
   ]
  },
  {
   "cell_type": "code",
   "execution_count": null,
   "id": "477d63e5",
   "metadata": {
    "deletable": false,
    "editable": false,
    "nbgrader": {
     "cell_type": "code",
     "checksum": "0fcceeca9a8ae3d49b6199f280432031",
     "grade": true,
     "grade_id": "cell-264fc6240e8bc614",
     "locked": true,
     "points": 1,
     "schema_version": 3,
     "solution": false,
     "task": false
    }
   },
   "outputs": [],
   "source": [
    "# HIDDEN TEST [1 pt]"
   ]
  },
  {
   "cell_type": "markdown",
   "id": "7e714857",
   "metadata": {
    "deletable": false,
    "editable": false,
    "nbgrader": {
     "cell_type": "markdown",
     "checksum": "542067c381b952c814ad0ba4d8509edd",
     "grade": false,
     "grade_id": "cell-89b3efbf31a2a6a0",
     "locked": true,
     "schema_version": 3,
     "solution": false,
     "task": false
    }
   },
   "source": [
    "3. Create a function that will return a list of numbers from 1 up to a given number $n$ so that at all non-zero digits of the numbers divides itself. Provide exception handling for non-numerical values by returning the string \"Specify a numerical input\". (Note: You may need to read the built-in Python [Exceptions](https://docs.python.org/3/library/exceptions.html) to use the appropriate exception type)"
   ]
  },
  {
   "cell_type": "code",
   "execution_count": null,
   "id": "8e4be266",
   "metadata": {
    "deletable": false,
    "nbgrader": {
     "cell_type": "code",
     "checksum": "b2976aac22b0c22fa5d5ae146e92663b",
     "grade": false,
     "grade_id": "cell-f17ba2ccc79da39d",
     "locked": false,
     "schema_version": 3,
     "solution": true,
     "task": false
    }
   },
   "outputs": [],
   "source": [
    "def divisibleByDigits(n):\n",
    "    # YOUR CODE HERE\n",
    "    raise NotImplementedError()"
   ]
  },
  {
   "cell_type": "code",
   "execution_count": null,
   "id": "596c131d",
   "metadata": {
    "deletable": false,
    "editable": false,
    "nbgrader": {
     "cell_type": "code",
     "checksum": "116ae32753f08dfafb702d58994c7783",
     "grade": true,
     "grade_id": "cell-861772d45b70f49d",
     "locked": true,
     "points": 1,
     "schema_version": 3,
     "solution": false,
     "task": false
    }
   },
   "outputs": [],
   "source": [
    "# DO NOT MODIFY, THIS IS UNIT TESTING! [1 pt]\n",
    "from nose.tools import assert_equal, assert_is_instance\n",
    "\n",
    "nums = divisibleByDigits(1000)\n",
    "assert_equal(nums[15], 24)\n",
    "assert_equal(nums[18], 36)\n",
    "assert_equal(nums[25:35], [66, 70, 77, 80, 88, 90, 99, 100, 101, 102])\n",
    "assert_equal(divisibleByDigits(30), [1, 2, 3, 4, 5, 6, 7, 8, 9, 10, 11, 12, 15, 20, 22, 24, 30])\n",
    "assert_equal(divisibleByDigits(\"Hello\"), 'Specify a numerical input')"
   ]
  },
  {
   "cell_type": "code",
   "execution_count": null,
   "id": "0197a3c1",
   "metadata": {
    "deletable": false,
    "editable": false,
    "nbgrader": {
     "cell_type": "code",
     "checksum": "81221bc5b0e00070c79842ac3a732a9d",
     "grade": true,
     "grade_id": "cell-1fa0ead94c035a39",
     "locked": true,
     "points": 1,
     "schema_version": 3,
     "solution": false,
     "task": false
    }
   },
   "outputs": [],
   "source": [
    "# HIDDEN TEST [1 pt]"
   ]
  },
  {
   "cell_type": "markdown",
   "id": "cf50a022",
   "metadata": {
    "deletable": false,
    "editable": false,
    "nbgrader": {
     "cell_type": "markdown",
     "checksum": "8f1d71f5d38f289d97120972e568c93d",
     "grade": false,
     "grade_id": "cell-e1bfc8f1f306abbf",
     "locked": true,
     "schema_version": 3,
     "solution": false,
     "task": false
    }
   },
   "source": [
    "4. The Intersection over Union (IoU) is computed as the intersection between two sets over their union. Determine the similarity between two programs with given filenames, read each of them into a word set (do not eliminate punctuation marks), and return the computed IoU value in percentage (round to two decimal places) as a string using the intersection and union sizes (e.g., `IoU(\"program1.cpp\", \"program2.cpp\") = 100 # If exactly the same`). \n",
    "\n",
    "    Ensure exception handling if the files are inaccessible or cannot be opened as a text file. For files that cannot be accessed (`FileNotFoundError`), the function should return the string \"Error: A file is not accessible\". For files that cannot be opened as a text file (`UnicodeDecodeError`), the function should return the string \"Error: A file cannot be opened as a text file\". For all other exceptions, the function should not crash and return the corresponding exception message as a string. (Note: You may need to read the built-in Python [Exceptions](https://docs.python.org/3/library/exceptions.html) to use the appropriate exception type)"
   ]
  },
  {
   "cell_type": "code",
   "execution_count": null,
   "id": "1b7cdfd1",
   "metadata": {
    "deletable": false,
    "nbgrader": {
     "cell_type": "code",
     "checksum": "e98162fa6c60aeecdb80c8e46360134b",
     "grade": false,
     "grade_id": "cell-6ab996ab05760ce3",
     "locked": false,
     "schema_version": 3,
     "solution": true,
     "task": false
    }
   },
   "outputs": [],
   "source": [
    "def IoU(filename1, filename2):\n",
    "    # YOUR CODE HERE\n",
    "    raise NotImplementedError()"
   ]
  },
  {
   "cell_type": "code",
   "execution_count": null,
   "id": "351c9b73",
   "metadata": {
    "deletable": false,
    "editable": false,
    "nbgrader": {
     "cell_type": "code",
     "checksum": "e1d2d7ad8b54fce0f86a98af96069e40",
     "grade": true,
     "grade_id": "cell-52c031db984a5135",
     "locked": true,
     "points": 1,
     "schema_version": 3,
     "solution": false,
     "task": false
    }
   },
   "outputs": [],
   "source": [
    "# DO NOT MODIFY, THIS IS UNIT TESTING! [1 pt]\n",
    "from nose.tools import assert_equal, assert_is_instance\n",
    "\n",
    "assert_equal(IoU(\"program1.c\", \"program2.c\"), '35.43')\n",
    "assert_equal(IoU(\"program2.c\", \"program1.c\"), '35.43')\n",
    "assert_equal(IoU(\"program1.c\", \"program1.c\"), '100.00')"
   ]
  },
  {
   "cell_type": "code",
   "execution_count": null,
   "id": "c4f39686",
   "metadata": {
    "deletable": false,
    "editable": false,
    "nbgrader": {
     "cell_type": "code",
     "checksum": "84595e322fb71d3427180139743ba8d8",
     "grade": true,
     "grade_id": "cell-b88b738a393eb33d",
     "locked": true,
     "points": 1,
     "schema_version": 3,
     "solution": false,
     "task": false
    }
   },
   "outputs": [],
   "source": [
    "# DO NOT MODIFY, THIS IS UNIT TESTING! [1 pt]\n",
    "from nose.tools import assert_equal, assert_is_instance\n",
    "\n",
    "assert_equal(IoU(\"program_1.c\", \"program2.c\"), 'Error: A file is not accessible')\n",
    "assert_equal(IoU(\"program1.c\", \"program_2.c\"), 'Error: A file is not accessible')\n",
    "assert_equal(IoU(\"program1.c\", \"python.c\"), 'Error: A file cannot be opened as a text file')"
   ]
  },
  {
   "cell_type": "code",
   "execution_count": null,
   "id": "37815d79",
   "metadata": {
    "deletable": false,
    "editable": false,
    "nbgrader": {
     "cell_type": "code",
     "checksum": "a3ee98f78d7acdd945398f7bb4ae971a",
     "grade": true,
     "grade_id": "cell-b6381926685343b5",
     "locked": true,
     "points": 1,
     "schema_version": 3,
     "solution": false,
     "task": false
    }
   },
   "outputs": [],
   "source": [
    "# HIDDEN TEST [1 pt]"
   ]
  },
  {
   "cell_type": "markdown",
   "id": "f13cb08d",
   "metadata": {
    "deletable": false,
    "editable": false,
    "nbgrader": {
     "cell_type": "markdown",
     "checksum": "918019b8f5cb1ed0fb6ff6da2ec0142d",
     "grade": false,
     "grade_id": "cell-5ad1f443c7577c9c",
     "locked": true,
     "schema_version": 3,
     "solution": false,
     "task": false
    }
   },
   "source": [
    "***"
   ]
  },
  {
   "cell_type": "code",
   "execution_count": null,
   "id": "4ec652db",
   "metadata": {
    "deletable": false,
    "editable": false,
    "nbgrader": {
     "cell_type": "code",
     "checksum": "53b4ec65323e7059eb7f07596bdf8deb",
     "grade": true,
     "grade_id": "cell-4420f5b4060accd6",
     "locked": true,
     "points": 0,
     "schema_version": 3,
     "solution": false,
     "task": false
    }
   },
   "outputs": [],
   "source": []
  }
 ],
 "metadata": {
  "kernelspec": {
   "display_name": "Python 3 (ipykernel)",
   "language": "python",
   "name": "python3"
  },
  "language_info": {
   "codemirror_mode": {
    "name": "ipython",
    "version": 3
   },
   "file_extension": ".py",
   "mimetype": "text/x-python",
   "name": "python",
   "nbconvert_exporter": "python",
   "pygments_lexer": "ipython3",
   "version": "3.9.7"
  }
 },
 "nbformat": 4,
 "nbformat_minor": 5
}
