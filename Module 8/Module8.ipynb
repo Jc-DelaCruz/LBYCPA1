{
 "cells": [
  {
   "cell_type": "markdown",
   "metadata": {},
   "source": [
    "# LBYCPA1 Module 8 \n",
    "## Collection Array: Sets and Dictionaries"
   ]
  },
  {
   "cell_type": "markdown",
   "metadata": {},
   "source": [
    "### Objectives:\n",
    "1. To familiarize with the set and dictionary collection arrays\n",
    "1. To know the different methods for sets and dictionaries\n",
    "1. To use sets and dictionaries for effective storage of data array\n",
    "1. To utilizes sets and dictionaries in solving computational problems\n",
    "1. (Add an objective...)\n",
    "\n",
    "### Materials and Tools:\n",
    "1. Instructor's lecture notes\n",
    "1. Jupyter Notebook\n",
    "1. Flowchart Software (Diagrams.net, Lucidchart, SmartDraw, etc.)\n",
    "1. (Add a material or tool...)"
   ]
  },
  {
   "cell_type": "markdown",
   "metadata": {},
   "source": [
    "### Sets\n",
    "\n",
    "A **set** is an unordered collection with no duplicate elements. Basic uses include membership testing and eliminating duplicate entries. Set objects also support mathematical operations like union, intersection, difference, and symmetric difference.\n",
    "\n",
    "Curly braces or the `set()` function can be used to create sets. Note: to create an empty set you have to use `set()`, not `{}`; the latter creates an empty dictionary.\n",
    "\n",
    "Let us specify a list of fruits and contain them inside a set as follows:"
   ]
  },
  {
   "cell_type": "code",
   "execution_count": null,
   "metadata": {
    "scrolled": true
   },
   "outputs": [],
   "source": [
    "basket = {'apple', 'orange', 'apple', 'pear', 'orange', 'banana'}\n",
    "print(basket)"
   ]
  },
  {
   "cell_type": "code",
   "execution_count": null,
   "metadata": {},
   "outputs": [],
   "source": [
    "for fruit in basket:\n",
    "    print(fruit)"
   ]
  },
  {
   "cell_type": "markdown",
   "metadata": {},
   "source": [
    "It is worth noting that duplicate entries such as 'apple' and 'orange' where eliminated.\n",
    "\n",
    "We could also generate a set from sequences. For instance, we can convert a string into a set and eliminate any repeating characters - that is"
   ]
  },
  {
   "cell_type": "code",
   "execution_count": null,
   "metadata": {},
   "outputs": [],
   "source": [
    "a = set('abracadabra')\n",
    "print(a)"
   ]
  },
  {
   "cell_type": "markdown",
   "metadata": {},
   "source": [
    "Another purported use of sets is of course to do mathematical set operations on them. We demonstrate several set operations below:"
   ]
  },
  {
   "cell_type": "code",
   "execution_count": null,
   "metadata": {},
   "outputs": [],
   "source": [
    "b = set('alacazam')\n",
    "print(b)"
   ]
  },
  {
   "cell_type": "code",
   "execution_count": null,
   "metadata": {},
   "outputs": [],
   "source": [
    "# Set union, letters in a or b or both\n",
    "a | b"
   ]
  },
  {
   "cell_type": "code",
   "execution_count": null,
   "metadata": {},
   "outputs": [],
   "source": [
    "# Set intersection, letters in both a and b\n",
    "a & b"
   ]
  },
  {
   "cell_type": "code",
   "execution_count": null,
   "metadata": {},
   "outputs": [],
   "source": [
    "# Set symmetric difference, letters in sets a or b but not both\n",
    "a ^ b"
   ]
  },
  {
   "cell_type": "code",
   "execution_count": null,
   "metadata": {},
   "outputs": [],
   "source": [
    "# Set difference, letters in a but not in b\n",
    "a - b"
   ]
  },
  {
   "cell_type": "markdown",
   "metadata": {},
   "source": [
    "It should be noted that the elements of a set are unordered and does not support indexing. It also supports other methods that can modify its contents as follows:"
   ]
  },
  {
   "cell_type": "code",
   "execution_count": null,
   "metadata": {},
   "outputs": [],
   "source": [
    "basket.add('pineapple') # add a new element to the set\n",
    "print(basket)"
   ]
  },
  {
   "cell_type": "code",
   "execution_count": null,
   "metadata": {},
   "outputs": [],
   "source": [
    "basket.update({'grape', 'lemon'}) # update the set with new elements\n",
    "print(basket)"
   ]
  },
  {
   "cell_type": "code",
   "execution_count": null,
   "metadata": {},
   "outputs": [],
   "source": [
    "basket.discard('apple') # remove a specific element from the set\n",
    "print(basket)"
   ]
  },
  {
   "cell_type": "code",
   "execution_count": null,
   "metadata": {},
   "outputs": [],
   "source": [
    "basket.pop() # remove an arbitrary element from the set\n",
    "print(basket)"
   ]
  },
  {
   "cell_type": "code",
   "execution_count": null,
   "metadata": {},
   "outputs": [],
   "source": [
    "basket.clear() # remove all elements from the set\n",
    "print(basket)"
   ]
  },
  {
   "cell_type": "markdown",
   "metadata": {},
   "source": [
    "Additional methods for sets can be read from [set &mdash; Python Reference (The Right Way) 0.1 documentation](https://python-reference.readthedocs.io/en/latest/docs/sets/)."
   ]
  },
  {
   "cell_type": "markdown",
   "metadata": {},
   "source": [
    "### Dictionaries (Mappings)\n",
    "\n",
    "From our previous modules, we used a list of tuples to store room allocations. If we wanted to find which room a particular student has been allocated we would need to iterate through the list and check each name. For a very large list, this might not be very efficient.\n",
    "\n",
    "There is a better way to do this, using a dictionary.\n",
    "\n",
    "Like a list, a **dictionary** is a mutable collection of many values. But unlike indexes for lists, indexes for dictionaries can use many different data types, not just integers. Indexes for dictionaries are called *keys*, and a key with its associated value is called a *key-value pair*.\n",
    "\n",
    "Dictionaries is a type of a mapping which is also a collections of other objects, but they store objects by key instead of by relative position.\n",
    "\n",
    "A pair of braces creates an empty dictionary: `{}`."
   ]
  },
  {
   "cell_type": "code",
   "execution_count": null,
   "metadata": {},
   "outputs": [],
   "source": [
    "room_allocation = {\"Adrian\": None, \"Laura\": 32, \"John\": 31, \"Penelope\": 28, \"Fraser\": 28, \"Gaurav\": 19}\n",
    "print(room_allocation)\n",
    "print(type(room_allocation))"
   ]
  },
  {
   "cell_type": "markdown",
   "metadata": {},
   "source": [
    "Each entry is separated by a comma. For each entry we have a *key*, which is followed by a colon, and then the *value*. Note that for Adrian we have used `None` for the value, which is a Python keyword for 'nothing' or 'empty'.\n",
    "\n",
    "Now if we want to know which room Fraser has been allocated, we can query the dictionary by key:"
   ]
  },
  {
   "cell_type": "code",
   "execution_count": null,
   "metadata": {},
   "outputs": [],
   "source": [
    "frasers_room = room_allocation[\"Fraser\"]\n",
    "print(frasers_room)"
   ]
  },
  {
   "cell_type": "markdown",
   "metadata": {},
   "source": [
    "If we try to use a key that does not exist in the dictionary, e.g.\n",
    "\n",
    "    frasers_room = room_allocation[\"Frasers\"]\n",
    "\n",
    "Python will give an error (raise an exception). If we're not sure that a key is present, we can check:"
   ]
  },
  {
   "cell_type": "code",
   "execution_count": null,
   "metadata": {},
   "outputs": [],
   "source": [
    "print(\"Fraser\" in room_allocation)\n",
    "print(\"Frasers\" in room_allocation)"
   ]
  },
  {
   "cell_type": "markdown",
   "metadata": {},
   "source": [
    "The `get()` method avoids exception if a certain key is not found inside the dictionary. We can specify a default return value if the key does not exists."
   ]
  },
  {
   "cell_type": "code",
   "execution_count": null,
   "metadata": {},
   "outputs": [],
   "source": [
    "joeys_room = room_allocation.get(\"Joey\", \"No room yet\")\n",
    "print(joeys_room)"
   ]
  },
  {
   "cell_type": "markdown",
   "metadata": {},
   "source": [
    "We can iterate over the keys in a dictionary:"
   ]
  },
  {
   "cell_type": "code",
   "execution_count": null,
   "metadata": {},
   "outputs": [],
   "source": [
    "for student in room_allocation:\n",
    "    print(student)"
   ]
  },
  {
   "cell_type": "code",
   "execution_count": null,
   "metadata": {},
   "outputs": [],
   "source": [
    "for student in room_allocation.keys():\n",
    "    print(student)"
   ]
  },
  {
   "cell_type": "markdown",
   "metadata": {},
   "source": [
    "or iterate over the values:"
   ]
  },
  {
   "cell_type": "code",
   "execution_count": null,
   "metadata": {},
   "outputs": [],
   "source": [
    "for student in room_allocation.values():\n",
    "    print(student)"
   ]
  },
  {
   "cell_type": "markdown",
   "metadata": {},
   "source": [
    "or iterate over both the keys and the values:"
   ]
  },
  {
   "cell_type": "code",
   "execution_count": null,
   "metadata": {},
   "outputs": [],
   "source": [
    "for name, room_number in room_allocation.items():\n",
    "    print(name, room_number)"
   ]
  },
  {
   "cell_type": "markdown",
   "metadata": {},
   "source": [
    "Suppose Gaurav has moved out of the room, we can update the room number to `None`. We may replace a specific value from the dictionary by specifying the key as follows:"
   ]
  },
  {
   "cell_type": "code",
   "execution_count": null,
   "metadata": {},
   "outputs": [],
   "source": [
    "room_allocation = {\"Adrian\": None, \"Laura\": 32, \"John\": 31, \"Penelope\": 28, \"Fraser\": 28, \"Gaurav\": 19}\n",
    "print(room_allocation)\n",
    "\n",
    "room_allocation[\"Gaurav\"] = None\n",
    "print(room_allocation)"
   ]
  },
  {
   "cell_type": "markdown",
   "metadata": {},
   "source": [
    "You could also add, say, another student to the room allocation list using the same syntax. Suppose we have a new student \"Mark\" assigned to room number 12. We assign as follows:"
   ]
  },
  {
   "cell_type": "code",
   "execution_count": null,
   "metadata": {},
   "outputs": [],
   "source": [
    "room_allocation[\"Mark\"] = 12\n",
    "print(room_allocation)"
   ]
  },
  {
   "cell_type": "markdown",
   "metadata": {},
   "source": [
    "Note that if the key exists in the dictionary, the assignment modifies the value; otherwise it creates another key-value pair inside the dictionary.\n",
    "\n",
    "If for instance we want to remove a certain key-pair value, we use the `pop()` method."
   ]
  },
  {
   "cell_type": "code",
   "execution_count": null,
   "metadata": {},
   "outputs": [],
   "source": [
    "print(room_allocation.pop(\"Gaurav\", \"No student named Gaurav.\"))"
   ]
  },
  {
   "cell_type": "markdown",
   "metadata": {},
   "source": [
    "It is worth mentioning that the order of the printed entries in the dictionary is different from the input order. This is because a dictionary stores data differently from a list or tuple. Lists and tuples store entries 'linearly' in memory\n",
    "(contiguous pieces of memory), which is why we can access entries by index. Dictionaries use a different type of storage which allows us to perform look-ups using a key.\n",
    "\n",
    "We have used a string as the key so far, which is common. However, we can use almost any type as a key, and we can mix types. For example, we might want to 'invert' the room allocation dictionary to create a room-to-name map: "
   ]
  },
  {
   "cell_type": "code",
   "execution_count": null,
   "metadata": {},
   "outputs": [],
   "source": [
    "# Create empty dictionary\n",
    "room_allocation_inverse = {}\n",
    "\n",
    "# Build inverse dictionary to map 'room number' -> name \n",
    "for name, room_number in room_allocation.items():\n",
    "    # Insert entry into dictionary\n",
    "    room_allocation_inverse[room_number] = name\n",
    "\n",
    "print(room_allocation_inverse)"
   ]
  },
  {
   "cell_type": "markdown",
   "metadata": {},
   "source": [
    "We can now ask who is in room 28 and who is in room 29. Not all rooms are occupied, so we should include a check that the room number is a key in our dictionary:"
   ]
  },
  {
   "cell_type": "code",
   "execution_count": null,
   "metadata": {},
   "outputs": [],
   "source": [
    "rooms_to_check = (28, 29)\n",
    "\n",
    "for room in rooms_to_check:\n",
    "    if room in room_allocation_inverse:\n",
    "        print(\"Room {} is occupied by {}.\".format(room, room_allocation_inverse[room]))\n",
    "    else:\n",
    "        print(\"Room {} is unoccupied.\".format(room))"
   ]
  },
  {
   "cell_type": "markdown",
   "metadata": {},
   "source": [
    "## References\n",
    "- Lutz, M. (2009). *Learning Python: Powerful Object-Oriented Programming*. Beijing: OReilly.\n",
    "- Przywóski, J. (2015). *set &mdash; Python Reference (The Right Way) 0.1 documentation*. Retrieved from https://python-reference.readthedocs.io/en/latest/docs/sets/\n",
    "- Python Software Foundation (2022). *Built-in Types - Python 3.10.4 documentation: Set Types*. Retrieved from https://docs.python.org/3/library/stdtypes.html#set-types-set-frozenset\n",
    "- Python Software Foundation (2022). *Built-in Types - Python 3.10.4 documentation: Mapping Types*. Retrieved from https://docs.python.org/3/library/stdtypes.html#typesmapping\n",
    "- Python Software Foundation (2022). *Data Structures - Python 3.10.4 documentation*. Retrieved from https://docs.python.org/3/tutorial/datastructures.html\n",
    "- Sweigart, A. (2019). *Automate The Boring Stuff With Python, 2nd Edition*. No Starch Press, US."
   ]
  }
 ],
 "metadata": {
  "kernelspec": {
   "display_name": "Python 3 (ipykernel)",
   "language": "python",
   "name": "python3"
  },
  "language_info": {
   "codemirror_mode": {
    "name": "ipython",
    "version": 3
   },
   "file_extension": ".py",
   "mimetype": "text/x-python",
   "name": "python",
   "nbconvert_exporter": "python",
   "pygments_lexer": "ipython3",
   "version": "3.9.7"
  }
 },
 "nbformat": 4,
 "nbformat_minor": 2
}
