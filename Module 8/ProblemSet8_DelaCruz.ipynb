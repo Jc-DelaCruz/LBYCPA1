{
 "cells": [
  {
   "cell_type": "markdown",
   "id": "20709bee",
   "metadata": {},
   "source": [
    "# Programming Logic and Design Laboratory (LBYCPA1)"
   ]
  },
  {
   "cell_type": "markdown",
   "id": "897e0f21",
   "metadata": {},
   "source": [
    "Before you turn this problem in, make sure everything runs as expected. First, **restart the kernel** (in the menubar, select Kernel$\\rightarrow$Restart) and then **run all cells** (in the menubar, select Cell$\\rightarrow$Run All).\n",
    "\n",
    "Make sure you fill in any place that says `YOUR CODE HERE` or `YOUR ANSWER HERE`, as well as your name and other information below inside the double quotes. Remove the line `raise NotImplementedError()` once you have answered the problem.\n",
    "\n",
    "REMINDERS: Section 4.15 of the Student Handbook (SH) 2018-2021 provides that:\n",
    "\n",
    "As a Catholic University that prepares its students to become professionals and be the resource for Church and nation, De La Salle University puts a premium on academic honesty. A student's academic requirements, such as assignments, term papers, computer programs/projects, and thesis papers, should be his/her own work. He/She must distinguish between his/her own ideas and those of other authors.\n",
    "\n",
    "The student must cite references, direct quotes, and other sources (including data obtained from tables, illustrations, figures, pictures, images, and video) following the prescribed format of the discipline. Should a student intend to submit a similar previous work for credit, in different courses, a written permission must first be obtained from the faculty members concerned. In addition, for works where he/she is only one of the authors, the following must be observed.\n",
    "\n",
    "4.15.1 Provide a disclaimer stating that the work is not entirely his/hers;\n",
    "\n",
    "4.15.2 The work cannot be published without written consent of the group of authors.\n",
    "\n",
    "4.15.3 If the work is separable (i.e. parts are clearly attributed to the individual authors), the student may use and must cite his/her own part only; otherwise, the student must seek the written consent of the group of authors.\n",
    "\n",
    "4.15.4 Computer codes obtained from open source reference may be copied freely, but the source should be cited, provided further that the faculty member allows the use of open source reference in the course."
   ]
  },
  {
   "cell_type": "markdown",
   "id": "8615c04e",
   "metadata": {},
   "source": [
    "## Rubric for the Final Laboratory Report\n",
    "\n",
    "|Criteria|EXEMPLARY (90-100)|SATISFACTORY (80-89)|DEVELOPING (70-79)|BEGINNING (Below 70)|WEIGHT|\n",
    "|:-|:-|:-|:-|:-|:-:|\n",
    "|**Experimental Plan (Flowchart/ Algorithm)**|Experimental plan has supporting details and diagram/algorithm that is stated and well explained|Experimental plan has supporting details and diagram/algorithm that is stated but not explained|Experimental plan is vague or brief. It has supporting details and doesn’t have diagram/algorithm|No experimental plan presented|30%|\n",
    "|**Conducting Experiment/ Activity**|Objective and Materials used (modern engineering tools, software, and instruments/equipment) are identified. Steps are easy to follow for conducting and experiment/activity|Objective is not stated. Materials used (modern engineering tools, software, and instruments/equipment) are identified. Steps are easy to follow for conducting and experiment/activity|Does not provide enough information to conduct an experiment/activity|No Objective, Materials used (modern engineering tools, software, and instruments/equipment), and steps for conducting experiment/activity provided|20%|\n",
    "|**Codes/Data/ Program**|Data is well utilized in the program. Program codes are easy to read. Program output has no error. Questions are answered completely and correctly|Data is somewhat utilized in the program. Program code are easy to read. Program output has an output but logically incorrect. Some questions are answered completely and correctly|Data is not utilized in the program. It has a missing significant code/syntax in the program|No program presented|30%|\n",
    "|**Grammar, logical presentation, and format**|The report was grammatically correct, logically presented and used the required format|The report had minimal grammatical errors and somewhat presented logically. The required format was used|The report had a lot of grammatical errors and not logically presented; the required format was barely used|The report had a lot of grammatical errors, was not logically presented and the required format was not used|20%|"
   ]
  },
  {
   "cell_type": "code",
   "execution_count": null,
   "id": "674ee2de",
   "metadata": {},
   "outputs": [],
   "source": [
    "# Fill-up the following information (put inside double quotes)\n",
    "\n",
    "NAME = \"DELA CRUZ, JOHN CARLO THEO S.\"                   # e.g. LIGUTAN, DINO DOMINIC F.\n",
    "STUDENT_NUMBER = \"12195758\"         # e.g. 20192118\n",
    "SECTION = \"EQ1\"                # e.g. EQ1\n",
    "DATE_TIME_COMPLETED = \"06/07/22 11:02 PM\"    # e.g. 03/21/2022,11:00"
   ]
  },
  {
   "cell_type": "markdown",
   "id": "f048f4dc",
   "metadata": {},
   "source": [
    "<hr style=\"border:1px solid black\"> </hr>"
   ]
  },
  {
   "cell_type": "markdown",
   "id": "e18d94cf",
   "metadata": {
    "deletable": false,
    "editable": false,
    "nbgrader": {
     "cell_type": "markdown",
     "checksum": "87b2bcdc63632248001c4ba8295c92ab",
     "grade": false,
     "grade_id": "cell-d67e30b5d7100133",
     "locked": true,
     "schema_version": 3,
     "solution": false,
     "task": false
    }
   },
   "source": [
    "# Problem Set 8\n",
    "<hr style=\"border:1px solid gray\"> </hr>"
   ]
  },
  {
   "cell_type": "markdown",
   "id": "856a9bde",
   "metadata": {
    "deletable": false,
    "editable": false,
    "nbgrader": {
     "cell_type": "markdown",
     "checksum": "9104d22fe64f389aa50bc204fc1bf560",
     "grade": false,
     "grade_id": "cell-656c35d40044ad5b",
     "locked": true,
     "schema_version": 3,
     "solution": false,
     "task": false
    }
   },
   "source": [
    "1. Given a string which contains a long word, write a function that returns a dictionary of the letters used as keys (capitalized letters) with values counting the occurrences of that letter in the given long word. If the input string contains two or more words, the function should only consider the longest word. Note: Consider uppercase and lowercase letters to be the same."
   ]
  },
  {
   "cell_type": "code",
   "execution_count": 30,
   "id": "c9704ce9",
   "metadata": {
    "deletable": false,
    "nbgrader": {
     "cell_type": "code",
     "checksum": "fadfc81269f5f94a108953c8db369f1d",
     "grade": false,
     "grade_id": "cell-32216f35a45b784e",
     "locked": false,
     "schema_version": 3,
     "solution": true,
     "task": false
    }
   },
   "outputs": [],
   "source": [
    "def wordStatistics(sentence):\n",
    "    if type(sentence) is not str:\n",
    "        raise TypeError(\"Input not a valid string\")\n",
    "        \n",
    "    longestWord = ''\n",
    "    result = {}\n",
    "    sentence = sentence.rstrip('.') \n",
    "    sentence = sentence.upper()\n",
    "    sentence = sentence.split(' ')\n",
    "    for i in sentence:\n",
    "        if len(i) > len(longestWord): \n",
    "            longestWord = i\n",
    "    for letters in longestWord:\n",
    "        result[letters] = longestWord.count(letters)\n",
    "    return result"
   ]
  },
  {
   "cell_type": "code",
   "execution_count": 31,
   "id": "97ebd86c",
   "metadata": {
    "deletable": false,
    "editable": false,
    "nbgrader": {
     "cell_type": "code",
     "checksum": "f5ce449383a2c9962451cc7e9eb7bbc5",
     "grade": true,
     "grade_id": "cell-a863d6410ce95310",
     "locked": true,
     "points": 1,
     "schema_version": 3,
     "solution": false,
     "task": false
    }
   },
   "outputs": [],
   "source": [
    "# DO NOT MODIFY, THIS IS UNIT TESTING! [1 pt]\n",
    "from nose.tools import assert_equal\n",
    "\n",
    "assert_equal(wordStatistics(\"The ethics of xenotransplantation are relatively unworrying.\"), \n",
    "             {'X': 1, 'N': 4, 'O': 2, 'I': 1, 'P': 1, 'S': 1, 'R': 1, 'E': 1, 'L': 1, 'A': 3, 'T': 3})\n",
    "assert_equal(wordStatistics(\"Her pulchritudinous likeness adorns everything from bestselling books to ski boards.\"), \n",
    "             {'N': 1, 'I': 2, 'O': 1, 'P': 1, 'H': 1, 'D': 1, 'S': 1, 'R': 1, 'C': 1, 'T': 1, 'L': 1, 'U': 3})\n",
    "assert_equal(wordStatistics(\"Floccinaucinihilipilification\"), \n",
    "             {'N': 3, 'I': 9, 'O': 2, 'P': 1, 'H': 1, 'F': 2, 'C': 4, 'T': 1, 'L': 3, 'A': 2, 'U': 1})\n",
    "assert_equal(wordStatistics(\"Pseudopseudohypoparathyroidism needs no treatment, but genetic counselling is recommended.\"), \n",
    "             {'O': 4, 'I': 2, 'P': 4, 'D': 3, 'H': 2, 'M': 1, 'S': 3, 'R': 2, 'E': 2, 'Y': 2, 'T': 1, 'A': 2, 'U': 2})\n",
    "assert_equal(wordStatistics(\"Pneumonoultramicroscopicsilicovolcanoconiosis\"), \n",
    "             {'N': 4, 'O': 9, 'I': 6, 'P': 2, 'V': 1, 'M': 2, 'S': 4, 'R': 2, 'E': 1, 'C': 6, 'T': 1, 'L': 3, 'A': 2, 'U': 2})"
   ]
  },
  {
   "cell_type": "code",
   "execution_count": 32,
   "id": "a473e288",
   "metadata": {
    "deletable": false,
    "editable": false,
    "nbgrader": {
     "cell_type": "code",
     "checksum": "64de182bd740016915b1580fbfc3776a",
     "grade": true,
     "grade_id": "cell-b25b3cbf30198389",
     "locked": true,
     "points": 1,
     "schema_version": 3,
     "solution": false,
     "task": false
    }
   },
   "outputs": [],
   "source": [
    "# HIDDEN TEST [1 pt]"
   ]
  },
  {
   "cell_type": "markdown",
   "id": "f6e5f9a7",
   "metadata": {
    "deletable": false,
    "editable": false,
    "nbgrader": {
     "cell_type": "markdown",
     "checksum": "58aca76bb9792fac3ef6c0f941387ef3",
     "grade": false,
     "grade_id": "cell-2e74313128197e3e",
     "locked": true,
     "schema_version": 3,
     "solution": false,
     "task": false
    }
   },
   "source": [
    "2. A palindrome is a word, number, phrase, or other sequence of characters which reads the same backward as forward such as the number 256652. Write a Python function that accepts a list of either an integer or string sequence and returns a dictionary whose keys are the input sequences of the list and the values are tuple consisting of two possible palindromes that can be made from the input sequence."
   ]
  },
  {
   "cell_type": "code",
   "execution_count": 10,
   "id": "2c64c1f3",
   "metadata": {
    "deletable": false,
    "nbgrader": {
     "cell_type": "code",
     "checksum": "be7e8a0d8d6a1d56602d855ca4cdf290",
     "grade": false,
     "grade_id": "cell-2a67d9bb9ce95749",
     "locked": false,
     "schema_version": 3,
     "solution": true,
     "task": false
    }
   },
   "outputs": [],
   "source": [
    "def toPalindromes(seq_list):\n",
    "    if type(seq_list) is not list:\n",
    "        raise TypeError(\"Input not a valid list\")\n",
    "    \n",
    "    result = {}\n",
    "    for i in seq_list:\n",
    "        if type(i) == int:\n",
    "            var = str(i)\n",
    "            result[int(var)]=(int(var+\"{}\".format(var[::-1])), int(\"{}\".format(var[::-1])+var))\n",
    "        else:\n",
    "            var = str(i)\n",
    "            result[var] = (var+\"{}\".format(var[::-1]), \"{}\".format(var[::-1])+var)\n",
    "    return result\n"
   ]
  },
  {
   "cell_type": "code",
   "execution_count": 7,
   "id": "a7dafd54",
   "metadata": {
    "deletable": false,
    "editable": false,
    "nbgrader": {
     "cell_type": "code",
     "checksum": "3762e903af8b889dd332005a283d0be6",
     "grade": true,
     "grade_id": "cell-0ecdfae26dbb43fd",
     "locked": true,
     "points": 1,
     "schema_version": 3,
     "solution": false,
     "task": false
    }
   },
   "outputs": [],
   "source": [
    "# DO NOT MODIFY, THIS IS UNIT TESTING! [1 pt]\n",
    "from nose.tools import assert_equal\n",
    "\n",
    "assert_equal(toPalindromes([\"cover\", 123, \"hi\"]),\n",
    "            {'cover': ('coverrevoc', 'revoccover'), 123: (123321, 321123), 'hi': ('hiih', 'ihhi')})\n",
    "assert_equal(toPalindromes([235, \"car\"]),\n",
    "             {235: (235532, 532235), 'car': ('carrac', 'raccar')})\n",
    "assert_equal(toPalindromes([\"and\", \"or\", \"not\", 314]),\n",
    "             {'and': ('anddna', 'dnaand'), 'or': ('orro', 'roor'), 'not': ('notton', 'tonnot'), 314: (314413, 413314)})"
   ]
  },
  {
   "cell_type": "code",
   "execution_count": 8,
   "id": "010023b3",
   "metadata": {
    "deletable": false,
    "editable": false,
    "nbgrader": {
     "cell_type": "code",
     "checksum": "8283154f74983a5085d8f78e9816dd8c",
     "grade": true,
     "grade_id": "cell-3336c707423a9f21",
     "locked": true,
     "points": 1,
     "schema_version": 3,
     "solution": false,
     "task": false
    }
   },
   "outputs": [],
   "source": [
    "# HIDDEN TEST [1 pt]"
   ]
  },
  {
   "cell_type": "markdown",
   "id": "7e714857",
   "metadata": {
    "deletable": false,
    "editable": false,
    "nbgrader": {
     "cell_type": "markdown",
     "checksum": "da4ab70a74e66cab602e4b09100c1445",
     "grade": false,
     "grade_id": "cell-89b3efbf31a2a6a0",
     "locked": true,
     "schema_version": 3,
     "solution": false,
     "task": false
    }
   },
   "source": [
    "3. Given the directory of information about students (dictionary) below, develop the following: (a) A function named `passing_gpa` that returns a dictionary where the keys are \"ID\" and the values are the \"GPA\" of students with GPA greater than or equal to the specified GPA threshold; (b) A function named `average_test_scores` that returns a dictionary where the keys are \"ID\" and the values are the average of test scores as a string (rounded off to two decimal places); (c) A function named `scholars_with_lastname` that returns a list of tuples which consists of \"ID\" and \"Last Name\" of students who has a last name and a scholar; (d) A function named `math_eng_sci` that returns a tuple of \"ID\" of students with all Math, English, and Science test scores greater than or equal to the specified score threshold."
   ]
  },
  {
   "cell_type": "code",
   "execution_count": 15,
   "id": "8e4be266",
   "metadata": {
    "deletable": false,
    "nbgrader": {
     "cell_type": "code",
     "checksum": "392d4a5f1e0d2267135f4c6c97f02304",
     "grade": false,
     "grade_id": "cell-f17ba2ccc79da39d",
     "locked": false,
     "schema_version": 3,
     "solution": true,
     "task": false
    }
   },
   "outputs": [],
   "source": [
    "student_directory = {\n",
    "    \"Student 1\" : {\n",
    "        \"ID\" : \"12198\",\n",
    "        \"Last Name\" : \"Santa Cruz\",\n",
    "        \"Gender\" : 'Male',\n",
    "        \"GPA\" : 3.4,\n",
    "        \"Scholar\" : True,\n",
    "        \"Test Scores\" : {\"Math\" : 90, \"English\" : 95, \"Science\" : 87}\n",
    "    },\n",
    "    \"Student 2\" : {\n",
    "        \"ID\" : \"12199\",\n",
    "        \"Gender\" : 'Male',\n",
    "        \"GPA\" : 1.5,\n",
    "        \"Scholar\" : True,\n",
    "        \"Test Scores\" : {\"Math\" : 80, \"English\" : 75, \"Science\": 83}\n",
    "    },\n",
    "    \"Student 3\" : {\n",
    "        \"ID\" : \"12200\",\n",
    "        \"Gender\" : 'Female',\n",
    "        \"GPA\" : 3.9,\n",
    "        \"Scholar\" : False,\n",
    "        \"Test Scores\" : {\"Math\" : 88, \"English\" : 85, \"Science\": 95}\n",
    "    },\n",
    "    \"Student 4\" : {\n",
    "        \"ID\" : \"12201\",\n",
    "        \"Last Name\" : \"Delfino\",\n",
    "        \"Gender\" : 'Female',\n",
    "        \"GPA\" : 1.4,\n",
    "        \"Scholar\" : True,\n",
    "        \"Test Scores\" : {\"Math\" : 82, \"English\" : 82, \"Science\" : 88}\n",
    "    },\n",
    "    \"Student 5\" : {\n",
    "        \"ID\" : \"12202\",\n",
    "        \"Gender\" : 'Female',\n",
    "        \"GPA\" : 4.0,\n",
    "        \"Scholar\" : True,\n",
    "        \"Test Scores\" : {\"Math\" : 87, \"English\" : 91, \"Science\": 89}\n",
    "    },\n",
    "    \"Student 6\" : {\n",
    "        \"ID\" : \"12203\",\n",
    "        \"Gender\" : 'Male',\n",
    "        \"GPA\" : 1.0,\n",
    "        \"Scholar\" : False,\n",
    "        \"Test Scores\" : {\"Math\" : 86, \"English\" : 92, \"Science\" : 94}\n",
    "    },\n",
    "    \"Student 7\" : {\n",
    "        \"ID\" : \"12204\",\n",
    "        \"Last Name\" : \"Legarda\",\n",
    "        \"Gender\" : 'Female',\n",
    "        \"GPA\" : 3.7,\n",
    "        \"Scholar\" : True,\n",
    "        \"Test Scores\" : {\"Math\" : 90, \"English\" : 95, \"Science\": 83}\n",
    "    },\n",
    "    \"Student 8\" : {\n",
    "        \"ID\" : \"12205\",\n",
    "        \"Last Name\" : \"Ramos\",\n",
    "        \"Gender\" : 'Male',\n",
    "        \"GPA\" : 2.8,\n",
    "        \"Scholar\" : True,\n",
    "        \"Test Scores\" : {\"Math\" : 80, \"English\" : 82, \"Science\" : 86}\n",
    "    }\n",
    "}\n",
    "\n",
    "def passing_gpa(directory, gpa_thresh):\n",
    "    if type(directory) is not dict:\n",
    "        raise TypeError(\"First argument must be a dictionary\")\n",
    "    if type(gpa_thresh) is not float:\n",
    "        raise TypeError(\"Second argument must be a float\")\n",
    "        \n",
    "    result = {}\n",
    "    for i in directory:\n",
    "        if directory[i][\"GPA\"] >= gpa_thresh :\n",
    "            result[directory[i][\"ID\"]]=directory[i][\"GPA\"]\n",
    "    return result\n",
    "\n",
    "def average_test_scores(directory):\n",
    "    if type(directory) is not dict:\n",
    "        raise TypeError(\"Argument must be a dictionary\")\n",
    "    result = {}\n",
    "    for i in directory:\n",
    "        ave = ((directory[i][\"Test Scores\"][\"Math\"]) + (directory[i][\"Test Scores\"][\"English\"]) + (directory[i][\"Test Scores\"][\"Science\"]))/3\n",
    "        result[directory[i][\"ID\"]]=\"{:.2f}\".format(ave)\n",
    "    return result\n",
    "\n",
    "def scholars_with_lastname(directory):\n",
    "    if type(directory) is not dict:\n",
    "        raise TypeError(\"Argument must be a dictionary\")\n",
    "    \n",
    "    result = {}\n",
    "    for i in directory:\n",
    "        if directory[i][\"Scholar\"] == True and \"Last Name\" in directory[i]:\n",
    "            result[i]=(directory[i][\"ID\"],directory[i][\"Last Name\"])\n",
    "    resultList = [i for i in result.values()]\n",
    "    return resultList\n",
    "\n",
    "def math_eng_sci(directory, score_thresh):\n",
    "    if type(directory) is not dict:\n",
    "        raise TypeError(\"First argument must be a dictionary\")\n",
    "    if type(score_thresh) is not float:\n",
    "        raise TypeError(\"Second argument must be a float\")\n",
    "    # YOUR CODE HERE\n",
    "    resultDict = {}\n",
    "    for i in directory:\n",
    "        if directory[i][\"Test Scores\"][\"Math\"] >= score_thresh and directory[i][\"Test Scores\"][\"English\"] >= score_thresh and directory[i][\"Test Scores\"][\"Science\"] >= score_thresh:\n",
    "            resultDict[i] = directory[i][\"ID\"]\n",
    "    resultList = [i for i in resultDict.values()]\n",
    "    return tuple(resultList)"
   ]
  },
  {
   "cell_type": "code",
   "execution_count": 16,
   "id": "596c131d",
   "metadata": {
    "deletable": false,
    "editable": false,
    "nbgrader": {
     "cell_type": "code",
     "checksum": "03126eee55212eae3da90d9cfdb90ec4",
     "grade": true,
     "grade_id": "cell-861772d45b70f49d",
     "locked": true,
     "points": 1,
     "schema_version": 3,
     "solution": false,
     "task": false
    }
   },
   "outputs": [],
   "source": [
    "# DO NOT MODIFY, THIS IS UNIT TESTING! [1 pt]\n",
    "from nose.tools import assert_equal\n",
    "from nose.tools import assert_is_instance\n",
    "\n",
    "assert_equal(passing_gpa(student_directory, 1.5), \n",
    "             {'12198': 3.4, '12199': 1.5, '12200': 3.9, '12202': 4.0, '12204': 3.7, '12205': 2.8})\n",
    "assert_equal(passing_gpa(student_directory, 3.0), \n",
    "             {'12198': 3.4, '12200': 3.9, '12202': 4.0, '12204': 3.7})\n",
    "assert_equal(passing_gpa(student_directory, 3.5), \n",
    "             {'12200': 3.9, '12202': 4.0, '12204': 3.7})\n",
    "assert_is_instance(passing_gpa(student_directory, 1.0), dict)\n",
    "assert_is_instance(passing_gpa(student_directory, 1.0)['12198'], float)"
   ]
  },
  {
   "cell_type": "code",
   "execution_count": 17,
   "id": "0197a3c1",
   "metadata": {
    "deletable": false,
    "editable": false,
    "nbgrader": {
     "cell_type": "code",
     "checksum": "f6237fccd40c32a5a32a08b4462c771b",
     "grade": true,
     "grade_id": "cell-1fa0ead94c035a39",
     "locked": true,
     "points": 1,
     "schema_version": 3,
     "solution": false,
     "task": false
    }
   },
   "outputs": [],
   "source": [
    "# DO NOT MODIFY, THIS IS UNIT TESTING! [1 pt]\n",
    "from nose.tools import assert_equal\n",
    "from nose.tools import assert_is_instance\n",
    "\n",
    "assert_equal(average_test_scores(student_directory),\n",
    "             {'12198': '90.67', '12199': '79.33', '12200': '89.33', '12201': '84.00', \n",
    "              '12202': '89.00', '12203': '90.67', '12204': '89.33', '12205': '82.67'})\n",
    "assert_equal(len(average_test_scores(student_directory)['12198']), 5)\n",
    "assert_is_instance(average_test_scores(student_directory)['12200'], str)"
   ]
  },
  {
   "cell_type": "code",
   "execution_count": 18,
   "id": "1bfc73a5",
   "metadata": {
    "deletable": false,
    "editable": false,
    "nbgrader": {
     "cell_type": "code",
     "checksum": "bd1e73b405e60cada2bde50dbb2497f6",
     "grade": true,
     "grade_id": "cell-5b133930567a30f6",
     "locked": true,
     "points": 1,
     "schema_version": 3,
     "solution": false,
     "task": false
    }
   },
   "outputs": [],
   "source": [
    "# DO NOT MODIFY, THIS IS UNIT TESTING! [1 pt]\n",
    "from nose.tools import assert_equal\n",
    "\n",
    "assert_equal(scholars_with_lastname(student_directory),\n",
    "             [('12198', 'Santa Cruz'), ('12201', 'Delfino'), ('12204', 'Legarda'), ('12205', 'Ramos')])\n",
    "assert_is_instance(scholars_with_lastname(student_directory), list)\n",
    "assert_is_instance(scholars_with_lastname(student_directory)[0], tuple)"
   ]
  },
  {
   "cell_type": "code",
   "execution_count": 19,
   "id": "c4649920",
   "metadata": {
    "deletable": false,
    "editable": false,
    "nbgrader": {
     "cell_type": "code",
     "checksum": "44e7028757e6de7dcffa62eb5cf4bb24",
     "grade": true,
     "grade_id": "cell-a79777fa5fed871f",
     "locked": true,
     "points": 1,
     "schema_version": 3,
     "solution": false,
     "task": false
    }
   },
   "outputs": [],
   "source": [
    "# DO NOT MODIFY, THIS IS UNIT TESTING! [1 pt]\n",
    "from nose.tools import assert_equal\n",
    "from nose.tools import assert_is_instance\n",
    "\n",
    "assert_equal(math_eng_sci(student_directory, 80.0),\n",
    "             ('12198', '12200', '12201', '12202', '12203', '12204', '12205'))\n",
    "assert_equal(math_eng_sci(student_directory, 85.0),\n",
    "             ('12198', '12200', '12202', '12203'))\n",
    "assert_equal(math_eng_sci(student_directory, 87.0),\n",
    "             ('12198', '12202'))\n",
    "assert_is_instance(math_eng_sci(student_directory, 75.0), tuple)\n",
    "assert_is_instance(math_eng_sci(student_directory, 75.0)[0], str)"
   ]
  },
  {
   "cell_type": "markdown",
   "id": "cf50a022",
   "metadata": {
    "deletable": false,
    "editable": false,
    "nbgrader": {
     "cell_type": "markdown",
     "checksum": "eb00ae5bbe048e744b14558b77725895",
     "grade": false,
     "grade_id": "cell-e1bfc8f1f306abbf",
     "locked": true,
     "schema_version": 3,
     "solution": false,
     "task": false
    }
   },
   "source": [
    "4. Write a script that will allow Karel to translate a dictionary of tuples indicating the corners with colors to (a) $7 \\times 7$ world and (b) $40 \\times 40$ world. Each key of the dictionary pertains to a certain row and the elements of the tuple pertains to the columns of a particular row - a value of 1 indicates that the corner must be colored, and a value of 0 indicates that the corner must not be colored. You can choose any color as long as it is uniform. The dictionary for a $7 \\times 7$ and $40 \\times 40$ worlds are encoded in a separate code cell below.\n",
    "\n",
    "    A single script should work for all world sizes. By convention, the first row and column starts at the most top-left corner of the world. If the supplied dictionary data is larger than the loaded world, it would simply ignore those data which cannot be placed on the world (e.g., data for columns 8 to 40 will be ignored in a $7 \\times 7$ world).\n",
    "\n",
    "    Two answer cells are provided below: (1) For the first cell, show a screenshot of the Karel application output for the  $7 \\times 7$ world, (2) for the second cell, show a screenshot of the Karel application output for the  $40 \\times 40$ world. Each cell is worth 1 point."
   ]
  },
  {
   "cell_type": "code",
   "execution_count": 20,
   "id": "1b7cdfd1",
   "metadata": {
    "deletable": false,
    "editable": false,
    "nbgrader": {
     "cell_type": "code",
     "checksum": "de2f35276dc3db6e47a26bf776f6b4fd",
     "grade": false,
     "grade_id": "cell-92f06ff393d32761",
     "locked": true,
     "schema_version": 3,
     "solution": false,
     "task": false
    }
   },
   "outputs": [],
   "source": [
    "# COPY THE FOLLOWING DICTIONARY DATA TO YOUR EXTERNAL SCRIPT FILE\n",
    "\n",
    "# Dictionary data for a 7x7 world\n",
    "pix_7x7 = {\n",
    "    'Row 1': (0,0,0,0,0,0,0),\n",
    "    'Row 2': (0,1,1,0,1,1,0),\n",
    "    'Row 3': (0,1,1,0,1,1,0),\n",
    "    'Row 4': (0,0,0,0,0,0,0),\n",
    "    'Row 5': (0,1,0,0,0,1,0),\n",
    "    'Row 6': (0,0,1,1,1,0,0),\n",
    "    'Row 7': (0,0,0,0,0,0,0)\n",
    "}\n",
    "\n",
    "# Dictionary data for a 40x40 world\n",
    "pix_40x40 = {\n",
    "    'Row 1':  (0,0,0,0,0,0,0,0,0,0,1,0,0,0,1,0,0,0,0,0,0,0,0,0,0,0,1,0,0,0,1,0,0,0,0,0,0,0,0,0),\n",
    "    'Row 2':  (0,0,0,0,0,0,0,0,0,1,0,0,0,1,0,0,0,0,0,0,0,0,0,0,0,0,0,1,0,0,0,1,0,0,0,0,0,0,0,0),\n",
    "    'Row 3':  (0,0,0,0,0,0,0,0,1,1,0,0,1,1,0,0,0,0,0,0,0,0,0,0,0,0,0,1,1,0,0,1,1,0,0,0,0,0,0,0),\n",
    "    'Row 4':  (0,0,0,0,0,0,0,1,1,0,0,1,1,0,0,0,0,0,0,0,0,0,0,0,0,0,0,0,1,1,0,0,1,1,0,0,0,0,0,0),\n",
    "    'Row 5':  (0,0,0,0,0,0,0,1,0,0,1,1,0,0,0,0,0,0,0,0,0,0,0,0,0,0,0,0,0,1,1,0,0,1,0,0,0,0,0,0),\n",
    "    'Row 6':  (0,0,0,0,0,0,1,1,0,0,1,1,0,0,0,0,0,0,0,0,0,0,0,0,0,0,0,0,0,1,1,0,0,1,1,0,0,0,0,0),\n",
    "    'Row 7':  (0,0,0,0,0,0,1,1,0,1,1,0,0,0,0,0,0,0,0,0,0,0,0,0,0,0,0,0,0,0,1,1,0,1,1,0,0,0,0,0),\n",
    "    'Row 8':  (0,0,0,0,0,1,1,1,0,1,1,0,0,0,0,0,0,0,0,0,0,0,0,0,0,0,0,0,0,0,1,1,0,1,1,1,0,0,0,0),\n",
    "    'Row 9':  (0,0,0,0,0,1,1,0,0,1,1,0,0,0,0,0,0,0,0,0,0,0,0,0,0,0,0,0,0,0,1,1,0,0,1,1,0,0,0,0),\n",
    "    'Row 10': (0,0,0,0,0,1,1,0,1,1,1,0,0,0,0,0,0,0,0,0,0,0,0,0,0,0,0,0,0,0,1,1,1,0,1,1,0,0,0,0),\n",
    "    'Row 11': (0,0,0,0,0,1,1,0,1,1,1,1,1,1,1,1,0,0,0,1,0,1,0,0,0,1,1,1,1,1,1,1,1,0,1,1,0,0,0,0),\n",
    "    'Row 12': (0,0,0,0,0,1,1,0,1,1,1,1,1,1,1,1,1,0,1,0,0,0,1,0,1,1,1,1,1,1,1,1,1,0,1,1,0,0,0,0),\n",
    "    'Row 13': (0,0,0,0,0,1,1,0,0,0,0,0,0,1,1,0,0,1,1,1,1,1,1,1,0,0,1,1,0,0,0,0,0,0,1,1,0,0,0,0),\n",
    "    'Row 14': (0,0,0,0,0,1,1,0,0,0,1,1,1,1,1,1,0,1,1,1,1,1,1,1,0,1,1,1,1,1,1,0,0,0,1,1,0,0,0,0),\n",
    "    'Row 15': (0,0,0,0,0,0,1,1,1,1,1,1,1,0,0,1,1,1,1,1,1,1,1,1,1,1,0,0,1,1,1,1,1,1,1,0,0,0,0,0),\n",
    "    'Row 16': (0,0,0,0,0,0,0,1,1,1,1,0,0,0,0,0,0,1,1,1,1,1,1,1,0,0,0,0,0,0,1,1,1,1,0,0,0,0,0,0),\n",
    "    'Row 17': (0,0,0,0,0,0,0,0,0,0,0,0,0,0,1,1,1,1,1,1,1,1,1,1,1,1,1,0,0,0,0,0,0,0,0,0,0,0,0,0),\n",
    "    'Row 18': (0,0,0,0,0,0,0,0,0,0,0,0,0,1,1,0,0,1,1,1,1,1,1,1,0,0,1,1,0,0,0,0,0,0,0,0,0,0,0,0),\n",
    "    'Row 19': (0,0,0,0,0,0,0,0,0,0,0,0,1,1,0,0,1,1,1,1,1,1,1,1,1,0,0,1,1,0,0,0,0,0,0,0,0,0,0,0),\n",
    "    'Row 20': (0,0,0,0,0,0,0,0,0,0,0,1,1,0,0,1,1,0,0,1,1,1,0,0,1,1,0,0,1,1,0,0,0,0,0,0,0,0,0,0),\n",
    "    'Row 21': (0,0,0,0,0,0,0,0,0,1,1,1,0,1,0,0,0,1,1,1,1,1,1,1,0,0,0,1,0,1,1,1,0,0,0,0,0,0,0,0),\n",
    "    'Row 22': (0,0,0,0,0,1,0,0,1,1,1,0,0,1,1,0,0,1,1,1,1,1,1,1,0,0,1,1,0,0,1,1,1,0,0,1,0,0,0,0),\n",
    "    'Row 23': (0,0,0,0,0,1,1,1,1,0,0,0,0,1,1,0,0,1,1,1,1,1,1,1,0,0,1,1,0,0,0,0,1,1,1,1,0,0,0,0),\n",
    "    'Row 24': (0,0,0,0,0,1,1,1,0,0,0,0,0,1,1,0,0,1,1,1,1,1,1,1,0,0,1,1,0,0,0,0,0,1,1,1,0,0,0,0),\n",
    "    'Row 25': (0,0,0,0,0,0,1,1,0,0,0,0,0,1,1,0,0,0,1,1,1,1,1,0,0,0,1,1,0,0,0,0,0,1,1,0,0,0,0,0),\n",
    "    'Row 26': (0,0,0,0,0,0,1,1,0,0,0,0,0,1,1,0,0,0,1,1,1,1,1,0,0,0,1,1,0,0,0,0,0,1,1,0,0,0,0,0),\n",
    "    'Row 27': (0,0,0,0,0,0,1,1,0,0,0,0,0,1,1,0,0,0,1,1,1,1,1,0,0,0,1,1,0,0,0,0,0,1,1,0,0,0,0,0),\n",
    "    'Row 28': (0,0,0,0,0,0,1,1,0,0,0,0,0,1,1,0,0,0,1,1,1,1,1,0,0,0,1,1,0,0,0,0,0,1,1,0,0,0,0,0),\n",
    "    'Row 29': (0,0,0,0,0,0,1,1,0,0,0,0,0,1,1,0,0,0,0,1,1,1,0,0,0,0,1,1,0,0,0,0,0,1,1,0,0,0,0,0),\n",
    "    'Row 30': (0,0,0,0,0,0,1,1,0,0,0,0,0,1,1,0,0,0,0,1,0,1,0,0,0,0,1,1,0,0,0,0,0,1,1,0,0,0,0,0),\n",
    "    'Row 31': (0,0,0,0,0,0,0,1,1,0,0,0,0,1,1,0,0,0,0,0,0,0,0,0,0,0,1,1,0,0,0,0,1,1,0,0,0,0,0,0),\n",
    "    'Row 32': (0,0,0,0,0,0,0,1,1,0,0,0,0,0,1,1,0,0,0,0,0,0,0,0,0,1,1,0,0,0,0,0,1,1,0,0,0,0,0,0),\n",
    "    'Row 33': (0,0,0,0,0,0,0,1,1,0,0,0,0,0,1,1,0,0,0,0,0,0,0,0,0,1,1,0,0,0,0,0,1,1,0,0,0,0,0,0),\n",
    "    'Row 34': (0,0,0,0,0,0,0,1,1,0,0,0,0,0,1,1,0,0,0,0,0,0,0,0,0,1,1,0,0,0,0,0,1,1,0,0,0,0,0,0),\n",
    "    'Row 35': (0,0,0,0,0,0,0,0,1,1,0,0,0,0,0,1,0,0,0,0,0,0,0,0,0,1,0,0,0,0,0,1,1,0,0,0,0,0,0,0),\n",
    "    'Row 36': (0,0,0,0,0,0,0,0,0,1,0,0,0,0,0,1,1,0,0,0,0,0,0,0,1,1,0,0,0,0,0,1,0,0,0,0,0,0,0,0),\n",
    "    'Row 37': (0,0,0,0,0,0,0,0,0,0,1,0,0,0,0,0,1,1,0,0,0,0,0,1,1,0,0,0,0,0,1,0,0,0,0,0,0,0,0,0),\n",
    "    'Row 38': (0,0,0,0,0,0,0,0,0,0,0,1,0,0,0,0,0,1,0,0,0,0,0,1,0,0,0,0,0,1,0,0,0,0,0,0,0,0,0,0),\n",
    "    'Row 39': (0,0,0,0,0,0,0,0,0,0,0,0,0,0,0,0,0,1,0,0,0,0,0,1,0,0,0,0,0,0,0,0,0,0,0,0,0,0,0,0),\n",
    "    'Row 40': (0,0,0,0,0,0,0,0,0,0,0,0,0,0,0,0,0,0,1,0,0,0,1,0,0,0,0,0,0,0,0,0,0,0,0,0,0,0,0,0)\n",
    "}"
   ]
  },
  {
   "attachments": {
    "image.png": {
     "image/png": "[encoded data removed]"
    }
   },
   "cell_type": "markdown",
   "id": "73069af4",
   "metadata": {
    "deletable": false,
    "nbgrader": {
     "cell_type": "markdown",
     "checksum": "83887e247845a232a65a90d1807fa72c",
     "grade": true,
     "grade_id": "cell-349cf941f53f1f52",
     "locked": false,
     "points": 1,
     "schema_version": 3,
     "solution": true,
     "task": false
    }
   },
   "source": [
    "YOUR ANSWER HERE ![image.png](attachment:image.png)"
   ]
  },
  {
   "attachments": {
    "image.png": {
     "image/png": "[encoded data removed]"
    }
   },
   "cell_type": "markdown",
   "id": "044757d6",
   "metadata": {
    "deletable": false,
    "nbgrader": {
     "cell_type": "markdown",
     "checksum": "0ec4dd150d5b8eeb3536595b9976851b",
     "grade": true,
     "grade_id": "cell-b88b738a393eb33d",
     "locked": false,
     "points": 1,
     "schema_version": 3,
     "solution": true,
     "task": false
    }
   },
   "source": [
    "YOUR ANSWER HERE![image.png](attachment:image.png)"
   ]
  },
  {
   "cell_type": "markdown",
   "id": "f13cb08d",
   "metadata": {
    "deletable": false,
    "editable": false,
    "nbgrader": {
     "cell_type": "markdown",
     "checksum": "918019b8f5cb1ed0fb6ff6da2ec0142d",
     "grade": false,
     "grade_id": "cell-5ad1f443c7577c9c",
     "locked": true,
     "schema_version": 3,
     "solution": false,
     "task": false
    }
   },
   "source": [
    "***"
   ]
  },
  {
   "cell_type": "code",
   "execution_count": null,
   "id": "4ec652db",
   "metadata": {
    "deletable": false,
    "editable": false,
    "nbgrader": {
     "cell_type": "code",
     "checksum": "53b4ec65323e7059eb7f07596bdf8deb",
     "grade": true,
     "grade_id": "cell-4420f5b4060accd6",
     "locked": true,
     "points": 0,
     "schema_version": 3,
     "solution": false,
     "task": false
    }
   },
   "outputs": [],
   "source": []
  }
 ],
 "metadata": {
  "kernelspec": {
   "display_name": "Python 3 (ipykernel)",
   "language": "python",
   "name": "python3"
  },
  "language_info": {
   "codemirror_mode": {
    "name": "ipython",
    "version": 3
   },
   "file_extension": ".py",
   "mimetype": "text/x-python",
   "name": "python",
   "nbconvert_exporter": "python",
   "pygments_lexer": "ipython3",
   "version": "3.9.7"
  }
 },
 "nbformat": 4,
 "nbformat_minor": 5
}
