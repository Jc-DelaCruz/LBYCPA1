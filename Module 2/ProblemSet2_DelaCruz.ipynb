{
 "cells": [
  {
   "cell_type": "markdown",
   "id": "0f0322ec",
   "metadata": {},
   "source": [
    "# Programming Logic and Design Laboratory (LBYCPA1)"
   ]
  },
  {
   "cell_type": "markdown",
   "id": "bd2f00ac",
   "metadata": {},
   "source": [
    "Before you turn this problem in, make sure everything runs as expected. First, **restart the kernel** (in the menubar, select Kernel$\\rightarrow$Restart) and then **run all cells** (in the menubar, select Cell$\\rightarrow$Run All).\n",
    "\n",
    "Make sure you fill in any place that says `YOUR CODE HERE` or `YOUR ANSWER HERE`, as well as your name and other information below inside the double quotes. Remove the line `raise NotImplementedError()` once you have answered the problem.\n",
    "\n",
    "REMINDERS: Section 4.15 of the Student Handbook (SH) 2018-2021 provides that:\n",
    "\n",
    "As a Catholic University that prepares its students to become professionals and be the resource for Church and nation, De La Salle University puts a premium on academic honesty. A student's academic requirements, such as assignments, term papers, computer programs/projects, and thesis papers, should be his/her own work. He/She must distinguish between his/her own ideas and those of other authors.\n",
    "\n",
    "The student must cite references, direct quotes, and other sources (including data obtained from tables, illustrations, figures, pictures, images, and video) following the prescribed format of the discipline. Should a student intend to submit a similar previous work for credit, in different courses, a written permission must first be obtained from the faculty members concerned. In addition, for works where he/she is only one of the authors, the following must be observed.\n",
    "\n",
    "4.15.1 Provide a disclaimer stating that the work is not entirely his/hers;\n",
    "\n",
    "4.15.2 The work cannot be published without written consent of the group of authors.\n",
    "\n",
    "4.15.3 If the work is separable (i.e. parts are clearly attributed to the individual authors), the student may use and must cite his/her own part only; otherwise, the student must seek the written consent of the group of authors.\n",
    "\n",
    "4.15.4 Computer codes obtained from open source reference may be copied freely, but the source should be cited, provided further that the faculty member allows the use of open source reference in the course."
   ]
  },
  {
   "cell_type": "markdown",
   "id": "2ca1a5e4",
   "metadata": {},
   "source": [
    "## Rubric for the Final Laboratory Report\n",
    "\n",
    "|Criteria|EXEMPLARY (90-100)|SATISFACTORY (80-89)|DEVELOPING (70-79)|BEGINNING (Below 70)|WEIGHT|\n",
    "|:-|:-|:-|:-|:-|:-:|\n",
    "|**Experimental Plan (Flowchart/ Algorithm)**|Experimental plan has supporting details and diagram/algorithm that is stated and well explained|Experimental plan has supporting details and diagram/algorithm that is stated but not explained|Experimental plan is vague or brief. It has supporting details and doesn’t have diagram/algorithm|No experimental plan presented|30%|\n",
    "|**Conducting Experiment/ Activity**|Objective and Materials used (modern engineering tools, software, and instruments/equipment) are identified. Steps are easy to follow for conducting and experiment/activity|Objective is not stated. Materials used (modern engineering tools, software, and instruments/equipment) are identified. Steps are easy to follow for conducting and experiment/activity|Does not provide enough information to conduct an experiment/activity|No Objective, Materials used (modern engineering tools, software, and instruments/equipment), and steps for conducting experiment/activity provided|20%|\n",
    "|**Codes/Data/ Program**|Data is well utilized in the program. Program codes are easy to read. Program output has no error. Questions are answered completely and correctly|Data is somewhat utilized in the program. Program code are easy to read. Program output has an output but logically incorrect. Some questions are answered completely and correctly|Data is not utilized in the program. It has a missing significant code/syntax in the program|No program presented|30%|\n",
    "|**Grammar, logical presentation, and format**|The report was grammatically correct, logically presented and used the required format|The report had minimal grammatical errors and somewhat presented logically. The required format was used|The report had a lot of grammatical errors and not logically presented; the required format was barely used|The report had a lot of grammatical errors, was not logically presented and the required format was not used|20%|"
   ]
  },
  {
   "cell_type": "code",
   "execution_count": 1,
   "id": "83206546",
   "metadata": {},
   "outputs": [],
   "source": [
    "# Fill-up the following information (put inside double quotes)\n",
    "\n",
    "NAME = \"DELA CRUZ, JOHN CARLO THEO S.\"             \n",
    "STUDENT_NUMBER = \"12195758\"       \n",
    "SECTION = \"EQ1\"                \n",
    "DATE_TIME_COMPLETED = \"04/2/2022, 3:39P.M\"    "
   ]
  },
  {
   "cell_type": "markdown",
   "id": "a33d53bb",
   "metadata": {},
   "source": [
    "<hr style=\"border:1px solid black\"> </hr>"
   ]
  },
  {
   "cell_type": "markdown",
   "id": "e18d94cf",
   "metadata": {
    "deletable": false,
    "editable": false,
    "nbgrader": {
     "cell_type": "markdown",
     "checksum": "c5f919994bc47104a32e51c7d730c984",
     "grade": false,
     "grade_id": "cell-d67e30b5d7100133",
     "locked": true,
     "schema_version": 3,
     "solution": false,
     "task": false
    }
   },
   "source": [
    "# Problem Set 2\n",
    "<hr style=\"border:1px solid gray\"> </hr>"
   ]
  },
  {
   "cell_type": "markdown",
   "id": "856a9bde",
   "metadata": {
    "deletable": false,
    "editable": false,
    "nbgrader": {
     "cell_type": "markdown",
     "checksum": "387ba754d08681d1c1b4b400538a9e94",
     "grade": false,
     "grade_id": "cell-656c35d40044ad5b",
     "locked": true,
     "schema_version": 3,
     "solution": false,
     "task": false
    }
   },
   "source": [
    "1. Develop a program that will calculate the GPA on the following three courses: COEDISC, LBYCPA1, CALENG1. Refer to your course flowchart for the number of units of these courses. The formula to compute the GPA is given by:\n",
    "$$\n",
    "\\text{GPA}=\\frac{\\sum \\text{GPA}_i U_i}{\\sum U_i}\n",
    "$$\n",
    "where $\\text{GPA}_i$ is the GPA of the $i$th course and $U_i$ is the number of units for the $i$th course. A sample dialog is as follows:\n",
    "```\n",
    "Your COEDISC GPA? 3.5\n",
    "Your LBYCPA1 GPA? 2.5\n",
    "Your CALENG1 GPA? 3.0\n",
    "GPA: 2.9166666666666665\n",
    "```"
   ]
  },
  {
   "cell_type": "code",
   "execution_count": 2,
   "id": "c9704ce9",
   "metadata": {
    "deletable": false,
    "nbgrader": {
     "cell_type": "code",
     "checksum": "d9fea110f2d315f774a4286ecd4a86fb",
     "grade": true,
     "grade_id": "cell-32216f35a45b784e",
     "locked": false,
     "points": 1,
     "schema_version": 3,
     "solution": true,
     "task": false
    }
   },
   "outputs": [
    {
     "name": "stdout",
     "output_type": "stream",
     "text": [
      "What is your COEDISC GPA? 2.5\n",
      "What is your LBYCPA1 GPA? 3.0\n",
      "What is your CALENG1 GPA? 3.5\n",
      "Your GPA is:  3.1666666666666665\n"
     ]
    }
   ],
   "source": [
    "def calc_GPA3(gpa1, gpa2, gpa3):\n",
    "    # MAKE SURE THAT THE LINES BELOW ARE INDENTED\n",
    "    # Assign the computed GPA to a variable named gpa\n",
    "    \n",
    "    \n",
    "    gpa = ((gpa1 * 1) + (gpa2 * 2) + (gpa3 * 3)) / 6 #Formula of the GPA Calculation\n",
    "    \n",
    "    \n",
    "    return gpa # make sure that the result is a float\n",
    "\n",
    "# IMPLEMENT THE CODE BELOW THAT WILL HAVE THE SAME FORMAT AS THE SAMPLE DIALOG ABOVE\n",
    "# Ask for the three GPAs and store them to gpa1, gpa2, and gpa3 variables\n",
    "gpa1 = float(input(\"What is your COEDISC GPA? \"))\n",
    "gpa2 = float(input(\"What is your LBYCPA1 GPA? \"))\n",
    "gpa3 = float(input(\"What is your CALENG1 GPA? \"))\n",
    "\n",
    "# Calculate the GPA\n",
    "gpa = calc_GPA3(gpa1, gpa2, gpa3)\n",
    "\n",
    "print(\"Your GPA is: \", gpa)\n",
    "# Replace this line with your code implementation"
   ]
  },
  {
   "cell_type": "code",
   "execution_count": 3,
   "id": "97ebd86c",
   "metadata": {
    "deletable": false,
    "editable": false,
    "nbgrader": {
     "cell_type": "code",
     "checksum": "17ba5b4fc8bd2fc70def77ffdfe21523",
     "grade": true,
     "grade_id": "cell-a863d6410ce95310",
     "locked": true,
     "points": 1,
     "schema_version": 3,
     "solution": false,
     "task": false
    }
   },
   "outputs": [],
   "source": [
    "# DO NOT MODIFY, THIS IS UNIT TESTING!\n",
    "\n",
    "assert abs(calc_GPA3(3.5, 2.5, 3.0) - 35/12) < 1e-6\n",
    "assert abs(calc_GPA3(1.5, 3.5, 4.0) - 41/12) < 1e-6\n",
    "assert abs(calc_GPA3(4.0, 3.5, 3.0) - 10/3) < 1e-6\n",
    "\n",
    "# HIDDEN TEST"
   ]
  },
  {
   "cell_type": "markdown",
   "id": "f6e5f9a7",
   "metadata": {
    "deletable": false,
    "editable": false,
    "nbgrader": {
     "cell_type": "markdown",
     "checksum": "fdc93efc7dafdece4ff1a4db5da5f5f7",
     "grade": false,
     "grade_id": "cell-2e74313128197e3e",
     "locked": true,
     "schema_version": 3,
     "solution": false,
     "task": false
    }
   },
   "source": [
    "2. Given a set of valid lengths of the sides of a triangle, research for a formula that can be used to compute the triangle's area. Indicate the name of the formula in the code cell below.\n"
   ]
  },
  {
   "cell_type": "code",
   "execution_count": 1,
   "id": "2c64c1f3",
   "metadata": {
    "deletable": false,
    "nbgrader": {
     "cell_type": "code",
     "checksum": "a4f89103ab6794583a37dfac16767488",
     "grade": false,
     "grade_id": "cell-2a67d9bb9ce95749",
     "locked": false,
     "schema_version": 3,
     "solution": true,
     "task": false
    }
   },
   "outputs": [
    {
     "name": "stdout",
     "output_type": "stream",
     "text": [
      "Side 1: 3\n",
      "Side 2: 4\n",
      "Side 3: 5\n",
      "Triangle Area is:  6.0\n"
     ]
    }
   ],
   "source": [
    "# Indicate the name of the formula used just below this comment (put inside the double quotes)\n",
    "FORMULA_NAME = \"triangle_area\"\n",
    "\n",
    "import math\n",
    "from math import sqrt # Hint: You have to use the square root function\n",
    "\n",
    "def triangle_area(s1, s2, s3,):\n",
    "    \n",
    "    # --- Heron's Formula\n",
    "    \n",
    "    P = (s1 + s2 + s3)/2\n",
    "    A = sqrt (P * (P - s1) * (P - s2) * (P - s3))\n",
    "    \n",
    "    return P\n",
    "    return A # this must be of float type as well\n",
    "\n",
    "s1 = float(input(\"Side 1: \"))\n",
    "s2 = float(input(\"Side 2: \"))\n",
    "s3 = float(input(\"Side 3: \"))\n",
    "\n",
    "A = triangle_area(s1, s2, s3,)\n",
    "\n",
    "print(\"Triangle Area is: \", A)"
   ]
  },
  {
   "cell_type": "code",
   "execution_count": 33,
   "id": "a7dafd54",
   "metadata": {
    "collapsed": true,
    "deletable": false,
    "editable": false,
    "nbgrader": {
     "cell_type": "code",
     "checksum": "0e9e26d6f7e202170c93b8d32e407129",
     "grade": true,
     "grade_id": "cell-0ecdfae26dbb43fd",
     "locked": true,
     "points": 2,
     "schema_version": 3,
     "solution": false,
     "task": false
    }
   },
   "outputs": [
    {
     "ename": "AssertionError",
     "evalue": "",
     "output_type": "error",
     "traceback": [
      "\u001b[1;31m---------------------------------------------------------------------------\u001b[0m",
      "\u001b[1;31mAssertionError\u001b[0m                            Traceback (most recent call last)",
      "\u001b[1;32mC:\\Users\\JCDELA~1\\AppData\\Local\\Temp/ipykernel_15264/2980024055.py\u001b[0m in \u001b[0;36m<module>\u001b[1;34m\u001b[0m\n\u001b[0;32m      2\u001b[0m \u001b[1;33m\u001b[0m\u001b[0m\n\u001b[0;32m      3\u001b[0m \u001b[1;32massert\u001b[0m \u001b[0mabs\u001b[0m\u001b[1;33m(\u001b[0m\u001b[0mtriangle_area\u001b[0m\u001b[1;33m(\u001b[0m\u001b[1;36m3\u001b[0m\u001b[1;33m,\u001b[0m \u001b[1;36m4\u001b[0m\u001b[1;33m,\u001b[0m \u001b[1;36m5\u001b[0m\u001b[1;33m)\u001b[0m \u001b[1;33m-\u001b[0m \u001b[1;36m6\u001b[0m\u001b[1;33m)\u001b[0m \u001b[1;33m<\u001b[0m \u001b[1;36m1e-6\u001b[0m\u001b[1;33m\u001b[0m\u001b[1;33m\u001b[0m\u001b[0m\n\u001b[1;32m----> 4\u001b[1;33m \u001b[1;32massert\u001b[0m \u001b[0mabs\u001b[0m\u001b[1;33m(\u001b[0m\u001b[0mtriangle_area\u001b[0m\u001b[1;33m(\u001b[0m\u001b[1;36m5\u001b[0m\u001b[1;33m,\u001b[0m \u001b[1;36m12\u001b[0m\u001b[1;33m,\u001b[0m \u001b[1;36m13\u001b[0m\u001b[1;33m)\u001b[0m \u001b[1;33m-\u001b[0m \u001b[1;36m30\u001b[0m\u001b[1;33m)\u001b[0m \u001b[1;33m<\u001b[0m \u001b[1;36m1e-6\u001b[0m\u001b[1;33m\u001b[0m\u001b[1;33m\u001b[0m\u001b[0m\n\u001b[0m\u001b[0;32m      5\u001b[0m \u001b[1;32massert\u001b[0m \u001b[0mabs\u001b[0m\u001b[1;33m(\u001b[0m\u001b[0mtriangle_area\u001b[0m\u001b[1;33m(\u001b[0m\u001b[1;36m8\u001b[0m\u001b[1;33m,\u001b[0m \u001b[1;36m15\u001b[0m\u001b[1;33m,\u001b[0m \u001b[1;36m17\u001b[0m\u001b[1;33m)\u001b[0m \u001b[1;33m-\u001b[0m \u001b[1;36m60\u001b[0m\u001b[1;33m)\u001b[0m \u001b[1;33m<\u001b[0m \u001b[1;36m1e-6\u001b[0m\u001b[1;33m\u001b[0m\u001b[1;33m\u001b[0m\u001b[0m\n\u001b[0;32m      6\u001b[0m \u001b[1;32massert\u001b[0m \u001b[0mabs\u001b[0m\u001b[1;33m(\u001b[0m\u001b[0mtriangle_area\u001b[0m\u001b[1;33m(\u001b[0m\u001b[1;36m7\u001b[0m\u001b[1;33m,\u001b[0m \u001b[1;36m24\u001b[0m\u001b[1;33m,\u001b[0m \u001b[1;36m25\u001b[0m\u001b[1;33m)\u001b[0m \u001b[1;33m-\u001b[0m \u001b[1;36m84\u001b[0m\u001b[1;33m)\u001b[0m \u001b[1;33m<\u001b[0m \u001b[1;36m1e-6\u001b[0m\u001b[1;33m\u001b[0m\u001b[1;33m\u001b[0m\u001b[0m\n",
      "\u001b[1;31mAssertionError\u001b[0m: "
     ]
    }
   ],
   "source": [
    "# DO NOT MODIFY, THIS IS UNIT TESTING!\n",
    "\n",
    "assert abs(triangle_area(3, 4, 5) - 6) < 1e-6\n",
    "assert abs(triangle_area(5, 12, 13) - 30) < 1e-6\n",
    "assert abs(triangle_area(8, 15, 17) - 60) < 1e-6\n",
    "assert abs(triangle_area(7, 24, 25) - 84) < 1e-6\n",
    "\n",
    "# HIDDEN TEST"
   ]
  },
  {
   "cell_type": "code",
   "execution_count": null,
   "id": "722794eb",
   "metadata": {
    "deletable": false,
    "editable": false,
    "nbgrader": {
     "cell_type": "code",
     "checksum": "ad566bb59098ba930ccaf97aba5e7e0a",
     "grade": false,
     "grade_id": "cell-0784c2f91b471fde",
     "locked": true,
     "schema_version": 3,
     "solution": false,
     "task": false
    }
   },
   "outputs": [],
   "source": [
    "# SAMPLE TEST, DO NOT MODIFY! JUST EXECUTE ONLY FOR OUTPUT\n",
    "# You can add a cell below if you need to test a different input\n",
    "\n",
    "print(triangle_area(3, 4, 5))\n",
    "print(type(triangle_area(3, 4, 5)))"
   ]
  },
  {
   "cell_type": "markdown",
   "id": "3a438f25",
   "metadata": {
    "deletable": false,
    "editable": false,
    "nbgrader": {
     "cell_type": "markdown",
     "checksum": "c7c141e04a58dc7155450814643d7983",
     "grade": false,
     "grade_id": "cell-3b70360c4abdc847",
     "locked": true,
     "schema_version": 3,
     "solution": false,
     "task": false
    }
   },
   "source": [
    "3. Devise an algorithm and implement a code that will extract the first two digits to the right of the decimal point of a floating point number and convert it to a two-digit integer. Use arithmetic operators and type conversion functions only. Refer to the unit testing cell below for the expected output."
   ]
  },
  {
   "cell_type": "code",
   "execution_count": 3,
   "id": "3671aabc",
   "metadata": {
    "deletable": false,
    "nbgrader": {
     "cell_type": "code",
     "checksum": "310de3d8348de66044c8732b170c82c0",
     "grade": false,
     "grade_id": "cell-5bf885b89699825d",
     "locked": false,
     "schema_version": 3,
     "solution": true,
     "task": false
    },
    "scrolled": false
   },
   "outputs": [
    {
     "name": "stdout",
     "output_type": "stream",
     "text": [
      "Enter a number with a decimal: 3.14\n",
      "Decimal Value: 14\n"
     ]
    }
   ],
   "source": [
    "def tenths_hundredths(num_float):\n",
    "    # Note that the variable num_float is a float\n",
    "    # The code must not use string manipulation functions, \n",
    "    # only arithmetic operations and type conversion are allowed\n",
    "    # The answer should be stored to result variable as an integer\n",
    "    \n",
    "    whole_num = num_float - int(num_float) # Subtract num_float to a its integer form \n",
    "    result = whole_num * 100 # Divide to make the decimal into a whole number\n",
    "    \n",
    "    return result # make sure that the result is an integer\n",
    "\n",
    "num_float = float(input(\"Enter a number with a decimal: \"))\n",
    "\n",
    "result = int(tenths_hundredths(num_float)) # ---- Set into an Integer \n",
    "\n",
    "print(\"Decimal Value:\", result)"
   ]
  },
  {
   "attachments": {
    "image.png": {
     "image/png": "[encoded data removed]"
    }
   },
   "cell_type": "markdown",
   "id": "094b1fad",
   "metadata": {},
   "source": [
    "![image.png](attachment:image.png)"
   ]
  },
  {
   "cell_type": "code",
   "execution_count": null,
   "id": "7c16a3d0",
   "metadata": {
    "deletable": false,
    "editable": false,
    "nbgrader": {
     "cell_type": "code",
     "checksum": "dd5ad5d2b19c71c41adff28edb7fa451",
     "grade": true,
     "grade_id": "cell-67877fb08827f061",
     "locked": true,
     "points": 2,
     "schema_version": 3,
     "solution": false,
     "task": false
    }
   },
   "outputs": [],
   "source": [
    "# DO NOT MODIFY, THIS IS UNIT TESTING!\n",
    "\n",
    "# Import math constants\n",
    "from math import pi, e\n",
    "\n",
    "assert tenths_hundredths(pi) == 14 # 3.14... -> 14\n",
    "assert tenths_hundredths(e) == 71 # 2.71... -> 71\n",
    "assert tenths_hundredths(-1) == 0 # -1.00... -> 0\n",
    "assert tenths_hundredths(abs(1j**1j)) == 20 # 0.20... -> 20\n",
    "\n",
    "# HIDDEN TEST"
   ]
  },
  {
   "cell_type": "code",
   "execution_count": null,
   "id": "3c853b7b",
   "metadata": {
    "deletable": false,
    "editable": false,
    "nbgrader": {
     "cell_type": "code",
     "checksum": "0eeef380e5f1e6da49a61a875fa7ac79",
     "grade": false,
     "grade_id": "cell-fd3ab46b748a1278",
     "locked": true,
     "schema_version": 3,
     "solution": false,
     "task": false
    }
   },
   "outputs": [],
   "source": [
    "# SAMPLE TEST, DO NOT MODIFY! JUST EXECUTE ONLY FOR OUTPUT\n",
    "# You can add a cell below if you need to test a different input\n",
    "\n",
    "print(tenths_hundredths(pi))\n",
    "print(tenths_hundredths(2**0.5))"
   ]
  },
  {
   "cell_type": "markdown",
   "id": "d6b554cd",
   "metadata": {
    "deletable": false,
    "editable": false,
    "nbgrader": {
     "cell_type": "markdown",
     "checksum": "6e5ffd67d303f5b5dfbd9dc327868c50",
     "grade": false,
     "grade_id": "cell-b1216e435aa5eb73",
     "locked": true,
     "schema_version": 3,
     "solution": false,
     "task": false
    }
   },
   "source": [
    "4. Implement a code that will reverse a 3-digit number in the code cell below. Perform arithmetic operations on the num variable to reverse the digits and make sure that the result must be of string type."
   ]
  },
  {
   "cell_type": "code",
   "execution_count": 2,
   "id": "d167b4fd",
   "metadata": {
    "deletable": false,
    "nbgrader": {
     "cell_type": "code",
     "checksum": "672f6f8d34779c4b54d91b4194d4873b",
     "grade": false,
     "grade_id": "cell-ddf77fa3ab60f546",
     "locked": false,
     "schema_version": 3,
     "solution": true,
     "task": false
    },
    "scrolled": true
   },
   "outputs": [
    {
     "name": "stdout",
     "output_type": "stream",
     "text": [
      "Enter a Number: 123\n",
      "123  ==  321\n"
     ]
    }
   ],
   "source": [
    "def reverse3(num):\n",
    "    # Note that the variable num is an integer\n",
    "    # The code must not use string manipulation functions, \n",
    "    # only arithmetic operations and type conversion are allowed\n",
    "    # Hint: You need to use modulo and integer division operations\n",
    "    \n",
    "    # Modulo - remainder - %\n",
    "    # Integer division - divides to a whole number only - //\n",
    "    \n",
    "    digit_1 = ((num % 10) * 100) \n",
    "    # You get the remainder of the ones value then multiply by 100\n",
    "    \n",
    "    digit_2 = (((num % 100) // 10) * 10) \n",
    "    # You get the remainder of the tens value then // 10 to get the tens value and multiply by 10\n",
    "    \n",
    "    digit_3 = (((num % 1000) // 100) * 1)\n",
    "    # You get the remainder of the hundreds value then // 100 to get the hundreds value and multiply by 1\n",
    "    \n",
    "    \n",
    "    result = str( digit_1 + digit_2 + digit_3 )\n",
    "    # Add all digits\n",
    "    # Make sure to save the reversed digits to the result variable and\n",
    "    # convert it to a string\n",
    "    \n",
    "    return result # the result variable must be of string type\n",
    "\n",
    "num = int(input(\"Enter a Number: \"))\n",
    "result = (reverse3(num))\n",
    "print(num, \" == \", result)\n",
    "\n",
    "# print(type(reverse3(753))) # must display 'str'"
   ]
  },
  {
   "attachments": {
    "image.png": {
     "image/png": "[encoded data removed]"
    }
   },
   "cell_type": "markdown",
   "id": "9ebaa119",
   "metadata": {},
   "source": [
    "![image.png](attachment:image.png)"
   ]
  },
  {
   "cell_type": "code",
   "execution_count": null,
   "id": "7ebf7659",
   "metadata": {
    "deletable": false,
    "editable": false,
    "nbgrader": {
     "cell_type": "code",
     "checksum": "2c3fb024c29d7ef0c6841bb4eeead12e",
     "grade": true,
     "grade_id": "cell-9fb1a74bdba298aa",
     "locked": true,
     "points": 2,
     "schema_version": 3,
     "solution": false,
     "task": false
    }
   },
   "outputs": [],
   "source": [
    "# DO NOT MODIFY, THIS IS UNIT TESTING!\n",
    "\n",
    "assert reverse3(143) == \"341\"\n",
    "assert reverse3(969) == \"969\"\n",
    "assert reverse3(235) == \"532\"\n",
    "\n",
    "# HIDDEN TEST"
   ]
  },
  {
   "cell_type": "code",
   "execution_count": null,
   "id": "03f6d3b9",
   "metadata": {
    "deletable": false,
    "editable": false,
    "nbgrader": {
     "cell_type": "code",
     "checksum": "60c3c5e63fe2946c9132296e45cd8599",
     "grade": false,
     "grade_id": "cell-b97338d9e743b8e4",
     "locked": true,
     "schema_version": 3,
     "solution": false,
     "task": false
    }
   },
   "outputs": [],
   "source": [
    "# SAMPLE TEST, DO NOT MODIFY, JUST EXECUTE ONLY FOR OUTPUT\n",
    "# You can add a cell below if you need to test a different input\n",
    "\n",
    "print(reverse3(753)) # must display \"357\"\n",
    "print(type(reverse3(753))) # must display 'str'"
   ]
  },
  {
   "attachments": {
    "karel_mi-2.png": {
     "image/png": "[encoded data removed]"
    }
   },
   "cell_type": "markdown",
   "id": "7e714857",
   "metadata": {
    "deletable": false,
    "editable": false,
    "nbgrader": {
     "cell_type": "markdown",
     "checksum": "09146ef219a27d175616ada1c68cc7cf",
     "grade": false,
     "grade_id": "cell-89b3efbf31a2a6a0",
     "locked": true,
     "schema_version": 3,
     "solution": false,
     "task": false
    }
   },
   "source": [
    "5. Using Pycharm IDE, write a Python script that will command Karel to create your middle initial using beepers. For example, if your middle initial is F, it should be similar to the one below:\n",
    "![karel_mi-2.png](attachment:karel_mi-2.png)\n",
    "You can use any world size and any number of beepers. Place the screenshot of the running Karel application in the provided cell below."
   ]
  },
  {
   "attachments": {
    "image.png": {
     "image/png": "[encoded data removed]"
    }
   },
   "cell_type": "markdown",
   "id": "6dc069e4",
   "metadata": {},
   "source": [
    "![image.png](attachment:image.png)"
   ]
  },
  {
   "cell_type": "markdown",
   "id": "6973df42",
   "metadata": {
    "deletable": false,
    "nbgrader": {
     "cell_type": "markdown",
     "checksum": "61026c3dc3e6945d7c0fa835f3ce49b9",
     "grade": true,
     "grade_id": "cell-f17ba2ccc79da39d",
     "locked": false,
     "points": 2,
     "schema_version": 3,
     "solution": true,
     "task": false
    }
   },
   "source": [
    "YOUR ANSWER HERE"
   ]
  }
 ],
 "metadata": {
  "kernelspec": {
   "display_name": "Python 3 (ipykernel)",
   "language": "python",
   "name": "python3"
  },
  "language_info": {
   "codemirror_mode": {
    "name": "ipython",
    "version": 3
   },
   "file_extension": ".py",
   "mimetype": "text/x-python",
   "name": "python",
   "nbconvert_exporter": "python",
   "pygments_lexer": "ipython3",
   "version": "3.9.7"
  }
 },
 "nbformat": 4,
 "nbformat_minor": 5
}
