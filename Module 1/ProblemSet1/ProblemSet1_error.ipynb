{
 "cells": [
  {
   "cell_type": "markdown",
   "id": "96db12dd",
   "metadata": {},
   "source": [
    "# Programming Logic and Design Laboratory (LBYCPA1)"
   ]
  },
  {
   "cell_type": "markdown",
   "id": "61549a6d",
   "metadata": {},
   "source": [
    "Before you turn this problem in, make sure everything runs as expected. First, **restart the kernel** (in the menubar, select Kernel$\\rightarrow$Restart) and then **run all cells** (in the menubar, select Cell$\\rightarrow$Run All).\n",
    "\n",
    "Make sure you fill in any place that says `YOUR CODE HERE` or `YOUR ANSWER HERE`, as well as your name and other information below inside the double quotes. Remove the line `raise NotImplementedError()` once you have answered the problem.\n",
    "\n",
    "REMINDERS: Section 4.15 of the Student Handbook (SH) 2018-2021 provides that:\n",
    "\n",
    "As a Catholic University that prepares its students to become professionals and be the resource for Church and nation, De La Salle University puts a premium on academic honesty. A student's academic requirements, such as assignments, term papers, computer programs/projects, and thesis papers, should be his/her own work. He/She must distinguish between his/her own ideas and those of other authors.\n",
    "\n",
    "The student must cite references, direct quotes, and other sources (including data obtained from tables, illustrations, figures, pictures, images, and video) following the prescribed format of the discipline. Should a student intend to submit a similar previous work for credit, in different courses, a written permission must first be obtained from the faculty members concerned. In addition, for works where he/she is only one of the authors, the following must be observed.\n",
    "\n",
    "4.15.1 Provide a disclaimer stating that the work is not entirely his/hers;\n",
    "\n",
    "4.15.2 The work cannot be published without written consent of the group of authors.\n",
    "\n",
    "4.15.3 If the work is separable (i.e. parts are clearly attributed to the individual authors), the student may use and must cite his/her own part only; otherwise, the student must seek the written consent of the group of authors.\n",
    "\n",
    "4.15.4 Computer codes obtained from open source reference may be copied freely, but the source should be cited, provided further that the faculty member allows the use of open source reference in the course."
   ]
  },
  {
   "cell_type": "markdown",
   "id": "041c7677",
   "metadata": {},
   "source": [
    "## Rubric for the Final Laboratory Report\n",
    "\n",
    "|Criteria|EXEMPLARY (90-100)|SATISFACTORY (80-89)|DEVELOPING (70-79)|BEGINNING (Below 70)|WEIGHT|\n",
    "|:-|:-|:-|:-|:-|:-:|\n",
    "|**Experimental Plan (Flowchart/ Algorithm)**|Experimental plan has supporting details and diagram/algorithm that is stated and well explained|Experimental plan has supporting details and diagram/algorithm that is stated but not explained|Experimental plan is vague or brief. It has supporting details and doesn’t have diagram/algorithm|No experimental plan presented|30%|\n",
    "|**Conducting Experiment/ Activity**|Objective and Materials used (modern engineering tools, software, and instruments/equipment) are identified. Steps are easy to follow for conducting and experiment/activity|Objective is not stated. Materials used (modern engineering tools, software, and instruments/equipment) are identified. Steps are easy to follow for conducting and experiment/activity|Does not provide enough information to conduct an experiment/activity|No Objective, Materials used (modern engineering tools, software, and instruments/equipment), and steps for conducting experiment/activity provided|20%|\n",
    "|**Codes/Data/ Program**|Data is well utilized in the program. Program codes are easy to read. Program output has no error. Questions are answered completely and correctly|Data is somewhat utilized in the program. Program code are easy to read. Program output has an output but logically incorrect. Some questions are answered completely and correctly|Data is not utilized in the program. It has a missing significant code/syntax in the program|No program presented|30%|\n",
    "|**Grammar, logical presentation, and format**|The report was grammatically correct, logically presented and used the required format|The report had minimal grammatical errors and somewhat presented logically. The required format was used|The report had a lot of grammatical errors and not logically presented; the required format was barely used|The report had a lot of grammatical errors, was not logically presented and the required format was not used|20%|"
   ]
  },
  {
   "cell_type": "code",
   "execution_count": null,
   "id": "06283ceb",
   "metadata": {},
   "outputs": [],
   "source": [
    "# Fill-up the following information (put inside double quotes)\n",
    "\n",
    "NAME = \"\"                   # e.g. LIGUTAN, DINO DOMINIC F.\n",
    "STUDENT_NUMBER = \"\"         # e.g. 20192118\n",
    "SECTION = \"\"                # e.g. EQ1\n",
    "DATE_TIME_COMPLETED = \"\"    # e.g. 03/21/2022,11:00"
   ]
  },
  {
   "cell_type": "markdown",
   "id": "8f5c1b60",
   "metadata": {},
   "source": [
    "<hr style=\"border:1px solid black\"> </hr>"
   ]
  },
  {
   "cell_type": "markdown",
   "id": "e18d94cf",
   "metadata": {
    "deletable": false,
    "editable": false,
    "nbgrader": {
     "cell_type": "markdown",
     "checksum": "5b270db86b91a551cb8a77403c297af8",
     "grade": false,
     "grade_id": "cell-d67e30b5d7100133",
     "locked": true,
     "schema_version": 3,
     "solution": false,
     "task": false
    }
   },
   "source": [
    "# Problem Set 1\n",
    "<hr style=\"border:1px solid gray\"> </hr>"
   ]
  },
  {
   "cell_type": "markdown",
   "id": "911f1e1a",
   "metadata": {
    "deletable": false,
    "editable": false,
    "nbgrader": {
     "cell_type": "markdown",
     "checksum": "646ed5c12d1e515e04ea542fecafc521",
     "grade": false,
     "grade_id": "cell-89635d01594fef77",
     "locked": true,
     "schema_version": 3,
     "solution": false,
     "task": false
    }
   },
   "source": [
    "Example: Provide the formula in the code cell below to solve for the volume of a rectangular prism given the length $l$, the width $w$, and the height $h$."
   ]
  },
  {
   "cell_type": "code",
   "execution_count": 3,
   "id": "d8d01421",
   "metadata": {
    "deletable": false,
    "nbgrader": {
     "cell_type": "code",
     "checksum": "246f26b051cd0a70717cf53b142cad45",
     "grade": false,
     "grade_id": "cell-2686b43173105409",
     "locked": false,
     "schema_version": 3,
     "solution": true,
     "task": false
    },
    "scrolled": true
   },
   "outputs": [
    {
     "name": "stdout",
     "output_type": "stream",
     "text": [
      "Input:\n",
      "l = 4\n",
      "w = 9\n",
      "h = 7\n",
      "Output:\n",
      "The volume is  252.00 cu. units.\n"
     ]
    }
   ],
   "source": [
    "# Note that the volume of a rectangular prism is given by the formula V = l x w x h\n",
    "def volume_prism(l, w, h):\n",
    "    # REMOVE THE raise NotImplementedError() BELOW AND TYPE THE FORMULA. MAKE SURE TO ASSIGN IT TO VARIABLE V\n",
    "    \n",
    "    # YOUR CODE HERE\n",
    "    V = l * w * h\n",
    "    \n",
    "    return V\n",
    "\n",
    "print(\"Input:\") # Ask for inputs\n",
    "l = float(input(\"l = \"))\n",
    "w = float(input(\"w = \"))\n",
    "h = float(input(\"h = \"))\n",
    "\n",
    "V = volume_prism(l, w, h) # Compute the volume\n",
    "\n",
    "print(\"Output:\")\n",
    "print(f\"The volume is {V: 0.2f} cu. units.\")"
   ]
  },
  {
   "attachments": {
    "image.png": {
     "image/png": "[encoded data removed]"
    }
   },
   "cell_type": "markdown",
   "id": "8319ab31",
   "metadata": {},
   "source": [
    "EXAMPLE ![image.png](attachment:image.png)"
   ]
  },
  {
   "attachments": {
    "ex1_example.png": {
     "image/png": "[encoded data removed]"
    }
   },
   "cell_type": "markdown",
   "id": "8d0631eb",
   "metadata": {
    "deletable": false,
    "editable": false,
    "nbgrader": {
     "cell_type": "markdown",
     "checksum": "05d8603aac10ba485b16f7628a158f0e",
     "grade": false,
     "grade_id": "cell-9e5ff8d2551501c3",
     "locked": true,
     "points": 0,
     "schema_version": 3,
     "solution": false,
     "task": true
    }
   },
   "source": [
    "Example program output screenshot:\n",
    "![ex1_example.png](attachment:ex1_example.png)"
   ]
  },
  {
   "cell_type": "code",
   "execution_count": null,
   "id": "8b6072b0",
   "metadata": {
    "deletable": false,
    "editable": false,
    "nbgrader": {
     "cell_type": "code",
     "checksum": "e1dda5d0b6ace141e09c3ed6193ca3d9",
     "grade": true,
     "grade_id": "cell-1cdeb4432cd98e9d",
     "locked": true,
     "points": 0,
     "schema_version": 3,
     "solution": false,
     "task": false
    }
   },
   "outputs": [],
   "source": [
    "# DO NOT MODIFY, THIS IS UNIT TESTING!\n",
    "\n",
    "assert volume_prism(2,3,4) == 24\n",
    "assert volume_prism(0.5,1,1.5) == 0.75\n",
    "assert volume_prism(0.1,10,1) == 1"
   ]
  },
  {
   "cell_type": "markdown",
   "id": "4399f71b",
   "metadata": {},
   "source": [
    "<hr style=\"border:1px solid gray\"> </hr>"
   ]
  },
  {
   "attachments": {
    "prob1_example.png": {
     "image/png": "[encoded data removed]"
    }
   },
   "cell_type": "markdown",
   "id": "d6b554cd",
   "metadata": {
    "deletable": false,
    "editable": false,
    "nbgrader": {
     "cell_type": "markdown",
     "checksum": "811cd23cb38afe91f38d9050a2c1fe1f",
     "grade": false,
     "grade_id": "cell-b1216e435aa5eb73",
     "locked": true,
     "schema_version": 3,
     "solution": false,
     "task": false
    }
   },
   "source": [
    "1. Create a file named \"aboutme.py\" and copy the Python code below. Modify the code with your personal information, save it, and execute it as a script in Anaconda Prompt. Put the output screenshot into the provided cell below.\n",
    "```python\n",
    "width = 30\n",
    "print(\"@\"*30)\n",
    "print(\"Juan K. Dela Cruz\".center(width))  # your full name\n",
    "print(\"12123456\".center(width)) # your ID number\n",
    "print(\"January 1, 2000\".center(width)) # your birthdate\n",
    "print(\"juan_delacruz@dlsu.edu.ph\".center(width)) # your email\n",
    "print(\"Manila, Philippines\".center(width)) # your current address\n",
    "print(\"@\"*30)\n",
    "```\n",
    "An example output is shown below. Note that you have to click the cell below first and then drag an image to it to paste your screenshot.\n",
    "![prob1_example.png](attachment:prob1_example.png)"
   ]
  },
  {
   "attachments": {
    "image-2.png": {
     "image/png": "[encoded data removed]"
    }
   },
   "cell_type": "markdown",
   "id": "7a887bba",
   "metadata": {
    "deletable": false,
    "nbgrader": {
     "cell_type": "markdown",
     "checksum": "0e8941248853c7de1ded9d39e8117612",
     "grade": true,
     "grade_id": "cell-dd8b3cf657159a22",
     "locked": false,
     "points": 1,
     "schema_version": 3,
     "solution": true,
     "task": false
    }
   },
   "source": [
    "YOUR ANSWER HERE\n",
    "![image-2.png](attachment:image-2.png)"
   ]
  },
  {
   "cell_type": "markdown",
   "id": "60f030f1",
   "metadata": {},
   "source": [
    "<hr style=\"border:1px solid gray\"> </hr>"
   ]
  },
  {
   "cell_type": "markdown",
   "id": "ff78dc65",
   "metadata": {
    "deletable": false,
    "editable": false,
    "nbgrader": {
     "cell_type": "markdown",
     "checksum": "42f9b00dde17326680374d9814becc69",
     "grade": false,
     "grade_id": "cell-fa5912b8b28c1bb0",
     "locked": true,
     "schema_version": 3,
     "solution": false,
     "task": false
    }
   },
   "source": [
    "2. Complete the code cell below so that the output matches the example shown below when it is executed. Replace all the lines that says `# YOUR CODE HERE` with your code.\n",
    "\n",
    "```\n",
    "Hello, what is your name?Dino\n",
    "What is your birthyear?2000\n",
    "Dino must be at least 21 years old this 2022.\n",
    "```"
   ]
  },
  {
   "cell_type": "code",
   "execution_count": 7,
   "id": "72282f32",
   "metadata": {
    "deletable": false,
    "nbgrader": {
     "cell_type": "code",
     "checksum": "5747fc7b508240c85f518a048aad1f12",
     "grade": true,
     "grade_id": "cell-187cb2eddbbcd32f",
     "locked": false,
     "points": 1,
     "schema_version": 3,
     "solution": true,
     "task": false
    },
    "scrolled": true
   },
   "outputs": [
    {
     "name": "stdout",
     "output_type": "stream",
     "text": [
      "Hello, what is your name? John Dela Cruz\n",
      "What is your Birthyear? 2002\n",
      "John Dela Cruz  must be at least  20  years old this 2022\n"
     ]
    }
   ],
   "source": [
    "# Ask for the user's name (e.g., Carl). Assign the input to variable name\n",
    "name = input(\"Hello, what is your name? \")\n",
    "\n",
    "# Ask for the user's birthyear (e.g., 2000). Assign the input to variable birthyear\n",
    "birthyear = input(\"What is your Birthyear? \")\n",
    "\n",
    "age = 2022 - int(birthyear) # get the age last year\n",
    "\n",
    "# Display user's name and age last year\n",
    "print(name,\" must be at least \", age,\" years old this 2022\")"
   ]
  },
  {
   "attachments": {
    "image.png": {
     "image/png": "[encoded data removed]"
    }
   },
   "cell_type": "markdown",
   "id": "6cc16376",
   "metadata": {},
   "source": [
    "EXAMPLE ![image.png](attachment:image.png)"
   ]
  },
  {
   "cell_type": "markdown",
   "id": "f7b72e07",
   "metadata": {},
   "source": [
    "<hr style=\"border:1px solid gray\"> </hr>"
   ]
  },
  {
   "cell_type": "markdown",
   "id": "9f532351",
   "metadata": {
    "deletable": false,
    "editable": false,
    "nbgrader": {
     "cell_type": "markdown",
     "checksum": "2c025abba4b33ea00b428de8df57b147",
     "grade": false,
     "grade_id": "cell-128c372ff03812b6",
     "locked": true,
     "schema_version": 3,
     "solution": false,
     "task": false
    }
   },
   "source": [
    "3. For each problem below, provide the correct Python code to solve for the volume of the given geometric shape. Put your code below the `# YOUR CODE HERE` line and make sure to remove the `raise NotImplementedError()` line."
   ]
  },
  {
   "cell_type": "markdown",
   "id": "d8574746",
   "metadata": {
    "deletable": false,
    "editable": false,
    "nbgrader": {
     "cell_type": "markdown",
     "checksum": "564395d595dbe6913f1bc305a74e3301",
     "grade": false,
     "grade_id": "cell-773273764b92c071",
     "locked": true,
     "schema_version": 3,
     "solution": false,
     "task": false
    }
   },
   "source": [
    "A. Cube: $V=a^3$"
   ]
  },
  {
   "cell_type": "code",
   "execution_count": 12,
   "id": "fd06c47a",
   "metadata": {
    "deletable": false,
    "nbgrader": {
     "cell_type": "code",
     "checksum": "22b3d716a40aca07d23674a2e51c4442",
     "grade": true,
     "grade_id": "cell-fca9255cca95bc56",
     "locked": false,
     "points": 1,
     "schema_version": 3,
     "solution": true,
     "task": false
    }
   },
   "outputs": [
    {
     "name": "stdout",
     "output_type": "stream",
     "text": [
      "Input:\n",
      "a = 3\n",
      "Output:\n",
      "The volume is {V: 0.2f} cu. units.\n"
     ]
    }
   ],
   "source": [
    "# When executing this cell, make sure to enter input values and that a final answer is printed for full credit\n",
    "\n",
    "def volume_cube(a):\n",
    "    # Use the variable 'a' as your input variable for calculations below\n",
    "    # The computed volume must be assigned to the 'V' variable\n",
    "    # Make sure that the lines below are indented similar to this one\n",
    "    \n",
    "    V = a**3\n",
    "    \n",
    "    return V\n",
    "\n",
    "print(\"Input:\") # Ask for inputs\n",
    "a = float(input(\"a = \"))\n",
    "\n",
    "V = volume_cube(a)\n",
    "\n",
    "print(\"Output:\")\n",
    "print(\"The volume is {V: 0.2f} cu. units.\")"
   ]
  },
  {
   "cell_type": "code",
   "execution_count": null,
   "id": "b3a8069e",
   "metadata": {
    "deletable": false,
    "editable": false,
    "nbgrader": {
     "cell_type": "code",
     "checksum": "a48553e8666777ccba8eab849585bae4",
     "grade": true,
     "grade_id": "cell-03f358ba9124f245",
     "locked": true,
     "points": 1,
     "schema_version": 3,
     "solution": false,
     "task": false
    }
   },
   "outputs": [],
   "source": [
    "# DO NOT MODIFY, THIS IS UNIT TESTING!\n",
    "\n",
    "assert volume_cube(1) == 1\n",
    "assert volume_cube(0.5) == 0.125\n",
    "assert volume_cube(2) == 8"
   ]
  },
  {
   "cell_type": "markdown",
   "id": "841efacc",
   "metadata": {
    "deletable": false,
    "editable": false,
    "nbgrader": {
     "cell_type": "markdown",
     "checksum": "09c9aef6e8dc817a72972d741c194b76",
     "grade": false,
     "grade_id": "cell-8df8157772fbbb9a",
     "locked": true,
     "schema_version": 3,
     "solution": false,
     "task": false
    }
   },
   "source": [
    "B. Cylinder: $V=\\pi r^2h$"
   ]
  },
  {
   "cell_type": "code",
   "execution_count": 14,
   "id": "cb37f64d",
   "metadata": {
    "deletable": false,
    "nbgrader": {
     "cell_type": "code",
     "checksum": "79cbba4c60f8d149e4394b467c7b52c7",
     "grade": true,
     "grade_id": "cell-1ec2d559ee8d3c37",
     "locked": false,
     "points": 1,
     "schema_version": 3,
     "solution": true,
     "task": false
    }
   },
   "outputs": [
    {
     "name": "stdout",
     "output_type": "stream",
     "text": [
      "Input:\n",
      "r = 2\n",
      "h = 3\n",
      "Output:\n",
      "The volume is  37.70 cu. units.\n"
     ]
    }
   ],
   "source": [
    "# When executing this cell, make sure to enter input values and that a final answer is printed for full credit\n",
    "from math import pi\n",
    "\n",
    "def volume_cylinder(r,h):\n",
    "    # Use the variables 'r' and 'h' as your input variables for calculations below\n",
    "    # The computed volume must be assigned to the 'V' variable\n",
    "    # Make sure that the lines below are indented similar to this one\n",
    "\n",
    "    import math\n",
    "    from math import pi\n",
    "    \n",
    "    V = pi*(r**2)*h\n",
    "    \n",
    "    return V\n",
    "\n",
    "print(\"Input:\") # Ask for inputs\n",
    "r = float(input(\"r = \"))\n",
    "h = float(input(\"h = \"))\n",
    "\n",
    "V = volume_cylinder(r, h) # Compute the volume\n",
    "\n",
    "print(\"Output:\")\n",
    "print(f\"The volume is {V: 0.2f} cu. units.\")"
   ]
  },
  {
   "attachments": {
    "image.png": {
     "image/png": "[encoded data removed]"
    }
   },
   "cell_type": "markdown",
   "id": "166778db",
   "metadata": {},
   "source": [
    "EXAMPLE ![image.png](attachment:image.png)"
   ]
  },
  {
   "cell_type": "code",
   "execution_count": 17,
   "id": "e8cd069c",
   "metadata": {
    "deletable": false,
    "editable": false,
    "nbgrader": {
     "cell_type": "code",
     "checksum": "ff7bfcdfa50dbe2026d6b09c735ebc74",
     "grade": true,
     "grade_id": "cell-e66f7881c8b1c647",
     "locked": true,
     "points": 1,
     "schema_version": 3,
     "solution": false,
     "task": false
    }
   },
   "outputs": [],
   "source": [
    "# DO NOT MODIFY, THIS IS UNIT TESTING!\n",
    "\n",
    "assert volume_cylinder(3,5) == 45*pi\n",
    "assert volume_cylinder(1.5,2) == 9*pi/2\n",
    "assert volume_cylinder(2,2.5) == 10*pi"
   ]
  },
  {
   "cell_type": "markdown",
   "id": "9c28c364",
   "metadata": {
    "deletable": false,
    "editable": false,
    "nbgrader": {
     "cell_type": "markdown",
     "checksum": "0ec20f4cb98f78b4eccf6abbe3c94eb8",
     "grade": false,
     "grade_id": "cell-a527920aa0c9fe07",
     "locked": true,
     "schema_version": 3,
     "solution": false,
     "task": false
    }
   },
   "source": [
    "C. Cone: $V=\\frac{1}{3}\\pi r^2h$"
   ]
  },
  {
   "cell_type": "code",
   "execution_count": 18,
   "id": "bdf3a20f",
   "metadata": {
    "deletable": false,
    "nbgrader": {
     "cell_type": "code",
     "checksum": "b23fe1cefd0445349850f460866cf221",
     "grade": true,
     "grade_id": "cell-0e643a562784b60a",
     "locked": false,
     "points": 1,
     "schema_version": 3,
     "solution": true,
     "task": false
    }
   },
   "outputs": [
    {
     "name": "stdout",
     "output_type": "stream",
     "text": [
      "Input:\n",
      "r = 2\n",
      "h = 3\n",
      "Output:\n",
      "The volume is  12.57 cu. units.\n"
     ]
    }
   ],
   "source": [
    "# When executing this cell, make sure to enter input values and that a final answer is printed for full credit\n",
    "from math import pi\n",
    "\n",
    "def volume_cone(r,h):\n",
    "    # Use the variables 'r' and 'h' as your input variables for calculations below\n",
    "    # The computed volume must be assigned to the 'V' variable\n",
    "    # Make sure that the lines below are indented similar to this one\n",
    "    \n",
    "    import math\n",
    "    from math import pi\n",
    "    \n",
    "    V = 1/3 * pi * (r**2) * h\n",
    "    \n",
    "    return V\n",
    "\n",
    "print(\"Input:\") # Ask for inputs\n",
    "r = float(input(\"r = \"))\n",
    "h = float(input(\"h = \"))\n",
    "\n",
    "V = volume_cone(r, h) # Compute the volume\n",
    "\n",
    "print(\"Output:\")\n",
    "print(f\"The volume is {V: 0.2f} cu. units.\")"
   ]
  },
  {
   "cell_type": "code",
   "execution_count": null,
   "id": "0e1a2876",
   "metadata": {
    "deletable": false,
    "editable": false,
    "nbgrader": {
     "cell_type": "code",
     "checksum": "58c4a25ef875649ca2a76d7a04a8addd",
     "grade": true,
     "grade_id": "cell-f64eaf4cbd955abb",
     "locked": true,
     "points": 1,
     "schema_version": 3,
     "solution": false,
     "task": false
    }
   },
   "outputs": [],
   "source": [
    "# DO NOT MODIFY, THIS IS UNIT TESTING!\n",
    "\n",
    "assert volume_cone(1,0.5) == pi/6\n",
    "assert volume_cone(2.5,1.5) == 25*pi/8\n",
    "assert volume_cone(1,pi) == pi**2/3"
   ]
  },
  {
   "cell_type": "markdown",
   "id": "a7e6cfdd",
   "metadata": {
    "deletable": false,
    "editable": false,
    "nbgrader": {
     "cell_type": "markdown",
     "checksum": "b66f79c84a56f23dbd59eff6b0425c1f",
     "grade": false,
     "grade_id": "cell-dc92476bf2fd6dfa",
     "locked": true,
     "schema_version": 3,
     "solution": false,
     "task": false
    }
   },
   "source": [
    "D. Sphere: $V=\\frac{4}{3}\\pi r^3$"
   ]
  },
  {
   "cell_type": "markdown",
   "id": "839f10f0",
   "metadata": {
    "deletable": false,
    "nbgrader": {
     "cell_type": "code",
     "checksum": "7264abb65d119d5f0f8f84c744507568",
     "grade": true,
     "grade_id": "cell-ba98a94a925256ea",
     "locked": false,
     "points": 1,
     "schema_version": 3,
     "solution": true,
     "task": false
    }
   },
   "source": [
    "# When executing this cell, make sure to enter input values and that a final answer is printed for full credit\n",
    "from math import pi\n",
    "\n",
    "def volume_sphere(r):\n",
    "    # Use the variable 'r' as your input variable for calculations below\n",
    "    # The computed volume must be assigned to the 'V' variable\n",
    "    # Make sure that the lines below are indented similar to this one\n",
    "    \n",
    "    import math\n",
    "    from math import pi\n",
    "    \n",
    "    V = 4/3 * pi * (r**3)\n",
    "    raise NotImplementedError()\n",
    "    \n",
    "    return V\n",
    "\n",
    "print(\"Input:\") # Ask for inputs\n",
    "r = float(input(\"r = \"))\n",
    "\n",
    "V = volume_sphere(r) # Compute the volume\n",
    "\n",
    "print(\"Output:\")\n",
    "print(f\"The volume is {V: 0.2f} cu. units.\")"
   ]
  },
  {
   "cell_type": "code",
   "execution_count": null,
   "id": "8fd43d50",
   "metadata": {
    "deletable": false,
    "editable": false,
    "nbgrader": {
     "cell_type": "code",
     "checksum": "4f68ee91e0d160db1d833f117b16d78c",
     "grade": true,
     "grade_id": "cell-b0a4aee077de908f",
     "locked": true,
     "points": 1,
     "schema_version": 3,
     "solution": false,
     "task": false
    }
   },
   "outputs": [],
   "source": [
    "# DO NOT MODIFY, THIS IS UNIT TESTING!\n",
    "\n",
    "assert volume_sphere(1) == 4*pi/3\n",
    "assert volume_sphere(0.5) == pi/6\n",
    "assert volume_sphere(2) == 32*pi/3"
   ]
  }
 ],
 "metadata": {
  "kernelspec": {
   "display_name": "Python 3 (ipykernel)",
   "language": "python",
   "name": "python3"
  },
  "language_info": {
   "codemirror_mode": {
    "name": "ipython",
    "version": 3
   },
   "file_extension": ".py",
   "mimetype": "text/x-python",
   "name": "python",
   "nbconvert_exporter": "python",
   "pygments_lexer": "ipython3",
   "version": "3.9.7"
  }
 },
 "nbformat": 4,
 "nbformat_minor": 5
}
